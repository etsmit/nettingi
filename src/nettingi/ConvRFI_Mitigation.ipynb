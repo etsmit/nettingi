{
 "cells": [
  {
   "cell_type": "code",
   "execution_count": 2,
   "id": "2d7503ae-0a9b-4552-8af2-1dcd1162f3cd",
   "metadata": {},
   "outputs": [
    {
     "data": {
      "text/plain": [
       "<contextlib.ExitStack at 0x7f1da86db160>"
      ]
     },
     "execution_count": 2,
     "metadata": {},
     "output_type": "execute_result"
    }
   ],
   "source": [
    "import numpy as np\n",
    "import time\n",
    "\n",
    "from multiprocessing import Process, Queue, JoinableQueue\n",
    "\n",
    "import nettingi\n",
    "\n",
    "import matplotlib.pyplot as plt\n",
    "%matplotlib agg\n",
    "\n",
    "#list of input files\n",
    "infiles = [\n",
    "    'vegas_60299_75544_B0329+54_0001.0000.raw',\n",
    "    'vegas_60299_75729_B0329+54_0002.0000.raw',\n",
    "    'vegas_60299_75914_B0329+54_0003.0000.raw',\n",
    "    'vegas_60299_76099_B0329+54_0004.0000.raw',\n",
    "]\n",
    "\n",
    "#list of M parameters to pass to SK\n",
    "ms = [64,128,256,512]\n",
    "\n",
    "#spectral entropy requires a plt.hist without plotting\n",
    "plt.ioff()"
   ]
  },
  {
   "cell_type": "code",
   "execution_count": null,
   "id": "2f8f625f-c566-4cd5-ba7c-5654dbc0dd40",
   "metadata": {},
   "outputs": [
    {
     "name": "stdout",
     "output_type": "stream",
     "text": [
      "vegas_60299_75544_B0329+54_0001.0000.raw vegas_60299_75544_B0329+54_0001\n",
      "/jetstor/scratch/rfimit/unmitigated/rawdata/vegas_60299_75544_B0329+54_0001/vegas_60299_75544_B0329+54_0001.0000.raw\n",
      "/jetstor/scratch/rfimit/mitigated/rawdata/vegas_60299_75544_B0329+54_0001_Conv_a01.66_a11.66_a20.45-_a30.45_stats_/vegas_60299_75544_B0329+54_0001.0000_Conv_a01.66_a11.66_a20.45-_a30.45_stats_.raw\n",
      "/jetstor/scratch/rfimit/mitigated/reduced/vegas_60299_75544_B0329+54_0001_Conv_a01.66_a11.66_a20.45-_a30.45_stats_/vegas_60299_75544_B0329+54_0001.0000_Conv_a01.66_a11.66_a20.45-_a30.45_stats_/\n",
      "/jetstor/scratch/rfimit/unmitigated/reduced/vegas_60299_75544_B0329+54_0001_Conv_a01.66_a11.66_a20.45-_a30.45_stats_/vegas_60299_75544_B0329+54_0001.0000_Conv_a01.66_a11.66_a20.45-_a30.45_stats_/\n",
      "input: /jetstor/scratch/rfimit/unmitigated/rawdata/vegas_60299_75544_B0329+54_0001/vegas_60299_75544_B0329+54_0001.0000.raw\n",
      "output: /jetstor/scratch/rfimit/mitigated/rawdata/vegas_60299_75544_B0329+54_0001_Conv_a01.66_a11.66_a20.45-_a30.45_stats_/vegas_60299_75544_B0329+54_0001.0000_Conv_a01.66_a11.66_a20.45-_a30.45_stats_.raw\n",
      "spect: /jetstor/scratch/rfimit/mitigated/reduced/vegas_60299_75544_B0329+54_0001_Conv_a01.66_a11.66_a20.45-_a30.45_stats_/vegas_60299_75544_B0329+54_0001.0000_Conv_a01.66_a11.66_a20.45-_a30.45_stats_/vegas_60299_75544_B0329+54_0001.0000_spect_Conv_stats_a01.66_a11.66_a20.45-_a30.45_stats__.npy\n",
      "Saving replaced data to /jetstor/scratch/rfimit/mitigated/rawdata/vegas_60299_75544_B0329+54_0001_Conv_a01.66_a11.66_a20.45-_a30.45_stats_/vegas_60299_75544_B0329+54_0001.0000_Conv_a01.66_a11.66_a20.45-_a30.45_stats_.raw\n",
      "/jetstor/scratch/rfimit/unmitigated/rawdata/vegas_60299_75544_B0329+54_0001/vegas_60299_75544_B0329+54_0001.0000.raw /jetstor/scratch/rfimit/mitigated/rawdata/vegas_60299_75544_B0329+54_0001_Conv_a01.66_a11.66_a20.45-_a30.45_stats_/vegas_60299_75544_B0329+54_0001.0000_Conv_a01.66_a11.66_a20.45-_a30.45_stats_.raw\n",
      "File has 128 data blocks\n",
      "------------------------------------------\n",
      "Block: 1/128\n",
      "Header size: 6640 bytes\n",
      "DAQERROR:  no errors\n",
      "DAQPULSE:  Thu Dec 21 15:59:03 2023\n",
      "DAQSTATE:  running\n",
      "BANKNAM:  BANKA\n",
      "POL_TYPE:  AABBCRCI\n",
      "TELESCOP:  GBT\n",
      "BACKEND:  VEGAS\n",
      "NRCVR:  2\n",
      "NBITS:  8\n",
      "PFB_OVER:  12\n",
      "SCALE0:  1.\n",
      "SCALE1:  1.\n",
      "SCALE2:  1.\n",
      "SCALE3:  1.\n",
      "OFFSET0:  0.\n",
      "OFFSET1:  0.\n",
      "OFFSET2:  0.\n",
      "OFFSET3:  0.\n",
      "BANKNUM:  0\n",
      "CAL_DCYC:  0.5\n",
      "DS_FREQ:  1\n",
      "DATADIR:  /lustre/gbtdata\n",
      "NPOL:  4\n",
      "PKTFMT:  1SFA\n",
      "CAL_FREQ:  25.\n",
      "FFTLEN:  32768\n",
      "OVERLAP:  512\n",
      "BLOCSIZE:  1065353216\n",
      "NBIN:  256\n",
      "OBS_MODE:  RAW\n",
      "CAL_MODE:  OFF\n",
      "DS_TIME:  1\n",
      "NBITSREQ:  8\n",
      "PARFILE:  /home/gbt/etc/config/\n",
      "OBSFREQ:  1500.097656\n",
      "TFOLD:  10.\n",
      "ONLY_I:  0\n",
      "CHAN_DM:  0.\n",
      "_SSRF_01:  0\n",
      "OBSBW:  -800\n",
      "AZ:  42.531153\n",
      "BMAJ:  0.045805\n",
      "BMIN:  0.045805\n",
      "DEC:  54.578641\n",
      "DEC_STR:  54:34:43.1074\n",
      "FRONTEND:  Rcvr1_2\n",
      "LST:  78022\n",
      "OBSERVER:  Evan Smith\n",
      "RA:  53.247226\n",
      "RA_STR:  03:32:59.3343\n",
      "TRK_MODE:  TRACK\n",
      "ZA:  58.801562\n",
      "SCANLEN:  120.\n",
      "DATAHOST:  10.17.0.64\n",
      "DATAPORT:  60000\n",
      "OBSNCHAN:  4096\n",
      "FD_POLN:  LIN\n",
      "CHAN_BW:  -0.1953125\n",
      "ACC_LEN:  1\n",
      "TBIN:  5.12e-06\n",
      "NETSTAT:  receiving\n",
      "NULLSTAT:  exiting\n",
      "PKTIDX:  0\n",
      "DROPAVG:  5.94896e-09\n",
      "DROPTOT:  0.524447\n",
      "DROPBLK:  0\n",
      "STT_IMJD:  60299\n",
      "STT_SMJD:  75544\n",
      "STTVALID:  1\n",
      "CYCTFOLD:  1.\n",
      "CYCNBIN:  256\n",
      "NCYC:  0\n",
      "CYCSPEC:  0\n",
      "SRC_NAME:  B0329+54\n",
      "PROJID:  TGBT23B_610_04\n",
      "SCAN:  1\n",
      "SCANNUM:  1\n",
      "RAWSTAT:  waiting\n",
      "STT_OFFS:  0\n",
      "PKTSIZE:  65536\n",
      "NPKT:  16255\n",
      "NDROP:  0\n"
     ]
    },
    {
     "name": "stderr",
     "output_type": "stream",
     "text": [
      "mkdir: cannot create directory ‘/jetstor/scratch/rfimit/unmitigated/reduced/vegas_60299_75544_B0329+54_0001_Conv_a01.66_a11.66_a20.45-_a30.45_stats_’: Permission denied\n",
      "mkdir: cannot create directory ‘/jetstor/scratch/rfimit/unmitigated/reduced/vegas_60299_75544_B0329+54_0001_Conv_a01.66_a11.66_a20.45-_a30.45_stats_/vegas_60299_75544_B0329+54_0001.0000_Conv_a01.66_a11.66_a20.45-_a30.45_stats_/’: No such file or directory\n"
     ]
    },
    {
     "name": "stdout",
     "output_type": "stream",
     "text": [
      "Total RAM usage: 9.834239959716797 GB\n",
      "Pol 0: 4.18% flagged\n",
      "Pol 1: 4.95% flagged\n",
      "Union: 5.81% flagged\n"
     ]
    }
   ],
   "source": [
    "RFIobj = nettingi.rfi_ConvRFI('vegas_60299_75544_B0329+54_0001.0000.raw','stats', 1.66, 1.66, 0.45, 0.45, \n",
    "                         output_bool = True, mb=1, rawdata=False, ave_factor = 512)\n",
    "RFIobj.run_all()"
   ]
  },
  {
   "cell_type": "code",
   "execution_count": null,
   "id": "59f3c600-4422-4ed6-b7c5-dc546f28acf9",
   "metadata": {},
   "outputs": [],
   "source": [
    "RFIobj =uhh = nettingi.rfi_ConvRFI('vegas_60299_76977_B0355+54_0009.0000.raw', 'stats', m, '1,1', 1,1,3.0,\n",
    "                                  output_bool = True, mb=1, rawdata=False, ave_factor = 512)\n",
    "RFIobj.run_all()"
   ]
  }
 ],
 "metadata": {
  "kernelspec": {
   "display_name": "ConvRFI",
   "language": "python",
   "name": "convrfi"
  },
  "language_info": {
   "codemirror_mode": {
    "name": "ipython",
    "version": 3
   },
   "file_extension": ".py",
   "mimetype": "text/x-python",
   "name": "python",
   "nbconvert_exporter": "python",
   "pygments_lexer": "ipython3",
   "version": "3.9.21"
  }
 },
 "nbformat": 4,
 "nbformat_minor": 5
}
