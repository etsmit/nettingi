{
 "cells": [
  {
   "cell_type": "code",
   "execution_count": null,
   "id": "99677b13-387f-48e4-a27b-a4275afe2433",
   "metadata": {},
   "outputs": [],
   "source": [
    "import numpy as np\n",
    "\n",
    "#import matplotlib.pyplot as plt\n",
    "#%matplotlib qt\n",
    "import importlib\n",
    "\n",
    "rfimit = importlib.import_module('rfi-mitigation')"
   ]
  },
  {
   "cell_type": "code",
   "execution_count": 2,
   "id": "cf738bca-b1f1-417a-badc-cd3cd9d5f274",
   "metadata": {},
   "outputs": [],
   "source": [
    "import aoflagger"
   ]
  },
  {
   "cell_type": "code",
   "execution_count": 13,
   "id": "30bdbb31-7db0-4cad-80a2-aa4b4423d22e",
   "metadata": {},
   "outputs": [
    {
     "ename": "TypeError",
     "evalue": "aoflagger.FlagMask: No constructor defined!",
     "output_type": "error",
     "traceback": [
      "\u001b[0;31m---------------------------------------------------------------------------\u001b[0m",
      "\u001b[0;31mTypeError\u001b[0m                                 Traceback (most recent call last)",
      "Cell \u001b[0;32mIn[13], line 7\u001b[0m\n\u001b[1;32m      5\u001b[0m rf \u001b[38;5;241m=\u001b[39m GuppiRaw(filename)\n\u001b[1;32m      6\u001b[0m header, data \u001b[38;5;241m=\u001b[39m rf\u001b[38;5;241m.\u001b[39mread_next_data_block()\n\u001b[0;32m----> 7\u001b[0m test \u001b[38;5;241m=\u001b[39m \u001b[43mFlagMask\u001b[49m\u001b[43m(\u001b[49m\u001b[43mfilename\u001b[49m\u001b[43m)\u001b[49m\n\u001b[1;32m      8\u001b[0m flags \u001b[38;5;241m=\u001b[39m test\u001b[38;5;241m.\u001b[39mget_buffer()\n\u001b[1;32m     11\u001b[0m \u001b[38;5;66;03m# uhh = rfimit.rfi_iqrm('vegas_60299_76099_B0329+54_0004.0000.raw', 'stats', IQRM_radius=5, IQRM_threshold=t[i], IQRM_datatype=\"std\", IQRM_breakdown=512, cust='', output_bool = True, mb=1, rawdata=False, ave_factor = 512)\u001b[39;00m\n\u001b[1;32m     12\u001b[0m     \n\u001b[1;32m     13\u001b[0m     \n\u001b[1;32m     14\u001b[0m \u001b[38;5;66;03m#     uhh.run_all()\u001b[39;00m\n",
      "\u001b[0;31mTypeError\u001b[0m: aoflagger.FlagMask: No constructor defined!"
     ]
    }
   ],
   "source": [
    "from aoflagger import FlagMask\n",
    "from blimpy import GuppiRaw\n",
    "filename = '/data/rfimit/unmitigated/rawdata/vegas_60299_76099_B0329+54_0004.0000.raw'\n",
    "\n",
    "rf = GuppiRaw(filename)\n",
    "header, data = rf.read_next_data_block()\n",
    "\n",
    "\n",
    "\n",
    "# uhh = rfimit.rfi_iqrm('vegas_60299_76099_B0329+54_0004.0000.raw', 'stats', IQRM_radius=5, IQRM_threshold=t[i], IQRM_datatype=\"std\", IQRM_breakdown=512, cust='', output_bool = True, mb=1, rawdata=False, ave_factor = 512)\n",
    "    \n",
    "    \n",
    "#     uhh.run_all()"
   ]
  },
  {
   "cell_type": "code",
   "execution_count": null,
   "id": "22913d02-32bd-4e41-bab8-6d264b283574",
   "metadata": {
    "scrolled": true
   },
   "outputs": [
    {
     "name": "stdout",
     "output_type": "stream",
     "text": [
      "Saving replaced data to /jetstor/scratch/AOF_rawdata_results/vegas_58966_25728_J1713+0747_0080.0000_AOF_stats__mb1_.raw\n",
      "/data/rfimit/unmitigated/rawdata/vegas_58966_25728_J1713+0747_0080.0000.raw /jetstor/scratch/AOF_rawdata_results/vegas_58966_25728_J1713+0747_0080.0000_AOF_stats__mb1_.raw\n",
      "The output file /jetstor/scratch/AOF_rawdata_results/vegas_58966_25728_J1713+0747_0080.0000_AOF_stats__mb1_.raw already exists. Press 'y' to redo the copy, 'n' to continue without copying, or ctrl-c to end the script: n\n",
      "File has 128 data blocks\n",
      "------------------------------------------\n",
      "Block: 1/128\n",
      "Header size: 6320 bytes\n",
      "DAQPULSE:  Mon Apr 27 03:08:47 2020\n",
      "DAQSTATE:  running\n",
      "BANKNAM:  BANKA\n",
      "POL_TYPE:  AABBCRCI\n",
      "TELESCOP:  GBT\n",
      "BACKEND:  VEGAS\n",
      "NRCVR:  2\n",
      "PFB_OVER:  12\n",
      "SCALE0:  1.\n",
      "SCALE1:  1.\n",
      "SCALE2:  1.\n",
      "SCALE3:  1.\n",
      "OFFSET0:  0.\n",
      "OFFSET1:  0.\n",
      "OFFSET2:  0.\n",
      "OFFSET3:  0.\n",
      "BANKNUM:  0\n",
      "CAL_DCYC:  0.5\n",
      "DS_FREQ:  1\n",
      "SRC_NAME:  J1713+0747\n",
      "PROJID:  TGBT20A_505_18\n",
      "DATADIR:  /lustre/gbtdata\n",
      "NPOL:  4\n",
      "PKTFMT:  1SFA\n",
      "CAL_FREQ:  25.\n",
      "FFTLEN:  32768\n",
      "OVERLAP:  512\n",
      "BLOCSIZE:  1065353216\n",
      "NBIN:  2048\n",
      "OBS_MODE:  RAW\n",
      "CAL_MODE:  OFF\n",
      "DS_TIME:  1\n",
      "NBITS:  8\n",
      "PARFILE:  /home/gbt/etc/config/\n",
      "OBSFREQ:  1500.097656\n",
      "TFOLD:  10.\n",
      "ONLY_I:  0\n",
      "CHAN_DM:  15.992196\n",
      "_SSRF_01:  0\n",
      "OBSBW:  -800\n",
      "SCANLEN:  185.\n",
      "DATAHOST:  10.17.0.64\n",
      "DATAPORT:  60000\n",
      "OBSNCHAN:  4096\n",
      "FD_POLN:  LIN\n",
      "CHAN_BW:  -0.1953125\n",
      "ACC_LEN:  1\n",
      "TBIN:  5.12e-06\n",
      "NETSTAT:  receiving\n",
      "NULLSTAT:  exiting\n",
      "PKTIDX:  0\n",
      "DROPAVG:  6.65281e-11\n",
      "DROPTOT:  0.455142\n",
      "DROPBLK:  0\n",
      "STT_IMJD:  58966\n",
      "STT_SMJD:  25728\n",
      "STTVALID:  1\n",
      "AZ:  151.136739\n",
      "BMAJ:  0.000000\n",
      "BMIN:  0.000000\n",
      "DEC:  7.793751\n",
      "DEC_STR:  07:47:37.5031\n",
      "FRONTEND:  Rcvr1_2\n",
      "LST:  58317\n",
      "OBSERVER:  Ryan Lynch\n",
      "RA:  258.456404\n",
      "RA_STR:  17:13:49.5370\n",
      "TRK_MODE:  TRACK\n",
      "ZA:  33.782569\n",
      "_SSRF_02:  0\n",
      "CURBLOCK:  0\n",
      "SCAN:  80\n",
      "SCANNUM:  80\n",
      "DISKSTAT:  waiting\n",
      "STT_OFFS:  0\n",
      "PKTSIZE:  65536\n",
      "NPKT:  16255\n",
      "NDROP:  0\n",
      "Number of times: 2032\n",
      "Number of channels: 4096\n"
     ]
    },
    {
     "name": "stderr",
     "output_type": "stream",
     "text": [
      "100%|██████████████████████████████████████████████████████████████████████████| 32/32 [03:58<00:00,  7.46s/it]\n"
     ]
    },
    {
     "name": "stdout",
     "output_type": "stream",
     "text": [
      "Pol 0: 3.09% flagged\n",
      "Pol 1: 2.26% flagged\n",
      "Union: 4.85% flagged\n",
      "loading /users/esmith/RFI_MIT/PFBcoeffs/c0800x4096_x14_7_24t_095binw_get_pfb_coeffs_h.npy for FIR coefficients\n",
      "block duration: 5.1726359566052755\n",
      "------------------------------------------\n",
      "Block: 2/128\n",
      "Number of times: 2032\n",
      "Number of channels: 4096\n"
     ]
    },
    {
     "name": "stderr",
     "output_type": "stream",
     "text": [
      "100%|██████████████████████████████████████████████████████████████████████████| 32/32 [03:51<00:00,  7.25s/it]\n"
     ]
    },
    {
     "name": "stdout",
     "output_type": "stream",
     "text": [
      "Pol 0: 3.08% flagged\n",
      "Pol 1: 2.29% flagged\n",
      "Union: 4.89% flagged\n",
      "loading /users/esmith/RFI_MIT/PFBcoeffs/c0800x4096_x14_7_24t_095binw_get_pfb_coeffs_h.npy for FIR coefficients\n",
      "block duration: 4.930749011039734\n",
      "------------------------------------------\n",
      "Block: 3/128\n",
      "Number of times: 2032\n",
      "Number of channels: 4096\n"
     ]
    },
    {
     "name": "stderr",
     "output_type": "stream",
     "text": [
      "100%|██████████████████████████████████████████████████████████████████████████| 32/32 [03:53<00:00,  7.30s/it]\n"
     ]
    },
    {
     "name": "stdout",
     "output_type": "stream",
     "text": [
      "Pol 0: 3.03% flagged\n",
      "Pol 1: 2.27% flagged\n",
      "Union: 4.81% flagged\n",
      "loading /users/esmith/RFI_MIT/PFBcoeffs/c0800x4096_x14_7_24t_095binw_get_pfb_coeffs_h.npy for FIR coefficients\n",
      "block duration: 5.121887056032817\n",
      "------------------------------------------\n",
      "Block: 4/128\n",
      "Number of times: 2032\n",
      "Number of channels: 4096\n"
     ]
    },
    {
     "name": "stderr",
     "output_type": "stream",
     "text": [
      "100%|██████████████████████████████████████████████████████████████████████████| 32/32 [04:00<00:00,  7.52s/it]\n"
     ]
    },
    {
     "name": "stdout",
     "output_type": "stream",
     "text": [
      "Pol 0: 3.02% flagged\n",
      "Pol 1: 2.24% flagged\n",
      "Union: 4.77% flagged\n",
      "loading /users/esmith/RFI_MIT/PFBcoeffs/c0800x4096_x14_7_24t_095binw_get_pfb_coeffs_h.npy for FIR coefficients\n",
      "block duration: 5.221172936757406\n",
      "------------------------------------------\n",
      "Block: 5/128\n",
      "Number of times: 2032\n",
      "Number of channels: 4096\n"
     ]
    },
    {
     "name": "stderr",
     "output_type": "stream",
     "text": [
      "100%|██████████████████████████████████████████████████████████████████████████| 32/32 [04:00<00:00,  7.52s/it]\n"
     ]
    },
    {
     "name": "stdout",
     "output_type": "stream",
     "text": [
      "Pol 0: 3.04% flagged\n",
      "Pol 1: 2.25% flagged\n",
      "Union: 4.79% flagged\n",
      "loading /users/esmith/RFI_MIT/PFBcoeffs/c0800x4096_x14_7_24t_095binw_get_pfb_coeffs_h.npy for FIR coefficients\n",
      "block duration: 5.025150763988495\n",
      "------------------------------------------\n",
      "Block: 6/128\n",
      "Number of times: 2032\n",
      "Number of channels: 4096\n"
     ]
    },
    {
     "name": "stderr",
     "output_type": "stream",
     "text": [
      "100%|██████████████████████████████████████████████████████████████████████████| 32/32 [03:51<00:00,  7.24s/it]\n"
     ]
    },
    {
     "name": "stdout",
     "output_type": "stream",
     "text": [
      "Pol 0: 3.06% flagged\n",
      "Pol 1: 2.3% flagged\n",
      "Union: 4.86% flagged\n",
      "loading /users/esmith/RFI_MIT/PFBcoeffs/c0800x4096_x14_7_24t_095binw_get_pfb_coeffs_h.npy for FIR coefficients\n",
      "block duration: 4.935093549887339\n",
      "------------------------------------------\n",
      "Block: 7/128\n",
      "Number of times: 2032\n",
      "Number of channels: 4096\n"
     ]
    },
    {
     "name": "stderr",
     "output_type": "stream",
     "text": [
      "100%|██████████████████████████████████████████████████████████████████████████| 32/32 [03:46<00:00,  7.07s/it]\n"
     ]
    },
    {
     "name": "stdout",
     "output_type": "stream",
     "text": [
      "Pol 0: 3.0% flagged\n",
      "Pol 1: 2.29% flagged\n",
      "Union: 4.79% flagged\n",
      "loading /users/esmith/RFI_MIT/PFBcoeffs/c0800x4096_x14_7_24t_095binw_get_pfb_coeffs_h.npy for FIR coefficients\n",
      "block duration: 4.8360828280448915\n",
      "------------------------------------------\n",
      "Block: 8/128\n",
      "Number of times: 2032\n",
      "Number of channels: 4096\n"
     ]
    },
    {
     "name": "stderr",
     "output_type": "stream",
     "text": [
      "100%|██████████████████████████████████████████████████████████████████████████| 32/32 [03:49<00:00,  7.18s/it]\n"
     ]
    },
    {
     "name": "stdout",
     "output_type": "stream",
     "text": [
      "Pol 0: 3.06% flagged\n",
      "Pol 1: 2.3% flagged\n",
      "Union: 4.87% flagged\n",
      "loading /users/esmith/RFI_MIT/PFBcoeffs/c0800x4096_x14_7_24t_095binw_get_pfb_coeffs_h.npy for FIR coefficients\n",
      "block duration: 4.894180738925934\n",
      "------------------------------------------\n",
      "Block: 9/128\n",
      "Number of times: 2032\n",
      "Number of channels: 4096\n"
     ]
    },
    {
     "name": "stderr",
     "output_type": "stream",
     "text": [
      "100%|██████████████████████████████████████████████████████████████████████████| 32/32 [03:49<00:00,  7.17s/it]\n"
     ]
    },
    {
     "name": "stdout",
     "output_type": "stream",
     "text": [
      "Pol 0: 3.08% flagged\n",
      "Pol 1: 2.3% flagged\n",
      "Union: 4.89% flagged\n",
      "loading /users/esmith/RFI_MIT/PFBcoeffs/c0800x4096_x14_7_24t_095binw_get_pfb_coeffs_h.npy for FIR coefficients\n",
      "block duration: 4.876177680492401\n",
      "------------------------------------------\n",
      "Block: 10/128\n",
      "Number of times: 2032\n",
      "Number of channels: 4096\n"
     ]
    },
    {
     "name": "stderr",
     "output_type": "stream",
     "text": [
      "100%|██████████████████████████████████████████████████████████████████████████| 32/32 [03:57<00:00,  7.41s/it]\n"
     ]
    },
    {
     "name": "stdout",
     "output_type": "stream",
     "text": [
      "Pol 0: 3.05% flagged\n",
      "Pol 1: 2.31% flagged\n",
      "Union: 4.86% flagged\n",
      "loading /users/esmith/RFI_MIT/PFBcoeffs/c0800x4096_x14_7_24t_095binw_get_pfb_coeffs_h.npy for FIR coefficients\n",
      "block duration: 5.0082356055577595\n",
      "------------------------------------------\n",
      "Block: 11/128\n",
      "Number of times: 2032\n",
      "Number of channels: 4096\n"
     ]
    },
    {
     "name": "stderr",
     "output_type": "stream",
     "text": [
      "100%|██████████████████████████████████████████████████████████████████████████| 32/32 [03:50<00:00,  7.21s/it]\n"
     ]
    },
    {
     "name": "stdout",
     "output_type": "stream",
     "text": [
      "Pol 0: 3.05% flagged\n",
      "Pol 1: 2.28% flagged\n",
      "Union: 4.84% flagged\n",
      "loading /users/esmith/RFI_MIT/PFBcoeffs/c0800x4096_x14_7_24t_095binw_get_pfb_coeffs_h.npy for FIR coefficients\n",
      "block duration: 4.907552278041839\n",
      "------------------------------------------\n",
      "Block: 12/128\n",
      "Number of times: 2032\n",
      "Number of channels: 4096\n"
     ]
    },
    {
     "name": "stderr",
     "output_type": "stream",
     "text": [
      "100%|██████████████████████████████████████████████████████████████████████████| 32/32 [03:57<00:00,  7.41s/it]\n"
     ]
    },
    {
     "name": "stdout",
     "output_type": "stream",
     "text": [
      "Pol 0: 3.03% flagged\n",
      "Pol 1: 2.31% flagged\n",
      "Union: 4.84% flagged\n",
      "loading /users/esmith/RFI_MIT/PFBcoeffs/c0800x4096_x14_7_24t_095binw_get_pfb_coeffs_h.npy for FIR coefficients\n",
      "block duration: 5.025385574499766\n",
      "------------------------------------------\n",
      "Block: 13/128\n",
      "Number of times: 2032\n",
      "Number of channels: 4096\n"
     ]
    },
    {
     "name": "stderr",
     "output_type": "stream",
     "text": [
      "100%|██████████████████████████████████████████████████████████████████████████| 32/32 [03:55<00:00,  7.35s/it]\n"
     ]
    },
    {
     "name": "stdout",
     "output_type": "stream",
     "text": [
      "Pol 0: 3.03% flagged\n",
      "Pol 1: 2.28% flagged\n",
      "Union: 4.82% flagged\n",
      "loading /users/esmith/RFI_MIT/PFBcoeffs/c0800x4096_x14_7_24t_095binw_get_pfb_coeffs_h.npy for FIR coefficients\n",
      "block duration: 5.0070475220680235\n",
      "------------------------------------------\n",
      "Block: 14/128\n",
      "Number of times: 2032\n",
      "Number of channels: 4096\n"
     ]
    },
    {
     "name": "stderr",
     "output_type": "stream",
     "text": [
      "100%|██████████████████████████████████████████████████████████████████████████| 32/32 [03:46<00:00,  7.06s/it]\n"
     ]
    },
    {
     "name": "stdout",
     "output_type": "stream",
     "text": [
      "Pol 0: 3.05% flagged\n",
      "Pol 1: 2.28% flagged\n",
      "Union: 4.84% flagged\n",
      "loading /users/esmith/RFI_MIT/PFBcoeffs/c0800x4096_x14_7_24t_095binw_get_pfb_coeffs_h.npy for FIR coefficients\n",
      "block duration: 4.90149286588033\n",
      "------------------------------------------\n",
      "Block: 15/128\n",
      "Number of times: 2032\n",
      "Number of channels: 4096\n"
     ]
    },
    {
     "name": "stderr",
     "output_type": "stream",
     "text": [
      "100%|██████████████████████████████████████████████████████████████████████████| 32/32 [03:42<00:00,  6.94s/it]\n"
     ]
    },
    {
     "name": "stdout",
     "output_type": "stream",
     "text": [
      "Pol 0: 3.04% flagged\n",
      "Pol 1: 2.3% flagged\n",
      "Union: 4.85% flagged\n",
      "loading /users/esmith/RFI_MIT/PFBcoeffs/c0800x4096_x14_7_24t_095binw_get_pfb_coeffs_h.npy for FIR coefficients\n",
      "block duration: 4.8003801266352335\n",
      "------------------------------------------\n",
      "Block: 16/128\n",
      "Number of times: 2032\n",
      "Number of channels: 4096\n"
     ]
    },
    {
     "name": "stderr",
     "output_type": "stream",
     "text": [
      "100%|██████████████████████████████████████████████████████████████████████████| 32/32 [03:51<00:00,  7.23s/it]\n"
     ]
    },
    {
     "name": "stdout",
     "output_type": "stream",
     "text": [
      "Pol 0: 3.07% flagged\n",
      "Pol 1: 2.26% flagged\n",
      "Union: 4.85% flagged\n",
      "loading /users/esmith/RFI_MIT/PFBcoeffs/c0800x4096_x14_7_24t_095binw_get_pfb_coeffs_h.npy for FIR coefficients\n",
      "block duration: 4.967674318949381\n",
      "------------------------------------------\n",
      "Block: 17/128\n",
      "Number of times: 2032\n",
      "Number of channels: 4096\n"
     ]
    },
    {
     "name": "stderr",
     "output_type": "stream",
     "text": [
      "100%|██████████████████████████████████████████████████████████████████████████| 32/32 [03:44<00:00,  7.02s/it]\n"
     ]
    },
    {
     "name": "stdout",
     "output_type": "stream",
     "text": [
      "Pol 0: 3.03% flagged\n",
      "Pol 1: 2.31% flagged\n",
      "Union: 4.85% flagged\n",
      "loading /users/esmith/RFI_MIT/PFBcoeffs/c0800x4096_x14_7_24t_095binw_get_pfb_coeffs_h.npy for FIR coefficients\n",
      "block duration: 4.846453495820364\n",
      "------------------------------------------\n",
      "Block: 18/128\n",
      "Number of times: 2032\n",
      "Number of channels: 4096\n"
     ]
    },
    {
     "name": "stderr",
     "output_type": "stream",
     "text": [
      "100%|██████████████████████████████████████████████████████████████████████████| 32/32 [03:48<00:00,  7.14s/it]\n"
     ]
    },
    {
     "name": "stdout",
     "output_type": "stream",
     "text": [
      "Pol 0: 3.05% flagged\n",
      "Pol 1: 2.3% flagged\n",
      "Union: 4.86% flagged\n",
      "loading /users/esmith/RFI_MIT/PFBcoeffs/c0800x4096_x14_7_24t_095binw_get_pfb_coeffs_h.npy for FIR coefficients\n",
      "block duration: 4.956375463803609\n",
      "------------------------------------------\n",
      "Block: 19/128\n",
      "Number of times: 2032\n",
      "Number of channels: 4096\n"
     ]
    },
    {
     "name": "stderr",
     "output_type": "stream",
     "text": [
      "100%|██████████████████████████████████████████████████████████████████████████| 32/32 [03:49<00:00,  7.18s/it]\n"
     ]
    },
    {
     "name": "stdout",
     "output_type": "stream",
     "text": [
      "Pol 0: 3.06% flagged\n",
      "Pol 1: 2.32% flagged\n",
      "Union: 4.9% flagged\n",
      "loading /users/esmith/RFI_MIT/PFBcoeffs/c0800x4096_x14_7_24t_095binw_get_pfb_coeffs_h.npy for FIR coefficients\n",
      "block duration: 4.987460215886434\n",
      "------------------------------------------\n",
      "Block: 20/128\n",
      "Number of times: 2032\n",
      "Number of channels: 4096\n"
     ]
    },
    {
     "name": "stderr",
     "output_type": "stream",
     "text": [
      "100%|██████████████████████████████████████████████████████████████████████████| 32/32 [03:49<00:00,  7.16s/it]\n"
     ]
    },
    {
     "name": "stdout",
     "output_type": "stream",
     "text": [
      "Pol 0: 2.99% flagged\n",
      "Pol 1: 2.29% flagged\n",
      "Union: 4.81% flagged\n",
      "loading /users/esmith/RFI_MIT/PFBcoeffs/c0800x4096_x14_7_24t_095binw_get_pfb_coeffs_h.npy for FIR coefficients\n",
      "block duration: 5.015293451150258\n",
      "------------------------------------------\n",
      "Block: 21/128\n",
      "Number of times: 2032\n",
      "Number of channels: 4096\n"
     ]
    },
    {
     "name": "stderr",
     "output_type": "stream",
     "text": [
      "100%|██████████████████████████████████████████████████████████████████████████| 32/32 [03:51<00:00,  7.25s/it]\n"
     ]
    },
    {
     "name": "stdout",
     "output_type": "stream",
     "text": [
      "Pol 0: 2.96% flagged\n",
      "Pol 1: 2.28% flagged\n",
      "Union: 4.77% flagged\n",
      "loading /users/esmith/RFI_MIT/PFBcoeffs/c0800x4096_x14_7_24t_095binw_get_pfb_coeffs_h.npy for FIR coefficients\n",
      "block duration: 5.025000103314718\n",
      "------------------------------------------\n",
      "Block: 22/128\n",
      "Number of times: 2032\n",
      "Number of channels: 4096\n"
     ]
    },
    {
     "name": "stderr",
     "output_type": "stream",
     "text": [
      "100%|██████████████████████████████████████████████████████████████████████████| 32/32 [03:55<00:00,  7.35s/it]\n"
     ]
    },
    {
     "name": "stdout",
     "output_type": "stream",
     "text": [
      "Pol 0: 2.99% flagged\n",
      "Pol 1: 2.33% flagged\n",
      "Union: 4.86% flagged\n",
      "loading /users/esmith/RFI_MIT/PFBcoeffs/c0800x4096_x14_7_24t_095binw_get_pfb_coeffs_h.npy for FIR coefficients\n",
      "block duration: 5.070530414581299\n",
      "------------------------------------------\n",
      "Block: 23/128\n",
      "Number of times: 2032\n",
      "Number of channels: 4096\n"
     ]
    },
    {
     "name": "stderr",
     "output_type": "stream",
     "text": [
      "100%|██████████████████████████████████████████████████████████████████████████| 32/32 [03:47<00:00,  7.11s/it]\n"
     ]
    },
    {
     "name": "stdout",
     "output_type": "stream",
     "text": [
      "Pol 0: 2.93% flagged\n",
      "Pol 1: 2.31% flagged\n",
      "Union: 4.79% flagged\n",
      "loading /users/esmith/RFI_MIT/PFBcoeffs/c0800x4096_x14_7_24t_095binw_get_pfb_coeffs_h.npy for FIR coefficients\n",
      "block duration: 4.953645364443461\n",
      "------------------------------------------\n",
      "Block: 24/128\n",
      "Number of times: 2032\n",
      "Number of channels: 4096\n"
     ]
    },
    {
     "name": "stderr",
     "output_type": "stream",
     "text": [
      "100%|██████████████████████████████████████████████████████████████████████████| 32/32 [03:54<00:00,  7.33s/it]\n"
     ]
    },
    {
     "name": "stdout",
     "output_type": "stream",
     "text": [
      "Pol 0: 2.96% flagged\n",
      "Pol 1: 2.29% flagged\n",
      "Union: 4.78% flagged\n",
      "loading /users/esmith/RFI_MIT/PFBcoeffs/c0800x4096_x14_7_24t_095binw_get_pfb_coeffs_h.npy for FIR coefficients\n",
      "block duration: 5.112290187676748\n",
      "------------------------------------------\n",
      "Block: 25/128\n",
      "Number of times: 2032\n",
      "Number of channels: 4096\n"
     ]
    },
    {
     "name": "stderr",
     "output_type": "stream",
     "text": [
      "100%|██████████████████████████████████████████████████████████████████████████| 32/32 [03:57<00:00,  7.42s/it]\n"
     ]
    },
    {
     "name": "stdout",
     "output_type": "stream",
     "text": [
      "Pol 0: 3.04% flagged\n",
      "Pol 1: 2.36% flagged\n",
      "Union: 4.91% flagged\n",
      "loading /users/esmith/RFI_MIT/PFBcoeffs/c0800x4096_x14_7_24t_095binw_get_pfb_coeffs_h.npy for FIR coefficients\n",
      "block duration: 5.198737259705862\n",
      "------------------------------------------\n",
      "Block: 26/128\n",
      "Number of times: 2032\n",
      "Number of channels: 4096\n"
     ]
    },
    {
     "name": "stderr",
     "output_type": "stream",
     "text": [
      "100%|██████████████████████████████████████████████████████████████████████████| 32/32 [03:43<00:00,  6.97s/it]\n"
     ]
    },
    {
     "name": "stdout",
     "output_type": "stream",
     "text": [
      "Pol 0: 3.04% flagged\n",
      "Pol 1: 2.29% flagged\n",
      "Union: 4.86% flagged\n",
      "loading /users/esmith/RFI_MIT/PFBcoeffs/c0800x4096_x14_7_24t_095binw_get_pfb_coeffs_h.npy for FIR coefficients\n",
      "block duration: 4.976931337515513\n",
      "------------------------------------------\n",
      "Block: 27/128\n",
      "Number of times: 2032\n",
      "Number of channels: 4096\n"
     ]
    },
    {
     "name": "stderr",
     "output_type": "stream",
     "text": [
      "100%|██████████████████████████████████████████████████████████████████████████| 32/32 [03:52<00:00,  7.26s/it]\n"
     ]
    },
    {
     "name": "stdout",
     "output_type": "stream",
     "text": [
      "Pol 0: 2.98% flagged\n",
      "Pol 1: 2.29% flagged\n",
      "Union: 4.79% flagged\n",
      "loading /users/esmith/RFI_MIT/PFBcoeffs/c0800x4096_x14_7_24t_095binw_get_pfb_coeffs_h.npy for FIR coefficients\n",
      "block duration: 5.151513608296712\n",
      "------------------------------------------\n",
      "Block: 28/128\n",
      "Number of times: 2032\n",
      "Number of channels: 4096\n"
     ]
    },
    {
     "name": "stderr",
     "output_type": "stream",
     "text": [
      "100%|██████████████████████████████████████████████████████████████████████████| 32/32 [03:51<00:00,  7.23s/it]\n"
     ]
    },
    {
     "name": "stdout",
     "output_type": "stream",
     "text": [
      "Pol 0: 3.03% flagged\n",
      "Pol 1: 2.32% flagged\n",
      "Union: 4.84% flagged\n",
      "loading /users/esmith/RFI_MIT/PFBcoeffs/c0800x4096_x14_7_24t_095binw_get_pfb_coeffs_h.npy for FIR coefficients\n",
      "block duration: 5.182263636589051\n",
      "------------------------------------------\n",
      "Block: 29/128\n",
      "Number of times: 2032\n",
      "Number of channels: 4096\n"
     ]
    },
    {
     "name": "stderr",
     "output_type": "stream",
     "text": [
      "100%|██████████████████████████████████████████████████████████████████████████| 32/32 [03:50<00:00,  7.21s/it]\n"
     ]
    },
    {
     "name": "stdout",
     "output_type": "stream",
     "text": [
      "Pol 0: 2.95% flagged\n",
      "Pol 1: 2.32% flagged\n",
      "Union: 4.79% flagged\n",
      "loading /users/esmith/RFI_MIT/PFBcoeffs/c0800x4096_x14_7_24t_095binw_get_pfb_coeffs_h.npy for FIR coefficients\n",
      "block duration: 5.149889075756073\n",
      "------------------------------------------\n",
      "Block: 30/128\n",
      "Number of times: 2032\n",
      "Number of channels: 4096\n"
     ]
    },
    {
     "name": "stderr",
     "output_type": "stream",
     "text": [
      "100%|██████████████████████████████████████████████████████████████████████████| 32/32 [03:56<00:00,  7.40s/it]\n"
     ]
    },
    {
     "name": "stdout",
     "output_type": "stream",
     "text": [
      "Pol 0: 3.06% flagged\n",
      "Pol 1: 2.29% flagged\n",
      "Union: 4.85% flagged\n",
      "loading /users/esmith/RFI_MIT/PFBcoeffs/c0800x4096_x14_7_24t_095binw_get_pfb_coeffs_h.npy for FIR coefficients\n",
      "block duration: 5.284094083309173\n",
      "------------------------------------------\n",
      "Block: 31/128\n",
      "Number of times: 2032\n",
      "Number of channels: 4096\n"
     ]
    },
    {
     "name": "stderr",
     "output_type": "stream",
     "text": [
      "100%|██████████████████████████████████████████████████████████████████████████| 32/32 [03:56<00:00,  7.38s/it]\n"
     ]
    },
    {
     "name": "stdout",
     "output_type": "stream",
     "text": [
      "Pol 0: 3.01% flagged\n",
      "Pol 1: 2.32% flagged\n",
      "Union: 4.84% flagged\n",
      "loading /users/esmith/RFI_MIT/PFBcoeffs/c0800x4096_x14_7_24t_095binw_get_pfb_coeffs_h.npy for FIR coefficients\n",
      "block duration: 5.282266855239868\n",
      "------------------------------------------\n",
      "Block: 32/128\n",
      "Number of times: 2032\n",
      "Number of channels: 4096\n"
     ]
    },
    {
     "name": "stderr",
     "output_type": "stream",
     "text": [
      "100%|██████████████████████████████████████████████████████████████████████████| 32/32 [03:51<00:00,  7.24s/it]\n"
     ]
    },
    {
     "name": "stdout",
     "output_type": "stream",
     "text": [
      "Pol 0: 3.03% flagged\n",
      "Pol 1: 2.28% flagged\n",
      "Union: 4.81% flagged\n",
      "loading /users/esmith/RFI_MIT/PFBcoeffs/c0800x4096_x14_7_24t_095binw_get_pfb_coeffs_h.npy for FIR coefficients\n",
      "block duration: 5.189720928668976\n",
      "------------------------------------------\n",
      "Block: 33/128\n",
      "Number of times: 2032\n",
      "Number of channels: 4096\n"
     ]
    },
    {
     "name": "stderr",
     "output_type": "stream",
     "text": [
      "100%|██████████████████████████████████████████████████████████████████████████| 32/32 [03:55<00:00,  7.35s/it]\n"
     ]
    },
    {
     "name": "stdout",
     "output_type": "stream",
     "text": [
      "Pol 0: 3.01% flagged\n",
      "Pol 1: 2.29% flagged\n",
      "Union: 4.8% flagged\n",
      "loading /users/esmith/RFI_MIT/PFBcoeffs/c0800x4096_x14_7_24t_095binw_get_pfb_coeffs_h.npy for FIR coefficients\n",
      "block duration: 5.211852316061655\n",
      "------------------------------------------\n",
      "Block: 34/128\n",
      "Number of times: 2032\n",
      "Number of channels: 4096\n"
     ]
    },
    {
     "name": "stderr",
     "output_type": "stream",
     "text": [
      "100%|██████████████████████████████████████████████████████████████████████████| 32/32 [03:57<00:00,  7.42s/it]\n"
     ]
    },
    {
     "name": "stdout",
     "output_type": "stream",
     "text": [
      "Pol 0: 3.06% flagged\n",
      "Pol 1: 2.26% flagged\n",
      "Union: 4.81% flagged\n",
      "loading /users/esmith/RFI_MIT/PFBcoeffs/c0800x4096_x14_7_24t_095binw_get_pfb_coeffs_h.npy for FIR coefficients\n",
      "block duration: 5.262490955988566\n",
      "------------------------------------------\n",
      "Block: 35/128\n",
      "Number of times: 2032\n",
      "Number of channels: 4096\n"
     ]
    },
    {
     "name": "stderr",
     "output_type": "stream",
     "text": [
      "100%|██████████████████████████████████████████████████████████████████████████| 32/32 [03:49<00:00,  7.16s/it]\n"
     ]
    },
    {
     "name": "stdout",
     "output_type": "stream",
     "text": [
      "Pol 0: 2.98% flagged\n",
      "Pol 1: 2.29% flagged\n",
      "Union: 4.76% flagged\n",
      "loading /users/esmith/RFI_MIT/PFBcoeffs/c0800x4096_x14_7_24t_095binw_get_pfb_coeffs_h.npy for FIR coefficients\n",
      "block duration: 5.224059589703878\n",
      "------------------------------------------\n",
      "Block: 36/128\n",
      "Number of times: 2032\n",
      "Number of channels: 4096\n"
     ]
    },
    {
     "name": "stderr",
     "output_type": "stream",
     "text": [
      "100%|██████████████████████████████████████████████████████████████████████████| 32/32 [03:51<00:00,  7.24s/it]\n"
     ]
    },
    {
     "name": "stdout",
     "output_type": "stream",
     "text": [
      "Pol 0: 3.05% flagged\n",
      "Pol 1: 2.3% flagged\n",
      "Union: 4.82% flagged\n",
      "loading /users/esmith/RFI_MIT/PFBcoeffs/c0800x4096_x14_7_24t_095binw_get_pfb_coeffs_h.npy for FIR coefficients\n",
      "block duration: 5.2507600824038185\n",
      "------------------------------------------\n",
      "Block: 37/128\n",
      "Number of times: 2032\n",
      "Number of channels: 4096\n"
     ]
    },
    {
     "name": "stderr",
     "output_type": "stream",
     "text": [
      "100%|██████████████████████████████████████████████████████████████████████████| 32/32 [03:42<00:00,  6.96s/it]\n"
     ]
    },
    {
     "name": "stdout",
     "output_type": "stream",
     "text": [
      "Pol 0: 2.93% flagged\n",
      "Pol 1: 2.27% flagged\n",
      "Union: 4.69% flagged\n",
      "loading /users/esmith/RFI_MIT/PFBcoeffs/c0800x4096_x14_7_24t_095binw_get_pfb_coeffs_h.npy for FIR coefficients\n",
      "block duration: 5.0818372885386145\n",
      "------------------------------------------\n",
      "Block: 38/128\n",
      "Number of times: 2032\n",
      "Number of channels: 4096\n"
     ]
    },
    {
     "name": "stderr",
     "output_type": "stream",
     "text": [
      "100%|██████████████████████████████████████████████████████████████████████████| 32/32 [03:48<00:00,  7.13s/it]\n"
     ]
    },
    {
     "name": "stdout",
     "output_type": "stream",
     "text": [
      "Pol 0: 2.98% flagged\n",
      "Pol 1: 2.29% flagged\n",
      "Union: 4.76% flagged\n",
      "loading /users/esmith/RFI_MIT/PFBcoeffs/c0800x4096_x14_7_24t_095binw_get_pfb_coeffs_h.npy for FIR coefficients\n",
      "block duration: 5.163783021767935\n",
      "------------------------------------------\n",
      "Block: 39/128\n",
      "Number of times: 2032\n",
      "Number of channels: 4096\n"
     ]
    },
    {
     "name": "stderr",
     "output_type": "stream",
     "text": [
      "100%|██████████████████████████████████████████████████████████████████████████| 32/32 [03:50<00:00,  7.22s/it]\n"
     ]
    },
    {
     "name": "stdout",
     "output_type": "stream",
     "text": [
      "Pol 0: 3.04% flagged\n",
      "Pol 1: 2.3% flagged\n",
      "Union: 4.81% flagged\n",
      "loading /users/esmith/RFI_MIT/PFBcoeffs/c0800x4096_x14_7_24t_095binw_get_pfb_coeffs_h.npy for FIR coefficients\n",
      "block duration: 5.297852023442586\n",
      "------------------------------------------\n",
      "Block: 40/128\n",
      "Number of times: 2032\n",
      "Number of channels: 4096\n"
     ]
    },
    {
     "name": "stderr",
     "output_type": "stream",
     "text": [
      "100%|██████████████████████████████████████████████████████████████████████████| 32/32 [03:56<00:00,  7.39s/it]\n"
     ]
    },
    {
     "name": "stdout",
     "output_type": "stream",
     "text": [
      "Pol 0: 3.01% flagged\n",
      "Pol 1: 2.3% flagged\n",
      "Union: 4.78% flagged\n",
      "loading /users/esmith/RFI_MIT/PFBcoeffs/c0800x4096_x14_7_24t_095binw_get_pfb_coeffs_h.npy for FIR coefficients\n",
      "block duration: 5.396609882513682\n",
      "------------------------------------------\n",
      "Block: 41/128\n",
      "Number of times: 2032\n",
      "Number of channels: 4096\n"
     ]
    },
    {
     "name": "stderr",
     "output_type": "stream",
     "text": [
      "100%|██████████████████████████████████████████████████████████████████████████| 32/32 [03:54<00:00,  7.32s/it]\n"
     ]
    },
    {
     "name": "stdout",
     "output_type": "stream",
     "text": [
      "Pol 0: 3.02% flagged\n",
      "Pol 1: 2.32% flagged\n",
      "Union: 4.79% flagged\n",
      "loading /users/esmith/RFI_MIT/PFBcoeffs/c0800x4096_x14_7_24t_095binw_get_pfb_coeffs_h.npy for FIR coefficients\n",
      "block duration: 5.332886751492818\n",
      "------------------------------------------\n",
      "Block: 42/128\n",
      "Number of times: 2032\n",
      "Number of channels: 4096\n"
     ]
    },
    {
     "name": "stderr",
     "output_type": "stream",
     "text": [
      "100%|██████████████████████████████████████████████████████████████████████████| 32/32 [03:47<00:00,  7.11s/it]\n"
     ]
    },
    {
     "name": "stdout",
     "output_type": "stream",
     "text": [
      "Pol 0: 3.02% flagged\n",
      "Pol 1: 2.34% flagged\n",
      "Union: 4.81% flagged\n",
      "loading /users/esmith/RFI_MIT/PFBcoeffs/c0800x4096_x14_7_24t_095binw_get_pfb_coeffs_h.npy for FIR coefficients\n",
      "block duration: 5.248354963461558\n",
      "------------------------------------------\n",
      "Block: 43/128\n",
      "Number of times: 2032\n",
      "Number of channels: 4096\n"
     ]
    },
    {
     "name": "stderr",
     "output_type": "stream",
     "text": [
      "100%|██████████████████████████████████████████████████████████████████████████| 32/32 [03:49<00:00,  7.16s/it]\n"
     ]
    },
    {
     "name": "stdout",
     "output_type": "stream",
     "text": [
      "Pol 0: 3.07% flagged\n",
      "Pol 1: 2.33% flagged\n",
      "Union: 4.86% flagged\n",
      "loading /users/esmith/RFI_MIT/PFBcoeffs/c0800x4096_x14_7_24t_095binw_get_pfb_coeffs_h.npy for FIR coefficients\n",
      "block duration: 5.270416541894277\n",
      "------------------------------------------\n",
      "Block: 44/128\n",
      "Number of times: 2032\n",
      "Number of channels: 4096\n"
     ]
    },
    {
     "name": "stderr",
     "output_type": "stream",
     "text": [
      "100%|██████████████████████████████████████████████████████████████████████████| 32/32 [03:51<00:00,  7.22s/it]\n"
     ]
    },
    {
     "name": "stdout",
     "output_type": "stream",
     "text": [
      "Pol 0: 3.04% flagged\n",
      "Pol 1: 2.3% flagged\n",
      "Union: 4.79% flagged\n",
      "loading /users/esmith/RFI_MIT/PFBcoeffs/c0800x4096_x14_7_24t_095binw_get_pfb_coeffs_h.npy for FIR coefficients\n",
      "block duration: 5.358816528320313\n",
      "------------------------------------------\n",
      "Block: 45/128\n",
      "Number of times: 2032\n",
      "Number of channels: 4096\n"
     ]
    },
    {
     "name": "stderr",
     "output_type": "stream",
     "text": [
      "100%|██████████████████████████████████████████████████████████████████████████| 32/32 [03:49<00:00,  7.19s/it]\n"
     ]
    },
    {
     "name": "stdout",
     "output_type": "stream",
     "text": [
      "Pol 0: 3.0% flagged\n",
      "Pol 1: 2.29% flagged\n",
      "Union: 4.76% flagged\n",
      "loading /users/esmith/RFI_MIT/PFBcoeffs/c0800x4096_x14_7_24t_095binw_get_pfb_coeffs_h.npy for FIR coefficients\n",
      "block duration: 5.372213049729665\n",
      "------------------------------------------\n",
      "Block: 46/128\n",
      "Number of times: 2032\n",
      "Number of channels: 4096\n"
     ]
    },
    {
     "name": "stderr",
     "output_type": "stream",
     "text": [
      "100%|██████████████████████████████████████████████████████████████████████████| 32/32 [03:50<00:00,  7.20s/it]\n"
     ]
    },
    {
     "name": "stdout",
     "output_type": "stream",
     "text": [
      "Pol 0: 3.05% flagged\n",
      "Pol 1: 2.28% flagged\n",
      "Union: 4.8% flagged\n",
      "loading /users/esmith/RFI_MIT/PFBcoeffs/c0800x4096_x14_7_24t_095binw_get_pfb_coeffs_h.npy for FIR coefficients\n",
      "block duration: 5.400526841481526\n",
      "------------------------------------------\n",
      "Block: 47/128\n",
      "Number of times: 2032\n",
      "Number of channels: 4096\n"
     ]
    },
    {
     "name": "stderr",
     "output_type": "stream",
     "text": [
      "100%|██████████████████████████████████████████████████████████████████████████| 32/32 [03:51<00:00,  7.23s/it]\n"
     ]
    },
    {
     "name": "stdout",
     "output_type": "stream",
     "text": [
      "Pol 0: 2.98% flagged\n",
      "Pol 1: 2.22% flagged\n",
      "Union: 4.68% flagged\n",
      "loading /users/esmith/RFI_MIT/PFBcoeffs/c0800x4096_x14_7_24t_095binw_get_pfb_coeffs_h.npy for FIR coefficients\n",
      "block duration: 5.425769237677256\n",
      "------------------------------------------\n",
      "Block: 48/128\n",
      "Number of times: 2032\n",
      "Number of channels: 4096\n"
     ]
    },
    {
     "name": "stderr",
     "output_type": "stream",
     "text": [
      "100%|██████████████████████████████████████████████████████████████████████████| 32/32 [03:52<00:00,  7.26s/it]\n"
     ]
    },
    {
     "name": "stdout",
     "output_type": "stream",
     "text": [
      "Pol 0: 3.02% flagged\n",
      "Pol 1: 2.27% flagged\n",
      "Union: 4.76% flagged\n",
      "loading /users/esmith/RFI_MIT/PFBcoeffs/c0800x4096_x14_7_24t_095binw_get_pfb_coeffs_h.npy for FIR coefficients\n",
      "block duration: 5.437495366732279\n",
      "------------------------------------------\n",
      "Block: 49/128\n",
      "Number of times: 2032\n",
      "Number of channels: 4096\n"
     ]
    },
    {
     "name": "stderr",
     "output_type": "stream",
     "text": [
      "100%|██████████████████████████████████████████████████████████████████████████| 32/32 [03:52<00:00,  7.28s/it]\n"
     ]
    },
    {
     "name": "stdout",
     "output_type": "stream",
     "text": [
      "Pol 0: 3.02% flagged\n",
      "Pol 1: 2.27% flagged\n",
      "Union: 4.74% flagged\n",
      "loading /users/esmith/RFI_MIT/PFBcoeffs/c0800x4096_x14_7_24t_095binw_get_pfb_coeffs_h.npy for FIR coefficients\n",
      "block duration: 5.463137503465017\n",
      "------------------------------------------\n",
      "Block: 50/128\n",
      "Number of times: 2032\n",
      "Number of channels: 4096\n"
     ]
    },
    {
     "name": "stderr",
     "output_type": "stream",
     "text": [
      "100%|██████████████████████████████████████████████████████████████████████████| 32/32 [03:52<00:00,  7.28s/it]\n"
     ]
    },
    {
     "name": "stdout",
     "output_type": "stream",
     "text": [
      "Pol 0: 3.09% flagged\n",
      "Pol 1: 2.29% flagged\n",
      "Union: 4.83% flagged\n",
      "loading /users/esmith/RFI_MIT/PFBcoeffs/c0800x4096_x14_7_24t_095binw_get_pfb_coeffs_h.npy for FIR coefficients\n",
      "block duration: 5.48330462773641\n",
      "------------------------------------------\n",
      "Block: 51/128\n",
      "Number of times: 2032\n",
      "Number of channels: 4096\n"
     ]
    },
    {
     "name": "stderr",
     "output_type": "stream",
     "text": [
      "100%|██████████████████████████████████████████████████████████████████████████| 32/32 [03:47<00:00,  7.10s/it]\n"
     ]
    },
    {
     "name": "stdout",
     "output_type": "stream",
     "text": [
      "Pol 0: 2.96% flagged\n",
      "Pol 1: 2.28% flagged\n",
      "Union: 4.7% flagged\n",
      "loading /users/esmith/RFI_MIT/PFBcoeffs/c0800x4096_x14_7_24t_095binw_get_pfb_coeffs_h.npy for FIR coefficients\n",
      "block duration: 5.4071897745132445\n",
      "------------------------------------------\n",
      "Block: 52/128\n",
      "Number of times: 2032\n",
      "Number of channels: 4096\n"
     ]
    },
    {
     "name": "stderr",
     "output_type": "stream",
     "text": [
      "100%|██████████████████████████████████████████████████████████████████████████| 32/32 [03:50<00:00,  7.22s/it]\n"
     ]
    },
    {
     "name": "stdout",
     "output_type": "stream",
     "text": [
      "Pol 0: 3.09% flagged\n",
      "Pol 1: 2.36% flagged\n",
      "Union: 4.89% flagged\n",
      "loading /users/esmith/RFI_MIT/PFBcoeffs/c0800x4096_x14_7_24t_095binw_get_pfb_coeffs_h.npy for FIR coefficients\n",
      "block duration: 5.4542864243189495\n",
      "------------------------------------------\n",
      "Block: 53/128\n",
      "Number of times: 2032\n",
      "Number of channels: 4096\n"
     ]
    },
    {
     "name": "stderr",
     "output_type": "stream",
     "text": [
      "100%|██████████████████████████████████████████████████████████████████████████| 32/32 [03:56<00:00,  7.41s/it]\n"
     ]
    },
    {
     "name": "stdout",
     "output_type": "stream",
     "text": [
      "Pol 0: 3.08% flagged\n",
      "Pol 1: 2.33% flagged\n",
      "Union: 4.84% flagged\n",
      "loading /users/esmith/RFI_MIT/PFBcoeffs/c0800x4096_x14_7_24t_095binw_get_pfb_coeffs_h.npy for FIR coefficients\n",
      "block duration: 5.617063117027283\n",
      "------------------------------------------\n",
      "Block: 54/128\n",
      "Number of times: 2032\n",
      "Number of channels: 4096\n"
     ]
    },
    {
     "name": "stderr",
     "output_type": "stream",
     "text": [
      "100%|██████████████████████████████████████████████████████████████████████████| 32/32 [03:50<00:00,  7.20s/it]\n"
     ]
    },
    {
     "name": "stdout",
     "output_type": "stream",
     "text": [
      "Pol 0: 3.05% flagged\n",
      "Pol 1: 2.29% flagged\n",
      "Union: 4.77% flagged\n",
      "loading /users/esmith/RFI_MIT/PFBcoeffs/c0800x4096_x14_7_24t_095binw_get_pfb_coeffs_h.npy for FIR coefficients\n",
      "block duration: 5.4971821745236715\n",
      "------------------------------------------\n",
      "Block: 55/128\n",
      "Number of times: 2032\n",
      "Number of channels: 4096\n"
     ]
    },
    {
     "name": "stderr",
     "output_type": "stream",
     "text": [
      "100%|██████████████████████████████████████████████████████████████████████████| 32/32 [03:53<00:00,  7.29s/it]\n"
     ]
    },
    {
     "name": "stdout",
     "output_type": "stream",
     "text": [
      "Pol 0: 3.02% flagged\n",
      "Pol 1: 2.28% flagged\n",
      "Union: 4.75% flagged\n",
      "loading /users/esmith/RFI_MIT/PFBcoeffs/c0800x4096_x14_7_24t_095binw_get_pfb_coeffs_h.npy for FIR coefficients\n",
      "block duration: 5.551145021120707\n",
      "------------------------------------------\n",
      "Block: 56/128\n",
      "Number of times: 2032\n",
      "Number of channels: 4096\n"
     ]
    },
    {
     "name": "stderr",
     "output_type": "stream",
     "text": [
      "100%|██████████████████████████████████████████████████████████████████████████| 32/32 [03:52<00:00,  7.25s/it]\n"
     ]
    },
    {
     "name": "stdout",
     "output_type": "stream",
     "text": [
      "Pol 0: 3.08% flagged\n",
      "Pol 1: 2.28% flagged\n",
      "Union: 4.81% flagged\n",
      "loading /users/esmith/RFI_MIT/PFBcoeffs/c0800x4096_x14_7_24t_095binw_get_pfb_coeffs_h.npy for FIR coefficients\n",
      "block duration: 5.564171707630157\n",
      "------------------------------------------\n",
      "Block: 57/128\n",
      "Number of times: 2032\n",
      "Number of channels: 4096\n"
     ]
    },
    {
     "name": "stderr",
     "output_type": "stream",
     "text": [
      "100%|██████████████████████████████████████████████████████████████████████████| 32/32 [03:51<00:00,  7.23s/it]\n"
     ]
    },
    {
     "name": "stdout",
     "output_type": "stream",
     "text": [
      "Pol 0: 3.02% flagged\n",
      "Pol 1: 2.27% flagged\n",
      "Union: 4.74% flagged\n",
      "loading /users/esmith/RFI_MIT/PFBcoeffs/c0800x4096_x14_7_24t_095binw_get_pfb_coeffs_h.npy for FIR coefficients\n",
      "block duration: 5.434987755616506\n",
      "------------------------------------------\n",
      "Block: 58/128\n",
      "Number of times: 2032\n",
      "Number of channels: 4096\n"
     ]
    },
    {
     "name": "stderr",
     "output_type": "stream",
     "text": [
      "100%|██████████████████████████████████████████████████████████████████████████| 32/32 [03:51<00:00,  7.24s/it]\n"
     ]
    },
    {
     "name": "stdout",
     "output_type": "stream",
     "text": [
      "Pol 0: 3.06% flagged\n",
      "Pol 1: 2.33% flagged\n",
      "Union: 4.83% flagged\n",
      "loading /users/esmith/RFI_MIT/PFBcoeffs/c0800x4096_x14_7_24t_095binw_get_pfb_coeffs_h.npy for FIR coefficients\n",
      "block duration: 5.537320971488953\n",
      "------------------------------------------\n",
      "Block: 59/128\n",
      "Number of times: 2032\n",
      "Number of channels: 4096\n"
     ]
    },
    {
     "name": "stderr",
     "output_type": "stream",
     "text": [
      "100%|██████████████████████████████████████████████████████████████████████████| 32/32 [03:55<00:00,  7.35s/it]\n"
     ]
    },
    {
     "name": "stdout",
     "output_type": "stream",
     "text": [
      "Pol 0: 3.01% flagged\n",
      "Pol 1: 2.29% flagged\n",
      "Union: 4.73% flagged\n",
      "loading /users/esmith/RFI_MIT/PFBcoeffs/c0800x4096_x14_7_24t_095binw_get_pfb_coeffs_h.npy for FIR coefficients\n",
      "block duration: 5.580591893196106\n",
      "------------------------------------------\n",
      "Block: 60/128\n",
      "Number of times: 2032\n",
      "Number of channels: 4096\n"
     ]
    },
    {
     "name": "stderr",
     "output_type": "stream",
     "text": [
      "100%|██████████████████████████████████████████████████████████████████████████| 32/32 [03:51<00:00,  7.22s/it]\n"
     ]
    },
    {
     "name": "stdout",
     "output_type": "stream",
     "text": [
      "Pol 0: 3.05% flagged\n",
      "Pol 1: 2.31% flagged\n",
      "Union: 4.8% flagged\n",
      "loading /users/esmith/RFI_MIT/PFBcoeffs/c0800x4096_x14_7_24t_095binw_get_pfb_coeffs_h.npy for FIR coefficients\n",
      "block duration: 5.599414233366648\n",
      "------------------------------------------\n",
      "Block: 61/128\n",
      "Number of times: 2032\n",
      "Number of channels: 4096\n"
     ]
    },
    {
     "name": "stderr",
     "output_type": "stream",
     "text": [
      "100%|██████████████████████████████████████████████████████████████████████████| 32/32 [03:49<00:00,  7.18s/it]\n"
     ]
    },
    {
     "name": "stdout",
     "output_type": "stream",
     "text": [
      "Pol 0: 3.01% flagged\n",
      "Pol 1: 2.25% flagged\n",
      "Union: 4.72% flagged\n",
      "loading /users/esmith/RFI_MIT/PFBcoeffs/c0800x4096_x14_7_24t_095binw_get_pfb_coeffs_h.npy for FIR coefficients\n",
      "block duration: 5.583266214529673\n",
      "------------------------------------------\n",
      "Block: 62/128\n",
      "Number of times: 2032\n",
      "Number of channels: 4096\n"
     ]
    },
    {
     "name": "stderr",
     "output_type": "stream",
     "text": [
      "100%|██████████████████████████████████████████████████████████████████████████| 32/32 [03:58<00:00,  7.46s/it]\n"
     ]
    },
    {
     "name": "stdout",
     "output_type": "stream",
     "text": [
      "Pol 0: 3.04% flagged\n",
      "Pol 1: 2.26% flagged\n",
      "Union: 4.76% flagged\n",
      "loading /users/esmith/RFI_MIT/PFBcoeffs/c0800x4096_x14_7_24t_095binw_get_pfb_coeffs_h.npy for FIR coefficients\n",
      "block duration: 5.764310057957967\n",
      "------------------------------------------\n",
      "Block: 63/128\n",
      "Number of times: 2032\n",
      "Number of channels: 4096\n"
     ]
    },
    {
     "name": "stderr",
     "output_type": "stream",
     "text": [
      "100%|██████████████████████████████████████████████████████████████████████████| 32/32 [03:51<00:00,  7.24s/it]\n"
     ]
    },
    {
     "name": "stdout",
     "output_type": "stream",
     "text": [
      "Pol 0: 2.97% flagged\n",
      "Pol 1: 2.28% flagged\n",
      "Union: 4.71% flagged\n",
      "loading /users/esmith/RFI_MIT/PFBcoeffs/c0800x4096_x14_7_24t_095binw_get_pfb_coeffs_h.npy for FIR coefficients\n",
      "block duration: 5.634778932730357\n",
      "------------------------------------------\n",
      "Block: 64/128\n",
      "Number of times: 2032\n",
      "Number of channels: 4096\n"
     ]
    },
    {
     "name": "stderr",
     "output_type": "stream",
     "text": [
      "100%|██████████████████████████████████████████████████████████████████████████| 32/32 [03:50<00:00,  7.20s/it]\n"
     ]
    },
    {
     "name": "stdout",
     "output_type": "stream",
     "text": [
      "Pol 0: 3.05% flagged\n",
      "Pol 1: 2.27% flagged\n",
      "Union: 4.74% flagged\n",
      "loading /users/esmith/RFI_MIT/PFBcoeffs/c0800x4096_x14_7_24t_095binw_get_pfb_coeffs_h.npy for FIR coefficients\n",
      "block duration: 5.6506662209828695\n",
      "------------------------------------------\n",
      "Block: 65/128\n",
      "Number of times: 2032\n",
      "Number of channels: 4096\n"
     ]
    },
    {
     "name": "stderr",
     "output_type": "stream",
     "text": [
      "100%|██████████████████████████████████████████████████████████████████████████| 32/32 [03:57<00:00,  7.44s/it]\n"
     ]
    },
    {
     "name": "stdout",
     "output_type": "stream",
     "text": [
      "Pol 0: 2.97% flagged\n",
      "Pol 1: 2.25% flagged\n",
      "Union: 4.67% flagged\n",
      "loading /users/esmith/RFI_MIT/PFBcoeffs/c0800x4096_x14_7_24t_095binw_get_pfb_coeffs_h.npy for FIR coefficients\n",
      "block duration: 6.143905985355377\n",
      "------------------------------------------\n",
      "Block: 66/128\n",
      "Number of times: 2032\n",
      "Number of channels: 4096\n"
     ]
    },
    {
     "name": "stderr",
     "output_type": "stream",
     "text": [
      "100%|██████████████████████████████████████████████████████████████████████████| 32/32 [03:58<00:00,  7.46s/it]\n"
     ]
    },
    {
     "name": "stdout",
     "output_type": "stream",
     "text": [
      "Pol 0: 3.03% flagged\n",
      "Pol 1: 2.24% flagged\n",
      "Union: 4.72% flagged\n",
      "loading /users/esmith/RFI_MIT/PFBcoeffs/c0800x4096_x14_7_24t_095binw_get_pfb_coeffs_h.npy for FIR coefficients\n",
      "block duration: 6.0725424210230505\n",
      "------------------------------------------\n",
      "Block: 67/128\n",
      "Number of times: 2032\n",
      "Number of channels: 4096\n"
     ]
    },
    {
     "name": "stderr",
     "output_type": "stream",
     "text": [
      "100%|██████████████████████████████████████████████████████████████████████████| 32/32 [03:53<00:00,  7.31s/it]\n"
     ]
    },
    {
     "name": "stdout",
     "output_type": "stream",
     "text": [
      "Pol 0: 3.01% flagged\n",
      "Pol 1: 2.25% flagged\n",
      "Union: 4.7% flagged\n",
      "loading /users/esmith/RFI_MIT/PFBcoeffs/c0800x4096_x14_7_24t_095binw_get_pfb_coeffs_h.npy for FIR coefficients\n",
      "block duration: 5.798028190930684\n",
      "------------------------------------------\n",
      "Block: 68/128\n",
      "Number of times: 2032\n",
      "Number of channels: 4096\n"
     ]
    },
    {
     "name": "stderr",
     "output_type": "stream",
     "text": [
      "100%|██████████████████████████████████████████████████████████████████████████| 32/32 [04:06<00:00,  7.69s/it]\n"
     ]
    },
    {
     "name": "stdout",
     "output_type": "stream",
     "text": [
      "Pol 0: 2.99% flagged\n",
      "Pol 1: 2.27% flagged\n",
      "Union: 4.71% flagged\n",
      "loading /users/esmith/RFI_MIT/PFBcoeffs/c0800x4096_x14_7_24t_095binw_get_pfb_coeffs_h.npy for FIR coefficients\n",
      "block duration: 6.01438858906428\n",
      "------------------------------------------\n",
      "Block: 69/128\n",
      "Number of times: 2032\n",
      "Number of channels: 4096\n"
     ]
    },
    {
     "name": "stderr",
     "output_type": "stream",
     "text": [
      "100%|██████████████████████████████████████████████████████████████████████████| 32/32 [03:53<00:00,  7.30s/it]\n"
     ]
    },
    {
     "name": "stdout",
     "output_type": "stream",
     "text": [
      "Pol 0: 3.07% flagged\n",
      "Pol 1: 2.25% flagged\n",
      "Union: 4.76% flagged\n",
      "loading /users/esmith/RFI_MIT/PFBcoeffs/c0800x4096_x14_7_24t_095binw_get_pfb_coeffs_h.npy for FIR coefficients\n",
      "block duration: 5.82452578941981\n",
      "------------------------------------------\n",
      "Block: 70/128\n",
      "Number of times: 2032\n",
      "Number of channels: 4096\n"
     ]
    },
    {
     "name": "stderr",
     "output_type": "stream",
     "text": [
      "100%|██████████████████████████████████████████████████████████████████████████| 32/32 [03:52<00:00,  7.27s/it]\n"
     ]
    },
    {
     "name": "stdout",
     "output_type": "stream",
     "text": [
      "Pol 0: 3.07% flagged\n",
      "Pol 1: 2.26% flagged\n",
      "Union: 4.76% flagged\n",
      "loading /users/esmith/RFI_MIT/PFBcoeffs/c0800x4096_x14_7_24t_095binw_get_pfb_coeffs_h.npy for FIR coefficients\n",
      "block duration: 5.839976787567139\n",
      "------------------------------------------\n",
      "Block: 71/128\n",
      "Number of times: 2032\n",
      "Number of channels: 4096\n"
     ]
    },
    {
     "name": "stderr",
     "output_type": "stream",
     "text": [
      "100%|██████████████████████████████████████████████████████████████████████████| 32/32 [03:59<00:00,  7.49s/it]\n"
     ]
    },
    {
     "name": "stdout",
     "output_type": "stream",
     "text": [
      "Pol 0: 3.06% flagged\n",
      "Pol 1: 2.25% flagged\n",
      "Union: 4.74% flagged\n",
      "loading /users/esmith/RFI_MIT/PFBcoeffs/c0800x4096_x14_7_24t_095binw_get_pfb_coeffs_h.npy for FIR coefficients\n",
      "block duration: 5.941484828790029\n",
      "------------------------------------------\n",
      "Block: 72/128\n",
      "Number of times: 2032\n",
      "Number of channels: 4096\n"
     ]
    },
    {
     "name": "stderr",
     "output_type": "stream",
     "text": [
      "100%|██████████████████████████████████████████████████████████████████████████| 32/32 [03:50<00:00,  7.21s/it]\n"
     ]
    },
    {
     "name": "stdout",
     "output_type": "stream",
     "text": [
      "Pol 0: 3.04% flagged\n",
      "Pol 1: 2.25% flagged\n",
      "Union: 4.72% flagged\n",
      "loading /users/esmith/RFI_MIT/PFBcoeffs/c0800x4096_x14_7_24t_095binw_get_pfb_coeffs_h.npy for FIR coefficients\n",
      "block duration: 5.800850184758504\n",
      "------------------------------------------\n",
      "Block: 73/128\n",
      "Number of times: 2032\n",
      "Number of channels: 4096\n"
     ]
    },
    {
     "name": "stderr",
     "output_type": "stream",
     "text": [
      "100%|██████████████████████████████████████████████████████████████████████████| 32/32 [03:55<00:00,  7.36s/it]\n"
     ]
    },
    {
     "name": "stdout",
     "output_type": "stream",
     "text": [
      "Pol 0: 3.04% flagged\n",
      "Pol 1: 2.28% flagged\n",
      "Union: 4.74% flagged\n",
      "loading /users/esmith/RFI_MIT/PFBcoeffs/c0800x4096_x14_7_24t_095binw_get_pfb_coeffs_h.npy for FIR coefficients\n",
      "block duration: 5.943072231610616\n",
      "------------------------------------------\n",
      "Block: 74/128\n",
      "Number of times: 2032\n",
      "Number of channels: 4096\n"
     ]
    },
    {
     "name": "stderr",
     "output_type": "stream",
     "text": [
      "100%|██████████████████████████████████████████████████████████████████████████| 32/32 [03:52<00:00,  7.26s/it]\n"
     ]
    },
    {
     "name": "stdout",
     "output_type": "stream",
     "text": [
      "Pol 0: 3.07% flagged\n",
      "Pol 1: 2.26% flagged\n",
      "Union: 4.76% flagged\n",
      "loading /users/esmith/RFI_MIT/PFBcoeffs/c0800x4096_x14_7_24t_095binw_get_pfb_coeffs_h.npy for FIR coefficients\n",
      "block duration: 5.880583329995473\n",
      "------------------------------------------\n",
      "Block: 75/128\n",
      "Number of times: 2032\n",
      "Number of channels: 4096\n"
     ]
    },
    {
     "name": "stderr",
     "output_type": "stream",
     "text": [
      "100%|██████████████████████████████████████████████████████████████████████████| 32/32 [03:54<00:00,  7.33s/it]\n"
     ]
    },
    {
     "name": "stdout",
     "output_type": "stream",
     "text": [
      "Pol 0: 3.0% flagged\n",
      "Pol 1: 2.24% flagged\n",
      "Union: 4.68% flagged\n",
      "loading /users/esmith/RFI_MIT/PFBcoeffs/c0800x4096_x14_7_24t_095binw_get_pfb_coeffs_h.npy for FIR coefficients\n",
      "block duration: 5.9012462536493935\n",
      "------------------------------------------\n",
      "Block: 76/128\n",
      "Number of times: 2032\n",
      "Number of channels: 4096\n"
     ]
    },
    {
     "name": "stderr",
     "output_type": "stream",
     "text": [
      "100%|██████████████████████████████████████████████████████████████████████████| 32/32 [03:51<00:00,  7.22s/it]\n"
     ]
    },
    {
     "name": "stdout",
     "output_type": "stream",
     "text": [
      "Pol 0: 3.14% flagged\n",
      "Pol 1: 2.29% flagged\n",
      "Union: 4.85% flagged\n",
      "loading /users/esmith/RFI_MIT/PFBcoeffs/c0800x4096_x14_7_24t_095binw_get_pfb_coeffs_h.npy for FIR coefficients\n",
      "block duration: 5.891429769992828\n",
      "------------------------------------------\n",
      "Block: 77/128\n",
      "Number of times: 2032\n",
      "Number of channels: 4096\n"
     ]
    },
    {
     "name": "stderr",
     "output_type": "stream",
     "text": [
      "100%|██████████████████████████████████████████████████████████████████████████| 32/32 [03:55<00:00,  7.37s/it]\n"
     ]
    },
    {
     "name": "stdout",
     "output_type": "stream",
     "text": [
      "Pol 0: 3.08% flagged\n",
      "Pol 1: 2.26% flagged\n",
      "Union: 4.76% flagged\n",
      "loading /users/esmith/RFI_MIT/PFBcoeffs/c0800x4096_x14_7_24t_095binw_get_pfb_coeffs_h.npy for FIR coefficients\n",
      "block duration: 6.002918565273285\n",
      "------------------------------------------\n",
      "Block: 78/128\n",
      "Number of times: 2032\n",
      "Number of channels: 4096\n"
     ]
    },
    {
     "name": "stderr",
     "output_type": "stream",
     "text": [
      "100%|██████████████████████████████████████████████████████████████████████████| 32/32 [03:50<00:00,  7.22s/it]\n"
     ]
    },
    {
     "name": "stdout",
     "output_type": "stream",
     "text": [
      "Pol 0: 3.03% flagged\n",
      "Pol 1: 2.26% flagged\n",
      "Union: 4.73% flagged\n",
      "loading /users/esmith/RFI_MIT/PFBcoeffs/c0800x4096_x14_7_24t_095binw_get_pfb_coeffs_h.npy for FIR coefficients\n",
      "block duration: 5.888929096857707\n",
      "------------------------------------------\n",
      "Block: 79/128\n",
      "Number of times: 2032\n",
      "Number of channels: 4096\n"
     ]
    },
    {
     "name": "stderr",
     "output_type": "stream",
     "text": [
      "100%|██████████████████████████████████████████████████████████████████████████| 32/32 [03:51<00:00,  7.24s/it]\n"
     ]
    },
    {
     "name": "stdout",
     "output_type": "stream",
     "text": [
      "Pol 0: 3.12% flagged\n",
      "Pol 1: 2.26% flagged\n",
      "Union: 4.81% flagged\n",
      "loading /users/esmith/RFI_MIT/PFBcoeffs/c0800x4096_x14_7_24t_095binw_get_pfb_coeffs_h.npy for FIR coefficients\n",
      "block duration: 5.887482210000356\n",
      "------------------------------------------\n",
      "Block: 80/128\n",
      "Number of times: 2032\n",
      "Number of channels: 4096\n"
     ]
    },
    {
     "name": "stderr",
     "output_type": "stream",
     "text": [
      "100%|██████████████████████████████████████████████████████████████████████████| 32/32 [03:53<00:00,  7.28s/it]\n"
     ]
    },
    {
     "name": "stdout",
     "output_type": "stream",
     "text": [
      "Pol 0: 3.02% flagged\n",
      "Pol 1: 2.25% flagged\n",
      "Union: 4.71% flagged\n",
      "loading /users/esmith/RFI_MIT/PFBcoeffs/c0800x4096_x14_7_24t_095binw_get_pfb_coeffs_h.npy for FIR coefficients\n",
      "block duration: 5.925417880217235\n",
      "------------------------------------------\n",
      "Block: 81/128\n",
      "Number of times: 2032\n",
      "Number of channels: 4096\n"
     ]
    },
    {
     "name": "stderr",
     "output_type": "stream",
     "text": [
      "100%|██████████████████████████████████████████████████████████████████████████| 32/32 [03:53<00:00,  7.30s/it]\n"
     ]
    },
    {
     "name": "stdout",
     "output_type": "stream",
     "text": [
      "Pol 0: 3.07% flagged\n",
      "Pol 1: 2.24% flagged\n",
      "Union: 4.73% flagged\n",
      "loading /users/esmith/RFI_MIT/PFBcoeffs/c0800x4096_x14_7_24t_095binw_get_pfb_coeffs_h.npy for FIR coefficients\n",
      "block duration: 5.968224279085795\n",
      "------------------------------------------\n",
      "Block: 82/128\n",
      "Number of times: 2032\n",
      "Number of channels: 4096\n"
     ]
    },
    {
     "name": "stderr",
     "output_type": "stream",
     "text": [
      "100%|██████████████████████████████████████████████████████████████████████████| 32/32 [03:55<00:00,  7.35s/it]\n"
     ]
    },
    {
     "name": "stdout",
     "output_type": "stream",
     "text": [
      "Pol 0: 3.11% flagged\n",
      "Pol 1: 2.29% flagged\n",
      "Union: 4.83% flagged\n",
      "loading /users/esmith/RFI_MIT/PFBcoeffs/c0800x4096_x14_7_24t_095binw_get_pfb_coeffs_h.npy for FIR coefficients\n",
      "block duration: 6.065248811244965\n",
      "------------------------------------------\n",
      "Block: 83/128\n",
      "Number of times: 2032\n",
      "Number of channels: 4096\n"
     ]
    },
    {
     "name": "stderr",
     "output_type": "stream",
     "text": [
      "100%|██████████████████████████████████████████████████████████████████████████| 32/32 [03:56<00:00,  7.38s/it]\n"
     ]
    },
    {
     "name": "stdout",
     "output_type": "stream",
     "text": [
      "Pol 0: 3.08% flagged\n",
      "Pol 1: 2.27% flagged\n",
      "Union: 4.77% flagged\n",
      "loading /users/esmith/RFI_MIT/PFBcoeffs/c0800x4096_x14_7_24t_095binw_get_pfb_coeffs_h.npy for FIR coefficients\n",
      "block duration: 6.149080411593119\n",
      "------------------------------------------\n",
      "Block: 84/128\n",
      "Number of times: 2032\n",
      "Number of channels: 4096\n"
     ]
    },
    {
     "name": "stderr",
     "output_type": "stream",
     "text": [
      "100%|██████████████████████████████████████████████████████████████████████████| 32/32 [03:55<00:00,  7.36s/it]\n"
     ]
    },
    {
     "name": "stdout",
     "output_type": "stream",
     "text": [
      "Pol 0: 3.07% flagged\n",
      "Pol 1: 2.27% flagged\n",
      "Union: 4.75% flagged\n",
      "loading /users/esmith/RFI_MIT/PFBcoeffs/c0800x4096_x14_7_24t_095binw_get_pfb_coeffs_h.npy for FIR coefficients\n",
      "block duration: 6.1123038609822595\n",
      "------------------------------------------\n",
      "Block: 85/128\n",
      "Number of times: 2032\n",
      "Number of channels: 4096\n"
     ]
    },
    {
     "name": "stderr",
     "output_type": "stream",
     "text": [
      "100%|██████████████████████████████████████████████████████████████████████████| 32/32 [03:51<00:00,  7.23s/it]\n"
     ]
    },
    {
     "name": "stdout",
     "output_type": "stream",
     "text": [
      "Pol 0: 3.14% flagged\n",
      "Pol 1: 2.31% flagged\n",
      "Union: 4.86% flagged\n",
      "loading /users/esmith/RFI_MIT/PFBcoeffs/c0800x4096_x14_7_24t_095binw_get_pfb_coeffs_h.npy for FIR coefficients\n",
      "block duration: 6.077489972114563\n",
      "------------------------------------------\n",
      "Block: 86/128\n",
      "Number of times: 2032\n",
      "Number of channels: 4096\n"
     ]
    },
    {
     "name": "stderr",
     "output_type": "stream",
     "text": [
      "100%|██████████████████████████████████████████████████████████████████████████| 32/32 [03:56<00:00,  7.40s/it]\n"
     ]
    },
    {
     "name": "stdout",
     "output_type": "stream",
     "text": [
      "Pol 0: 3.12% flagged\n",
      "Pol 1: 2.27% flagged\n",
      "Union: 4.8% flagged\n",
      "loading /users/esmith/RFI_MIT/PFBcoeffs/c0800x4096_x14_7_24t_095binw_get_pfb_coeffs_h.npy for FIR coefficients\n",
      "block duration: 6.163546856244405\n",
      "------------------------------------------\n",
      "Block: 87/128\n",
      "Number of times: 2032\n",
      "Number of channels: 4096\n"
     ]
    },
    {
     "name": "stderr",
     "output_type": "stream",
     "text": [
      "100%|██████████████████████████████████████████████████████████████████████████| 32/32 [03:53<00:00,  7.30s/it]\n"
     ]
    },
    {
     "name": "stdout",
     "output_type": "stream",
     "text": [
      "Pol 0: 3.12% flagged\n",
      "Pol 1: 2.25% flagged\n",
      "Union: 4.8% flagged\n",
      "loading /users/esmith/RFI_MIT/PFBcoeffs/c0800x4096_x14_7_24t_095binw_get_pfb_coeffs_h.npy for FIR coefficients\n",
      "block duration: 6.106176165739695\n",
      "------------------------------------------\n",
      "Block: 88/128\n",
      "Number of times: 2032\n",
      "Number of channels: 4096\n"
     ]
    },
    {
     "name": "stderr",
     "output_type": "stream",
     "text": [
      "100%|██████████████████████████████████████████████████████████████████████████| 32/32 [03:55<00:00,  7.37s/it]\n"
     ]
    },
    {
     "name": "stdout",
     "output_type": "stream",
     "text": [
      "Pol 0: 3.08% flagged\n",
      "Pol 1: 2.28% flagged\n",
      "Union: 4.78% flagged\n",
      "loading /users/esmith/RFI_MIT/PFBcoeffs/c0800x4096_x14_7_24t_095binw_get_pfb_coeffs_h.npy for FIR coefficients\n",
      "block duration: 6.161365147431692\n",
      "------------------------------------------\n",
      "Block: 89/128\n",
      "Number of times: 2032\n",
      "Number of channels: 4096\n"
     ]
    },
    {
     "name": "stderr",
     "output_type": "stream",
     "text": [
      "100%|██████████████████████████████████████████████████████████████████████████| 32/32 [03:53<00:00,  7.31s/it]\n"
     ]
    },
    {
     "name": "stdout",
     "output_type": "stream",
     "text": [
      "Pol 0: 3.04% flagged\n",
      "Pol 1: 2.29% flagged\n",
      "Union: 4.75% flagged\n",
      "loading /users/esmith/RFI_MIT/PFBcoeffs/c0800x4096_x14_7_24t_095binw_get_pfb_coeffs_h.npy for FIR coefficients\n",
      "block duration: 6.1510905742645265\n",
      "------------------------------------------\n",
      "Block: 90/128\n",
      "Number of times: 2032\n",
      "Number of channels: 4096\n"
     ]
    },
    {
     "name": "stderr",
     "output_type": "stream",
     "text": [
      "100%|██████████████████████████████████████████████████████████████████████████| 32/32 [03:54<00:00,  7.33s/it]\n"
     ]
    },
    {
     "name": "stdout",
     "output_type": "stream",
     "text": [
      "Pol 0: 3.06% flagged\n",
      "Pol 1: 2.3% flagged\n",
      "Union: 4.78% flagged\n",
      "loading /users/esmith/RFI_MIT/PFBcoeffs/c0800x4096_x14_7_24t_095binw_get_pfb_coeffs_h.npy for FIR coefficients\n",
      "block duration: 6.19145097732544\n",
      "------------------------------------------\n",
      "Block: 91/128\n",
      "Number of times: 2032\n",
      "Number of channels: 4096\n"
     ]
    },
    {
     "name": "stderr",
     "output_type": "stream",
     "text": [
      "100%|██████████████████████████████████████████████████████████████████████████| 32/32 [03:51<00:00,  7.23s/it]\n"
     ]
    },
    {
     "name": "stdout",
     "output_type": "stream",
     "text": [
      "Pol 0: 3.05% flagged\n",
      "Pol 1: 2.28% flagged\n",
      "Union: 4.74% flagged\n",
      "loading /users/esmith/RFI_MIT/PFBcoeffs/c0800x4096_x14_7_24t_095binw_get_pfb_coeffs_h.npy for FIR coefficients\n",
      "block duration: 6.348716779549917\n",
      "------------------------------------------\n",
      "Block: 92/128\n",
      "Number of times: 2032\n",
      "Number of channels: 4096\n"
     ]
    },
    {
     "name": "stderr",
     "output_type": "stream",
     "text": [
      "100%|██████████████████████████████████████████████████████████████████████████| 32/32 [04:32<00:00,  8.52s/it]\n"
     ]
    }
   ],
   "source": [
    "import numpy as np\n",
    "\n",
    "#import matplotlib.pyplot as plt\n",
    "#%matplotlib qt\n",
    "import importlib\n",
    "\n",
    "rfimit = importlib.import_module('rfi-mitigation')\n",
    "\n",
    "uhh = rfimit.rfi_aof('vegas_58966_25728_J1713+0747_0080.0000.raw', 'stats', cust='', output_bool = True, mb=1, rawdata=False, ave_factor = 512)\n",
    "\n",
    "\n",
    "uhh.run_all()"
   ]
  },
  {
   "cell_type": "code",
   "execution_count": 1,
   "id": "9e875935-c6b9-495a-9f56-83944ccca213",
   "metadata": {},
   "outputs": [
    {
     "name": "stdout",
     "output_type": "stream",
     "text": [
      "Number of times: 1032704\n",
      "Number of channels: 256\n"
     ]
    },
    {
     "name": "stderr",
     "output_type": "stream",
     "text": [
      "/users/kmchen/rfi-mitigation/src/rfi-mitigation/utils.py:454: ComplexWarning: Casting complex values to real discards the imaginary part\n",
      "  aof_data.set_image_buffer(imgindex, values)\n"
     ]
    },
    {
     "data": {
      "text/plain": [
       "array([[ True,  True,  True, ...,  True,  True,  True],\n",
       "       [ True,  True,  True, ..., False, False, False],\n",
       "       [ True,  True,  True, ..., False, False, False],\n",
       "       ...,\n",
       "       [ True,  True,  True, ..., False, False, False],\n",
       "       [ True,  True,  True, ..., False, False, False],\n",
       "       [ True,  True,  True, ..., False, False, False]])"
      ]
     },
     "execution_count": 1,
     "metadata": {},
     "output_type": "execute_result"
    }
   ],
   "source": [
    "# from utils import *\n",
    "# from blimpy import GuppiRaw\n",
    "# filename = '/data/rfimit/unmitigated/rawdata/vegas_60299_76099_B0329+54_0004.0000.raw'\n",
    "\n",
    "# rf = GuppiRaw(filename)\n",
    "# header, data = rf.read_next_data_block()\n",
    "# aof(data)"
   ]
  },
  {
   "cell_type": "code",
   "execution_count": null,
   "id": "b4e58eda-55d1-46cc-b79a-93eafe67fb33",
   "metadata": {
    "scrolled": true
   },
   "outputs": [],
   "source": [
    "\n",
    "\n",
    "uhh = rfimit.rfi_aof('vegas_60285_86073_B0355+54_0016.0000.raw', 'nans', cust='', output_bool = True, mb=1, rawdata=False, ave_factor = 512)\n",
    "\n",
    "\n",
    "uhh.run_all()"
   ]
  },
  {
   "cell_type": "code",
   "execution_count": null,
   "id": "8923822c-b226-46c8-aa0a-b3711ea72585",
   "metadata": {},
   "outputs": [],
   "source": [
    "uhh = rfimit.rfi_aof('vegas_60299_76099_B0329+54_0004.0000.raw', 'stats', cust='', output_bool = True, mb=1, rawdata=False, ave_factor = 512)\n",
    "\n",
    "\n",
    "uhh.run_all()\n",
    "    \n",
    "    \n"
   ]
  },
  {
   "cell_type": "code",
   "execution_count": null,
   "id": "6dae3a56-e26d-4527-b913-0877dc85a128",
   "metadata": {},
   "outputs": [],
   "source": [
    "uhh = rfimit.rfi_aof('vegas_60285_83425_IIIZw35_0002.0000.raw', 'nans', cust='', output_bool = True, mb=1, rawdata=False, ave_factor = 512)\n",
    "\n",
    "\n",
    "uhh.run_all()"
   ]
  },
  {
   "cell_type": "code",
   "execution_count": null,
   "id": "5dce62b4-1db3-44c1-8263-1a1144fa9a3a",
   "metadata": {},
   "outputs": [],
   "source": [
    "uhh = rfimit.rfi_aof('vegas_60285_83625_IIIZw35_0003.0000.raw', 'nans', cust='', output_bool = True, mb=1, rawdata=False, ave_factor = 512)\n",
    "\n",
    "\n",
    "uhh.run_all()"
   ]
  },
  {
   "cell_type": "code",
   "execution_count": null,
   "id": "b716a66c",
   "metadata": {},
   "outputs": [],
   "source": []
  }
 ],
 "metadata": {
  "kernelspec": {
   "display_name": "Python (kait)",
   "language": "python",
   "name": "kait"
  },
  "language_info": {
   "codemirror_mode": {
    "name": "ipython",
    "version": 3
   },
   "file_extension": ".py",
   "mimetype": "text/x-python",
   "name": "python",
   "nbconvert_exporter": "python",
   "pygments_lexer": "ipython3",
   "version": "3.9.19"
  }
 },
 "nbformat": 4,
 "nbformat_minor": 5
}
