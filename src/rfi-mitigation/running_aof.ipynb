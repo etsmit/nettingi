{
 "cells": [
  {
   "cell_type": "code",
   "execution_count": null,
   "id": "99677b13-387f-48e4-a27b-a4275afe2433",
   "metadata": {},
   "outputs": [],
   "source": [
    "import numpy as np\n",
    "\n",
    "#import matplotlib.pyplot as plt\n",
    "#%matplotlib qt\n",
    "import importlib\n",
    "\n",
    "rfimit = importlib.import_module('rfi-mitigation')"
   ]
  },
  {
   "cell_type": "code",
   "execution_count": 2,
   "id": "cf738bca-b1f1-417a-badc-cd3cd9d5f274",
   "metadata": {},
   "outputs": [],
   "source": [
    "import aoflagger"
   ]
  },
  {
   "cell_type": "code",
   "execution_count": 13,
   "id": "30bdbb31-7db0-4cad-80a2-aa4b4423d22e",
   "metadata": {},
   "outputs": [
    {
     "ename": "TypeError",
     "evalue": "aoflagger.FlagMask: No constructor defined!",
     "output_type": "error",
     "traceback": [
      "\u001b[0;31m---------------------------------------------------------------------------\u001b[0m",
      "\u001b[0;31mTypeError\u001b[0m                                 Traceback (most recent call last)",
      "Cell \u001b[0;32mIn[13], line 7\u001b[0m\n\u001b[1;32m      5\u001b[0m rf \u001b[38;5;241m=\u001b[39m GuppiRaw(filename)\n\u001b[1;32m      6\u001b[0m header, data \u001b[38;5;241m=\u001b[39m rf\u001b[38;5;241m.\u001b[39mread_next_data_block()\n\u001b[0;32m----> 7\u001b[0m test \u001b[38;5;241m=\u001b[39m \u001b[43mFlagMask\u001b[49m\u001b[43m(\u001b[49m\u001b[43mfilename\u001b[49m\u001b[43m)\u001b[49m\n\u001b[1;32m      8\u001b[0m flags \u001b[38;5;241m=\u001b[39m test\u001b[38;5;241m.\u001b[39mget_buffer()\n\u001b[1;32m     11\u001b[0m \u001b[38;5;66;03m# uhh = rfimit.rfi_iqrm('vegas_60299_76099_B0329+54_0004.0000.raw', 'stats', IQRM_radius=5, IQRM_threshold=t[i], IQRM_datatype=\"std\", IQRM_breakdown=512, cust='', output_bool = True, mb=1, rawdata=False, ave_factor = 512)\u001b[39;00m\n\u001b[1;32m     12\u001b[0m     \n\u001b[1;32m     13\u001b[0m     \n\u001b[1;32m     14\u001b[0m \u001b[38;5;66;03m#     uhh.run_all()\u001b[39;00m\n",
      "\u001b[0;31mTypeError\u001b[0m: aoflagger.FlagMask: No constructor defined!"
     ]
    }
   ],
   "source": [
    "from aoflagger import FlagMask\n",
    "from blimpy import GuppiRaw\n",
    "filename = '/data/rfimit/unmitigated/rawdata/vegas_60299_76099_B0329+54_0004.0000.raw'\n",
    "\n",
    "rf = GuppiRaw(filename)\n",
    "header, data = rf.read_next_data_block()\n",
    "\n",
    "\n",
    "\n",
    "# uhh = rfimit.rfi_iqrm('vegas_60299_76099_B0329+54_0004.0000.raw', 'stats', IQRM_radius=5, IQRM_threshold=t[i], IQRM_datatype=\"std\", IQRM_breakdown=512, cust='', output_bool = True, mb=1, rawdata=False, ave_factor = 512)\n",
    "    \n",
    "    \n",
    "#     uhh.run_all()"
   ]
  },
  {
   "cell_type": "code",
   "execution_count": null,
   "id": "22913d02-32bd-4e41-bab8-6d264b283574",
   "metadata": {
    "scrolled": true
   },
   "outputs": [
    {
     "name": "stdout",
     "output_type": "stream",
     "text": [
      "Saving replaced data to /jetstor/scratch/AOF_rawdata_results/vegas_60285_86073_B0355+54_0016.0000_AOF_nans__mb1_.raw\n",
      "/data/rfimit/unmitigated/rawdata/vegas_60285_86073_B0355+54_0016.0000.raw /jetstor/scratch/AOF_rawdata_results/vegas_60285_86073_B0355+54_0016.0000_AOF_nans__mb1_.raw\n",
      "The output file /jetstor/scratch/AOF_rawdata_results/vegas_60285_86073_B0355+54_0016.0000_AOF_nans__mb1_.raw already exists. Press 'y' to redo the copy, 'n' to continue without copying, or ctrl-c to end the script: n\n",
      "File has 128 data blocks\n",
      "------------------------------------------\n",
      "Block: 1/128\n",
      "Header size: 6720 bytes\n",
      "DAQERROR:  no errors\n",
      "DAQPULSE:  Thu Dec  7 18:54:32 2023\n",
      "DAQSTATE:  running\n",
      "BANKNAM:  BANKA\n",
      "POL_TYPE:  AABBCRCI\n",
      "TELESCOP:  GBT\n",
      "BACKEND:  VEGAS\n",
      "NRCVR:  2\n",
      "NBITS:  8\n",
      "PFB_OVER:  12\n",
      "SCALE0:  1.\n",
      "SCALE1:  1.\n",
      "SCALE2:  1.\n",
      "SCALE3:  1.\n",
      "OFFSET0:  0.\n",
      "OFFSET1:  0.\n",
      "OFFSET2:  0.\n",
      "OFFSET3:  0.\n",
      "BANKNUM:  0\n",
      "CAL_DCYC:  0.5\n",
      "DS_FREQ:  1\n",
      "DATADIR:  /lustre/gbtdata\n",
      "NPOL:  4\n",
      "PKTFMT:  1SFA\n",
      "CAL_FREQ:  25.\n",
      "FFTLEN:  32768\n",
      "OVERLAP:  512\n",
      "BLOCSIZE:  1059061760\n",
      "NBIN:  256\n",
      "OBS_MODE:  RAW\n",
      "CAL_MODE:  OFF\n",
      "DS_TIME:  1\n",
      "NBITSREQ:  8\n",
      "PARFILE:  /home/gbt/etc/config/\n",
      "OBSFREQ:  1500.390625\n",
      "TFOLD:  10.\n",
      "ONLY_I:  0\n",
      "CHAN_DM:  0.\n",
      "_SSRF_01:  0\n",
      "OBSBW:  -800\n",
      "AZ:  48.032893\n",
      "BMAJ:  0.045805\n",
      "BMIN:  0.045805\n",
      "DEC:  54.000063\n",
      "DEC_STR:  54:00:00.2261\n",
      "FRONTEND:  Rcvr1_2\n",
      "LST:  85268\n",
      "OBSERVER:  Evan Smith\n",
      "RA:  58.749661\n",
      "RA_STR:  03:54:59.9186\n",
      "TRK_MODE:  TRACK\n",
      "ZA:  45.146758\n",
      "SCANLEN:  60.\n",
      "DATAHOST:  10.17.0.64\n",
      "DATAPORT:  60000\n",
      "OBSNCHAN:  1024\n",
      "FD_POLN:  LIN\n",
      "CHAN_BW:  -0.78125\n",
      "ACC_LEN:  1\n",
      "TBIN:  1.28e-06\n",
      "NETSTAT:  receiving\n",
      "NULLSTAT:  exiting\n",
      "PKTIDX:  0\n",
      "DROPAVG:  1.86361e-12\n",
      "DROPTOT:  0.139423\n",
      "DROPBLK:  0\n",
      "STT_IMJD:  60285\n",
      "STT_SMJD:  86073\n",
      "STTVALID:  1\n",
      "CURBLOCK:  0\n",
      "CYCTFOLD:  1.\n",
      "CYCNBIN:  256\n",
      "NCYC:  0\n",
      "CYCSPEC:  0\n",
      "SRC_NAME:  B0355+54\n",
      "PROJID:  TGBT23B_610_03\n",
      "SCAN:  16\n",
      "SCANNUM:  16\n",
      "STT_OFFS:  0\n",
      "RAWSTAT:  waiting\n",
      "PKTSIZE:  65536\n",
      "NPKT:  16159\n",
      "NDROP:  0\n",
      "Number of times: 8080\n",
      "Number of channels: 1024\n"
     ]
    },
    {
     "name": "stderr",
     "output_type": "stream",
     "text": [
      "100%|██████████████████████████████████████████████████████████████████████████| 32/32 [03:44<00:00,  7.01s/it]\n"
     ]
    },
    {
     "name": "stdout",
     "output_type": "stream",
     "text": [
      "Pol 0: 2.75% flagged\n",
      "Pol 1: 2.25% flagged\n",
      "Union: 4.14% flagged\n",
      "block duration: 4.216596686840058\n",
      "------------------------------------------\n",
      "Block: 2/128\n",
      "Number of times: 8080\n",
      "Number of channels: 1024\n"
     ]
    },
    {
     "name": "stderr",
     "output_type": "stream",
     "text": [
      " 72%|█████████████████████████████████████████████████████▏                    | 23/32 [02:54<01:09,  7.71s/it]"
     ]
    }
   ],
   "source": [
    "import numpy as np\n",
    "\n",
    "#import matplotlib.pyplot as plt\n",
    "#%matplotlib qt\n",
    "import importlib\n",
    "\n",
    "rfimit = importlib.import_module('rfi-mitigation')\n",
    "\n",
    "uhh = rfimit.rfi_aof('vegas_60285_86073_B0355+54_0016.0000.raw', 'nans', cust='', output_bool = True, mb=1, rawdata=False, ave_factor = 512)\n",
    "\n",
    "\n",
    "uhh.run_all()"
   ]
  },
  {
   "cell_type": "code",
   "execution_count": 1,
   "id": "9e875935-c6b9-495a-9f56-83944ccca213",
   "metadata": {},
   "outputs": [
    {
     "name": "stdout",
     "output_type": "stream",
     "text": [
      "Number of times: 1032704\n",
      "Number of channels: 256\n"
     ]
    },
    {
     "name": "stderr",
     "output_type": "stream",
     "text": [
      "/users/kmchen/rfi-mitigation/src/rfi-mitigation/utils.py:454: ComplexWarning: Casting complex values to real discards the imaginary part\n",
      "  aof_data.set_image_buffer(imgindex, values)\n"
     ]
    },
    {
     "data": {
      "text/plain": [
       "array([[ True,  True,  True, ...,  True,  True,  True],\n",
       "       [ True,  True,  True, ..., False, False, False],\n",
       "       [ True,  True,  True, ..., False, False, False],\n",
       "       ...,\n",
       "       [ True,  True,  True, ..., False, False, False],\n",
       "       [ True,  True,  True, ..., False, False, False],\n",
       "       [ True,  True,  True, ..., False, False, False]])"
      ]
     },
     "execution_count": 1,
     "metadata": {},
     "output_type": "execute_result"
    }
   ],
   "source": [
    "# from utils import *\n",
    "# from blimpy import GuppiRaw\n",
    "# filename = '/data/rfimit/unmitigated/rawdata/vegas_60299_76099_B0329+54_0004.0000.raw'\n",
    "\n",
    "# rf = GuppiRaw(filename)\n",
    "# header, data = rf.read_next_data_block()\n",
    "# aof(data)"
   ]
  },
  {
   "cell_type": "code",
   "execution_count": null,
   "id": "b4e58eda-55d1-46cc-b79a-93eafe67fb33",
   "metadata": {
    "scrolled": true
   },
   "outputs": [],
   "source": [
    "uhh = rfimit.rfi_aof('vegas_58966_25728_J1713+0747_0080.0000.raw', 'stats', cust='', output_bool = True, mb=1, rawdata=False, ave_factor = 512)\n",
    "\n",
    "\n",
    "uhh.run_all()"
   ]
  },
  {
   "cell_type": "code",
   "execution_count": null,
   "id": "8923822c-b226-46c8-aa0a-b3711ea72585",
   "metadata": {},
   "outputs": [],
   "source": [
    "uhh = rfimit.rfi_aof('vegas_60299_76099_B0329+54_0004.0000.raw', 'stats', cust='', output_bool = True, mb=1, rawdata=False, ave_factor = 512)\n",
    "\n",
    "\n",
    "uhh.run_all()\n",
    "    \n",
    "    \n"
   ]
  },
  {
   "cell_type": "code",
   "execution_count": null,
   "id": "6dae3a56-e26d-4527-b913-0877dc85a128",
   "metadata": {},
   "outputs": [],
   "source": [
    "uhh = rfimit.rfi_aof('vegas_60285_83425_IIIZw35_0002.0000.raw', 'nans', cust='', output_bool = True, mb=1, rawdata=False, ave_factor = 512)\n",
    "\n",
    "\n",
    "uhh.run_all()"
   ]
  },
  {
   "cell_type": "code",
   "execution_count": null,
   "id": "5dce62b4-1db3-44c1-8263-1a1144fa9a3a",
   "metadata": {},
   "outputs": [],
   "source": [
    "uhh = rfimit.rfi_aof('vegas_60285_83625_IIIZw35_0003.0000.raw', 'nans', cust='', output_bool = True, mb=1, rawdata=False, ave_factor = 512)\n",
    "\n",
    "\n",
    "uhh.run_all()"
   ]
  },
  {
   "cell_type": "code",
   "execution_count": null,
   "id": "9047bbf3",
   "metadata": {},
   "outputs": [],
   "source": []
  }
 ],
 "metadata": {
  "kernelspec": {
   "display_name": "Python (kait)",
   "language": "python",
   "name": "kait"
  },
  "language_info": {
   "codemirror_mode": {
    "name": "ipython",
    "version": 3
   },
   "file_extension": ".py",
   "mimetype": "text/x-python",
   "name": "python",
   "nbconvert_exporter": "python",
   "pygments_lexer": "ipython3",
   "version": "3.9.19"
  }
 },
 "nbformat": 4,
 "nbformat_minor": 5
}
