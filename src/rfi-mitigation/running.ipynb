{
 "cells": [
  {
   "cell_type": "code",
   "execution_count": 1,
   "id": "8fe700bd-01b0-4319-9ef8-a921b6f52555",
   "metadata": {},
   "outputs": [
    {
     "ename": "AttributeError",
     "evalue": "module 'rfi-mitigation' has no attribute 'rfi_iqrm'",
     "output_type": "error",
     "traceback": [
      "\u001b[0;31m---------------------------------------------------------------------------\u001b[0m",
      "\u001b[0;31mAttributeError\u001b[0m                            Traceback (most recent call last)",
      "Cell \u001b[0;32mIn[1], line 9\u001b[0m\n\u001b[1;32m      5\u001b[0m \u001b[38;5;28;01mimport\u001b[39;00m \u001b[38;5;21;01mimportlib\u001b[39;00m\n\u001b[1;32m      7\u001b[0m rfimit \u001b[38;5;241m=\u001b[39m importlib\u001b[38;5;241m.\u001b[39mimport_module(\u001b[38;5;124m'\u001b[39m\u001b[38;5;124mrfi-mitigation\u001b[39m\u001b[38;5;124m'\u001b[39m)\n\u001b[0;32m----> 9\u001b[0m uhh \u001b[38;5;241m=\u001b[39m \u001b[43mrfimit\u001b[49m\u001b[38;5;241;43m.\u001b[39;49m\u001b[43mrfi_iqrm\u001b[49m(\u001b[38;5;124m'\u001b[39m\u001b[38;5;124mvegas_60285_86073_B0355+54_0016.0000.raw\u001b[39m\u001b[38;5;124m'\u001b[39m, \u001b[38;5;124m'\u001b[39m\u001b[38;5;124mnans\u001b[39m\u001b[38;5;124m'\u001b[39m, IQRM_datatype\u001b[38;5;241m=\u001b[39m\u001b[38;5;124m'\u001b[39m\u001b[38;5;124mstd\u001b[39m\u001b[38;5;124m'\u001b[39m)\n\u001b[1;32m     12\u001b[0m uhh\u001b[38;5;241m.\u001b[39mrun_all()\n",
      "\u001b[0;31mAttributeError\u001b[0m: module 'rfi-mitigation' has no attribute 'rfi_iqrm'"
     ]
    }
   ],
   "source": [
    "import numpy as np\n",
    "\n",
    "#import matplotlib.pyplot as plt\n",
    "#%matplotlib qt\n",
    "import importlib\n",
    "\n",
    "rfimit = importlib.import_module('rfi-mitigation')\n",
    "\n",
    "uhh = rfimit.rfi_iqrm('vegas_60285_86073_B0355+54_0016.0000.raw', 'nans', IQRM_datatype='std')\n",
    "\n",
    "\n",
    "uhh.run_all()"
   ]
  },
  {
   "cell_type": "code",
   "execution_count": null,
   "id": "fe2c0eb3-f9a9-4919-a3ad-27cd1a307b2a",
   "metadata": {},
   "outputs": [],
   "source": []
  }
 ],
 "metadata": {
  "kernelspec": {
   "display_name": "Python (kait)",
   "language": "python",
   "name": "kait"
  },
  "language_info": {
   "codemirror_mode": {
    "name": "ipython",
    "version": 3
   },
   "file_extension": ".py",
   "mimetype": "text/x-python",
   "name": "python",
   "nbconvert_exporter": "python",
   "pygments_lexer": "ipython3",
   "version": "3.9.19"
  }
 },
 "nbformat": 4,
 "nbformat_minor": 5
}
