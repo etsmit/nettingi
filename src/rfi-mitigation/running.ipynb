{
 "cells": [
  {
   "cell_type": "code",
   "execution_count": 1,
   "id": "8fe700bd-01b0-4319-9ef8-a921b6f52555",
   "metadata": {},
   "outputs": [
    {
     "name": "stdout",
     "output_type": "stream",
     "text": [
      "integer lags, k: <generator object genlags at 0x7fcc5638ef90>\n",
      "Saving replaced data to /jetstor/scratch/IQRM_rawdata_results/000_IQRM_r5_t3.0_std_b512_mb1_.raw\n",
      "/data/rfimit/unmitigated/rawdata/vegas_60285_86073_B0355+54_0016.0000.raw /jetstor/scratch/IQRM_rawdata_results/000_IQRM_r5_t3.0_std_b512_mb1_.raw\n"
     ]
    },
    {
     "name": "stdin",
     "output_type": "stream",
     "text": [
      "The output file /jetstor/scratch/IQRM_rawdata_results/000_IQRM_r5_t3.0_std_b512_mb1_.raw already exists. Press 'y' to redo the copy, 'n' to continue without copying, or ctrl-c to end the script n\n"
     ]
    },
    {
     "name": "stdout",
     "output_type": "stream",
     "text": [
      "File has 128 data blocks\n",
      "------------------------------------------\n",
      "Block: 1/128\n",
      "Header size: 6720 bytes\n",
      "DAQERROR:  no errors\n",
      "DAQPULSE:  Thu Dec  7 18:54:32 2023\n",
      "DAQSTATE:  running\n",
      "BANKNAM:  BANKA\n",
      "POL_TYPE:  AABBCRCI\n",
      "TELESCOP:  GBT\n",
      "BACKEND:  VEGAS\n",
      "NRCVR:  2\n",
      "NBITS:  8\n",
      "PFB_OVER:  12\n",
      "SCALE0:  1.\n",
      "SCALE1:  1.\n",
      "SCALE2:  1.\n",
      "SCALE3:  1.\n",
      "OFFSET0:  0.\n",
      "OFFSET1:  0.\n",
      "OFFSET2:  0.\n",
      "OFFSET3:  0.\n",
      "BANKNUM:  0\n",
      "CAL_DCYC:  0.5\n",
      "DS_FREQ:  1\n",
      "DATADIR:  /lustre/gbtdata\n",
      "NPOL:  4\n",
      "PKTFMT:  1SFA\n",
      "CAL_FREQ:  25.\n",
      "FFTLEN:  32768\n",
      "OVERLAP:  512\n",
      "BLOCSIZE:  1059061760\n",
      "NBIN:  256\n",
      "OBS_MODE:  RAW\n",
      "CAL_MODE:  OFF\n",
      "DS_TIME:  1\n",
      "NBITSREQ:  8\n",
      "PARFILE:  /home/gbt/etc/config/\n",
      "OBSFREQ:  1500.390625\n",
      "TFOLD:  10.\n",
      "ONLY_I:  0\n",
      "CHAN_DM:  0.\n",
      "_SSRF_01:  0\n",
      "OBSBW:  -800\n",
      "AZ:  48.032893\n",
      "BMAJ:  0.045805\n",
      "BMIN:  0.045805\n",
      "DEC:  54.000063\n",
      "DEC_STR:  54:00:00.2261\n",
      "FRONTEND:  Rcvr1_2\n",
      "LST:  85268\n",
      "OBSERVER:  Evan Smith\n",
      "RA:  58.749661\n",
      "RA_STR:  03:54:59.9186\n",
      "TRK_MODE:  TRACK\n",
      "ZA:  45.146758\n",
      "SCANLEN:  60.\n",
      "DATAHOST:  10.17.0.64\n",
      "DATAPORT:  60000\n",
      "OBSNCHAN:  1024\n",
      "FD_POLN:  LIN\n",
      "CHAN_BW:  -0.78125\n",
      "ACC_LEN:  1\n",
      "TBIN:  1.28e-06\n",
      "NETSTAT:  receiving\n",
      "NULLSTAT:  exiting\n",
      "PKTIDX:  0\n",
      "DROPAVG:  1.86361e-12\n",
      "DROPTOT:  0.139423\n",
      "DROPBLK:  0\n",
      "STT_IMJD:  60285\n",
      "STT_SMJD:  86073\n",
      "STTVALID:  1\n",
      "CURBLOCK:  0\n",
      "CYCTFOLD:  1.\n",
      "CYCNBIN:  256\n",
      "NCYC:  0\n",
      "CYCSPEC:  0\n",
      "SRC_NAME:  B0355+54\n",
      "PROJID:  TGBT23B_610_03\n",
      "SCAN:  16\n",
      "SCANNUM:  16\n",
      "STT_OFFS:  0\n",
      "RAWSTAT:  waiting\n",
      "PKTSIZE:  65536\n",
      "NPKT:  16159\n",
      "NDROP:  0\n",
      "Flag shape: (1024, 505, 2) || block size: 8273920\n"
     ]
    },
    {
     "name": "stderr",
     "output_type": "stream",
     "text": [
      "100%|█████████████████████████████████████████████| 2/2 [00:02<00:00,  1.17s/it]\n",
      "/users/kmchen/rfi-mitigation/src/rfi-mitigation/utils.py:378: RuntimeWarning: Mean of empty slice\n",
      "  out[:,:,0] = np.nanmean(step1_p0,axis=2)\n",
      "/users/kmchen/rfi-mitigation/src/rfi-mitigation/utils.py:379: RuntimeWarning: Mean of empty slice\n",
      "  out[:,:,1] = np.nanmean(step1_p1,axis=2)\n",
      "/users/kmchen/rfi-mitigation/src/rfi-mitigation/utils.py:330: RuntimeWarning: invalid value encountered in cast\n",
      "  a_real = np.clip(np.floor(arav.real),-128,127).astype(np.int8)\n"
     ]
    },
    {
     "name": "stdout",
     "output_type": "stream",
     "text": [
      "------------------------------------------\n",
      "Block: 2/128\n",
      "Flag shape: (1024, 505, 2) || block size: 8273920\n"
     ]
    },
    {
     "name": "stderr",
     "output_type": "stream",
     "text": [
      "100%|█████████████████████████████████████████████| 2/2 [00:02<00:00,  1.07s/it]\n"
     ]
    },
    {
     "name": "stdout",
     "output_type": "stream",
     "text": [
      "------------------------------------------\n",
      "Block: 3/128\n",
      "Flag shape: (1024, 505, 2) || block size: 8273920\n"
     ]
    },
    {
     "name": "stderr",
     "output_type": "stream",
     "text": [
      "100%|█████████████████████████████████████████████| 2/2 [00:02<00:00,  1.12s/it]\n"
     ]
    },
    {
     "name": "stdout",
     "output_type": "stream",
     "text": [
      "------------------------------------------\n",
      "Block: 4/128\n",
      "Flag shape: (1024, 505, 2) || block size: 8273920\n"
     ]
    },
    {
     "name": "stderr",
     "output_type": "stream",
     "text": [
      "100%|█████████████████████████████████████████████| 2/2 [00:02<00:00,  1.12s/it]\n"
     ]
    },
    {
     "name": "stdout",
     "output_type": "stream",
     "text": [
      "------------------------------------------\n",
      "Block: 5/128\n",
      "Flag shape: (1024, 505, 2) || block size: 8273920\n"
     ]
    },
    {
     "name": "stderr",
     "output_type": "stream",
     "text": [
      "100%|█████████████████████████████████████████████| 2/2 [00:02<00:00,  1.08s/it]\n"
     ]
    },
    {
     "name": "stdout",
     "output_type": "stream",
     "text": [
      "------------------------------------------\n",
      "Block: 6/128\n",
      "Flag shape: (1024, 505, 2) || block size: 8273920\n"
     ]
    },
    {
     "name": "stderr",
     "output_type": "stream",
     "text": [
      "100%|█████████████████████████████████████████████| 2/2 [00:02<00:00,  1.11s/it]\n"
     ]
    },
    {
     "name": "stdout",
     "output_type": "stream",
     "text": [
      "------------------------------------------\n",
      "Block: 7/128\n",
      "Flag shape: (1024, 505, 2) || block size: 8273920\n"
     ]
    },
    {
     "name": "stderr",
     "output_type": "stream",
     "text": [
      "100%|█████████████████████████████████████████████| 2/2 [00:02<00:00,  1.13s/it]\n"
     ]
    },
    {
     "name": "stdout",
     "output_type": "stream",
     "text": [
      "------------------------------------------\n",
      "Block: 8/128\n",
      "Flag shape: (1024, 505, 2) || block size: 8273920\n"
     ]
    },
    {
     "name": "stderr",
     "output_type": "stream",
     "text": [
      "100%|█████████████████████████████████████████████| 2/2 [00:02<00:00,  1.11s/it]\n"
     ]
    },
    {
     "name": "stdout",
     "output_type": "stream",
     "text": [
      "------------------------------------------\n",
      "Block: 9/128\n",
      "Flag shape: (1024, 505, 2) || block size: 8273920\n"
     ]
    },
    {
     "name": "stderr",
     "output_type": "stream",
     "text": [
      "100%|█████████████████████████████████████████████| 2/2 [00:02<00:00,  1.06s/it]\n"
     ]
    },
    {
     "name": "stdout",
     "output_type": "stream",
     "text": [
      "------------------------------------------\n",
      "Block: 10/128\n",
      "Flag shape: (1024, 505, 2) || block size: 8273920\n"
     ]
    },
    {
     "name": "stderr",
     "output_type": "stream",
     "text": [
      "100%|█████████████████████████████████████████████| 2/2 [00:02<00:00,  1.12s/it]\n"
     ]
    },
    {
     "name": "stdout",
     "output_type": "stream",
     "text": [
      "------------------------------------------\n",
      "Block: 11/128\n",
      "Flag shape: (1024, 505, 2) || block size: 8273920\n"
     ]
    },
    {
     "name": "stderr",
     "output_type": "stream",
     "text": [
      "100%|█████████████████████████████████████████████| 2/2 [00:02<00:00,  1.16s/it]\n"
     ]
    },
    {
     "name": "stdout",
     "output_type": "stream",
     "text": [
      "------------------------------------------\n",
      "Block: 12/128\n",
      "Flag shape: (1024, 505, 2) || block size: 8273920\n"
     ]
    },
    {
     "name": "stderr",
     "output_type": "stream",
     "text": [
      "100%|█████████████████████████████████████████████| 2/2 [00:02<00:00,  1.11s/it]\n"
     ]
    },
    {
     "name": "stdout",
     "output_type": "stream",
     "text": [
      "------------------------------------------\n",
      "Block: 13/128\n",
      "Flag shape: (1024, 505, 2) || block size: 8273920\n"
     ]
    },
    {
     "name": "stderr",
     "output_type": "stream",
     "text": [
      "100%|█████████████████████████████████████████████| 2/2 [00:02<00:00,  1.10s/it]\n"
     ]
    },
    {
     "name": "stdout",
     "output_type": "stream",
     "text": [
      "------------------------------------------\n",
      "Block: 14/128\n",
      "Flag shape: (1024, 505, 2) || block size: 8273920\n"
     ]
    },
    {
     "name": "stderr",
     "output_type": "stream",
     "text": [
      "100%|█████████████████████████████████████████████| 2/2 [00:02<00:00,  1.15s/it]\n"
     ]
    },
    {
     "name": "stdout",
     "output_type": "stream",
     "text": [
      "------------------------------------------\n",
      "Block: 15/128\n",
      "Flag shape: (1024, 505, 2) || block size: 8273920\n"
     ]
    },
    {
     "name": "stderr",
     "output_type": "stream",
     "text": [
      "100%|█████████████████████████████████████████████| 2/2 [00:02<00:00,  1.13s/it]\n"
     ]
    },
    {
     "name": "stdout",
     "output_type": "stream",
     "text": [
      "------------------------------------------\n",
      "Block: 16/128\n",
      "Flag shape: (1024, 505, 2) || block size: 8273920\n"
     ]
    },
    {
     "name": "stderr",
     "output_type": "stream",
     "text": [
      "100%|█████████████████████████████████████████████| 2/2 [00:02<00:00,  1.11s/it]\n"
     ]
    },
    {
     "name": "stdout",
     "output_type": "stream",
     "text": [
      "------------------------------------------\n",
      "Block: 17/128\n",
      "Flag shape: (1024, 505, 2) || block size: 8273920\n"
     ]
    },
    {
     "name": "stderr",
     "output_type": "stream",
     "text": [
      "100%|█████████████████████████████████████████████| 2/2 [00:02<00:00,  1.12s/it]\n"
     ]
    },
    {
     "name": "stdout",
     "output_type": "stream",
     "text": [
      "------------------------------------------\n",
      "Block: 18/128\n",
      "Flag shape: (1024, 505, 2) || block size: 8273920\n"
     ]
    },
    {
     "name": "stderr",
     "output_type": "stream",
     "text": [
      "100%|█████████████████████████████████████████████| 2/2 [00:02<00:00,  1.18s/it]\n"
     ]
    },
    {
     "name": "stdout",
     "output_type": "stream",
     "text": [
      "------------------------------------------\n",
      "Block: 19/128\n",
      "Flag shape: (1024, 505, 2) || block size: 8273920\n"
     ]
    },
    {
     "name": "stderr",
     "output_type": "stream",
     "text": [
      "100%|█████████████████████████████████████████████| 2/2 [00:02<00:00,  1.11s/it]\n"
     ]
    },
    {
     "name": "stdout",
     "output_type": "stream",
     "text": [
      "------------------------------------------\n",
      "Block: 20/128\n",
      "Flag shape: (1024, 505, 2) || block size: 8273920\n"
     ]
    },
    {
     "name": "stderr",
     "output_type": "stream",
     "text": [
      "100%|█████████████████████████████████████████████| 2/2 [00:02<00:00,  1.09s/it]\n"
     ]
    },
    {
     "name": "stdout",
     "output_type": "stream",
     "text": [
      "------------------------------------------\n",
      "Block: 21/128\n",
      "Flag shape: (1024, 505, 2) || block size: 8273920\n"
     ]
    },
    {
     "name": "stderr",
     "output_type": "stream",
     "text": [
      "100%|█████████████████████████████████████████████| 2/2 [00:02<00:00,  1.18s/it]\n"
     ]
    },
    {
     "name": "stdout",
     "output_type": "stream",
     "text": [
      "------------------------------------------\n",
      "Block: 22/128\n",
      "Flag shape: (1024, 505, 2) || block size: 8273920\n"
     ]
    },
    {
     "name": "stderr",
     "output_type": "stream",
     "text": [
      "100%|█████████████████████████████████████████████| 2/2 [00:02<00:00,  1.11s/it]\n"
     ]
    },
    {
     "name": "stdout",
     "output_type": "stream",
     "text": [
      "------------------------------------------\n",
      "Block: 23/128\n",
      "Flag shape: (1024, 505, 2) || block size: 8273920\n"
     ]
    },
    {
     "name": "stderr",
     "output_type": "stream",
     "text": [
      "100%|█████████████████████████████████████████████| 2/2 [00:02<00:00,  1.10s/it]\n"
     ]
    },
    {
     "name": "stdout",
     "output_type": "stream",
     "text": [
      "------------------------------------------\n",
      "Block: 24/128\n",
      "Flag shape: (1024, 505, 2) || block size: 8273920\n"
     ]
    },
    {
     "name": "stderr",
     "output_type": "stream",
     "text": [
      "100%|█████████████████████████████████████████████| 2/2 [00:02<00:00,  1.14s/it]\n"
     ]
    },
    {
     "name": "stdout",
     "output_type": "stream",
     "text": [
      "------------------------------------------\n",
      "Block: 25/128\n",
      "Flag shape: (1024, 505, 2) || block size: 8273920\n"
     ]
    },
    {
     "name": "stderr",
     "output_type": "stream",
     "text": [
      "100%|█████████████████████████████████████████████| 2/2 [00:02<00:00,  1.11s/it]\n"
     ]
    },
    {
     "name": "stdout",
     "output_type": "stream",
     "text": [
      "------------------------------------------\n",
      "Block: 26/128\n",
      "Flag shape: (1024, 505, 2) || block size: 8273920\n"
     ]
    },
    {
     "name": "stderr",
     "output_type": "stream",
     "text": [
      "100%|█████████████████████████████████████████████| 2/2 [00:02<00:00,  1.12s/it]\n"
     ]
    },
    {
     "name": "stdout",
     "output_type": "stream",
     "text": [
      "------------------------------------------\n",
      "Block: 27/128\n",
      "Flag shape: (1024, 505, 2) || block size: 8273920\n"
     ]
    },
    {
     "name": "stderr",
     "output_type": "stream",
     "text": [
      "100%|█████████████████████████████████████████████| 2/2 [00:02<00:00,  1.13s/it]\n"
     ]
    },
    {
     "name": "stdout",
     "output_type": "stream",
     "text": [
      "------------------------------------------\n",
      "Block: 28/128\n",
      "Flag shape: (1024, 505, 2) || block size: 8273920\n"
     ]
    },
    {
     "name": "stderr",
     "output_type": "stream",
     "text": [
      "100%|█████████████████████████████████████████████| 2/2 [00:02<00:00,  1.12s/it]\n"
     ]
    },
    {
     "name": "stdout",
     "output_type": "stream",
     "text": [
      "------------------------------------------\n",
      "Block: 29/128\n",
      "Flag shape: (1024, 505, 2) || block size: 8273920\n"
     ]
    },
    {
     "name": "stderr",
     "output_type": "stream",
     "text": [
      "100%|█████████████████████████████████████████████| 2/2 [00:02<00:00,  1.15s/it]\n"
     ]
    },
    {
     "name": "stdout",
     "output_type": "stream",
     "text": [
      "------------------------------------------\n",
      "Block: 30/128\n",
      "Flag shape: (1024, 505, 2) || block size: 8273920\n"
     ]
    },
    {
     "name": "stderr",
     "output_type": "stream",
     "text": [
      "100%|█████████████████████████████████████████████| 2/2 [00:02<00:00,  1.09s/it]\n"
     ]
    },
    {
     "name": "stdout",
     "output_type": "stream",
     "text": [
      "------------------------------------------\n",
      "Block: 31/128\n",
      "Flag shape: (1024, 505, 2) || block size: 8273920\n"
     ]
    },
    {
     "name": "stderr",
     "output_type": "stream",
     "text": [
      "100%|█████████████████████████████████████████████| 2/2 [00:02<00:00,  1.11s/it]\n"
     ]
    },
    {
     "name": "stdout",
     "output_type": "stream",
     "text": [
      "------------------------------------------\n",
      "Block: 32/128\n",
      "Flag shape: (1024, 505, 2) || block size: 8273920\n"
     ]
    },
    {
     "name": "stderr",
     "output_type": "stream",
     "text": [
      "100%|█████████████████████████████████████████████| 2/2 [00:02<00:00,  1.13s/it]\n"
     ]
    },
    {
     "name": "stdout",
     "output_type": "stream",
     "text": [
      "------------------------------------------\n",
      "Block: 33/128\n",
      "Flag shape: (1024, 505, 2) || block size: 8273920\n"
     ]
    },
    {
     "name": "stderr",
     "output_type": "stream",
     "text": [
      "100%|█████████████████████████████████████████████| 2/2 [00:02<00:00,  1.10s/it]\n"
     ]
    },
    {
     "name": "stdout",
     "output_type": "stream",
     "text": [
      "------------------------------------------\n",
      "Block: 34/128\n",
      "Flag shape: (1024, 505, 2) || block size: 8273920\n"
     ]
    },
    {
     "name": "stderr",
     "output_type": "stream",
     "text": [
      "100%|█████████████████████████████████████████████| 2/2 [00:02<00:00,  1.08s/it]\n"
     ]
    },
    {
     "name": "stdout",
     "output_type": "stream",
     "text": [
      "------------------------------------------\n",
      "Block: 35/128\n",
      "Flag shape: (1024, 505, 2) || block size: 8273920\n"
     ]
    },
    {
     "name": "stderr",
     "output_type": "stream",
     "text": [
      "100%|█████████████████████████████████████████████| 2/2 [00:02<00:00,  1.10s/it]\n"
     ]
    },
    {
     "name": "stdout",
     "output_type": "stream",
     "text": [
      "------------------------------------------\n",
      "Block: 36/128\n",
      "Flag shape: (1024, 505, 2) || block size: 8273920\n"
     ]
    },
    {
     "name": "stderr",
     "output_type": "stream",
     "text": [
      "100%|█████████████████████████████████████████████| 2/2 [00:02<00:00,  1.10s/it]\n"
     ]
    },
    {
     "name": "stdout",
     "output_type": "stream",
     "text": [
      "------------------------------------------\n",
      "Block: 37/128\n",
      "Flag shape: (1024, 505, 2) || block size: 8273920\n"
     ]
    },
    {
     "name": "stderr",
     "output_type": "stream",
     "text": [
      "100%|█████████████████████████████████████████████| 2/2 [00:02<00:00,  1.08s/it]\n"
     ]
    },
    {
     "name": "stdout",
     "output_type": "stream",
     "text": [
      "------------------------------------------\n",
      "Block: 38/128\n",
      "Flag shape: (1024, 505, 2) || block size: 8273920\n"
     ]
    },
    {
     "name": "stderr",
     "output_type": "stream",
     "text": [
      "100%|█████████████████████████████████████████████| 2/2 [00:02<00:00,  1.17s/it]\n"
     ]
    },
    {
     "name": "stdout",
     "output_type": "stream",
     "text": [
      "------------------------------------------\n",
      "Block: 39/128\n",
      "Flag shape: (1024, 505, 2) || block size: 8273920\n"
     ]
    },
    {
     "name": "stderr",
     "output_type": "stream",
     "text": [
      "100%|█████████████████████████████████████████████| 2/2 [00:02<00:00,  1.12s/it]\n"
     ]
    },
    {
     "name": "stdout",
     "output_type": "stream",
     "text": [
      "------------------------------------------\n",
      "Block: 40/128\n",
      "Flag shape: (1024, 505, 2) || block size: 8273920\n"
     ]
    },
    {
     "name": "stderr",
     "output_type": "stream",
     "text": [
      "100%|█████████████████████████████████████████████| 2/2 [00:02<00:00,  1.11s/it]\n"
     ]
    },
    {
     "name": "stdout",
     "output_type": "stream",
     "text": [
      "------------------------------------------\n",
      "Block: 41/128\n",
      "Flag shape: (1024, 505, 2) || block size: 8273920\n"
     ]
    },
    {
     "name": "stderr",
     "output_type": "stream",
     "text": [
      "100%|█████████████████████████████████████████████| 2/2 [00:02<00:00,  1.15s/it]\n"
     ]
    },
    {
     "name": "stdout",
     "output_type": "stream",
     "text": [
      "------------------------------------------\n",
      "Block: 42/128\n",
      "Flag shape: (1024, 505, 2) || block size: 8273920\n"
     ]
    },
    {
     "name": "stderr",
     "output_type": "stream",
     "text": [
      "100%|█████████████████████████████████████████████| 2/2 [00:02<00:00,  1.11s/it]\n"
     ]
    },
    {
     "name": "stdout",
     "output_type": "stream",
     "text": [
      "------------------------------------------\n",
      "Block: 43/128\n",
      "Flag shape: (1024, 505, 2) || block size: 8273920\n"
     ]
    },
    {
     "name": "stderr",
     "output_type": "stream",
     "text": [
      "100%|█████████████████████████████████████████████| 2/2 [00:02<00:00,  1.17s/it]\n"
     ]
    },
    {
     "name": "stdout",
     "output_type": "stream",
     "text": [
      "------------------------------------------\n",
      "Block: 44/128\n",
      "Flag shape: (1024, 505, 2) || block size: 8273920\n"
     ]
    },
    {
     "name": "stderr",
     "output_type": "stream",
     "text": [
      "100%|█████████████████████████████████████████████| 2/2 [00:02<00:00,  1.11s/it]\n"
     ]
    },
    {
     "name": "stdout",
     "output_type": "stream",
     "text": [
      "------------------------------------------\n",
      "Block: 45/128\n",
      "Flag shape: (1024, 505, 2) || block size: 8273920\n"
     ]
    },
    {
     "name": "stderr",
     "output_type": "stream",
     "text": [
      "100%|█████████████████████████████████████████████| 2/2 [00:02<00:00,  1.12s/it]\n"
     ]
    },
    {
     "name": "stdout",
     "output_type": "stream",
     "text": [
      "------------------------------------------\n",
      "Block: 46/128\n",
      "Flag shape: (1024, 505, 2) || block size: 8273920\n"
     ]
    },
    {
     "name": "stderr",
     "output_type": "stream",
     "text": [
      "100%|█████████████████████████████████████████████| 2/2 [00:02<00:00,  1.12s/it]\n"
     ]
    },
    {
     "name": "stdout",
     "output_type": "stream",
     "text": [
      "------------------------------------------\n",
      "Block: 47/128\n",
      "Flag shape: (1024, 505, 2) || block size: 8273920\n"
     ]
    },
    {
     "name": "stderr",
     "output_type": "stream",
     "text": [
      "100%|█████████████████████████████████████████████| 2/2 [00:02<00:00,  1.12s/it]\n"
     ]
    },
    {
     "name": "stdout",
     "output_type": "stream",
     "text": [
      "------------------------------------------\n",
      "Block: 48/128\n",
      "Flag shape: (1024, 505, 2) || block size: 8273920\n"
     ]
    },
    {
     "name": "stderr",
     "output_type": "stream",
     "text": [
      "100%|█████████████████████████████████████████████| 2/2 [00:02<00:00,  1.11s/it]\n"
     ]
    },
    {
     "name": "stdout",
     "output_type": "stream",
     "text": [
      "------------------------------------------\n",
      "Block: 49/128\n",
      "Flag shape: (1024, 505, 2) || block size: 8273920\n"
     ]
    },
    {
     "name": "stderr",
     "output_type": "stream",
     "text": [
      "100%|█████████████████████████████████████████████| 2/2 [00:02<00:00,  1.12s/it]\n"
     ]
    },
    {
     "name": "stdout",
     "output_type": "stream",
     "text": [
      "------------------------------------------\n",
      "Block: 50/128\n",
      "Flag shape: (1024, 505, 2) || block size: 8273920\n"
     ]
    },
    {
     "name": "stderr",
     "output_type": "stream",
     "text": [
      "100%|█████████████████████████████████████████████| 2/2 [00:02<00:00,  1.12s/it]\n"
     ]
    },
    {
     "name": "stdout",
     "output_type": "stream",
     "text": [
      "------------------------------------------\n",
      "Block: 51/128\n",
      "Flag shape: (1024, 505, 2) || block size: 8273920\n"
     ]
    },
    {
     "name": "stderr",
     "output_type": "stream",
     "text": [
      "100%|█████████████████████████████████████████████| 2/2 [00:02<00:00,  1.13s/it]\n"
     ]
    },
    {
     "name": "stdout",
     "output_type": "stream",
     "text": [
      "------------------------------------------\n",
      "Block: 52/128\n",
      "Flag shape: (1024, 505, 2) || block size: 8273920\n"
     ]
    },
    {
     "name": "stderr",
     "output_type": "stream",
     "text": [
      "100%|█████████████████████████████████████████████| 2/2 [00:02<00:00,  1.18s/it]\n"
     ]
    },
    {
     "name": "stdout",
     "output_type": "stream",
     "text": [
      "------------------------------------------\n",
      "Block: 53/128\n",
      "Flag shape: (1024, 505, 2) || block size: 8273920\n"
     ]
    },
    {
     "name": "stderr",
     "output_type": "stream",
     "text": [
      "100%|█████████████████████████████████████████████| 2/2 [00:02<00:00,  1.09s/it]\n"
     ]
    },
    {
     "name": "stdout",
     "output_type": "stream",
     "text": [
      "------------------------------------------\n",
      "Block: 54/128\n",
      "Flag shape: (1024, 505, 2) || block size: 8273920\n"
     ]
    },
    {
     "name": "stderr",
     "output_type": "stream",
     "text": [
      "100%|█████████████████████████████████████████████| 2/2 [00:02<00:00,  1.10s/it]\n"
     ]
    },
    {
     "name": "stdout",
     "output_type": "stream",
     "text": [
      "------------------------------------------\n",
      "Block: 55/128\n",
      "Flag shape: (1024, 505, 2) || block size: 8273920\n"
     ]
    },
    {
     "name": "stderr",
     "output_type": "stream",
     "text": [
      "100%|█████████████████████████████████████████████| 2/2 [00:02<00:00,  1.12s/it]\n"
     ]
    },
    {
     "name": "stdout",
     "output_type": "stream",
     "text": [
      "------------------------------------------\n",
      "Block: 56/128\n",
      "Flag shape: (1024, 505, 2) || block size: 8273920\n"
     ]
    },
    {
     "name": "stderr",
     "output_type": "stream",
     "text": [
      "100%|█████████████████████████████████████████████| 2/2 [00:02<00:00,  1.12s/it]\n"
     ]
    },
    {
     "name": "stdout",
     "output_type": "stream",
     "text": [
      "------------------------------------------\n",
      "Block: 57/128\n",
      "Flag shape: (1024, 505, 2) || block size: 8273920\n"
     ]
    },
    {
     "name": "stderr",
     "output_type": "stream",
     "text": [
      "100%|█████████████████████████████████████████████| 2/2 [00:02<00:00,  1.12s/it]\n"
     ]
    },
    {
     "name": "stdout",
     "output_type": "stream",
     "text": [
      "------------------------------------------\n",
      "Block: 58/128\n",
      "Flag shape: (1024, 505, 2) || block size: 8273920\n"
     ]
    },
    {
     "name": "stderr",
     "output_type": "stream",
     "text": [
      "100%|█████████████████████████████████████████████| 2/2 [00:02<00:00,  1.14s/it]\n"
     ]
    },
    {
     "name": "stdout",
     "output_type": "stream",
     "text": [
      "------------------------------------------\n",
      "Block: 59/128\n",
      "Flag shape: (1024, 505, 2) || block size: 8273920\n"
     ]
    },
    {
     "name": "stderr",
     "output_type": "stream",
     "text": [
      "100%|█████████████████████████████████████████████| 2/2 [00:02<00:00,  1.09s/it]\n"
     ]
    },
    {
     "name": "stdout",
     "output_type": "stream",
     "text": [
      "------------------------------------------\n",
      "Block: 60/128\n",
      "Flag shape: (1024, 505, 2) || block size: 8273920\n"
     ]
    },
    {
     "name": "stderr",
     "output_type": "stream",
     "text": [
      "100%|█████████████████████████████████████████████| 2/2 [00:02<00:00,  1.15s/it]\n"
     ]
    },
    {
     "name": "stdout",
     "output_type": "stream",
     "text": [
      "------------------------------------------\n",
      "Block: 61/128\n",
      "Flag shape: (1024, 505, 2) || block size: 8273920\n"
     ]
    },
    {
     "name": "stderr",
     "output_type": "stream",
     "text": [
      "100%|█████████████████████████████████████████████| 2/2 [00:02<00:00,  1.10s/it]\n"
     ]
    },
    {
     "name": "stdout",
     "output_type": "stream",
     "text": [
      "------------------------------------------\n",
      "Block: 62/128\n",
      "Flag shape: (1024, 505, 2) || block size: 8273920\n"
     ]
    },
    {
     "name": "stderr",
     "output_type": "stream",
     "text": [
      "100%|█████████████████████████████████████████████| 2/2 [00:02<00:00,  1.15s/it]\n"
     ]
    },
    {
     "name": "stdout",
     "output_type": "stream",
     "text": [
      "------------------------------------------\n",
      "Block: 63/128\n",
      "Flag shape: (1024, 505, 2) || block size: 8273920\n"
     ]
    },
    {
     "name": "stderr",
     "output_type": "stream",
     "text": [
      "100%|█████████████████████████████████████████████| 2/2 [00:02<00:00,  1.11s/it]\n"
     ]
    },
    {
     "name": "stdout",
     "output_type": "stream",
     "text": [
      "------------------------------------------\n",
      "Block: 64/128\n",
      "Flag shape: (1024, 505, 2) || block size: 8273920\n"
     ]
    },
    {
     "name": "stderr",
     "output_type": "stream",
     "text": [
      "100%|█████████████████████████████████████████████| 2/2 [00:02<00:00,  1.12s/it]\n"
     ]
    },
    {
     "name": "stdout",
     "output_type": "stream",
     "text": [
      "------------------------------------------\n",
      "Block: 65/128\n",
      "Flag shape: (1024, 505, 2) || block size: 8273920\n"
     ]
    },
    {
     "name": "stderr",
     "output_type": "stream",
     "text": [
      "100%|█████████████████████████████████████████████| 2/2 [00:02<00:00,  1.15s/it]\n"
     ]
    },
    {
     "name": "stdout",
     "output_type": "stream",
     "text": [
      "------------------------------------------\n",
      "Block: 66/128\n",
      "Flag shape: (1024, 505, 2) || block size: 8273920\n"
     ]
    },
    {
     "name": "stderr",
     "output_type": "stream",
     "text": [
      "100%|█████████████████████████████████████████████| 2/2 [00:02<00:00,  1.11s/it]\n"
     ]
    },
    {
     "name": "stdout",
     "output_type": "stream",
     "text": [
      "------------------------------------------\n",
      "Block: 67/128\n",
      "Flag shape: (1024, 505, 2) || block size: 8273920\n"
     ]
    },
    {
     "name": "stderr",
     "output_type": "stream",
     "text": [
      "100%|█████████████████████████████████████████████| 2/2 [00:02<00:00,  1.12s/it]\n"
     ]
    },
    {
     "name": "stdout",
     "output_type": "stream",
     "text": [
      "------------------------------------------\n",
      "Block: 68/128\n",
      "Flag shape: (1024, 505, 2) || block size: 8273920\n"
     ]
    },
    {
     "name": "stderr",
     "output_type": "stream",
     "text": [
      "100%|█████████████████████████████████████████████| 2/2 [00:02<00:00,  1.13s/it]\n"
     ]
    },
    {
     "name": "stdout",
     "output_type": "stream",
     "text": [
      "------------------------------------------\n",
      "Block: 69/128\n",
      "Flag shape: (1024, 505, 2) || block size: 8273920\n"
     ]
    },
    {
     "name": "stderr",
     "output_type": "stream",
     "text": [
      "100%|█████████████████████████████████████████████| 2/2 [00:02<00:00,  1.09s/it]\n"
     ]
    },
    {
     "name": "stdout",
     "output_type": "stream",
     "text": [
      "------------------------------------------\n",
      "Block: 70/128\n",
      "Flag shape: (1024, 505, 2) || block size: 8273920\n"
     ]
    },
    {
     "name": "stderr",
     "output_type": "stream",
     "text": [
      "100%|█████████████████████████████████████████████| 2/2 [00:02<00:00,  1.16s/it]\n"
     ]
    },
    {
     "name": "stdout",
     "output_type": "stream",
     "text": [
      "------------------------------------------\n",
      "Block: 71/128\n",
      "Flag shape: (1024, 505, 2) || block size: 8273920\n"
     ]
    },
    {
     "name": "stderr",
     "output_type": "stream",
     "text": [
      "100%|█████████████████████████████████████████████| 2/2 [00:02<00:00,  1.12s/it]\n"
     ]
    },
    {
     "name": "stdout",
     "output_type": "stream",
     "text": [
      "------------------------------------------\n",
      "Block: 72/128\n",
      "Flag shape: (1024, 505, 2) || block size: 8273920\n"
     ]
    },
    {
     "name": "stderr",
     "output_type": "stream",
     "text": [
      "100%|█████████████████████████████████████████████| 2/2 [00:02<00:00,  1.13s/it]\n"
     ]
    },
    {
     "name": "stdout",
     "output_type": "stream",
     "text": [
      "------------------------------------------\n",
      "Block: 73/128\n",
      "Flag shape: (1024, 505, 2) || block size: 8273920\n"
     ]
    },
    {
     "name": "stderr",
     "output_type": "stream",
     "text": [
      "100%|█████████████████████████████████████████████| 2/2 [00:02<00:00,  1.14s/it]\n"
     ]
    },
    {
     "name": "stdout",
     "output_type": "stream",
     "text": [
      "------------------------------------------\n",
      "Block: 74/128\n",
      "Flag shape: (1024, 505, 2) || block size: 8273920\n"
     ]
    },
    {
     "name": "stderr",
     "output_type": "stream",
     "text": [
      "100%|█████████████████████████████████████████████| 2/2 [00:02<00:00,  1.14s/it]\n"
     ]
    },
    {
     "name": "stdout",
     "output_type": "stream",
     "text": [
      "------------------------------------------\n",
      "Block: 75/128\n",
      "Flag shape: (1024, 505, 2) || block size: 8273920\n"
     ]
    },
    {
     "name": "stderr",
     "output_type": "stream",
     "text": [
      "100%|█████████████████████████████████████████████| 2/2 [00:02<00:00,  1.11s/it]\n"
     ]
    },
    {
     "name": "stdout",
     "output_type": "stream",
     "text": [
      "------------------------------------------\n",
      "Block: 76/128\n",
      "Flag shape: (1024, 505, 2) || block size: 8273920\n"
     ]
    },
    {
     "name": "stderr",
     "output_type": "stream",
     "text": [
      "100%|█████████████████████████████████████████████| 2/2 [00:02<00:00,  1.12s/it]\n"
     ]
    },
    {
     "name": "stdout",
     "output_type": "stream",
     "text": [
      "------------------------------------------\n",
      "Block: 77/128\n",
      "Flag shape: (1024, 505, 2) || block size: 8273920\n"
     ]
    },
    {
     "name": "stderr",
     "output_type": "stream",
     "text": [
      "100%|█████████████████████████████████████████████| 2/2 [00:02<00:00,  1.12s/it]\n"
     ]
    },
    {
     "name": "stdout",
     "output_type": "stream",
     "text": [
      "------------------------------------------\n",
      "Block: 78/128\n",
      "Flag shape: (1024, 505, 2) || block size: 8273920\n"
     ]
    },
    {
     "name": "stderr",
     "output_type": "stream",
     "text": [
      "100%|█████████████████████████████████████████████| 2/2 [00:02<00:00,  1.12s/it]\n"
     ]
    },
    {
     "name": "stdout",
     "output_type": "stream",
     "text": [
      "------------------------------------------\n",
      "Block: 79/128\n",
      "Flag shape: (1024, 505, 2) || block size: 8273920\n"
     ]
    },
    {
     "name": "stderr",
     "output_type": "stream",
     "text": [
      "100%|█████████████████████████████████████████████| 2/2 [00:02<00:00,  1.15s/it]\n"
     ]
    },
    {
     "name": "stdout",
     "output_type": "stream",
     "text": [
      "------------------------------------------\n",
      "Block: 80/128\n",
      "Flag shape: (1024, 505, 2) || block size: 8273920\n"
     ]
    },
    {
     "name": "stderr",
     "output_type": "stream",
     "text": [
      "100%|█████████████████████████████████████████████| 2/2 [00:02<00:00,  1.14s/it]\n"
     ]
    },
    {
     "name": "stdout",
     "output_type": "stream",
     "text": [
      "------------------------------------------\n",
      "Block: 81/128\n",
      "Flag shape: (1024, 505, 2) || block size: 8273920\n"
     ]
    },
    {
     "name": "stderr",
     "output_type": "stream",
     "text": [
      "100%|█████████████████████████████████████████████| 2/2 [00:02<00:00,  1.16s/it]\n"
     ]
    },
    {
     "name": "stdout",
     "output_type": "stream",
     "text": [
      "------------------------------------------\n",
      "Block: 82/128\n",
      "Flag shape: (1024, 505, 2) || block size: 8273920\n"
     ]
    },
    {
     "name": "stderr",
     "output_type": "stream",
     "text": [
      "100%|█████████████████████████████████████████████| 2/2 [00:02<00:00,  1.12s/it]\n"
     ]
    },
    {
     "name": "stdout",
     "output_type": "stream",
     "text": [
      "------------------------------------------\n",
      "Block: 83/128\n",
      "Flag shape: (1024, 505, 2) || block size: 8273920\n"
     ]
    },
    {
     "name": "stderr",
     "output_type": "stream",
     "text": [
      "100%|█████████████████████████████████████████████| 2/2 [00:02<00:00,  1.14s/it]\n"
     ]
    },
    {
     "name": "stdout",
     "output_type": "stream",
     "text": [
      "------------------------------------------\n",
      "Block: 84/128\n",
      "Flag shape: (1024, 505, 2) || block size: 8273920\n"
     ]
    },
    {
     "name": "stderr",
     "output_type": "stream",
     "text": [
      "100%|█████████████████████████████████████████████| 2/2 [00:02<00:00,  1.13s/it]\n"
     ]
    },
    {
     "name": "stdout",
     "output_type": "stream",
     "text": [
      "------------------------------------------\n",
      "Block: 85/128\n",
      "Flag shape: (1024, 505, 2) || block size: 8273920\n"
     ]
    },
    {
     "name": "stderr",
     "output_type": "stream",
     "text": [
      "100%|█████████████████████████████████████████████| 2/2 [00:02<00:00,  1.14s/it]\n"
     ]
    },
    {
     "name": "stdout",
     "output_type": "stream",
     "text": [
      "------------------------------------------\n",
      "Block: 86/128\n",
      "Flag shape: (1024, 505, 2) || block size: 8273920\n"
     ]
    },
    {
     "name": "stderr",
     "output_type": "stream",
     "text": [
      "100%|█████████████████████████████████████████████| 2/2 [00:02<00:00,  1.10s/it]\n"
     ]
    },
    {
     "name": "stdout",
     "output_type": "stream",
     "text": [
      "------------------------------------------\n",
      "Block: 87/128\n",
      "Flag shape: (1024, 505, 2) || block size: 8273920\n"
     ]
    },
    {
     "name": "stderr",
     "output_type": "stream",
     "text": [
      "100%|█████████████████████████████████████████████| 2/2 [00:02<00:00,  1.09s/it]\n"
     ]
    },
    {
     "name": "stdout",
     "output_type": "stream",
     "text": [
      "------------------------------------------\n",
      "Block: 88/128\n",
      "Flag shape: (1024, 505, 2) || block size: 8273920\n"
     ]
    },
    {
     "name": "stderr",
     "output_type": "stream",
     "text": [
      "100%|█████████████████████████████████████████████| 2/2 [00:02<00:00,  1.12s/it]\n"
     ]
    },
    {
     "name": "stdout",
     "output_type": "stream",
     "text": [
      "------------------------------------------\n",
      "Block: 89/128\n",
      "Flag shape: (1024, 505, 2) || block size: 8273920\n"
     ]
    },
    {
     "name": "stderr",
     "output_type": "stream",
     "text": [
      "100%|█████████████████████████████████████████████| 2/2 [00:02<00:00,  1.10s/it]\n"
     ]
    },
    {
     "name": "stdout",
     "output_type": "stream",
     "text": [
      "------------------------------------------\n",
      "Block: 90/128\n",
      "Flag shape: (1024, 505, 2) || block size: 8273920\n"
     ]
    },
    {
     "name": "stderr",
     "output_type": "stream",
     "text": [
      "100%|█████████████████████████████████████████████| 2/2 [00:02<00:00,  1.15s/it]\n"
     ]
    },
    {
     "name": "stdout",
     "output_type": "stream",
     "text": [
      "------------------------------------------\n",
      "Block: 91/128\n",
      "Flag shape: (1024, 505, 2) || block size: 8273920\n"
     ]
    },
    {
     "name": "stderr",
     "output_type": "stream",
     "text": [
      "100%|█████████████████████████████████████████████| 2/2 [00:02<00:00,  1.13s/it]\n"
     ]
    },
    {
     "name": "stdout",
     "output_type": "stream",
     "text": [
      "------------------------------------------\n",
      "Block: 92/128\n",
      "Flag shape: (1024, 505, 2) || block size: 8273920\n"
     ]
    },
    {
     "name": "stderr",
     "output_type": "stream",
     "text": [
      "100%|█████████████████████████████████████████████| 2/2 [00:02<00:00,  1.13s/it]\n"
     ]
    },
    {
     "name": "stdout",
     "output_type": "stream",
     "text": [
      "------------------------------------------\n",
      "Block: 93/128\n",
      "Flag shape: (1024, 505, 2) || block size: 8273920\n"
     ]
    },
    {
     "name": "stderr",
     "output_type": "stream",
     "text": [
      "100%|█████████████████████████████████████████████| 2/2 [00:02<00:00,  1.11s/it]\n"
     ]
    },
    {
     "name": "stdout",
     "output_type": "stream",
     "text": [
      "------------------------------------------\n",
      "Block: 94/128\n",
      "Flag shape: (1024, 505, 2) || block size: 8273920\n"
     ]
    },
    {
     "name": "stderr",
     "output_type": "stream",
     "text": [
      "100%|█████████████████████████████████████████████| 2/2 [00:02<00:00,  1.19s/it]\n"
     ]
    },
    {
     "name": "stdout",
     "output_type": "stream",
     "text": [
      "------------------------------------------\n",
      "Block: 95/128\n",
      "Flag shape: (1024, 505, 2) || block size: 8273920\n"
     ]
    },
    {
     "name": "stderr",
     "output_type": "stream",
     "text": [
      "100%|█████████████████████████████████████████████| 2/2 [00:02<00:00,  1.13s/it]\n"
     ]
    },
    {
     "name": "stdout",
     "output_type": "stream",
     "text": [
      "------------------------------------------\n",
      "Block: 96/128\n",
      "Flag shape: (1024, 505, 2) || block size: 8273920\n"
     ]
    },
    {
     "name": "stderr",
     "output_type": "stream",
     "text": [
      "100%|█████████████████████████████████████████████| 2/2 [00:02<00:00,  1.19s/it]\n"
     ]
    },
    {
     "name": "stdout",
     "output_type": "stream",
     "text": [
      "------------------------------------------\n",
      "Block: 97/128\n",
      "Flag shape: (1024, 505, 2) || block size: 8273920\n"
     ]
    },
    {
     "name": "stderr",
     "output_type": "stream",
     "text": [
      "100%|█████████████████████████████████████████████| 2/2 [00:02<00:00,  1.14s/it]\n"
     ]
    },
    {
     "name": "stdout",
     "output_type": "stream",
     "text": [
      "------------------------------------------\n",
      "Block: 98/128\n",
      "Flag shape: (1024, 505, 2) || block size: 8273920\n"
     ]
    },
    {
     "name": "stderr",
     "output_type": "stream",
     "text": [
      "100%|█████████████████████████████████████████████| 2/2 [00:02<00:00,  1.12s/it]\n"
     ]
    },
    {
     "name": "stdout",
     "output_type": "stream",
     "text": [
      "------------------------------------------\n",
      "Block: 99/128\n",
      "Flag shape: (1024, 505, 2) || block size: 8273920\n"
     ]
    },
    {
     "name": "stderr",
     "output_type": "stream",
     "text": [
      "100%|█████████████████████████████████████████████| 2/2 [00:02<00:00,  1.12s/it]\n"
     ]
    },
    {
     "name": "stdout",
     "output_type": "stream",
     "text": [
      "------------------------------------------\n",
      "Block: 100/128\n",
      "Flag shape: (1024, 505, 2) || block size: 8273920\n"
     ]
    },
    {
     "name": "stderr",
     "output_type": "stream",
     "text": [
      "100%|█████████████████████████████████████████████| 2/2 [00:02<00:00,  1.13s/it]\n"
     ]
    },
    {
     "name": "stdout",
     "output_type": "stream",
     "text": [
      "------------------------------------------\n",
      "Block: 101/128\n",
      "Flag shape: (1024, 505, 2) || block size: 8273920\n"
     ]
    },
    {
     "name": "stderr",
     "output_type": "stream",
     "text": [
      "100%|█████████████████████████████████████████████| 2/2 [00:02<00:00,  1.15s/it]\n"
     ]
    },
    {
     "name": "stdout",
     "output_type": "stream",
     "text": [
      "------------------------------------------\n",
      "Block: 102/128\n",
      "Flag shape: (1024, 505, 2) || block size: 8273920\n"
     ]
    },
    {
     "name": "stderr",
     "output_type": "stream",
     "text": [
      "100%|█████████████████████████████████████████████| 2/2 [00:02<00:00,  1.15s/it]\n"
     ]
    },
    {
     "name": "stdout",
     "output_type": "stream",
     "text": [
      "------------------------------------------\n",
      "Block: 103/128\n",
      "Flag shape: (1024, 505, 2) || block size: 8273920\n"
     ]
    },
    {
     "name": "stderr",
     "output_type": "stream",
     "text": [
      "100%|█████████████████████████████████████████████| 2/2 [00:02<00:00,  1.11s/it]\n"
     ]
    },
    {
     "name": "stdout",
     "output_type": "stream",
     "text": [
      "------------------------------------------\n",
      "Block: 104/128\n",
      "Flag shape: (1024, 505, 2) || block size: 8273920\n"
     ]
    },
    {
     "name": "stderr",
     "output_type": "stream",
     "text": [
      "100%|█████████████████████████████████████████████| 2/2 [00:02<00:00,  1.12s/it]\n"
     ]
    },
    {
     "name": "stdout",
     "output_type": "stream",
     "text": [
      "------------------------------------------\n",
      "Block: 105/128\n",
      "Flag shape: (1024, 505, 2) || block size: 8273920\n"
     ]
    },
    {
     "name": "stderr",
     "output_type": "stream",
     "text": [
      "100%|█████████████████████████████████████████████| 2/2 [00:02<00:00,  1.19s/it]\n"
     ]
    },
    {
     "name": "stdout",
     "output_type": "stream",
     "text": [
      "------------------------------------------\n",
      "Block: 106/128\n",
      "Flag shape: (1024, 505, 2) || block size: 8273920\n"
     ]
    },
    {
     "name": "stderr",
     "output_type": "stream",
     "text": [
      "100%|█████████████████████████████████████████████| 2/2 [00:02<00:00,  1.13s/it]\n"
     ]
    },
    {
     "name": "stdout",
     "output_type": "stream",
     "text": [
      "------------------------------------------\n",
      "Block: 107/128\n",
      "Flag shape: (1024, 505, 2) || block size: 8273920\n"
     ]
    },
    {
     "name": "stderr",
     "output_type": "stream",
     "text": [
      "100%|█████████████████████████████████████████████| 2/2 [00:02<00:00,  1.15s/it]\n"
     ]
    },
    {
     "name": "stdout",
     "output_type": "stream",
     "text": [
      "------------------------------------------\n",
      "Block: 108/128\n",
      "Flag shape: (1024, 505, 2) || block size: 8273920\n"
     ]
    },
    {
     "name": "stderr",
     "output_type": "stream",
     "text": [
      "100%|█████████████████████████████████████████████| 2/2 [00:02<00:00,  1.14s/it]\n"
     ]
    },
    {
     "name": "stdout",
     "output_type": "stream",
     "text": [
      "------------------------------------------\n",
      "Block: 109/128\n",
      "Flag shape: (1024, 505, 2) || block size: 8273920\n"
     ]
    },
    {
     "name": "stderr",
     "output_type": "stream",
     "text": [
      "100%|█████████████████████████████████████████████| 2/2 [00:02<00:00,  1.12s/it]\n"
     ]
    },
    {
     "name": "stdout",
     "output_type": "stream",
     "text": [
      "------------------------------------------\n",
      "Block: 110/128\n",
      "Flag shape: (1024, 505, 2) || block size: 8273920\n"
     ]
    },
    {
     "name": "stderr",
     "output_type": "stream",
     "text": [
      "100%|█████████████████████████████████████████████| 2/2 [00:02<00:00,  1.14s/it]\n"
     ]
    },
    {
     "name": "stdout",
     "output_type": "stream",
     "text": [
      "------------------------------------------\n",
      "Block: 111/128\n",
      "Flag shape: (1024, 505, 2) || block size: 8273920\n"
     ]
    },
    {
     "name": "stderr",
     "output_type": "stream",
     "text": [
      "100%|█████████████████████████████████████████████| 2/2 [00:02<00:00,  1.10s/it]\n"
     ]
    },
    {
     "name": "stdout",
     "output_type": "stream",
     "text": [
      "------------------------------------------\n",
      "Block: 112/128\n",
      "Flag shape: (1024, 505, 2) || block size: 8273920\n"
     ]
    },
    {
     "name": "stderr",
     "output_type": "stream",
     "text": [
      "100%|█████████████████████████████████████████████| 2/2 [00:02<00:00,  1.12s/it]\n"
     ]
    },
    {
     "name": "stdout",
     "output_type": "stream",
     "text": [
      "------------------------------------------\n",
      "Block: 113/128\n",
      "Flag shape: (1024, 505, 2) || block size: 8273920\n"
     ]
    },
    {
     "name": "stderr",
     "output_type": "stream",
     "text": [
      "100%|█████████████████████████████████████████████| 2/2 [00:02<00:00,  1.10s/it]\n"
     ]
    },
    {
     "name": "stdout",
     "output_type": "stream",
     "text": [
      "------------------------------------------\n",
      "Block: 114/128\n",
      "Flag shape: (1024, 505, 2) || block size: 8273920\n"
     ]
    },
    {
     "name": "stderr",
     "output_type": "stream",
     "text": [
      "100%|█████████████████████████████████████████████| 2/2 [00:02<00:00,  1.10s/it]\n"
     ]
    },
    {
     "name": "stdout",
     "output_type": "stream",
     "text": [
      "------------------------------------------\n",
      "Block: 115/128\n",
      "Flag shape: (1024, 505, 2) || block size: 8273920\n"
     ]
    },
    {
     "name": "stderr",
     "output_type": "stream",
     "text": [
      "100%|█████████████████████████████████████████████| 2/2 [00:02<00:00,  1.07s/it]\n"
     ]
    },
    {
     "name": "stdout",
     "output_type": "stream",
     "text": [
      "------------------------------------------\n",
      "Block: 116/128\n",
      "Flag shape: (1024, 505, 2) || block size: 8273920\n"
     ]
    },
    {
     "name": "stderr",
     "output_type": "stream",
     "text": [
      "100%|█████████████████████████████████████████████| 2/2 [00:02<00:00,  1.15s/it]\n"
     ]
    },
    {
     "name": "stdout",
     "output_type": "stream",
     "text": [
      "------------------------------------------\n",
      "Block: 117/128\n",
      "Flag shape: (1024, 505, 2) || block size: 8273920\n"
     ]
    },
    {
     "name": "stderr",
     "output_type": "stream",
     "text": [
      "100%|█████████████████████████████████████████████| 2/2 [00:02<00:00,  1.14s/it]\n"
     ]
    },
    {
     "name": "stdout",
     "output_type": "stream",
     "text": [
      "------------------------------------------\n",
      "Block: 118/128\n",
      "Flag shape: (1024, 505, 2) || block size: 8273920\n"
     ]
    },
    {
     "name": "stderr",
     "output_type": "stream",
     "text": [
      "100%|█████████████████████████████████████████████| 2/2 [00:02<00:00,  1.14s/it]\n"
     ]
    },
    {
     "name": "stdout",
     "output_type": "stream",
     "text": [
      "------------------------------------------\n",
      "Block: 119/128\n",
      "Flag shape: (1024, 505, 2) || block size: 8273920\n"
     ]
    },
    {
     "name": "stderr",
     "output_type": "stream",
     "text": [
      "100%|█████████████████████████████████████████████| 2/2 [00:02<00:00,  1.12s/it]\n"
     ]
    },
    {
     "name": "stdout",
     "output_type": "stream",
     "text": [
      "------------------------------------------\n",
      "Block: 120/128\n",
      "Flag shape: (1024, 505, 2) || block size: 8273920\n"
     ]
    },
    {
     "name": "stderr",
     "output_type": "stream",
     "text": [
      "100%|█████████████████████████████████████████████| 2/2 [00:02<00:00,  1.10s/it]\n"
     ]
    },
    {
     "name": "stdout",
     "output_type": "stream",
     "text": [
      "------------------------------------------\n",
      "Block: 121/128\n",
      "Flag shape: (1024, 505, 2) || block size: 8273920\n"
     ]
    },
    {
     "name": "stderr",
     "output_type": "stream",
     "text": [
      "100%|█████████████████████████████████████████████| 2/2 [00:02<00:00,  1.10s/it]\n"
     ]
    },
    {
     "name": "stdout",
     "output_type": "stream",
     "text": [
      "------------------------------------------\n",
      "Block: 122/128\n",
      "Flag shape: (1024, 505, 2) || block size: 8273920\n"
     ]
    },
    {
     "name": "stderr",
     "output_type": "stream",
     "text": [
      "100%|█████████████████████████████████████████████| 2/2 [00:02<00:00,  1.07s/it]\n"
     ]
    },
    {
     "name": "stdout",
     "output_type": "stream",
     "text": [
      "------------------------------------------\n",
      "Block: 123/128\n",
      "Flag shape: (1024, 505, 2) || block size: 8273920\n"
     ]
    },
    {
     "name": "stderr",
     "output_type": "stream",
     "text": [
      "100%|█████████████████████████████████████████████| 2/2 [00:02<00:00,  1.07s/it]\n"
     ]
    },
    {
     "name": "stdout",
     "output_type": "stream",
     "text": [
      "------------------------------------------\n",
      "Block: 124/128\n",
      "Flag shape: (1024, 505, 2) || block size: 8273920\n"
     ]
    },
    {
     "name": "stderr",
     "output_type": "stream",
     "text": [
      "100%|█████████████████████████████████████████████| 2/2 [00:02<00:00,  1.07s/it]\n"
     ]
    },
    {
     "name": "stdout",
     "output_type": "stream",
     "text": [
      "------------------------------------------\n",
      "Block: 125/128\n",
      "Flag shape: (1024, 505, 2) || block size: 8273920\n"
     ]
    },
    {
     "name": "stderr",
     "output_type": "stream",
     "text": [
      "100%|█████████████████████████████████████████████| 2/2 [00:02<00:00,  1.09s/it]\n"
     ]
    },
    {
     "name": "stdout",
     "output_type": "stream",
     "text": [
      "------------------------------------------\n",
      "Block: 126/128\n",
      "Flag shape: (1024, 505, 2) || block size: 8273920\n"
     ]
    },
    {
     "name": "stderr",
     "output_type": "stream",
     "text": [
      "100%|█████████████████████████████████████████████| 2/2 [00:02<00:00,  1.08s/it]\n"
     ]
    },
    {
     "name": "stdout",
     "output_type": "stream",
     "text": [
      "------------------------------------------\n",
      "Block: 127/128\n",
      "Flag shape: (1024, 505, 2) || block size: 8273920\n"
     ]
    },
    {
     "name": "stderr",
     "output_type": "stream",
     "text": [
      "100%|█████████████████████████████████████████████| 2/2 [00:02<00:00,  1.09s/it]\n"
     ]
    },
    {
     "name": "stdout",
     "output_type": "stream",
     "text": [
      "------------------------------------------\n",
      "Block: 128/128\n",
      "Flag shape: (1024, 505, 2) || block size: 8273920\n"
     ]
    },
    {
     "name": "stderr",
     "output_type": "stream",
     "text": [
      "100%|█████████████████████████████████████████████| 2/2 [00:02<00:00,  1.11s/it]\n"
     ]
    },
    {
     "name": "stdout",
     "output_type": "stream",
     "text": [
      "Flags: /data/scratch/IQRMresults/npy_results/000_flags_IQRM_r5_t3.0_std_b512_.npy\n",
      "Spect: /data/scratch/IQRMresults/npy_results/000_spect_IQRM_r5_t3.0_std_b512_.npy\n",
      "Regen: /data/scratch/IQRMresults/npy_results/000_regen_IQRM_r5_t3.0_std_b512_.npy\n",
      "Pol0: 1.594232238165223% of data outside acceptable ranges\n",
      "Pol1: 1.6811423726601173% of data outside acceptable ranges\n",
      "Union of flags: 1.6376873054126702% of data flagged\n",
      "Duration: 108.92 minutes\n"
     ]
    }
   ],
   "source": [
    "import numpy as np\n",
    "\n",
    "#import matplotlib.pyplot as plt\n",
    "#%matplotlib qt\n",
    "import importlib\n",
    "\n",
    "rfimit = importlib.import_module('rfi-mitigation')\n",
    "\n",
    "uhh = rfimit.rfi_iqrm('vegas_60285_86073_B0355+54_0016.0000.raw', 'nans', IQRM_radius=5, IQRM_threshold=3.0, IQRM_datatype=\"std\", IQRM_breakdown=512, cust='', output_bool = True, mb=1, rawdata=False, ave_factor = 512)\n",
    "\n",
    "\n",
    "uhh.run_all()"
   ]
  },
  {
   "cell_type": "code",
   "execution_count": null,
   "id": "b3832f59-8de7-4ac7-8800-b0ff289153b6",
   "metadata": {},
   "outputs": [],
   "source": [
    "rad = [50, 500, 5000, 50000, 500000]\n",
    "for i in range(len(rad)):\n",
    "    uhh = rfimit.rfi_iqrm('vegas_60285_86073_B0355+54_0016.0000.raw', 'nans', IQRM_radius=rad, IQRM_threshold=3.0, IQRM_datatype=\"std\", IQRM_breakdown=512, cust='', output_bool = True, mb=1, rawdata=False, ave_factor = 512)\n",
    "    \n",
    "    \n",
    "    uhh.run_all()\n",
    "\n",
    "\n"
   ]
  },
  {
   "cell_type": "code",
   "execution_count": null,
   "id": "a273db34-b776-4f6c-8ccc-a105c507b107",
   "metadata": {},
   "outputs": [],
   "source": [
    "t = [2.5, 2, 1.5, 1.0]\n",
    "for i in range(len(t)):\n",
    "    uhh = rfimit.rfi_iqrm('vegas_60285_86073_B0355+54_0016.0000.raw', 'nans', IQRM_radius=5, IQRM_threshold=t, IQRM_datatype=\"std\", IQRM_breakdown=512, cust='', output_bool = True, mb=1, rawdata=False, ave_factor = 512)\n",
    "    \n",
    "    \n",
    "    uhh.run_all()"
   ]
  },
  {
   "cell_type": "code",
   "execution_count": null,
   "id": "d254d2fa-879d-4c62-9a65-4113b9c4940c",
   "metadata": {},
   "outputs": [],
   "source": [
    "b = [256, 808, 1010, 1616, 2020, 2560]\n",
    "for i in range(len(b)):\n",
    "    uhh = rfimit.rfi_iqrm('vegas_60285_86073_B0355+54_0016.0000.raw', 'nans', IQRM_radius=5, IQRM_threshold=3.0, IQRM_datatype=\"std\", IQRM_breakdown=b, cust='', output_bool = True, mb=1, rawdata=False, ave_factor = 512)\n",
    "    \n",
    "    \n",
    "    uhh.run_all()"
   ]
  },
  {
   "cell_type": "code",
   "execution_count": null,
   "id": "cb9b6c1e-5c6d-4c0d-b2fc-df14bd8710da",
   "metadata": {},
   "outputs": [],
   "source": []
  }
 ],
 "metadata": {
  "kernelspec": {
   "display_name": "Python (kait)",
   "language": "python",
   "name": "kait"
  },
  "language_info": {
   "codemirror_mode": {
    "name": "ipython",
    "version": 3
   },
   "file_extension": ".py",
   "mimetype": "text/x-python",
   "name": "python",
   "nbconvert_exporter": "python",
   "pygments_lexer": "ipython3",
   "version": "3.9.19"
  }
 },
 "nbformat": 4,
 "nbformat_minor": 5
}
