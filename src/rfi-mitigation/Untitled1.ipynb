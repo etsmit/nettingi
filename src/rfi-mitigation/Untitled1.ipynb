{
 "cells": [
  {
   "cell_type": "code",
   "execution_count": 1,
   "id": "b73e8a1e",
   "metadata": {},
   "outputs": [],
   "source": [
    "\n",
    "import numpy as np\n",
    "def read_flags(ff):\n",
    "\tf = np.load(ff)\n",
    "\txf = np.around(100*np.mean(f[:,:,0]),2)\n",
    "\tyf = np.around(100*np.mean(f[:,:,1]),2)\n",
    "\tprint(f'{xf}/{yf}% flagged')\n",
    "\tf_union = np.copy(f)\n",
    "\tf_union[:,:,0][f_union[:,:,1]==1]=1\n",
    "\tuf = np.around(100*np.mean(f_union[:,:,0]),2)\n",
    "\tprint(f'Union of flags: {uf}% of data flagged')"
   ]
  },
  {
   "cell_type": "code",
   "execution_count": 8,
   "id": "17a48352",
   "metadata": {},
   "outputs": [
    {
     "name": "stdout",
     "output_type": "stream",
     "text": [
      "2.74/2.74% flagged\n",
      "Union of flags: 5.31% of data flagged\n"
     ]
    }
   ],
   "source": [
    "read_flags('/data/scratch/IQRMresults/npy_results/.0000_flags_IQRM_r500000_t3.0_std_b512_.npy')\n"
   ]
  },
  {
   "cell_type": "code",
   "execution_count": 1,
   "id": "170e7b1b",
   "metadata": {},
   "outputs": [],
   "source": [
    "import plotting"
   ]
  },
  {
   "cell_type": "code",
   "execution_count": 2,
   "id": "0e740300",
   "metadata": {},
   "outputs": [],
   "source": [
    "plotting.pkl_plot(['/data/scratch/SKresults/spectra/vegas_60299_76099_B0329+54_0004.0000.20.spec.pkl','/data/scratch/IQRMresults/vegas_60299_76099_B0329+54_0004.0000.20.spec.pkl'], labels = ['Unmitigated B0329', 'Mitigated B0329'])"
   ]
  },
  {
   "cell_type": "code",
   "execution_count": 3,
   "id": "87e34fb4",
   "metadata": {},
   "outputs": [],
   "source": [
    "\n",
    "\n",
    "plotting.pkl_plot(['/data/scratch/IQRMresults/vegas_58966_25728_J1713+0747_0080_unmitigated.0000.20.spec.pkl','/data/scratch/IQRMresults/vegas_58966_25728_J1713+0747_0080.0000_IQRM_stats_r5_t3.0_std_b512_mb1_.20.spec.pkl'], labels = ['Unmitigated J1713', 'Mitigated J1713'])\n",
    "\n"
   ]
  },
  {
   "cell_type": "code",
   "execution_count": 29,
   "id": "d0da7909",
   "metadata": {},
   "outputs": [
    {
     "ename": "FileNotFoundError",
     "evalue": "[Errno 2] No such file or directory: '/data/scratch/IQRMresults/npy_results/vegas_60299_76099_B0329+54_0004.0000_spect_IQRM_r500_t3.0_std_b512_.npy'",
     "output_type": "error",
     "traceback": [
      "\u001b[0;31m---------------------------------------------------------------------------\u001b[0m",
      "\u001b[0;31mFileNotFoundError\u001b[0m                         Traceback (most recent call last)",
      "Cell \u001b[0;32mIn[29], line 3\u001b[0m\n\u001b[1;32m      1\u001b[0m \u001b[38;5;28;01mimport\u001b[39;00m \u001b[38;5;21;01mos\u001b[39;00m\n\u001b[1;32m      2\u001b[0m \u001b[38;5;28;01mimport\u001b[39;00m \u001b[38;5;21;01mnumpy\u001b[39;00m \u001b[38;5;28;01mas\u001b[39;00m \u001b[38;5;21;01mnp\u001b[39;00m\n\u001b[0;32m----> 3\u001b[0m s \u001b[38;5;241m=\u001b[39m \u001b[43mnp\u001b[49m\u001b[38;5;241;43m.\u001b[39;49m\u001b[43mload\u001b[49m\u001b[43m(\u001b[49m\u001b[38;5;124;43m'\u001b[39;49m\u001b[38;5;124;43m/data/scratch/IQRMresults/npy_results/vegas_60299_76099_B0329+54_0004.0000_spect_IQRM_r500_t3.0_std_b512_.npy\u001b[39;49m\u001b[38;5;124;43m'\u001b[39;49m\u001b[43m)\u001b[49m\n\u001b[1;32m      4\u001b[0m flags \u001b[38;5;241m=\u001b[39m np\u001b[38;5;241m.\u001b[39mload(\u001b[38;5;124m'\u001b[39m\u001b[38;5;124m/data/scratch/IQRMresults/npy_results/vegas_60299_76099_B0329+54_0004.0000_flags_IQRM_r500_t3.0_std_b512_.npy\u001b[39m\u001b[38;5;124m'\u001b[39m)\n\u001b[1;32m      6\u001b[0m s[flags\u001b[38;5;241m==\u001b[39m\u001b[38;5;241m1\u001b[39m]\u001b[38;5;241m=\u001b[39m\u001b[38;5;241m1e-3\u001b[39m\n",
      "File \u001b[0;32m~/.conda/envs/kait/lib/python3.9/site-packages/numpy/lib/npyio.py:427\u001b[0m, in \u001b[0;36mload\u001b[0;34m(file, mmap_mode, allow_pickle, fix_imports, encoding, max_header_size)\u001b[0m\n\u001b[1;32m    425\u001b[0m     own_fid \u001b[38;5;241m=\u001b[39m \u001b[38;5;28;01mFalse\u001b[39;00m\n\u001b[1;32m    426\u001b[0m \u001b[38;5;28;01melse\u001b[39;00m:\n\u001b[0;32m--> 427\u001b[0m     fid \u001b[38;5;241m=\u001b[39m stack\u001b[38;5;241m.\u001b[39menter_context(\u001b[38;5;28;43mopen\u001b[39;49m\u001b[43m(\u001b[49m\u001b[43mos_fspath\u001b[49m\u001b[43m(\u001b[49m\u001b[43mfile\u001b[49m\u001b[43m)\u001b[49m\u001b[43m,\u001b[49m\u001b[43m \u001b[49m\u001b[38;5;124;43m\"\u001b[39;49m\u001b[38;5;124;43mrb\u001b[39;49m\u001b[38;5;124;43m\"\u001b[39;49m\u001b[43m)\u001b[49m)\n\u001b[1;32m    428\u001b[0m     own_fid \u001b[38;5;241m=\u001b[39m \u001b[38;5;28;01mTrue\u001b[39;00m\n\u001b[1;32m    430\u001b[0m \u001b[38;5;66;03m# Code to distinguish from NumPy binary files and pickles.\u001b[39;00m\n",
      "\u001b[0;31mFileNotFoundError\u001b[0m: [Errno 2] No such file or directory: '/data/scratch/IQRMresults/npy_results/vegas_60299_76099_B0329+54_0004.0000_spect_IQRM_r500_t3.0_std_b512_.npy'"
     ]
    }
   ],
   "source": [
    "import os\n",
    "import numpy as np\n",
    "s = np.load('/data/scratch/IQRMresults/npy_results/vegas_60299_76099_B0329+54_0004.0000_spect_IQRM_r500_t3.0_std_b512_.npy')\n",
    "flags = np.load('/data/scratch/IQRMresults/npy_results/vegas_60299_76099_B0329+54_0004.0000_flags_IQRM_r500_t3.0_std_b512_.npy')\n",
    "\n",
    "s[flags==1]=1e-3\n",
    "s= np.log10(s[:,:,1])\n",
    "\n",
    "\n",
    "plotting.implot(s,rf=1500,bw=800,M=512,vmin=2.2,vmax=3.2)"
   ]
  },
  {
   "cell_type": "code",
   "execution_count": 31,
   "id": "a7f02510",
   "metadata": {},
   "outputs": [],
   "source": [
    "import numpy as np\n",
    "\n",
    "#import matplotlib.pyplot as plt\n",
    "#%matplotlib qt\n",
    "import importlib\n",
    "\n",
    "rfimit = importlib.import_module('rfi-mitigation')\n",
    "\n"
   ]
  },
  {
   "cell_type": "code",
   "execution_count": 29,
   "id": "69fbc668",
   "metadata": {},
   "outputs": [
    {
     "name": "stdout",
     "output_type": "stream",
     "text": [
      "42614.12864\n"
     ]
    }
   ],
   "source": [
    "import plotting\n",
    "import os\n",
    "import numpy as np\n",
    "s = np.load('/data/scratch/IQRMresults/npy_results/vegas_58966_25728_J1713+0747_0080.0000_spect_IQRM_r500_t3.0_std_b512_.npy')\n",
    "flags = np.load('/data/scratch/IQRMresults/npy_results/vegas_58966_25728_J1713+0747_0080.0000_flags_IQRM_r500_t3.0_std_b512_.npy')\n",
    "\n",
    "s[flags==1]=1e-3\n",
    "s= np.log10(s[:,:,0])\n",
    "\n",
    "\n",
    "plotting.implot(s,rf=1500,bw=800,M=512,vmin=2.2,vmax=3.2)\n",
    "    "
   ]
  },
  {
   "cell_type": "code",
   "execution_count": 15,
   "id": "0bcbe317",
   "metadata": {},
   "outputs": [
    {
     "name": "stdout",
     "output_type": "stream",
     "text": [
      "/data/scratch/IQRMresults/npy_results/.0000_flags_IQRM_r50000_t3.0_std_b512_.npy\n",
      "/data/scratch/IQRMresults/npy_results/vegas_58966_25728_J1713+0747_0080.0000_flags_IQRM_r50000_t3.0_std_b512_.npy\n",
      "/data/scratch/IQRMresults/npy_results/.0000_flags_IQRM_r5_t3.0_std_b512_.npy\n",
      "/data/scratch/IQRMresults/npy_results/vegas_58966_25728_J1713+0747_0080.0000_flags_IQRM_r5_t3.0_std_b512_.npy\n",
      "/data/scratch/IQRMresults/npy_results/.0000_spect_IQRM_r5_t3.0_std_b512_.npy\n",
      "/data/scratch/IQRMresults/npy_results/vegas_58966_25728_J1713+0747_0080.0000_spect_IQRM_r5_t3.0_std_b512_.npy\n",
      "/data/scratch/IQRMresults/npy_results/.0000_regen_IQRM_r5_t3.0_std_b512_.npy\n",
      "/data/scratch/IQRMresults/npy_results/vegas_58966_25728_J1713+0747_0080.0000_regen_IQRM_r5_t3.0_std_b512_.npy\n",
      "/data/scratch/IQRMresults/npy_results/.0000_flags_IQRM_r50_t3.0_std_b512_.npy\n",
      "/data/scratch/IQRMresults/npy_results/vegas_58966_25728_J1713+0747_0080.0000_flags_IQRM_r50_t3.0_std_b512_.npy\n",
      "/data/scratch/IQRMresults/npy_results/.0000_spect_IQRM_r50_t3.0_std_b512_.npy\n",
      "/data/scratch/IQRMresults/npy_results/vegas_58966_25728_J1713+0747_0080.0000_spect_IQRM_r50_t3.0_std_b512_.npy\n",
      "/data/scratch/IQRMresults/npy_results/.0000_regen_IQRM_r50_t3.0_std_b512_.npy\n",
      "/data/scratch/IQRMresults/npy_results/vegas_58966_25728_J1713+0747_0080.0000_regen_IQRM_r50_t3.0_std_b512_.npy\n",
      "/data/scratch/IQRMresults/npy_results/.0000_flags_IQRM_r500_t3.0_std_b512_.npy\n",
      "/data/scratch/IQRMresults/npy_results/vegas_58966_25728_J1713+0747_0080.0000_flags_IQRM_r500_t3.0_std_b512_.npy\n",
      "/data/scratch/IQRMresults/npy_results/.0000_spect_IQRM_r500_t3.0_std_b512_.npy\n",
      "/data/scratch/IQRMresults/npy_results/vegas_58966_25728_J1713+0747_0080.0000_spect_IQRM_r500_t3.0_std_b512_.npy\n",
      "/data/scratch/IQRMresults/npy_results/.0000_regen_IQRM_r500_t3.0_std_b512_.npy\n",
      "/data/scratch/IQRMresults/npy_results/vegas_58966_25728_J1713+0747_0080.0000_regen_IQRM_r500_t3.0_std_b512_.npy\n",
      "/data/scratch/IQRMresults/npy_results/.0000_flags_IQRM_r5000_t3.0_std_b512_.npy\n",
      "/data/scratch/IQRMresults/npy_results/vegas_58966_25728_J1713+0747_0080.0000_flags_IQRM_r5000_t3.0_std_b512_.npy\n",
      "/data/scratch/IQRMresults/npy_results/.0000_spect_IQRM_r5000_t3.0_std_b512_.npy\n",
      "/data/scratch/IQRMresults/npy_results/vegas_58966_25728_J1713+0747_0080.0000_spect_IQRM_r5000_t3.0_std_b512_.npy\n",
      "/data/scratch/IQRMresults/npy_results/.0000_regen_IQRM_r5000_t3.0_std_b512_.npy\n",
      "/data/scratch/IQRMresults/npy_results/vegas_58966_25728_J1713+0747_0080.0000_regen_IQRM_r5000_t3.0_std_b512_.npy\n",
      "/data/scratch/IQRMresults/npy_results/.0000_spect_IQRM_r50000_t3.0_std_b512_.npy\n",
      "/data/scratch/IQRMresults/npy_results/vegas_58966_25728_J1713+0747_0080.0000_spect_IQRM_r50000_t3.0_std_b512_.npy\n",
      "/data/scratch/IQRMresults/npy_results/.0000_regen_IQRM_r50000_t3.0_std_b512_.npy\n",
      "/data/scratch/IQRMresults/npy_results/vegas_58966_25728_J1713+0747_0080.0000_regen_IQRM_r50000_t3.0_std_b512_.npy\n",
      "/data/scratch/IQRMresults/npy_results/.0000_flags_IQRM_r500000_t3.0_std_b512_.npy\n",
      "/data/scratch/IQRMresults/npy_results/vegas_58966_25728_J1713+0747_0080.0000_flags_IQRM_r500000_t3.0_std_b512_.npy\n",
      "/data/scratch/IQRMresults/npy_results/.0000_spect_IQRM_r500000_t3.0_std_b512_.npy\n",
      "/data/scratch/IQRMresults/npy_results/vegas_58966_25728_J1713+0747_0080.0000_spect_IQRM_r500000_t3.0_std_b512_.npy\n",
      "/data/scratch/IQRMresults/npy_results/.0000_regen_IQRM_r500000_t3.0_std_b512_.npy\n",
      "/data/scratch/IQRMresults/npy_results/vegas_58966_25728_J1713+0747_0080.0000_regen_IQRM_r500000_t3.0_std_b512_.npy\n",
      "/data/scratch/IQRMresults/npy_results/.0000_flags_IQRM_r5_t2.5_std_b512_.npy\n",
      "/data/scratch/IQRMresults/npy_results/vegas_58966_25728_J1713+0747_0080.0000_flags_IQRM_r5_t2.5_std_b512_.npy\n",
      "/data/scratch/IQRMresults/npy_results/.0000_spect_IQRM_r5_t2.5_std_b512_.npy\n",
      "/data/scratch/IQRMresults/npy_results/vegas_58966_25728_J1713+0747_0080.0000_spect_IQRM_r5_t2.5_std_b512_.npy\n",
      "/data/scratch/IQRMresults/npy_results/.0000_regen_IQRM_r5_t2.5_std_b512_.npy\n",
      "/data/scratch/IQRMresults/npy_results/vegas_58966_25728_J1713+0747_0080.0000_regen_IQRM_r5_t2.5_std_b512_.npy\n",
      "/data/scratch/IQRMresults/npy_results/.0000_flags_IQRM_r5_t2.0_std_b512_.npy\n",
      "/data/scratch/IQRMresults/npy_results/vegas_58966_25728_J1713+0747_0080.0000_flags_IQRM_r5_t2.0_std_b512_.npy\n",
      "/data/scratch/IQRMresults/npy_results/.0000_spect_IQRM_r5_t2.0_std_b512_.npy\n",
      "/data/scratch/IQRMresults/npy_results/vegas_58966_25728_J1713+0747_0080.0000_spect_IQRM_r5_t2.0_std_b512_.npy\n",
      "/data/scratch/IQRMresults/npy_results/.0000_regen_IQRM_r5_t2.0_std_b512_.npy\n",
      "/data/scratch/IQRMresults/npy_results/vegas_58966_25728_J1713+0747_0080.0000_regen_IQRM_r5_t2.0_std_b512_.npy\n",
      "/data/scratch/IQRMresults/npy_results/.0000_flags_IQRM_r5_t1.5_std_b512_.npy\n",
      "/data/scratch/IQRMresults/npy_results/vegas_58966_25728_J1713+0747_0080.0000_flags_IQRM_r5_t1.5_std_b512_.npy\n",
      "/data/scratch/IQRMresults/npy_results/.0000_spect_IQRM_r5_t1.5_std_b512_.npy\n",
      "/data/scratch/IQRMresults/npy_results/vegas_58966_25728_J1713+0747_0080.0000_spect_IQRM_r5_t1.5_std_b512_.npy\n",
      "/data/scratch/IQRMresults/npy_results/.0000_regen_IQRM_r5_t1.5_std_b512_.npy\n",
      "/data/scratch/IQRMresults/npy_results/vegas_58966_25728_J1713+0747_0080.0000_regen_IQRM_r5_t1.5_std_b512_.npy\n",
      "/data/scratch/IQRMresults/npy_results/.0000_flags_IQRM_r5_t1.0_std_b512_.npy\n",
      "/data/scratch/IQRMresults/npy_results/vegas_58966_25728_J1713+0747_0080.0000_flags_IQRM_r5_t1.0_std_b512_.npy\n",
      "/data/scratch/IQRMresults/npy_results/.0000_spect_IQRM_r5_t1.0_std_b512_.npy\n",
      "/data/scratch/IQRMresults/npy_results/vegas_58966_25728_J1713+0747_0080.0000_spect_IQRM_r5_t1.0_std_b512_.npy\n",
      "/data/scratch/IQRMresults/npy_results/.0000_regen_IQRM_r5_t1.0_std_b512_.npy\n",
      "/data/scratch/IQRMresults/npy_results/vegas_58966_25728_J1713+0747_0080.0000_regen_IQRM_r5_t1.0_std_b512_.npy\n",
      "/data/scratch/IQRMresults/npy_results/.0000_flags_IQRM_r5_t3_std_b256_.npy\n",
      "/data/scratch/IQRMresults/npy_results/vegas_58966_25728_J1713+0747_0080.0000_flags_IQRM_r5_t3_std_b256_.npy\n",
      "/data/scratch/IQRMresults/npy_results/.0000_spect_IQRM_r5_t3_std_b256_.npy\n",
      "/data/scratch/IQRMresults/npy_results/vegas_58966_25728_J1713+0747_0080.0000_spect_IQRM_r5_t3_std_b256_.npy\n",
      "/data/scratch/IQRMresults/npy_results/.0000_regen_IQRM_r5_t3_std_b256_.npy\n",
      "/data/scratch/IQRMresults/npy_results/vegas_58966_25728_J1713+0747_0080.0000_regen_IQRM_r5_t3_std_b256_.npy\n",
      "/data/scratch/IQRMresults/npy_results/.0000_flags_IQRM_r5_t3_std_b1016_.npy\n",
      "/data/scratch/IQRMresults/npy_results/vegas_58966_25728_J1713+0747_0080.0000_flags_IQRM_r5_t3_std_b1016_.npy\n",
      "/data/scratch/IQRMresults/npy_results/.0000_spect_IQRM_r5_t3_std_b1016_.npy\n",
      "/data/scratch/IQRMresults/npy_results/vegas_58966_25728_J1713+0747_0080.0000_spect_IQRM_r5_t3_std_b1016_.npy\n",
      "/data/scratch/IQRMresults/npy_results/.0000_regen_IQRM_r5_t3_std_b1016_.npy\n",
      "/data/scratch/IQRMresults/npy_results/vegas_58966_25728_J1713+0747_0080.0000_regen_IQRM_r5_t3_std_b1016_.npy\n",
      "/data/scratch/IQRMresults/npy_results/.0000_flags_IQRM_r5_t3_std_b2032_.npy\n",
      "/data/scratch/IQRMresults/npy_results/vegas_58966_25728_J1713+0747_0080.0000_flags_IQRM_r5_t3_std_b2032_.npy\n",
      "/data/scratch/IQRMresults/npy_results/.0000_spect_IQRM_r5_t3_std_b2032_.npy\n",
      "/data/scratch/IQRMresults/npy_results/vegas_58966_25728_J1713+0747_0080.0000_spect_IQRM_r5_t3_std_b2032_.npy\n",
      "/data/scratch/IQRMresults/npy_results/.0000_regen_IQRM_r5_t3_std_b2032_.npy\n",
      "/data/scratch/IQRMresults/npy_results/vegas_58966_25728_J1713+0747_0080.0000_regen_IQRM_r5_t3_std_b2032_.npy\n",
      "/data/scratch/IQRMresults/npy_results/.0000_flags_IQRM_r5_t3_std_b4064_.npy\n",
      "/data/scratch/IQRMresults/npy_results/vegas_58966_25728_J1713+0747_0080.0000_flags_IQRM_r5_t3_std_b4064_.npy\n",
      "/data/scratch/IQRMresults/npy_results/.0000_spect_IQRM_r5_t3_std_b4064_.npy\n",
      "/data/scratch/IQRMresults/npy_results/vegas_58966_25728_J1713+0747_0080.0000_spect_IQRM_r5_t3_std_b4064_.npy\n",
      "/data/scratch/IQRMresults/npy_results/.0000_regen_IQRM_r5_t3_std_b4064_.npy\n",
      "/data/scratch/IQRMresults/npy_results/vegas_58966_25728_J1713+0747_0080.0000_regen_IQRM_r5_t3_std_b4064_.npy\n",
      "/data/scratch/IQRMresults/npy_results/.0000_flags_IQRM_r5_t3_std_b8128_.npy\n",
      "/data/scratch/IQRMresults/npy_results/vegas_58966_25728_J1713+0747_0080.0000_flags_IQRM_r5_t3_std_b8128_.npy\n",
      "/data/scratch/IQRMresults/npy_results/.0000_spect_IQRM_r5_t3_std_b8128_.npy\n",
      "/data/scratch/IQRMresults/npy_results/vegas_58966_25728_J1713+0747_0080.0000_spect_IQRM_r5_t3_std_b8128_.npy\n",
      "/data/scratch/IQRMresults/npy_results/.0000_regen_IQRM_r5_t3_std_b8128_.npy\n",
      "/data/scratch/IQRMresults/npy_results/vegas_58966_25728_J1713+0747_0080.0000_regen_IQRM_r5_t3_std_b8128_.npy\n",
      "/data/scratch/IQRMresults/npy_results/.0000_flags_IQRM_r5_t3.5_std_b512_.npy\n",
      "/data/scratch/IQRMresults/npy_results/vegas_58966_25728_J1713+0747_0080.0000_flags_IQRM_r5_t3.5_std_b512_.npy\n",
      "/data/scratch/IQRMresults/npy_results/.0000_spect_IQRM_r5_t3.5_std_b512_.npy\n",
      "/data/scratch/IQRMresults/npy_results/vegas_58966_25728_J1713+0747_0080.0000_spect_IQRM_r5_t3.5_std_b512_.npy\n",
      "/data/scratch/IQRMresults/npy_results/.0000_regen_IQRM_r5_t3.5_std_b512_.npy\n",
      "/data/scratch/IQRMresults/npy_results/vegas_58966_25728_J1713+0747_0080.0000_regen_IQRM_r5_t3.5_std_b512_.npy\n",
      "/data/scratch/IQRMresults/npy_results/.0000_flags_IQRM_r5_t4.0_std_b512_.npy\n",
      "/data/scratch/IQRMresults/npy_results/vegas_58966_25728_J1713+0747_0080.0000_flags_IQRM_r5_t4.0_std_b512_.npy\n",
      "/data/scratch/IQRMresults/npy_results/.0000_spect_IQRM_r5_t4.0_std_b512_.npy\n",
      "/data/scratch/IQRMresults/npy_results/vegas_58966_25728_J1713+0747_0080.0000_spect_IQRM_r5_t4.0_std_b512_.npy\n",
      "/data/scratch/IQRMresults/npy_results/.0000_regen_IQRM_r5_t4.0_std_b512_.npy\n",
      "/data/scratch/IQRMresults/npy_results/vegas_58966_25728_J1713+0747_0080.0000_regen_IQRM_r5_t4.0_std_b512_.npy\n",
      "/data/scratch/IQRMresults/npy_results/.0000_flags_IQRM_r5_t4.5_std_b512_.npy\n",
      "/data/scratch/IQRMresults/npy_results/vegas_58966_25728_J1713+0747_0080.0000_flags_IQRM_r5_t4.5_std_b512_.npy\n",
      "/data/scratch/IQRMresults/npy_results/.0000_spect_IQRM_r5_t4.5_std_b512_.npy\n",
      "/data/scratch/IQRMresults/npy_results/vegas_58966_25728_J1713+0747_0080.0000_spect_IQRM_r5_t4.5_std_b512_.npy\n",
      "/data/scratch/IQRMresults/npy_results/.0000_regen_IQRM_r5_t4.5_std_b512_.npy\n",
      "/data/scratch/IQRMresults/npy_results/vegas_58966_25728_J1713+0747_0080.0000_regen_IQRM_r5_t4.5_std_b512_.npy\n",
      "/data/scratch/IQRMresults/npy_results/.0000_flags_IQRM_r5_t5_std_b512_.npy\n",
      "/data/scratch/IQRMresults/npy_results/vegas_58966_25728_J1713+0747_0080.0000_flags_IQRM_r5_t5_std_b512_.npy\n",
      "/data/scratch/IQRMresults/npy_results/.0000_spect_IQRM_r5_t5_std_b512_.npy\n",
      "/data/scratch/IQRMresults/npy_results/vegas_58966_25728_J1713+0747_0080.0000_spect_IQRM_r5_t5_std_b512_.npy\n",
      "/data/scratch/IQRMresults/npy_results/.0000_regen_IQRM_r5_t5_std_b512_.npy\n",
      "/data/scratch/IQRMresults/npy_results/vegas_58966_25728_J1713+0747_0080.0000_regen_IQRM_r5_t5_std_b512_.npy\n",
      "Renaming complete!\n"
     ]
    }
   ],
   "source": [
    "\n",
    "import os# Directory where your files are located\n",
    "directory = '/data/scratch/IQRMresults/npy_results'# Prefix you want to add\n",
    "prefix = 'vegas_58966_25728_J1713+0747_0080'# Iterate through all files in the directory\n",
    "for filename in os.listdir(directory):\n",
    "    if filename.startswith('.0000'):\n",
    "        # Construct the new filename\n",
    "        new_filename = f\"{prefix}{filename}\"        # Full path for old and new filenames\n",
    "        old_filepath = os.path.join(directory, filename)\n",
    "        new_filepath = os.path.join(directory, new_filename)        # Rename the file\n",
    "        os.rename(old_filepath, new_filepath)\n",
    "        print(old_filepath)\n",
    "        print(new_filepath)\n",
    "print(\"Renaming complete!\")"
   ]
  },
  {
   "cell_type": "code",
   "execution_count": null,
   "id": "0ab45178",
   "metadata": {},
   "outputs": [],
   "source": []
  }
 ],
 "metadata": {
  "kernelspec": {
   "display_name": "Python (kait)",
   "language": "python",
   "name": "kait"
  },
  "language_info": {
   "codemirror_mode": {
    "name": "ipython",
    "version": 3
   },
   "file_extension": ".py",
   "mimetype": "text/x-python",
   "name": "python",
   "nbconvert_exporter": "python",
   "pygments_lexer": "ipython3",
   "version": "3.9.19"
  }
 },
 "nbformat": 4,
 "nbformat_minor": 5
}
