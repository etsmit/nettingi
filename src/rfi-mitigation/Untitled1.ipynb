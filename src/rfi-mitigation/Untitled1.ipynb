{
 "cells": [
  {
   "cell_type": "code",
   "execution_count": 1,
   "id": "3921dc8c",
   "metadata": {},
   "outputs": [],
   "source": [
    "import numpy as np\n",
    "def read_flags(ff):\n",
    "\tf = np.load(ff)\n",
    "\txf = np.around(100*np.mean(f[:,:,0]),2)\n",
    "\tyf = np.around(100*np.mean(f[:,:,1]),2)\n",
    "\tprint(f'{xf}/{yf}% flagged')\n",
    "\tf_union = np.copy(f)\n",
    "\tf_union[:,:,0][f_union[:,:,1]==1]=1\n",
    "\tuf = np.around(100*np.mean(f_union[:,:,0]),2)\n",
    "\tprint(f'Union of flags: {uf}% of data flagged')"
   ]
  },
  {
   "cell_type": "code",
   "execution_count": 8,
   "id": "84c97f87",
   "metadata": {},
   "outputs": [
    {
     "name": "stdout",
     "output_type": "stream",
     "text": [
      "2.74/2.74% flagged\n",
      "Union of flags: 5.31% of data flagged\n"
     ]
    }
   ],
   "source": [
    "read_flags('/data/scratch/IQRMresults/npy_results/.0000_flags_IQRM_r500000_t3.0_std_b512_.npy')\n"
   ]
  },
  {
   "cell_type": "code",
   "execution_count": null,
   "id": "09868833",
   "metadata": {},
   "outputs": [],
   "source": []
  }
 ],
 "metadata": {
  "kernelspec": {
   "display_name": "Python (kait)",
   "language": "python",
   "name": "kait"
  },
  "language_info": {
   "codemirror_mode": {
    "name": "ipython",
    "version": 3
   },
   "file_extension": ".py",
   "mimetype": "text/x-python",
   "name": "python",
   "nbconvert_exporter": "python",
   "pygments_lexer": "ipython3",
   "version": "3.9.19"
  }
 },
 "nbformat": 4,
 "nbformat_minor": 5
}
