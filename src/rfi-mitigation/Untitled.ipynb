{
 "cells": [
  {
   "cell_type": "code",
   "execution_count": 1,
   "id": "3c211324",
   "metadata": {},
   "outputs": [],
   "source": [
    "import numpy as np\n",
    "def read_flags(ff):\n",
    "\tf = np.load(ff)\n",
    "\txf = np.around(100*np.mean(f[:,:,0]),2)\n",
    "\tyf = np.around(100*np.mean(f[:,:,1]),2)\n",
    "\tprint(f'{xf}/{yf}% flagged')\n",
    "\tf_union = np.copy(f)\n",
    "\tf_union[:,:,0][f_union[:,:,1]==1]=1\n",
    "\tuf = np.around(100*np.mean(f_union[:,:,0]),2)\n",
    "\tprint(f'Union of flags: {uf}% of data flagged')"
   ]
  },
  {
   "cell_type": "code",
   "execution_count": 4,
   "id": "24a91a51",
   "metadata": {},
   "outputs": [
    {
     "name": "stdout",
     "output_type": "stream",
     "text": [
      "4.32/4.41% flagged\n",
      "Union of flags: 6.95% of data flagged\n"
     ]
    }
   ],
   "source": [
    "read_flags('/data/scratch/IQRMresults/npy_results/000_flags_IQRM_r500000_t3.0_std_b512_.npy')"
   ]
  },
  {
   "cell_type": "code",
   "execution_count": 5,
   "id": "a6c3735f",
   "metadata": {},
   "outputs": [],
   "source": [
    "from core import *"
   ]
  },
  {
   "cell_type": "code",
   "execution_count": 6,
   "id": "c7636c72",
   "metadata": {},
   "outputs": [],
   "source": [
    "\n",
    "from blimpy import GuppiRaw\n",
    "filename = '/data/rfimit/unmitigated/rawdata/vegas_60299_76099_B0329+54_0004.0000.raw'\n",
    "\n",
    "rf = GuppiRaw(filename)"
   ]
  },
  {
   "cell_type": "code",
   "execution_count": 11,
   "id": "0ac3f14d",
   "metadata": {},
   "outputs": [],
   "source": [
    "from utils import *\n",
    "from reduction import *"
   ]
  },
  {
   "cell_type": "code",
   "execution_count": 12,
   "id": "d12b6d34",
   "metadata": {},
   "outputs": [],
   "source": [
    "def fine_channelize(self, resolution, mit=False, mask=False):\n",
    "    start_time = time.time()\n",
    "    if mit:\n",
    "        if mask:\n",
    "            raw2spec_mask(resolution,self._outfile,mask)\n",
    "        else:\n",
    "            raw2spec(resolution,self._outfile)\n",
    "    else:        \n",
    "        if mask:\n",
    "            raw2spec_mask(resolution,self._rawFile,mask)\n",
    "        else:\n",
    "            raw2spec(resolution,self._rawFile)\n",
    "    end_time = time.time()\n",
    "    dur = np.around((end_time-start_time)/60, 2)\n",
    "\n",
    "    print(f'Duration: {dur} minutes')"
   ]
  },
  {
   "cell_type": "code",
   "execution_count": 1,
   "id": "cd2c660c",
   "metadata": {},
   "outputs": [],
   "source": [
    "\n",
    "import importlib\n",
    "\n",
    "rfimit = importlib.import_module('rfi-mitigation')"
   ]
  },
  {
   "cell_type": "code",
   "execution_count": null,
   "id": "5b68aebf",
   "metadata": {},
   "outputs": [
    {
     "name": "stdout",
     "output_type": "stream",
     "text": [
      "integer lags, k: <generator object genlags at 0x7f1ae2842f90>\n",
      "/jetstor/scratch/IQRM_rawdata_results/vegas_58966_25728_J1713+0747_0080.0000_IQRM_stats_r5_t3.0_std_b512_mb1_.raw\n",
      "given output res is 20 kHz, actual will be 24.4140625 khz\n",
      "Working on block 1 of 128\n"
     ]
    }
   ],
   "source": [
    "uhh = rfimit.rfi_iqrm('vegas_58966_25728_J1713+0747_0080.0000.raw', 'stats', IQRM_radius=5, IQRM_threshold=3.0, IQRM_datatype=\"std\", IQRM_breakdown=512, cust='', output_bool = True, mb=1, rawdata=False, ave_factor = 512)\n",
    "uhh.fine_channelize(20, mit=True)"
   ]
  },
  {
   "cell_type": "code",
   "execution_count": null,
   "id": "e2df0f8f",
   "metadata": {},
   "outputs": [],
   "source": [
    "uhh2 = rfimit.rfi_iqrm('vegas_58966_25728_J1713+0747_0080.0000.raw', 'stats', IQRM_radius=5, IQRM_threshold=3.0, IQRM_datatype=\"std\", IQRM_breakdown=512, cust='', output_bool = True, mb=1, rawdata=False, ave_factor = 512)\n",
    "uhh2.fine_channelize(20, mit=False)"
   ]
  },
  {
   "cell_type": "code",
   "execution_count": null,
   "id": "b1de2a20",
   "metadata": {},
   "outputs": [],
   "source": []
  }
 ],
 "metadata": {
  "kernelspec": {
   "display_name": "Python (kait)",
   "language": "python",
   "name": "kait"
  },
  "language_info": {
   "codemirror_mode": {
    "name": "ipython",
    "version": 3
   },
   "file_extension": ".py",
   "mimetype": "text/x-python",
   "name": "python",
   "nbconvert_exporter": "python",
   "pygments_lexer": "ipython3",
   "version": "3.9.19"
  }
 },
 "nbformat": 4,
 "nbformat_minor": 5
}
