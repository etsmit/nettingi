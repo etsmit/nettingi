{
 "cells": [
  {
   "cell_type": "code",
   "execution_count": 1,
   "id": "935be4f3",
   "metadata": {},
   "outputs": [],
   "source": [
    "import numpy as np\n",
    "def read_flags(ff):\n",
    "\tf = np.load(ff)\n",
    "\txf = np.around(100*np.mean(f[:,:,0]),2)\n",
    "\tyf = np.around(100*np.mean(f[:,:,1]),2)\n",
    "\tprint(f'{xf}/{yf}% flagged')\n",
    "\tf_union = np.copy(f)\n",
    "\tf_union[:,:,0][f_union[:,:,1]==1]=1\n",
    "\tuf = np.around(100*np.mean(f_union[:,:,0]),2)\n",
    "\tprint(f'Union of flags: {uf}% of data flagged')"
   ]
  },
  {
   "cell_type": "code",
   "execution_count": 4,
   "id": "ad868b54",
   "metadata": {},
   "outputs": [
    {
     "name": "stdout",
     "output_type": "stream",
     "text": [
      "4.32/4.41% flagged\n",
      "Union of flags: 6.95% of data flagged\n"
     ]
    }
   ],
   "source": [
    "read_flags('/data/scratch/IQRMresults/npy_results/000_flags_IQRM_r500000_t3.0_std_b512_.npy')"
   ]
  },
  {
   "cell_type": "code",
   "execution_count": 5,
   "id": "c8d4c565",
   "metadata": {},
   "outputs": [],
   "source": [
    "from core import *"
   ]
  },
  {
   "cell_type": "code",
   "execution_count": 6,
   "id": "77e61a60",
   "metadata": {},
   "outputs": [],
   "source": [
    "\n",
    "from blimpy import GuppiRaw\n",
    "filename = '/data/rfimit/unmitigated/rawdata/vegas_60299_76099_B0329+54_0004.0000.raw'\n",
    "\n",
    "rf = GuppiRaw(filename)"
   ]
  },
  {
   "cell_type": "code",
   "execution_count": 11,
   "id": "5bba6d5c",
   "metadata": {},
   "outputs": [],
   "source": [
    "from utils import *\n",
    "from reduction import *"
   ]
  },
  {
   "cell_type": "code",
   "execution_count": 12,
   "id": "1fe7e086",
   "metadata": {},
   "outputs": [],
   "source": [
    "def fine_channelize(self, resolution, mit=False, mask=False):\n",
    "    start_time = time.time()\n",
    "    if mit:\n",
    "        if mask:\n",
    "            raw2spec_mask(resolution,self._outfile,mask)\n",
    "        else:\n",
    "            raw2spec(resolution,self._outfile)\n",
    "    else:        \n",
    "        if mask:\n",
    "            raw2spec_mask(resolution,self._rawFile,mask)\n",
    "        else:\n",
    "            raw2spec(resolution,self._rawFile)\n",
    "    end_time = time.time()\n",
    "    dur = np.around((end_time-start_time)/60, 2)\n",
    "\n",
    "    print(f'Duration: {dur} minutes')"
   ]
  },
  {
   "cell_type": "code",
   "execution_count": 1,
   "id": "ad946c77",
   "metadata": {},
   "outputs": [],
   "source": [
    "\n",
    "import importlib\n",
    "\n",
    "rfimit = importlib.import_module('rfi-mitigation')"
   ]
  },
  {
   "cell_type": "code",
   "execution_count": 2,
   "id": "59afa470",
   "metadata": {},
   "outputs": [
    {
     "name": "stdout",
     "output_type": "stream",
     "text": [
      "integer lags, k: <generator object genlags at 0x7f1ae2842f90>\n",
      "/jetstor/scratch/IQRM_rawdata_results/vegas_58966_25728_J1713+0747_0080.0000_IQRM_stats_r5_t3.0_std_b512_mb1_.raw\n",
      "given output res is 20 kHz, actual will be 24.4140625 khz\n",
      "Working on block 1 of 128\n",
      "Working on block 2 of 128\n",
      "Working on block 3 of 128\n",
      "Working on block 4 of 128\n",
      "Working on block 5 of 128\n",
      "Working on block 6 of 128\n",
      "Working on block 7 of 128\n",
      "Working on block 8 of 128\n",
      "Working on block 9 of 128\n",
      "Working on block 10 of 128\n",
      "Working on block 11 of 128\n",
      "Working on block 12 of 128\n",
      "Working on block 13 of 128\n",
      "Working on block 14 of 128\n",
      "Working on block 15 of 128\n",
      "Working on block 16 of 128\n",
      "Working on block 17 of 128\n",
      "Working on block 18 of 128\n",
      "Working on block 19 of 128\n",
      "Working on block 20 of 128\n",
      "Working on block 21 of 128\n",
      "Working on block 22 of 128\n",
      "Working on block 23 of 128\n",
      "Working on block 24 of 128\n",
      "Working on block 25 of 128\n",
      "Working on block 26 of 128\n",
      "Working on block 27 of 128\n",
      "Working on block 28 of 128\n",
      "Working on block 29 of 128\n",
      "Working on block 30 of 128\n",
      "Working on block 31 of 128\n",
      "Working on block 32 of 128\n",
      "Working on block 33 of 128\n",
      "Working on block 34 of 128\n",
      "Working on block 35 of 128\n",
      "Working on block 36 of 128\n",
      "Working on block 37 of 128\n",
      "Working on block 38 of 128\n",
      "Working on block 39 of 128\n",
      "Working on block 40 of 128\n",
      "Working on block 41 of 128\n",
      "Working on block 42 of 128\n",
      "Working on block 43 of 128\n",
      "Working on block 44 of 128\n",
      "Working on block 45 of 128\n",
      "Working on block 46 of 128\n",
      "Working on block 47 of 128\n",
      "Working on block 48 of 128\n",
      "Working on block 49 of 128\n",
      "Working on block 50 of 128\n",
      "Working on block 51 of 128\n",
      "Working on block 52 of 128\n",
      "Working on block 53 of 128\n",
      "Working on block 54 of 128\n",
      "Working on block 55 of 128\n",
      "Working on block 56 of 128\n",
      "Working on block 57 of 128\n",
      "Working on block 58 of 128\n",
      "Working on block 59 of 128\n",
      "Working on block 60 of 128\n",
      "Working on block 61 of 128\n",
      "Working on block 62 of 128\n",
      "Working on block 63 of 128\n",
      "Working on block 64 of 128\n",
      "Working on block 65 of 128\n",
      "Working on block 66 of 128\n",
      "Working on block 67 of 128\n",
      "Working on block 68 of 128\n",
      "Working on block 69 of 128\n",
      "Working on block 70 of 128\n",
      "Working on block 71 of 128\n",
      "Working on block 72 of 128\n",
      "Working on block 73 of 128\n",
      "Working on block 74 of 128\n",
      "Working on block 75 of 128\n",
      "Working on block 76 of 128\n",
      "Working on block 77 of 128\n",
      "Working on block 78 of 128\n",
      "Working on block 79 of 128\n",
      "Working on block 80 of 128\n",
      "Working on block 81 of 128\n",
      "Working on block 82 of 128\n",
      "Working on block 83 of 128\n",
      "Working on block 84 of 128\n",
      "Working on block 85 of 128\n",
      "Working on block 86 of 128\n",
      "Working on block 87 of 128\n",
      "Working on block 88 of 128\n",
      "Working on block 89 of 128\n",
      "Working on block 90 of 128\n",
      "Working on block 91 of 128\n",
      "Working on block 92 of 128\n",
      "Working on block 93 of 128\n",
      "Working on block 94 of 128\n",
      "Working on block 95 of 128\n",
      "Working on block 96 of 128\n",
      "Working on block 97 of 128\n",
      "Working on block 98 of 128\n",
      "Working on block 99 of 128\n",
      "Working on block 100 of 128\n",
      "Working on block 101 of 128\n",
      "Working on block 102 of 128\n",
      "Working on block 103 of 128\n",
      "Working on block 104 of 128\n",
      "Working on block 105 of 128\n",
      "Working on block 106 of 128\n",
      "Working on block 107 of 128\n",
      "Working on block 108 of 128\n",
      "Working on block 109 of 128\n",
      "Working on block 110 of 128\n",
      "Working on block 111 of 128\n",
      "Working on block 112 of 128\n",
      "Working on block 113 of 128\n",
      "Working on block 114 of 128\n",
      "Working on block 115 of 128\n",
      "Working on block 116 of 128\n",
      "Working on block 117 of 128\n",
      "Working on block 118 of 128\n",
      "Working on block 119 of 128\n",
      "Working on block 120 of 128\n",
      "Working on block 121 of 128\n",
      "Working on block 122 of 128\n",
      "Working on block 123 of 128\n",
      "Working on block 124 of 128\n",
      "Working on block 125 of 128\n",
      "Working on block 126 of 128\n",
      "Working on block 127 of 128\n",
      "Working on block 128 of 128\n"
     ]
    },
    {
     "ename": "NameError",
     "evalue": "name 'self' is not defined",
     "output_type": "error",
     "traceback": [
      "\u001b[0;31m---------------------------------------------------------------------------\u001b[0m",
      "\u001b[0;31mNameError\u001b[0m                                 Traceback (most recent call last)",
      "Cell \u001b[0;32mIn[2], line 2\u001b[0m\n\u001b[1;32m      1\u001b[0m uhh \u001b[38;5;241m=\u001b[39m rfimit\u001b[38;5;241m.\u001b[39mrfi_iqrm(\u001b[38;5;124m'\u001b[39m\u001b[38;5;124mvegas_58966_25728_J1713+0747_0080.0000.raw\u001b[39m\u001b[38;5;124m'\u001b[39m, \u001b[38;5;124m'\u001b[39m\u001b[38;5;124mstats\u001b[39m\u001b[38;5;124m'\u001b[39m, IQRM_radius\u001b[38;5;241m=\u001b[39m\u001b[38;5;241m5\u001b[39m, IQRM_threshold\u001b[38;5;241m=\u001b[39m\u001b[38;5;241m3.0\u001b[39m, IQRM_datatype\u001b[38;5;241m=\u001b[39m\u001b[38;5;124m\"\u001b[39m\u001b[38;5;124mstd\u001b[39m\u001b[38;5;124m\"\u001b[39m, IQRM_breakdown\u001b[38;5;241m=\u001b[39m\u001b[38;5;241m512\u001b[39m, cust\u001b[38;5;241m=\u001b[39m\u001b[38;5;124m'\u001b[39m\u001b[38;5;124m'\u001b[39m, output_bool \u001b[38;5;241m=\u001b[39m \u001b[38;5;28;01mTrue\u001b[39;00m, mb\u001b[38;5;241m=\u001b[39m\u001b[38;5;241m1\u001b[39m, rawdata\u001b[38;5;241m=\u001b[39m\u001b[38;5;28;01mFalse\u001b[39;00m, ave_factor \u001b[38;5;241m=\u001b[39m \u001b[38;5;241m512\u001b[39m)\n\u001b[0;32m----> 2\u001b[0m \u001b[43muhh\u001b[49m\u001b[38;5;241;43m.\u001b[39;49m\u001b[43mfine_channelize\u001b[49m\u001b[43m(\u001b[49m\u001b[38;5;241;43m20\u001b[39;49m\u001b[43m,\u001b[49m\u001b[43m \u001b[49m\u001b[43mmit\u001b[49m\u001b[38;5;241;43m=\u001b[39;49m\u001b[38;5;28;43;01mTrue\u001b[39;49;00m\u001b[43m)\u001b[49m\n",
      "File \u001b[0;32m~/rfi-mitigation/src/rfi-mitigation/core.py:269\u001b[0m, in \u001b[0;36mmitigateRFI.fine_channelize\u001b[0;34m(self, resolution, mit, mask)\u001b[0m\n\u001b[1;32m    267\u001b[0m         raw2spec_mask(resolution,GuppiRaw(\u001b[38;5;28mself\u001b[39m\u001b[38;5;241m.\u001b[39m_outfile,mask),\u001b[38;5;28mself\u001b[39m\u001b[38;5;241m.\u001b[39minfile[\u001b[38;5;28mself\u001b[39m\u001b[38;5;241m.\u001b[39minfile\u001b[38;5;241m.\u001b[39mrfind(\u001b[38;5;124m'\u001b[39m\u001b[38;5;124m/\u001b[39m\u001b[38;5;124m'\u001b[39m)])\n\u001b[1;32m    268\u001b[0m     \u001b[38;5;28;01melse\u001b[39;00m:\n\u001b[0;32m--> 269\u001b[0m         raw2spec(resolution,GuppiRaw(\u001b[38;5;28mself\u001b[39m\u001b[38;5;241m.\u001b[39m_outfile),\u001b[38;5;28mself\u001b[39m\u001b[38;5;241m.\u001b[39minfile[\u001b[38;5;28mself\u001b[39m\u001b[38;5;241m.\u001b[39minfile\u001b[38;5;241m.\u001b[39mrfind(\u001b[38;5;124m'\u001b[39m\u001b[38;5;124m/\u001b[39m\u001b[38;5;124m'\u001b[39m)])\n\u001b[1;32m    270\u001b[0m \u001b[38;5;28;01melse\u001b[39;00m:        \n\u001b[1;32m    271\u001b[0m     \u001b[38;5;28;01mif\u001b[39;00m mask:\n",
      "File \u001b[0;32m~/rfi-mitigation/src/rfi-mitigation/reduction.py:180\u001b[0m, in \u001b[0;36mraw2spec\u001b[0;34m(resolution, gr, infile)\u001b[0m\n\u001b[1;32m    175\u001b[0m #bad_chans = np.arange(nchan)*nchan_pfb + nchan_pfb//2\n\u001b[1;32m    176\u001b[0m #mask = np.zeros(spectrum.shape)\n\u001b[1;32m    177\u001b[0m #mask[bad_chans] = 1\n\u001b[1;32m    178\u001b[0m #masked_spectrum = np.ma.masked_array(spectrum,mask)\n\u001b[1;32m    179\u001b[0m out1 = (freqs,spectrum)\n\u001b[0;32m--> 180\u001b[0m #out2 = (freqs,masked_spectrum)\n\u001b[1;32m    181\u001b[0m basenm = os.path.basename(infile)\n\u001b[1;32m    182\u001b[0m with open(os.path.join(self._outdir,basenm.replace(\".raw\",f\".{resolution}.spec.pkl\")),\"wb\") as f: \n",
      "\u001b[0;31mNameError\u001b[0m: name 'self' is not defined"
     ]
    }
   ],
   "source": [
    "uhh = rfimit.rfi_iqrm('vegas_58966_25728_J1713+0747_0080.0000.raw', 'stats', IQRM_radius=5, IQRM_threshold=3.0, IQRM_datatype=\"std\", IQRM_breakdown=512, cust='', output_bool = True, mb=1, rawdata=False, ave_factor = 512)\n",
    "uhh.fine_channelize(20, mit=True)"
   ]
  },
  {
   "cell_type": "code",
   "execution_count": null,
   "id": "84a51569",
   "metadata": {},
   "outputs": [],
   "source": [
    "uhh2 = rfimit.rfi_iqrm('vegas_58966_25728_J1713+0747_0080.0000.raw', 'stats', IQRM_radius=5, IQRM_threshold=3.0, IQRM_datatype=\"std\", IQRM_breakdown=512, cust='', output_bool = True, mb=1, rawdata=False, ave_factor = 512)\n",
    "uhh2.fine_channelize(20, mit=False)"
   ]
  },
  {
   "cell_type": "code",
   "execution_count": null,
   "id": "9ef7684e",
   "metadata": {},
   "outputs": [],
   "source": []
  }
 ],
 "metadata": {
  "kernelspec": {
   "display_name": "Python (kait)",
   "language": "python",
   "name": "kait"
  },
  "language_info": {
   "codemirror_mode": {
    "name": "ipython",
    "version": 3
   },
   "file_extension": ".py",
   "mimetype": "text/x-python",
   "name": "python",
   "nbconvert_exporter": "python",
   "pygments_lexer": "ipython3",
   "version": "3.9.19"
  }
 },
 "nbformat": 4,
 "nbformat_minor": 5
}
