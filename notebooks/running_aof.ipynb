{
 "cells": [
  {
   "cell_type": "code",
   "execution_count": 1,
   "id": "99677b13-387f-48e4-a27b-a4275afe2433",
   "metadata": {},
   "outputs": [],
   "source": [
    "import numpy as np\n",
    "\n",
    "#import matplotlib.pyplot as plt\n",
    "#%matplotlib qt\n",
    "import importlib\n",
    "\n",
    "rfimit = importlib.import_module('rfi-mitigation')"
   ]
  },
  {
   "cell_type": "code",
   "execution_count": 2,
   "id": "cf738bca-b1f1-417a-badc-cd3cd9d5f274",
   "metadata": {},
   "outputs": [],
   "source": [
    "import aoflagger"
   ]
  },
  {
   "cell_type": "code",
   "execution_count": 13,
   "id": "30bdbb31-7db0-4cad-80a2-aa4b4423d22e",
   "metadata": {},
   "outputs": [
    {
     "ename": "TypeError",
     "evalue": "aoflagger.FlagMask: No constructor defined!",
     "output_type": "error",
     "traceback": [
      "\u001b[0;31m---------------------------------------------------------------------------\u001b[0m",
      "\u001b[0;31mTypeError\u001b[0m                                 Traceback (most recent call last)",
      "Cell \u001b[0;32mIn[13], line 7\u001b[0m\n\u001b[1;32m      5\u001b[0m rf \u001b[38;5;241m=\u001b[39m GuppiRaw(filename)\n\u001b[1;32m      6\u001b[0m header, data \u001b[38;5;241m=\u001b[39m rf\u001b[38;5;241m.\u001b[39mread_next_data_block()\n\u001b[0;32m----> 7\u001b[0m test \u001b[38;5;241m=\u001b[39m \u001b[43mFlagMask\u001b[49m\u001b[43m(\u001b[49m\u001b[43mfilename\u001b[49m\u001b[43m)\u001b[49m\n\u001b[1;32m      8\u001b[0m flags \u001b[38;5;241m=\u001b[39m test\u001b[38;5;241m.\u001b[39mget_buffer()\n\u001b[1;32m     11\u001b[0m \u001b[38;5;66;03m# uhh = rfimit.rfi_iqrm('vegas_60299_76099_B0329+54_0004.0000.raw', 'stats', IQRM_radius=5, IQRM_threshold=t[i], IQRM_datatype=\"std\", IQRM_breakdown=512, cust='', output_bool = True, mb=1, rawdata=False, ave_factor = 512)\u001b[39;00m\n\u001b[1;32m     12\u001b[0m     \n\u001b[1;32m     13\u001b[0m     \n\u001b[1;32m     14\u001b[0m \u001b[38;5;66;03m#     uhh.run_all()\u001b[39;00m\n",
      "\u001b[0;31mTypeError\u001b[0m: aoflagger.FlagMask: No constructor defined!"
     ]
    }
   ],
   "source": [
    "from aoflagger import FlagMask\n",
    "from blimpy import GuppiRaw\n",
    "filename = '/data/rfimit/unmitigated/rawdata/vegas_60299_76099_B0329+54_0004.0000.raw'\n",
    "\n",
    "rf = GuppiRaw(filename)\n",
    "header, data = rf.read_next_data_block()\n",
    "\n",
    "\n",
    "\n",
    "# uhh = rfimit.rfi_iqrm('vegas_60299_76099_B0329+54_0004.0000.raw', 'stats', IQRM_radius=5, IQRM_threshold=t[i], IQRM_datatype=\"std\", IQRM_breakdown=512, cust='', output_bool = True, mb=1, rawdata=False, ave_factor = 512)\n",
    "    \n",
    "    \n",
    "#     uhh.run_all()"
   ]
  },
  {
   "cell_type": "code",
   "execution_count": 1,
   "id": "22913d02-32bd-4e41-bab8-6d264b283574",
   "metadata": {
    "scrolled": true
   },
   "outputs": [
    {
     "name": "stdout",
     "output_type": "stream",
     "text": [
      "Saving replaced data to /jetstor/scratch/AOF_rawdata_results/vegas_58966_25728_J1713+0747_0080.0000_AOF_stats__mb1_.raw\n",
      "/data/rfimit/unmitigated/rawdata/vegas_58966_25728_J1713+0747_0080.0000.raw /jetstor/scratch/AOF_rawdata_results/vegas_58966_25728_J1713+0747_0080.0000_AOF_stats__mb1_.raw\n",
      "The output file /jetstor/scratch/AOF_rawdata_results/vegas_58966_25728_J1713+0747_0080.0000_AOF_stats__mb1_.raw already exists. Press 'y' to redo the copy, 'n' to continue without copying, or ctrl-c to end the script: n\n",
      "File has 128 data blocks\n",
      "------------------------------------------\n",
      "Block: 1/128\n",
      "Header size: 6320 bytes\n",
      "DAQPULSE:  Mon Apr 27 03:08:47 2020\n",
      "DAQSTATE:  running\n",
      "BANKNAM:  BANKA\n",
      "POL_TYPE:  AABBCRCI\n",
      "TELESCOP:  GBT\n",
      "BACKEND:  VEGAS\n",
      "NRCVR:  2\n",
      "PFB_OVER:  12\n",
      "SCALE0:  1.\n",
      "SCALE1:  1.\n",
      "SCALE2:  1.\n",
      "SCALE3:  1.\n",
      "OFFSET0:  0.\n",
      "OFFSET1:  0.\n",
      "OFFSET2:  0.\n",
      "OFFSET3:  0.\n",
      "BANKNUM:  0\n",
      "CAL_DCYC:  0.5\n",
      "DS_FREQ:  1\n",
      "SRC_NAME:  J1713+0747\n",
      "PROJID:  TGBT20A_505_18\n",
      "DATADIR:  /lustre/gbtdata\n",
      "NPOL:  4\n",
      "PKTFMT:  1SFA\n",
      "CAL_FREQ:  25.\n",
      "FFTLEN:  32768\n",
      "OVERLAP:  512\n",
      "BLOCSIZE:  1065353216\n",
      "NBIN:  2048\n",
      "OBS_MODE:  RAW\n",
      "CAL_MODE:  OFF\n",
      "DS_TIME:  1\n",
      "NBITS:  8\n",
      "PARFILE:  /home/gbt/etc/config/\n",
      "OBSFREQ:  1500.097656\n",
      "TFOLD:  10.\n",
      "ONLY_I:  0\n",
      "CHAN_DM:  15.992196\n",
      "_SSRF_01:  0\n",
      "OBSBW:  -800\n",
      "SCANLEN:  185.\n",
      "DATAHOST:  10.17.0.64\n",
      "DATAPORT:  60000\n",
      "OBSNCHAN:  4096\n",
      "FD_POLN:  LIN\n",
      "CHAN_BW:  -0.1953125\n",
      "ACC_LEN:  1\n",
      "TBIN:  5.12e-06\n",
      "NETSTAT:  receiving\n",
      "NULLSTAT:  exiting\n",
      "PKTIDX:  0\n",
      "DROPAVG:  6.65281e-11\n",
      "DROPTOT:  0.455142\n",
      "DROPBLK:  0\n",
      "STT_IMJD:  58966\n",
      "STT_SMJD:  25728\n",
      "STTVALID:  1\n",
      "AZ:  151.136739\n",
      "BMAJ:  0.000000\n",
      "BMIN:  0.000000\n",
      "DEC:  7.793751\n",
      "DEC_STR:  07:47:37.5031\n",
      "FRONTEND:  Rcvr1_2\n",
      "LST:  58317\n",
      "OBSERVER:  Ryan Lynch\n",
      "RA:  258.456404\n",
      "RA_STR:  17:13:49.5370\n",
      "TRK_MODE:  TRACK\n",
      "ZA:  33.782569\n",
      "_SSRF_02:  0\n",
      "CURBLOCK:  0\n",
      "SCAN:  80\n",
      "SCANNUM:  80\n",
      "DISKSTAT:  waiting\n",
      "STT_OFFS:  0\n",
      "PKTSIZE:  65536\n",
      "NPKT:  16255\n",
      "NDROP:  0\n",
      "Number of times: 63\n",
      "Number of channels: 4096\n"
     ]
    },
    {
     "name": "stderr",
     "output_type": "stream",
     "text": [
      "100%|██████████████████████████████████████████████████████████████████████| 1024/1024 [03:15<00:00,  5.25it/s]\n"
     ]
    },
    {
     "name": "stdout",
     "output_type": "stream",
     "text": [
      "Pol 0: 2.05% flagged\n",
      "Pol 1: 1.61% flagged\n",
      "Union: 3.48% flagged\n",
      "loading /users/esmith/RFI_MIT/PFBcoeffs/c0800x4096_x14_7_24t_095binw_get_pfb_coeffs_h.npy for FIR coefficients\n",
      "block duration: 4.515031337738037\n",
      "------------------------------------------\n",
      "Block: 2/128\n",
      "Number of times: 63\n",
      "Number of channels: 4096\n"
     ]
    },
    {
     "name": "stderr",
     "output_type": "stream",
     "text": [
      "100%|██████████████████████████████████████████████████████████████████████| 1024/1024 [03:17<00:00,  5.19it/s]\n"
     ]
    },
    {
     "name": "stdout",
     "output_type": "stream",
     "text": [
      "Pol 0: 2.01% flagged\n",
      "Pol 1: 1.62% flagged\n",
      "Union: 3.46% flagged\n",
      "loading /users/esmith/RFI_MIT/PFBcoeffs/c0800x4096_x14_7_24t_095binw_get_pfb_coeffs_h.npy for FIR coefficients\n",
      "block duration: 4.188420951366425\n",
      "------------------------------------------\n",
      "Block: 3/128\n",
      "Number of times: 63\n",
      "Number of channels: 4096\n"
     ]
    },
    {
     "name": "stderr",
     "output_type": "stream",
     "text": [
      "100%|██████████████████████████████████████████████████████████████████████| 1024/1024 [03:18<00:00,  5.16it/s]\n"
     ]
    },
    {
     "name": "stdout",
     "output_type": "stream",
     "text": [
      "Pol 0: 2.07% flagged\n",
      "Pol 1: 1.62% flagged\n",
      "Union: 3.53% flagged\n",
      "loading /users/esmith/RFI_MIT/PFBcoeffs/c0800x4096_x14_7_24t_095binw_get_pfb_coeffs_h.npy for FIR coefficients\n",
      "block duration: 4.322287742296854\n",
      "------------------------------------------\n",
      "Block: 4/128\n",
      "Number of times: 63\n",
      "Number of channels: 4096\n"
     ]
    },
    {
     "name": "stderr",
     "output_type": "stream",
     "text": [
      "100%|██████████████████████████████████████████████████████████████████████| 1024/1024 [03:15<00:00,  5.23it/s]\n"
     ]
    },
    {
     "name": "stdout",
     "output_type": "stream",
     "text": [
      "Pol 0: 2.07% flagged\n",
      "Pol 1: 1.61% flagged\n",
      "Union: 3.5% flagged\n",
      "loading /users/esmith/RFI_MIT/PFBcoeffs/c0800x4096_x14_7_24t_095binw_get_pfb_coeffs_h.npy for FIR coefficients\n",
      "block duration: 4.362424604098002\n",
      "------------------------------------------\n",
      "Block: 5/128\n",
      "Number of times: 63\n",
      "Number of channels: 4096\n"
     ]
    },
    {
     "name": "stderr",
     "output_type": "stream",
     "text": [
      "100%|██████████████████████████████████████████████████████████████████████| 1024/1024 [03:22<00:00,  5.05it/s]\n"
     ]
    },
    {
     "name": "stdout",
     "output_type": "stream",
     "text": [
      "Pol 0: 2.05% flagged\n",
      "Pol 1: 1.6% flagged\n",
      "Union: 3.48% flagged\n",
      "loading /users/esmith/RFI_MIT/PFBcoeffs/c0800x4096_x14_7_24t_095binw_get_pfb_coeffs_h.npy for FIR coefficients\n",
      "block duration: 4.624515442053477\n",
      "------------------------------------------\n",
      "Block: 6/128\n",
      "Number of times: 63\n",
      "Number of channels: 4096\n"
     ]
    },
    {
     "name": "stderr",
     "output_type": "stream",
     "text": [
      "100%|██████████████████████████████████████████████████████████████████████| 1024/1024 [03:14<00:00,  5.27it/s]\n"
     ]
    },
    {
     "name": "stdout",
     "output_type": "stream",
     "text": [
      "Pol 0: 2.1% flagged\n",
      "Pol 1: 1.64% flagged\n",
      "Union: 3.56% flagged\n",
      "loading /users/esmith/RFI_MIT/PFBcoeffs/c0800x4096_x14_7_24t_095binw_get_pfb_coeffs_h.npy for FIR coefficients\n",
      "block duration: 4.375560677051544\n",
      "------------------------------------------\n",
      "Block: 7/128\n",
      "Number of times: 63\n",
      "Number of channels: 4096\n"
     ]
    },
    {
     "name": "stderr",
     "output_type": "stream",
     "text": [
      "100%|██████████████████████████████████████████████████████████████████████| 1024/1024 [03:14<00:00,  5.27it/s]\n"
     ]
    },
    {
     "name": "stdout",
     "output_type": "stream",
     "text": [
      "Pol 0: 2.02% flagged\n",
      "Pol 1: 1.63% flagged\n",
      "Union: 3.48% flagged\n",
      "loading /users/esmith/RFI_MIT/PFBcoeffs/c0800x4096_x14_7_24t_095binw_get_pfb_coeffs_h.npy for FIR coefficients\n",
      "block duration: 4.208069900671641\n",
      "------------------------------------------\n",
      "Block: 8/128\n",
      "Number of times: 63\n",
      "Number of channels: 4096\n"
     ]
    },
    {
     "name": "stderr",
     "output_type": "stream",
     "text": [
      "100%|██████████████████████████████████████████████████████████████████████| 1024/1024 [03:13<00:00,  5.28it/s]\n"
     ]
    },
    {
     "name": "stdout",
     "output_type": "stream",
     "text": [
      "Pol 0: 2.05% flagged\n",
      "Pol 1: 1.64% flagged\n",
      "Union: 3.52% flagged\n",
      "loading /users/esmith/RFI_MIT/PFBcoeffs/c0800x4096_x14_7_24t_095binw_get_pfb_coeffs_h.npy for FIR coefficients\n",
      "block duration: 4.23043688138326\n",
      "------------------------------------------\n",
      "Block: 9/128\n",
      "Number of times: 63\n",
      "Number of channels: 4096\n"
     ]
    },
    {
     "name": "stderr",
     "output_type": "stream",
     "text": [
      "100%|██████████████████████████████████████████████████████████████████████| 1024/1024 [03:12<00:00,  5.31it/s]\n"
     ]
    },
    {
     "name": "stdout",
     "output_type": "stream",
     "text": [
      "Pol 0: 2.14% flagged\n",
      "Pol 1: 1.64% flagged\n",
      "Union: 3.6% flagged\n",
      "loading /users/esmith/RFI_MIT/PFBcoeffs/c0800x4096_x14_7_24t_095binw_get_pfb_coeffs_h.npy for FIR coefficients\n",
      "block duration: 4.246352807680766\n",
      "------------------------------------------\n",
      "Block: 10/128\n",
      "Number of times: 63\n",
      "Number of channels: 4096\n"
     ]
    },
    {
     "name": "stderr",
     "output_type": "stream",
     "text": [
      "100%|██████████████████████████████████████████████████████████████████████| 1024/1024 [03:08<00:00,  5.43it/s]\n"
     ]
    },
    {
     "name": "stdout",
     "output_type": "stream",
     "text": [
      "Pol 0: 2.06% flagged\n",
      "Pol 1: 1.64% flagged\n",
      "Union: 3.53% flagged\n",
      "loading /users/esmith/RFI_MIT/PFBcoeffs/c0800x4096_x14_7_24t_095binw_get_pfb_coeffs_h.npy for FIR coefficients\n",
      "block duration: 4.13356568813324\n",
      "------------------------------------------\n",
      "Block: 11/128\n",
      "Number of times: 63\n",
      "Number of channels: 4096\n"
     ]
    },
    {
     "name": "stderr",
     "output_type": "stream",
     "text": [
      "100%|██████████████████████████████████████████████████████████████████████| 1024/1024 [03:14<00:00,  5.26it/s]\n"
     ]
    },
    {
     "name": "stdout",
     "output_type": "stream",
     "text": [
      "Pol 0: 2.07% flagged\n",
      "Pol 1: 1.61% flagged\n",
      "Union: 3.51% flagged\n",
      "loading /users/esmith/RFI_MIT/PFBcoeffs/c0800x4096_x14_7_24t_095binw_get_pfb_coeffs_h.npy for FIR coefficients\n",
      "block duration: 4.241168312231699\n",
      "------------------------------------------\n",
      "Block: 12/128\n",
      "Number of times: 63\n",
      "Number of channels: 4096\n"
     ]
    },
    {
     "name": "stderr",
     "output_type": "stream",
     "text": [
      "100%|██████████████████████████████████████████████████████████████████████| 1024/1024 [03:09<00:00,  5.39it/s]\n"
     ]
    },
    {
     "name": "stdout",
     "output_type": "stream",
     "text": [
      "Pol 0: 2.07% flagged\n",
      "Pol 1: 1.63% flagged\n",
      "Union: 3.52% flagged\n",
      "loading /users/esmith/RFI_MIT/PFBcoeffs/c0800x4096_x14_7_24t_095binw_get_pfb_coeffs_h.npy for FIR coefficients\n",
      "block duration: 4.17910011212031\n",
      "------------------------------------------\n",
      "Block: 13/128\n",
      "Number of times: 63\n",
      "Number of channels: 4096\n"
     ]
    },
    {
     "name": "stderr",
     "output_type": "stream",
     "text": [
      "100%|██████████████████████████████████████████████████████████████████████| 1024/1024 [03:11<00:00,  5.35it/s]\n"
     ]
    },
    {
     "name": "stdout",
     "output_type": "stream",
     "text": [
      "Pol 0: 2.07% flagged\n",
      "Pol 1: 1.63% flagged\n",
      "Union: 3.53% flagged\n",
      "loading /users/esmith/RFI_MIT/PFBcoeffs/c0800x4096_x14_7_24t_095binw_get_pfb_coeffs_h.npy for FIR coefficients\n",
      "block duration: 4.216229967276255\n",
      "------------------------------------------\n",
      "Block: 14/128\n",
      "Number of times: 63\n",
      "Number of channels: 4096\n"
     ]
    },
    {
     "name": "stderr",
     "output_type": "stream",
     "text": [
      "100%|██████████████████████████████████████████████████████████████████████| 1024/1024 [03:10<00:00,  5.37it/s]\n"
     ]
    },
    {
     "name": "stdout",
     "output_type": "stream",
     "text": [
      "Pol 0: 2.05% flagged\n",
      "Pol 1: 1.61% flagged\n",
      "Union: 3.49% flagged\n",
      "loading /users/esmith/RFI_MIT/PFBcoeffs/c0800x4096_x14_7_24t_095binw_get_pfb_coeffs_h.npy for FIR coefficients\n",
      "block duration: 4.187454875310262\n",
      "------------------------------------------\n",
      "Block: 15/128\n",
      "Number of times: 63\n",
      "Number of channels: 4096\n"
     ]
    },
    {
     "name": "stderr",
     "output_type": "stream",
     "text": [
      "100%|██████████████████████████████████████████████████████████████████████| 1024/1024 [03:09<00:00,  5.40it/s]\n"
     ]
    },
    {
     "name": "stdout",
     "output_type": "stream",
     "text": [
      "Pol 0: 2.06% flagged\n",
      "Pol 1: 1.64% flagged\n",
      "Union: 3.52% flagged\n",
      "loading /users/esmith/RFI_MIT/PFBcoeffs/c0800x4096_x14_7_24t_095binw_get_pfb_coeffs_h.npy for FIR coefficients\n",
      "block duration: 4.190420548121135\n",
      "------------------------------------------\n",
      "Block: 16/128\n",
      "Number of times: 63\n",
      "Number of channels: 4096\n"
     ]
    },
    {
     "name": "stderr",
     "output_type": "stream",
     "text": [
      "100%|██████████████████████████████████████████████████████████████████████| 1024/1024 [03:11<00:00,  5.36it/s]\n"
     ]
    },
    {
     "name": "stdout",
     "output_type": "stream",
     "text": [
      "Pol 0: 2.1% flagged\n",
      "Pol 1: 1.61% flagged\n",
      "Union: 3.54% flagged\n",
      "loading /users/esmith/RFI_MIT/PFBcoeffs/c0800x4096_x14_7_24t_095binw_get_pfb_coeffs_h.npy for FIR coefficients\n",
      "block duration: 4.213596912225087\n",
      "------------------------------------------\n",
      "Block: 17/128\n",
      "Number of times: 63\n",
      "Number of channels: 4096\n"
     ]
    },
    {
     "name": "stderr",
     "output_type": "stream",
     "text": [
      "100%|██████████████████████████████████████████████████████████████████████| 1024/1024 [03:11<00:00,  5.35it/s]\n"
     ]
    },
    {
     "name": "stdout",
     "output_type": "stream",
     "text": [
      "Pol 0: 2.08% flagged\n",
      "Pol 1: 1.64% flagged\n",
      "Union: 3.54% flagged\n",
      "loading /users/esmith/RFI_MIT/PFBcoeffs/c0800x4096_x14_7_24t_095binw_get_pfb_coeffs_h.npy for FIR coefficients\n",
      "block duration: 4.22900222937266\n",
      "------------------------------------------\n",
      "Block: 18/128\n",
      "Number of times: 63\n",
      "Number of channels: 4096\n"
     ]
    },
    {
     "name": "stderr",
     "output_type": "stream",
     "text": [
      "100%|██████████████████████████████████████████████████████████████████████| 1024/1024 [03:10<00:00,  5.39it/s]\n"
     ]
    },
    {
     "name": "stdout",
     "output_type": "stream",
     "text": [
      "Pol 0: 2.12% flagged\n",
      "Pol 1: 1.64% flagged\n",
      "Union: 3.58% flagged\n",
      "loading /users/esmith/RFI_MIT/PFBcoeffs/c0800x4096_x14_7_24t_095binw_get_pfb_coeffs_h.npy for FIR coefficients\n",
      "block duration: 4.211100029945373\n",
      "------------------------------------------\n",
      "Block: 19/128\n",
      "Number of times: 63\n",
      "Number of channels: 4096\n"
     ]
    },
    {
     "name": "stderr",
     "output_type": "stream",
     "text": [
      "100%|██████████████████████████████████████████████████████████████████████| 1024/1024 [03:09<00:00,  5.41it/s]\n"
     ]
    },
    {
     "name": "stdout",
     "output_type": "stream",
     "text": [
      "Pol 0: 2.12% flagged\n",
      "Pol 1: 1.64% flagged\n",
      "Union: 3.58% flagged\n",
      "loading /users/esmith/RFI_MIT/PFBcoeffs/c0800x4096_x14_7_24t_095binw_get_pfb_coeffs_h.npy for FIR coefficients\n",
      "block duration: 4.212078881263733\n",
      "------------------------------------------\n",
      "Block: 20/128\n",
      "Number of times: 63\n",
      "Number of channels: 4096\n"
     ]
    },
    {
     "name": "stderr",
     "output_type": "stream",
     "text": [
      "100%|██████████████████████████████████████████████████████████████████████| 1024/1024 [03:11<00:00,  5.33it/s]\n"
     ]
    },
    {
     "name": "stdout",
     "output_type": "stream",
     "text": [
      "Pol 0: 2.04% flagged\n",
      "Pol 1: 1.63% flagged\n",
      "Union: 3.5% flagged\n",
      "loading /users/esmith/RFI_MIT/PFBcoeffs/c0800x4096_x14_7_24t_095binw_get_pfb_coeffs_h.npy for FIR coefficients\n",
      "block duration: 4.257677125930786\n",
      "------------------------------------------\n",
      "Block: 21/128\n",
      "Number of times: 63\n",
      "Number of channels: 4096\n"
     ]
    },
    {
     "name": "stderr",
     "output_type": "stream",
     "text": [
      "100%|██████████████████████████████████████████████████████████████████████| 1024/1024 [03:09<00:00,  5.40it/s]\n"
     ]
    },
    {
     "name": "stdout",
     "output_type": "stream",
     "text": [
      "Pol 0: 2.04% flagged\n",
      "Pol 1: 1.61% flagged\n",
      "Union: 3.48% flagged\n",
      "loading /users/esmith/RFI_MIT/PFBcoeffs/c0800x4096_x14_7_24t_095binw_get_pfb_coeffs_h.npy for FIR coefficients\n",
      "block duration: 4.240484050909678\n",
      "------------------------------------------\n",
      "Block: 22/128\n",
      "Number of times: 63\n",
      "Number of channels: 4096\n"
     ]
    },
    {
     "name": "stderr",
     "output_type": "stream",
     "text": [
      "100%|██████████████████████████████████████████████████████████████████████| 1024/1024 [03:13<00:00,  5.28it/s]\n"
     ]
    },
    {
     "name": "stdout",
     "output_type": "stream",
     "text": [
      "Pol 0: 2.05% flagged\n",
      "Pol 1: 1.66% flagged\n",
      "Union: 3.52% flagged\n",
      "loading /users/esmith/RFI_MIT/PFBcoeffs/c0800x4096_x14_7_24t_095binw_get_pfb_coeffs_h.npy for FIR coefficients\n",
      "block duration: 4.313078689575195\n",
      "------------------------------------------\n",
      "Block: 23/128\n",
      "Number of times: 63\n",
      "Number of channels: 4096\n"
     ]
    },
    {
     "name": "stderr",
     "output_type": "stream",
     "text": [
      "100%|██████████████████████████████████████████████████████████████████████| 1024/1024 [03:09<00:00,  5.42it/s]\n"
     ]
    },
    {
     "name": "stdout",
     "output_type": "stream",
     "text": [
      "Pol 0: 2.03% flagged\n",
      "Pol 1: 1.66% flagged\n",
      "Union: 3.52% flagged\n",
      "loading /users/esmith/RFI_MIT/PFBcoeffs/c0800x4096_x14_7_24t_095binw_get_pfb_coeffs_h.npy for FIR coefficients\n",
      "block duration: 4.248120399316152\n",
      "------------------------------------------\n",
      "Block: 24/128\n",
      "Number of times: 63\n",
      "Number of channels: 4096\n"
     ]
    },
    {
     "name": "stderr",
     "output_type": "stream",
     "text": [
      "100%|██████████████████████████████████████████████████████████████████████| 1024/1024 [03:11<00:00,  5.36it/s]\n"
     ]
    },
    {
     "name": "stdout",
     "output_type": "stream",
     "text": [
      "Pol 0: 2.08% flagged\n",
      "Pol 1: 1.62% flagged\n",
      "Union: 3.52% flagged\n",
      "loading /users/esmith/RFI_MIT/PFBcoeffs/c0800x4096_x14_7_24t_095binw_get_pfb_coeffs_h.npy for FIR coefficients\n",
      "block duration: 4.299396562576294\n",
      "------------------------------------------\n",
      "Block: 25/128\n",
      "Number of times: 63\n",
      "Number of channels: 4096\n"
     ]
    },
    {
     "name": "stderr",
     "output_type": "stream",
     "text": [
      "100%|██████████████████████████████████████████████████████████████████████| 1024/1024 [03:09<00:00,  5.40it/s]\n"
     ]
    },
    {
     "name": "stdout",
     "output_type": "stream",
     "text": [
      "Pol 0: 2.08% flagged\n",
      "Pol 1: 1.65% flagged\n",
      "Union: 3.54% flagged\n",
      "loading /users/esmith/RFI_MIT/PFBcoeffs/c0800x4096_x14_7_24t_095binw_get_pfb_coeffs_h.npy for FIR coefficients\n",
      "block duration: 4.276652344067892\n",
      "------------------------------------------\n",
      "Block: 26/128\n",
      "Number of times: 63\n",
      "Number of channels: 4096\n"
     ]
    },
    {
     "name": "stderr",
     "output_type": "stream",
     "text": [
      "100%|██████████████████████████████████████████████████████████████████████| 1024/1024 [03:10<00:00,  5.37it/s]\n"
     ]
    },
    {
     "name": "stdout",
     "output_type": "stream",
     "text": [
      "Pol 0: 2.09% flagged\n",
      "Pol 1: 1.63% flagged\n",
      "Union: 3.54% flagged\n",
      "loading /users/esmith/RFI_MIT/PFBcoeffs/c0800x4096_x14_7_24t_095binw_get_pfb_coeffs_h.npy for FIR coefficients\n",
      "block duration: 4.290156567096711\n",
      "------------------------------------------\n",
      "Block: 27/128\n",
      "Number of times: 63\n",
      "Number of channels: 4096\n"
     ]
    },
    {
     "name": "stderr",
     "output_type": "stream",
     "text": [
      "100%|██████████████████████████████████████████████████████████████████████| 1024/1024 [03:11<00:00,  5.36it/s]\n"
     ]
    },
    {
     "name": "stdout",
     "output_type": "stream",
     "text": [
      "Pol 0: 2.05% flagged\n",
      "Pol 1: 1.65% flagged\n",
      "Union: 3.51% flagged\n",
      "loading /users/esmith/RFI_MIT/PFBcoeffs/c0800x4096_x14_7_24t_095binw_get_pfb_coeffs_h.npy for FIR coefficients\n",
      "block duration: 4.3094456116358435\n",
      "------------------------------------------\n",
      "Block: 28/128\n",
      "Number of times: 63\n",
      "Number of channels: 4096\n"
     ]
    },
    {
     "name": "stderr",
     "output_type": "stream",
     "text": [
      "100%|██████████████████████████████████████████████████████████████████████| 1024/1024 [03:11<00:00,  5.35it/s]\n"
     ]
    },
    {
     "name": "stdout",
     "output_type": "stream",
     "text": [
      "Pol 0: 2.09% flagged\n",
      "Pol 1: 1.66% flagged\n",
      "Union: 3.54% flagged\n",
      "loading /users/esmith/RFI_MIT/PFBcoeffs/c0800x4096_x14_7_24t_095binw_get_pfb_coeffs_h.npy for FIR coefficients\n",
      "block duration: 4.326923533280691\n",
      "------------------------------------------\n",
      "Block: 29/128\n",
      "Number of times: 63\n",
      "Number of channels: 4096\n"
     ]
    },
    {
     "name": "stderr",
     "output_type": "stream",
     "text": [
      "100%|██████████████████████████████████████████████████████████████████████| 1024/1024 [03:10<00:00,  5.37it/s]\n"
     ]
    },
    {
     "name": "stdout",
     "output_type": "stream",
     "text": [
      "Pol 0: 2.0% flagged\n",
      "Pol 1: 1.63% flagged\n",
      "Union: 3.45% flagged\n",
      "loading /users/esmith/RFI_MIT/PFBcoeffs/c0800x4096_x14_7_24t_095binw_get_pfb_coeffs_h.npy for FIR coefficients\n",
      "block duration: 4.323262886206309\n",
      "------------------------------------------\n",
      "Block: 30/128\n",
      "Number of times: 63\n",
      "Number of channels: 4096\n"
     ]
    },
    {
     "name": "stderr",
     "output_type": "stream",
     "text": [
      "100%|██████████████████████████████████████████████████████████████████████| 1024/1024 [03:10<00:00,  5.36it/s]\n"
     ]
    },
    {
     "name": "stdout",
     "output_type": "stream",
     "text": [
      "Pol 0: 2.1% flagged\n",
      "Pol 1: 1.6% flagged\n",
      "Union: 3.5% flagged\n",
      "loading /users/esmith/RFI_MIT/PFBcoeffs/c0800x4096_x14_7_24t_095binw_get_pfb_coeffs_h.npy for FIR coefficients\n",
      "block duration: 4.361336024602254\n",
      "------------------------------------------\n",
      "Block: 31/128\n",
      "Number of times: 63\n",
      "Number of channels: 4096\n"
     ]
    },
    {
     "name": "stderr",
     "output_type": "stream",
     "text": [
      "100%|██████████████████████████████████████████████████████████████████████| 1024/1024 [03:11<00:00,  5.34it/s]\n"
     ]
    },
    {
     "name": "stdout",
     "output_type": "stream",
     "text": [
      "Pol 0: 2.08% flagged\n",
      "Pol 1: 1.65% flagged\n",
      "Union: 3.54% flagged\n",
      "loading /users/esmith/RFI_MIT/PFBcoeffs/c0800x4096_x14_7_24t_095binw_get_pfb_coeffs_h.npy for FIR coefficients\n",
      "block duration: 4.361348370711009\n",
      "------------------------------------------\n",
      "Block: 32/128\n",
      "Number of times: 63\n",
      "Number of channels: 4096\n"
     ]
    },
    {
     "name": "stderr",
     "output_type": "stream",
     "text": [
      "100%|██████████████████████████████████████████████████████████████████████| 1024/1024 [03:09<00:00,  5.41it/s]\n"
     ]
    },
    {
     "name": "stdout",
     "output_type": "stream",
     "text": [
      "Pol 0: 2.08% flagged\n",
      "Pol 1: 1.6% flagged\n",
      "Union: 3.48% flagged\n",
      "loading /users/esmith/RFI_MIT/PFBcoeffs/c0800x4096_x14_7_24t_095binw_get_pfb_coeffs_h.npy for FIR coefficients\n",
      "block duration: 4.359122371673584\n",
      "------------------------------------------\n",
      "Block: 33/128\n",
      "Number of times: 63\n",
      "Number of channels: 4096\n"
     ]
    },
    {
     "name": "stderr",
     "output_type": "stream",
     "text": [
      "100%|██████████████████████████████████████████████████████████████████████| 1024/1024 [03:15<00:00,  5.25it/s]\n"
     ]
    },
    {
     "name": "stdout",
     "output_type": "stream",
     "text": [
      "Pol 0: 2.1% flagged\n",
      "Pol 1: 1.62% flagged\n",
      "Union: 3.52% flagged\n",
      "loading /users/esmith/RFI_MIT/PFBcoeffs/c0800x4096_x14_7_24t_095binw_get_pfb_coeffs_h.npy for FIR coefficients\n",
      "block duration: 4.461378987630209\n",
      "------------------------------------------\n",
      "Block: 34/128\n",
      "Number of times: 63\n",
      "Number of channels: 4096\n"
     ]
    },
    {
     "name": "stderr",
     "output_type": "stream",
     "text": [
      "100%|██████████████████████████████████████████████████████████████████████| 1024/1024 [03:12<00:00,  5.31it/s]\n"
     ]
    },
    {
     "name": "stdout",
     "output_type": "stream",
     "text": [
      "Pol 0: 2.05% flagged\n",
      "Pol 1: 1.61% flagged\n",
      "Union: 3.47% flagged\n",
      "loading /users/esmith/RFI_MIT/PFBcoeffs/c0800x4096_x14_7_24t_095binw_get_pfb_coeffs_h.npy for FIR coefficients\n",
      "block duration: 4.412725698947907\n",
      "------------------------------------------\n",
      "Block: 35/128\n",
      "Number of times: 63\n",
      "Number of channels: 4096\n"
     ]
    },
    {
     "name": "stderr",
     "output_type": "stream",
     "text": [
      "100%|██████████████████████████████████████████████████████████████████████| 1024/1024 [03:08<00:00,  5.43it/s]\n"
     ]
    },
    {
     "name": "stdout",
     "output_type": "stream",
     "text": [
      "Pol 0: 2.09% flagged\n",
      "Pol 1: 1.59% flagged\n",
      "Union: 3.48% flagged\n",
      "loading /users/esmith/RFI_MIT/PFBcoeffs/c0800x4096_x14_7_24t_095binw_get_pfb_coeffs_h.npy for FIR coefficients\n",
      "block duration: 4.326181761423746\n",
      "------------------------------------------\n",
      "Block: 36/128\n",
      "Number of times: 63\n",
      "Number of channels: 4096\n"
     ]
    },
    {
     "name": "stderr",
     "output_type": "stream",
     "text": [
      "100%|██████████████████████████████████████████████████████████████████████| 1024/1024 [03:08<00:00,  5.42it/s]\n"
     ]
    },
    {
     "name": "stdout",
     "output_type": "stream",
     "text": [
      "Pol 0: 2.11% flagged\n",
      "Pol 1: 1.63% flagged\n",
      "Union: 3.53% flagged\n",
      "loading /users/esmith/RFI_MIT/PFBcoeffs/c0800x4096_x14_7_24t_095binw_get_pfb_coeffs_h.npy for FIR coefficients\n",
      "block duration: 4.387890203793844\n",
      "------------------------------------------\n",
      "Block: 37/128\n",
      "Number of times: 63\n",
      "Number of channels: 4096\n"
     ]
    },
    {
     "name": "stderr",
     "output_type": "stream",
     "text": [
      "100%|██████████████████████████████████████████████████████████████████████| 1024/1024 [03:11<00:00,  5.36it/s]\n"
     ]
    },
    {
     "name": "stdout",
     "output_type": "stream",
     "text": [
      "Pol 0: 2.06% flagged\n",
      "Pol 1: 1.61% flagged\n",
      "Union: 3.47% flagged\n",
      "loading /users/esmith/RFI_MIT/PFBcoeffs/c0800x4096_x14_7_24t_095binw_get_pfb_coeffs_h.npy for FIR coefficients\n",
      "block duration: 4.4269655028978985\n",
      "------------------------------------------\n",
      "Block: 38/128\n",
      "Number of times: 63\n",
      "Number of channels: 4096\n"
     ]
    },
    {
     "name": "stderr",
     "output_type": "stream",
     "text": [
      "100%|██████████████████████████████████████████████████████████████████████| 1024/1024 [03:10<00:00,  5.38it/s]\n"
     ]
    },
    {
     "name": "stdout",
     "output_type": "stream",
     "text": [
      "Pol 0: 2.09% flagged\n",
      "Pol 1: 1.63% flagged\n",
      "Union: 3.5% flagged\n",
      "loading /users/esmith/RFI_MIT/PFBcoeffs/c0800x4096_x14_7_24t_095binw_get_pfb_coeffs_h.npy for FIR coefficients\n",
      "block duration: 4.408324853579203\n",
      "------------------------------------------\n",
      "Block: 39/128\n",
      "Number of times: 63\n",
      "Number of channels: 4096\n"
     ]
    },
    {
     "name": "stderr",
     "output_type": "stream",
     "text": [
      "100%|██████████████████████████████████████████████████████████████████████| 1024/1024 [03:10<00:00,  5.37it/s]\n"
     ]
    },
    {
     "name": "stdout",
     "output_type": "stream",
     "text": [
      "Pol 0: 2.1% flagged\n",
      "Pol 1: 1.65% flagged\n",
      "Union: 3.54% flagged\n",
      "loading /users/esmith/RFI_MIT/PFBcoeffs/c0800x4096_x14_7_24t_095binw_get_pfb_coeffs_h.npy for FIR coefficients\n",
      "block duration: 4.404631058375041\n",
      "------------------------------------------\n",
      "Block: 40/128\n",
      "Number of times: 63\n",
      "Number of channels: 4096\n"
     ]
    },
    {
     "name": "stderr",
     "output_type": "stream",
     "text": [
      "100%|██████████████████████████████████████████████████████████████████████| 1024/1024 [03:08<00:00,  5.43it/s]\n"
     ]
    },
    {
     "name": "stdout",
     "output_type": "stream",
     "text": [
      "Pol 0: 2.07% flagged\n",
      "Pol 1: 1.62% flagged\n",
      "Union: 3.48% flagged\n",
      "loading /users/esmith/RFI_MIT/PFBcoeffs/c0800x4096_x14_7_24t_095binw_get_pfb_coeffs_h.npy for FIR coefficients\n",
      "block duration: 4.375143686930339\n",
      "------------------------------------------\n",
      "Block: 41/128\n",
      "Number of times: 63\n",
      "Number of channels: 4096\n"
     ]
    },
    {
     "name": "stderr",
     "output_type": "stream",
     "text": [
      "100%|██████████████████████████████████████████████████████████████████████| 1024/1024 [03:09<00:00,  5.40it/s]\n"
     ]
    },
    {
     "name": "stdout",
     "output_type": "stream",
     "text": [
      "Pol 0: 2.07% flagged\n",
      "Pol 1: 1.66% flagged\n",
      "Union: 3.51% flagged\n",
      "loading /users/esmith/RFI_MIT/PFBcoeffs/c0800x4096_x14_7_24t_095binw_get_pfb_coeffs_h.npy for FIR coefficients\n",
      "block duration: 4.412884577115377\n",
      "------------------------------------------\n",
      "Block: 42/128\n",
      "Number of times: 63\n",
      "Number of channels: 4096\n"
     ]
    },
    {
     "name": "stderr",
     "output_type": "stream",
     "text": [
      "100%|██████████████████████████████████████████████████████████████████████| 1024/1024 [03:09<00:00,  5.40it/s]\n"
     ]
    },
    {
     "name": "stdout",
     "output_type": "stream",
     "text": [
      "Pol 0: 2.07% flagged\n",
      "Pol 1: 1.65% flagged\n",
      "Union: 3.48% flagged\n",
      "loading /users/esmith/RFI_MIT/PFBcoeffs/c0800x4096_x14_7_24t_095binw_get_pfb_coeffs_h.npy for FIR coefficients\n",
      "block duration: 4.461796176433563\n",
      "------------------------------------------\n",
      "Block: 43/128\n",
      "Number of times: 63\n",
      "Number of channels: 4096\n"
     ]
    },
    {
     "name": "stderr",
     "output_type": "stream",
     "text": [
      "100%|██████████████████████████████████████████████████████████████████████| 1024/1024 [03:15<00:00,  5.25it/s]\n"
     ]
    },
    {
     "name": "stdout",
     "output_type": "stream",
     "text": [
      "Pol 0: 2.16% flagged\n",
      "Pol 1: 1.65% flagged\n",
      "Union: 3.59% flagged\n",
      "loading /users/esmith/RFI_MIT/PFBcoeffs/c0800x4096_x14_7_24t_095binw_get_pfb_coeffs_h.npy for FIR coefficients\n",
      "block duration: 4.533573877811432\n",
      "------------------------------------------\n",
      "Block: 44/128\n",
      "Number of times: 63\n",
      "Number of channels: 4096\n"
     ]
    },
    {
     "name": "stderr",
     "output_type": "stream",
     "text": [
      "100%|██████████████████████████████████████████████████████████████████████| 1024/1024 [03:13<00:00,  5.29it/s]\n"
     ]
    },
    {
     "name": "stdout",
     "output_type": "stream",
     "text": [
      "Pol 0: 2.12% flagged\n",
      "Pol 1: 1.62% flagged\n",
      "Union: 3.51% flagged\n",
      "loading /users/esmith/RFI_MIT/PFBcoeffs/c0800x4096_x14_7_24t_095binw_get_pfb_coeffs_h.npy for FIR coefficients\n",
      "block duration: 4.507774682839711\n",
      "------------------------------------------\n",
      "Block: 45/128\n",
      "Number of times: 63\n",
      "Number of channels: 4096\n"
     ]
    },
    {
     "name": "stderr",
     "output_type": "stream",
     "text": [
      "100%|██████████████████████████████████████████████████████████████████████| 1024/1024 [03:13<00:00,  5.28it/s]\n"
     ]
    },
    {
     "name": "stdout",
     "output_type": "stream",
     "text": [
      "Pol 0: 2.09% flagged\n",
      "Pol 1: 1.66% flagged\n",
      "Union: 3.52% flagged\n",
      "loading /users/esmith/RFI_MIT/PFBcoeffs/c0800x4096_x14_7_24t_095binw_get_pfb_coeffs_h.npy for FIR coefficients\n",
      "block duration: 4.534491892655691\n",
      "------------------------------------------\n",
      "Block: 46/128\n",
      "Number of times: 63\n",
      "Number of channels: 4096\n"
     ]
    },
    {
     "name": "stderr",
     "output_type": "stream",
     "text": [
      "100%|██████████████████████████████████████████████████████████████████████| 1024/1024 [03:12<00:00,  5.33it/s]\n"
     ]
    },
    {
     "name": "stdout",
     "output_type": "stream",
     "text": [
      "Pol 0: 2.13% flagged\n",
      "Pol 1: 1.66% flagged\n",
      "Union: 3.56% flagged\n",
      "loading /users/esmith/RFI_MIT/PFBcoeffs/c0800x4096_x14_7_24t_095binw_get_pfb_coeffs_h.npy for FIR coefficients\n",
      "block duration: 4.50719438791275\n",
      "------------------------------------------\n",
      "Block: 47/128\n",
      "Number of times: 63\n",
      "Number of channels: 4096\n"
     ]
    },
    {
     "name": "stderr",
     "output_type": "stream",
     "text": [
      "100%|██████████████████████████████████████████████████████████████████████| 1024/1024 [03:13<00:00,  5.30it/s]\n"
     ]
    },
    {
     "name": "stdout",
     "output_type": "stream",
     "text": [
      "Pol 0: 2.16% flagged\n",
      "Pol 1: 1.6% flagged\n",
      "Union: 3.53% flagged\n",
      "loading /users/esmith/RFI_MIT/PFBcoeffs/c0800x4096_x14_7_24t_095binw_get_pfb_coeffs_h.npy for FIR coefficients\n",
      "block duration: 4.533255918820699\n",
      "------------------------------------------\n",
      "Block: 48/128\n",
      "Number of times: 63\n",
      "Number of channels: 4096\n"
     ]
    },
    {
     "name": "stderr",
     "output_type": "stream",
     "text": [
      "100%|██████████████████████████████████████████████████████████████████████| 1024/1024 [03:13<00:00,  5.29it/s]\n"
     ]
    },
    {
     "name": "stdout",
     "output_type": "stream",
     "text": [
      "Pol 0: 2.1% flagged\n",
      "Pol 1: 1.62% flagged\n",
      "Union: 3.49% flagged\n",
      "loading /users/esmith/RFI_MIT/PFBcoeffs/c0800x4096_x14_7_24t_095binw_get_pfb_coeffs_h.npy for FIR coefficients\n",
      "block duration: 4.547245339552561\n",
      "------------------------------------------\n",
      "Block: 49/128\n",
      "Number of times: 63\n",
      "Number of channels: 4096\n"
     ]
    },
    {
     "name": "stderr",
     "output_type": "stream",
     "text": [
      "100%|██████████████████████████████████████████████████████████████████████| 1024/1024 [03:14<00:00,  5.26it/s]\n"
     ]
    },
    {
     "name": "stdout",
     "output_type": "stream",
     "text": [
      "Pol 0: 2.08% flagged\n",
      "Pol 1: 1.66% flagged\n",
      "Union: 3.5% flagged\n",
      "loading /users/esmith/RFI_MIT/PFBcoeffs/c0800x4096_x14_7_24t_095binw_get_pfb_coeffs_h.npy for FIR coefficients\n",
      "block duration: 4.578310970465342\n",
      "------------------------------------------\n",
      "Block: 50/128\n",
      "Number of times: 63\n",
      "Number of channels: 4096\n"
     ]
    },
    {
     "name": "stderr",
     "output_type": "stream",
     "text": [
      "100%|██████████████████████████████████████████████████████████████████████| 1024/1024 [03:12<00:00,  5.32it/s]\n"
     ]
    },
    {
     "name": "stdout",
     "output_type": "stream",
     "text": [
      "Pol 0: 2.14% flagged\n",
      "Pol 1: 1.66% flagged\n",
      "Union: 3.56% flagged\n",
      "loading /users/esmith/RFI_MIT/PFBcoeffs/c0800x4096_x14_7_24t_095binw_get_pfb_coeffs_h.npy for FIR coefficients\n",
      "block duration: 4.538521428902944\n",
      "------------------------------------------\n",
      "Block: 51/128\n",
      "Number of times: 63\n",
      "Number of channels: 4096\n"
     ]
    },
    {
     "name": "stderr",
     "output_type": "stream",
     "text": [
      "100%|██████████████████████████████████████████████████████████████████████| 1024/1024 [03:15<00:00,  5.24it/s]\n"
     ]
    },
    {
     "name": "stdout",
     "output_type": "stream",
     "text": [
      "Pol 0: 2.11% flagged\n",
      "Pol 1: 1.65% flagged\n",
      "Union: 3.51% flagged\n",
      "loading /users/esmith/RFI_MIT/PFBcoeffs/c0800x4096_x14_7_24t_095binw_get_pfb_coeffs_h.npy for FIR coefficients\n",
      "block duration: 4.620085553328196\n",
      "------------------------------------------\n",
      "Block: 52/128\n",
      "Number of times: 63\n",
      "Number of channels: 4096\n"
     ]
    },
    {
     "name": "stderr",
     "output_type": "stream",
     "text": [
      "100%|██████████████████████████████████████████████████████████████████████| 1024/1024 [03:14<00:00,  5.27it/s]\n"
     ]
    },
    {
     "name": "stdout",
     "output_type": "stream",
     "text": [
      "Pol 0: 2.13% flagged\n",
      "Pol 1: 1.68% flagged\n",
      "Union: 3.56% flagged\n",
      "loading /users/esmith/RFI_MIT/PFBcoeffs/c0800x4096_x14_7_24t_095binw_get_pfb_coeffs_h.npy for FIR coefficients\n",
      "block duration: 4.600073822339376\n",
      "------------------------------------------\n",
      "Block: 53/128\n",
      "Number of times: 63\n",
      "Number of channels: 4096\n"
     ]
    },
    {
     "name": "stderr",
     "output_type": "stream",
     "text": [
      "100%|██████████████████████████████████████████████████████████████████████| 1024/1024 [03:17<00:00,  5.18it/s]\n"
     ]
    },
    {
     "name": "stdout",
     "output_type": "stream",
     "text": [
      "Pol 0: 2.14% flagged\n",
      "Pol 1: 1.68% flagged\n",
      "Union: 3.56% flagged\n",
      "loading /users/esmith/RFI_MIT/PFBcoeffs/c0800x4096_x14_7_24t_095binw_get_pfb_coeffs_h.npy for FIR coefficients\n",
      "block duration: 4.929140714804332\n",
      "------------------------------------------\n",
      "Block: 54/128\n",
      "Number of times: 63\n",
      "Number of channels: 4096\n"
     ]
    },
    {
     "name": "stderr",
     "output_type": "stream",
     "text": [
      "100%|██████████████████████████████████████████████████████████████████████| 1024/1024 [03:22<00:00,  5.06it/s]\n"
     ]
    },
    {
     "name": "stdout",
     "output_type": "stream",
     "text": [
      "Pol 0: 2.12% flagged\n",
      "Pol 1: 1.67% flagged\n",
      "Union: 3.53% flagged\n",
      "loading /users/esmith/RFI_MIT/PFBcoeffs/c0800x4096_x14_7_24t_095binw_get_pfb_coeffs_h.npy for FIR coefficients\n",
      "block duration: 4.777789477507273\n",
      "------------------------------------------\n",
      "Block: 55/128\n",
      "Number of times: 63\n",
      "Number of channels: 4096\n"
     ]
    },
    {
     "name": "stderr",
     "output_type": "stream",
     "text": [
      "100%|██████████████████████████████████████████████████████████████████████| 1024/1024 [03:07<00:00,  5.47it/s]\n"
     ]
    },
    {
     "name": "stdout",
     "output_type": "stream",
     "text": [
      "Pol 0: 2.14% flagged\n",
      "Pol 1: 1.66% flagged\n",
      "Union: 3.54% flagged\n",
      "loading /users/esmith/RFI_MIT/PFBcoeffs/c0800x4096_x14_7_24t_095binw_get_pfb_coeffs_h.npy for FIR coefficients\n",
      "block duration: 4.507826975981394\n",
      "------------------------------------------\n",
      "Block: 56/128\n",
      "Number of times: 63\n",
      "Number of channels: 4096\n"
     ]
    },
    {
     "name": "stderr",
     "output_type": "stream",
     "text": [
      "100%|██████████████████████████████████████████████████████████████████████| 1024/1024 [03:07<00:00,  5.48it/s]\n"
     ]
    },
    {
     "name": "stdout",
     "output_type": "stream",
     "text": [
      "Pol 0: 2.14% flagged\n",
      "Pol 1: 1.64% flagged\n",
      "Union: 3.53% flagged\n",
      "loading /users/esmith/RFI_MIT/PFBcoeffs/c0800x4096_x14_7_24t_095binw_get_pfb_coeffs_h.npy for FIR coefficients\n",
      "block duration: 4.41436456044515\n",
      "------------------------------------------\n",
      "Block: 57/128\n",
      "Number of times: 63\n",
      "Number of channels: 4096\n"
     ]
    },
    {
     "name": "stderr",
     "output_type": "stream",
     "text": [
      "100%|██████████████████████████████████████████████████████████████████████| 1024/1024 [03:04<00:00,  5.54it/s]\n"
     ]
    },
    {
     "name": "stdout",
     "output_type": "stream",
     "text": [
      "Pol 0: 2.11% flagged\n",
      "Pol 1: 1.65% flagged\n",
      "Union: 3.5% flagged\n",
      "loading /users/esmith/RFI_MIT/PFBcoeffs/c0800x4096_x14_7_24t_095binw_get_pfb_coeffs_h.npy for FIR coefficients\n",
      "block duration: 4.419933994611104\n",
      "------------------------------------------\n",
      "Block: 58/128\n",
      "Number of times: 63\n",
      "Number of channels: 4096\n"
     ]
    },
    {
     "name": "stderr",
     "output_type": "stream",
     "text": [
      "100%|██████████████████████████████████████████████████████████████████████| 1024/1024 [03:03<00:00,  5.57it/s]\n"
     ]
    },
    {
     "name": "stdout",
     "output_type": "stream",
     "text": [
      "Pol 0: 2.15% flagged\n",
      "Pol 1: 1.66% flagged\n",
      "Union: 3.54% flagged\n",
      "loading /users/esmith/RFI_MIT/PFBcoeffs/c0800x4096_x14_7_24t_095binw_get_pfb_coeffs_h.npy for FIR coefficients\n",
      "block duration: 4.432795516649882\n",
      "------------------------------------------\n",
      "Block: 59/128\n",
      "Number of times: 63\n",
      "Number of channels: 4096\n"
     ]
    },
    {
     "name": "stderr",
     "output_type": "stream",
     "text": [
      "100%|██████████████████████████████████████████████████████████████████████| 1024/1024 [03:05<00:00,  5.51it/s]\n"
     ]
    },
    {
     "name": "stdout",
     "output_type": "stream",
     "text": [
      "Pol 0: 2.07% flagged\n",
      "Pol 1: 1.65% flagged\n",
      "Union: 3.45% flagged\n",
      "loading /users/esmith/RFI_MIT/PFBcoeffs/c0800x4096_x14_7_24t_095binw_get_pfb_coeffs_h.npy for FIR coefficients\n",
      "block duration: 4.436474637190501\n",
      "------------------------------------------\n",
      "Block: 60/128\n",
      "Number of times: 63\n",
      "Number of channels: 4096\n"
     ]
    },
    {
     "name": "stderr",
     "output_type": "stream",
     "text": [
      "100%|██████████████████████████████████████████████████████████████████████| 1024/1024 [03:06<00:00,  5.49it/s]\n"
     ]
    },
    {
     "name": "stdout",
     "output_type": "stream",
     "text": [
      "Pol 0: 2.18% flagged\n",
      "Pol 1: 1.66% flagged\n",
      "Union: 3.56% flagged\n",
      "loading /users/esmith/RFI_MIT/PFBcoeffs/c0800x4096_x14_7_24t_095binw_get_pfb_coeffs_h.npy for FIR coefficients\n",
      "block duration: 4.490734358628591\n",
      "------------------------------------------\n",
      "Block: 61/128\n",
      "Number of times: 63\n",
      "Number of channels: 4096\n"
     ]
    },
    {
     "name": "stderr",
     "output_type": "stream",
     "text": [
      "100%|██████████████████████████████████████████████████████████████████████| 1024/1024 [03:04<00:00,  5.56it/s]\n"
     ]
    },
    {
     "name": "stdout",
     "output_type": "stream",
     "text": [
      "Pol 0: 2.12% flagged\n",
      "Pol 1: 1.67% flagged\n",
      "Union: 3.52% flagged\n",
      "loading /users/esmith/RFI_MIT/PFBcoeffs/c0800x4096_x14_7_24t_095binw_get_pfb_coeffs_h.npy for FIR coefficients\n",
      "block duration: 4.458415150642395\n",
      "------------------------------------------\n",
      "Block: 62/128\n",
      "Number of times: 63\n",
      "Number of channels: 4096\n"
     ]
    },
    {
     "name": "stderr",
     "output_type": "stream",
     "text": [
      "100%|██████████████████████████████████████████████████████████████████████| 1024/1024 [03:06<00:00,  5.49it/s]\n"
     ]
    },
    {
     "name": "stdout",
     "output_type": "stream",
     "text": [
      "Pol 0: 2.1% flagged\n",
      "Pol 1: 1.63% flagged\n",
      "Union: 3.46% flagged\n",
      "loading /users/esmith/RFI_MIT/PFBcoeffs/c0800x4096_x14_7_24t_095binw_get_pfb_coeffs_h.npy for FIR coefficients\n",
      "block duration: 4.469274202982585\n",
      "------------------------------------------\n",
      "Block: 63/128\n",
      "Number of times: 63\n",
      "Number of channels: 4096\n"
     ]
    },
    {
     "name": "stderr",
     "output_type": "stream",
     "text": [
      "100%|██████████████████████████████████████████████████████████████████████| 1024/1024 [03:01<00:00,  5.65it/s]\n"
     ]
    },
    {
     "name": "stdout",
     "output_type": "stream",
     "text": [
      "Pol 0: 2.13% flagged\n",
      "Pol 1: 1.66% flagged\n",
      "Union: 3.52% flagged\n",
      "loading /users/esmith/RFI_MIT/PFBcoeffs/c0800x4096_x14_7_24t_095binw_get_pfb_coeffs_h.npy for FIR coefficients\n",
      "block duration: 4.397406438986461\n",
      "------------------------------------------\n",
      "Block: 64/128\n",
      "Number of times: 63\n",
      "Number of channels: 4096\n"
     ]
    },
    {
     "name": "stderr",
     "output_type": "stream",
     "text": [
      "100%|██████████████████████████████████████████████████████████████████████| 1024/1024 [02:58<00:00,  5.73it/s]\n"
     ]
    },
    {
     "name": "stdout",
     "output_type": "stream",
     "text": [
      "Pol 0: 2.17% flagged\n",
      "Pol 1: 1.63% flagged\n",
      "Union: 3.51% flagged\n",
      "loading /users/esmith/RFI_MIT/PFBcoeffs/c0800x4096_x14_7_24t_095binw_get_pfb_coeffs_h.npy for FIR coefficients\n",
      "block duration: 4.354511801401774\n",
      "------------------------------------------\n",
      "Block: 65/128\n",
      "Number of times: 63\n",
      "Number of channels: 4096\n"
     ]
    },
    {
     "name": "stderr",
     "output_type": "stream",
     "text": [
      "100%|██████████████████████████████████████████████████████████████████████| 1024/1024 [03:00<00:00,  5.67it/s]\n"
     ]
    },
    {
     "name": "stdout",
     "output_type": "stream",
     "text": [
      "Pol 0: 2.09% flagged\n",
      "Pol 1: 1.63% flagged\n",
      "Union: 3.44% flagged\n",
      "loading /users/esmith/RFI_MIT/PFBcoeffs/c0800x4096_x14_7_24t_095binw_get_pfb_coeffs_h.npy for FIR coefficients\n",
      "block duration: 4.370996876557668\n",
      "------------------------------------------\n",
      "Block: 66/128\n",
      "Number of times: 63\n",
      "Number of channels: 4096\n"
     ]
    },
    {
     "name": "stderr",
     "output_type": "stream",
     "text": [
      "100%|██████████████████████████████████████████████████████████████████████| 1024/1024 [03:01<00:00,  5.64it/s]\n"
     ]
    },
    {
     "name": "stdout",
     "output_type": "stream",
     "text": [
      "Pol 0: 2.17% flagged\n",
      "Pol 1: 1.62% flagged\n",
      "Union: 3.52% flagged\n",
      "loading /users/esmith/RFI_MIT/PFBcoeffs/c0800x4096_x14_7_24t_095binw_get_pfb_coeffs_h.npy for FIR coefficients\n",
      "block duration: 4.415715726216634\n",
      "------------------------------------------\n",
      "Block: 67/128\n",
      "Number of times: 63\n",
      "Number of channels: 4096\n"
     ]
    },
    {
     "name": "stderr",
     "output_type": "stream",
     "text": [
      "100%|██████████████████████████████████████████████████████████████████████| 1024/1024 [03:03<00:00,  5.60it/s]\n"
     ]
    },
    {
     "name": "stdout",
     "output_type": "stream",
     "text": [
      "Pol 0: 2.17% flagged\n",
      "Pol 1: 1.63% flagged\n",
      "Union: 3.52% flagged\n",
      "loading /users/esmith/RFI_MIT/PFBcoeffs/c0800x4096_x14_7_24t_095binw_get_pfb_coeffs_h.npy for FIR coefficients\n",
      "block duration: 4.455527989069621\n",
      "------------------------------------------\n",
      "Block: 68/128\n",
      "Number of times: 63\n",
      "Number of channels: 4096\n"
     ]
    },
    {
     "name": "stderr",
     "output_type": "stream",
     "text": [
      "100%|██████████████████████████████████████████████████████████████████████| 1024/1024 [03:02<00:00,  5.62it/s]\n"
     ]
    },
    {
     "name": "stdout",
     "output_type": "stream",
     "text": [
      "Pol 0: 2.15% flagged\n",
      "Pol 1: 1.65% flagged\n",
      "Union: 3.53% flagged\n",
      "loading /users/esmith/RFI_MIT/PFBcoeffs/c0800x4096_x14_7_24t_095binw_get_pfb_coeffs_h.npy for FIR coefficients\n",
      "block duration: 4.444266907374064\n",
      "------------------------------------------\n",
      "Block: 69/128\n",
      "Number of times: 63\n",
      "Number of channels: 4096\n"
     ]
    },
    {
     "name": "stderr",
     "output_type": "stream",
     "text": [
      "100%|██████████████████████████████████████████████████████████████████████| 1024/1024 [03:03<00:00,  5.59it/s]\n"
     ]
    },
    {
     "name": "stdout",
     "output_type": "stream",
     "text": [
      "Pol 0: 2.18% flagged\n",
      "Pol 1: 1.63% flagged\n",
      "Union: 3.54% flagged\n",
      "loading /users/esmith/RFI_MIT/PFBcoeffs/c0800x4096_x14_7_24t_095binw_get_pfb_coeffs_h.npy for FIR coefficients\n",
      "block duration: 4.4801253040631615\n",
      "------------------------------------------\n",
      "Block: 70/128\n",
      "Number of times: 63\n",
      "Number of channels: 4096\n"
     ]
    },
    {
     "name": "stderr",
     "output_type": "stream",
     "text": [
      "100%|██████████████████████████████████████████████████████████████████████| 1024/1024 [03:00<00:00,  5.66it/s]\n"
     ]
    },
    {
     "name": "stdout",
     "output_type": "stream",
     "text": [
      "Pol 0: 2.17% flagged\n",
      "Pol 1: 1.64% flagged\n",
      "Union: 3.52% flagged\n",
      "loading /users/esmith/RFI_MIT/PFBcoeffs/c0800x4096_x14_7_24t_095binw_get_pfb_coeffs_h.npy for FIR coefficients\n",
      "block duration: 4.448493623733521\n",
      "------------------------------------------\n",
      "Block: 71/128\n",
      "Number of times: 63\n",
      "Number of channels: 4096\n"
     ]
    },
    {
     "name": "stderr",
     "output_type": "stream",
     "text": [
      "100%|██████████████████████████████████████████████████████████████████████| 1024/1024 [03:00<00:00,  5.66it/s]\n"
     ]
    },
    {
     "name": "stdout",
     "output_type": "stream",
     "text": [
      "Pol 0: 2.21% flagged\n",
      "Pol 1: 1.64% flagged\n",
      "Union: 3.57% flagged\n",
      "loading /users/esmith/RFI_MIT/PFBcoeffs/c0800x4096_x14_7_24t_095binw_get_pfb_coeffs_h.npy for FIR coefficients\n",
      "block duration: 4.456538275877635\n",
      "------------------------------------------\n",
      "Block: 72/128\n",
      "Number of times: 63\n",
      "Number of channels: 4096\n"
     ]
    },
    {
     "name": "stderr",
     "output_type": "stream",
     "text": [
      "100%|██████████████████████████████████████████████████████████████████████| 1024/1024 [03:05<00:00,  5.53it/s]\n"
     ]
    },
    {
     "name": "stdout",
     "output_type": "stream",
     "text": [
      "Pol 0: 2.15% flagged\n",
      "Pol 1: 1.65% flagged\n",
      "Union: 3.52% flagged\n",
      "loading /users/esmith/RFI_MIT/PFBcoeffs/c0800x4096_x14_7_24t_095binw_get_pfb_coeffs_h.npy for FIR coefficients\n",
      "block duration: 4.551643188794454\n",
      "------------------------------------------\n",
      "Block: 73/128\n",
      "Number of times: 63\n",
      "Number of channels: 4096\n"
     ]
    },
    {
     "name": "stderr",
     "output_type": "stream",
     "text": [
      "100%|██████████████████████████████████████████████████████████████████████| 1024/1024 [02:56<00:00,  5.80it/s]\n"
     ]
    },
    {
     "name": "stdout",
     "output_type": "stream",
     "text": [
      "Pol 0: 2.19% flagged\n",
      "Pol 1: 1.67% flagged\n",
      "Union: 3.57% flagged\n",
      "loading /users/esmith/RFI_MIT/PFBcoeffs/c0800x4096_x14_7_24t_095binw_get_pfb_coeffs_h.npy for FIR coefficients\n",
      "block duration: 4.416249104340872\n",
      "------------------------------------------\n",
      "Block: 74/128\n",
      "Number of times: 63\n",
      "Number of channels: 4096\n"
     ]
    },
    {
     "name": "stderr",
     "output_type": "stream",
     "text": [
      "100%|██████████████████████████████████████████████████████████████████████| 1024/1024 [03:04<00:00,  5.55it/s]\n"
     ]
    },
    {
     "name": "stdout",
     "output_type": "stream",
     "text": [
      "Pol 0: 2.17% flagged\n",
      "Pol 1: 1.66% flagged\n",
      "Union: 3.54% flagged\n",
      "loading /users/esmith/RFI_MIT/PFBcoeffs/c0800x4096_x14_7_24t_095binw_get_pfb_coeffs_h.npy for FIR coefficients\n",
      "block duration: 4.673062912623087\n",
      "------------------------------------------\n",
      "Block: 75/128\n",
      "Number of times: 63\n",
      "Number of channels: 4096\n"
     ]
    },
    {
     "name": "stderr",
     "output_type": "stream",
     "text": [
      "100%|██████████████████████████████████████████████████████████████████████| 1024/1024 [03:08<00:00,  5.44it/s]\n"
     ]
    },
    {
     "name": "stdout",
     "output_type": "stream",
     "text": [
      "Pol 0: 2.12% flagged\n",
      "Pol 1: 1.63% flagged\n",
      "Union: 3.46% flagged\n",
      "loading /users/esmith/RFI_MIT/PFBcoeffs/c0800x4096_x14_7_24t_095binw_get_pfb_coeffs_h.npy for FIR coefficients\n",
      "block duration: 4.73858425617218\n",
      "------------------------------------------\n",
      "Block: 76/128\n",
      "Number of times: 63\n",
      "Number of channels: 4096\n"
     ]
    },
    {
     "name": "stderr",
     "output_type": "stream",
     "text": [
      "100%|██████████████████████████████████████████████████████████████████████| 1024/1024 [03:08<00:00,  5.42it/s]\n"
     ]
    },
    {
     "name": "stdout",
     "output_type": "stream",
     "text": [
      "Pol 0: 2.2% flagged\n",
      "Pol 1: 1.67% flagged\n",
      "Union: 3.57% flagged\n",
      "loading /users/esmith/RFI_MIT/PFBcoeffs/c0800x4096_x14_7_24t_095binw_get_pfb_coeffs_h.npy for FIR coefficients\n",
      "block duration: 4.757521061102549\n",
      "------------------------------------------\n",
      "Block: 77/128\n",
      "Number of times: 63\n",
      "Number of channels: 4096\n"
     ]
    },
    {
     "name": "stderr",
     "output_type": "stream",
     "text": [
      "100%|██████████████████████████████████████████████████████████████████████| 1024/1024 [03:09<00:00,  5.40it/s]\n"
     ]
    },
    {
     "name": "stdout",
     "output_type": "stream",
     "text": [
      "Pol 0: 2.17% flagged\n",
      "Pol 1: 1.67% flagged\n",
      "Union: 3.55% flagged\n",
      "loading /users/esmith/RFI_MIT/PFBcoeffs/c0800x4096_x14_7_24t_095binw_get_pfb_coeffs_h.npy for FIR coefficients\n",
      "block duration: 4.781274517377217\n",
      "------------------------------------------\n",
      "Block: 78/128\n",
      "Number of times: 63\n",
      "Number of channels: 4096\n"
     ]
    },
    {
     "name": "stderr",
     "output_type": "stream",
     "text": [
      "100%|██████████████████████████████████████████████████████████████████████| 1024/1024 [03:14<00:00,  5.27it/s]\n"
     ]
    },
    {
     "name": "stdout",
     "output_type": "stream",
     "text": [
      "Pol 0: 2.14% flagged\n",
      "Pol 1: 1.65% flagged\n",
      "Union: 3.5% flagged\n",
      "loading /users/esmith/RFI_MIT/PFBcoeffs/c0800x4096_x14_7_24t_095binw_get_pfb_coeffs_h.npy for FIR coefficients\n",
      "block duration: 4.878143044312795\n",
      "------------------------------------------\n",
      "Block: 79/128\n",
      "Number of times: 63\n",
      "Number of channels: 4096\n"
     ]
    },
    {
     "name": "stderr",
     "output_type": "stream",
     "text": [
      "100%|██████████████████████████████████████████████████████████████████████| 1024/1024 [03:10<00:00,  5.37it/s]\n"
     ]
    },
    {
     "name": "stdout",
     "output_type": "stream",
     "text": [
      "Pol 0: 2.18% flagged\n",
      "Pol 1: 1.67% flagged\n",
      "Union: 3.54% flagged\n",
      "loading /users/esmith/RFI_MIT/PFBcoeffs/c0800x4096_x14_7_24t_095binw_get_pfb_coeffs_h.npy for FIR coefficients\n",
      "block duration: 4.845460899670919\n",
      "------------------------------------------\n",
      "Block: 80/128\n",
      "Number of times: 63\n",
      "Number of channels: 4096\n"
     ]
    },
    {
     "name": "stderr",
     "output_type": "stream",
     "text": [
      "100%|██████████████████████████████████████████████████████████████████████| 1024/1024 [03:11<00:00,  5.35it/s]\n"
     ]
    },
    {
     "name": "stdout",
     "output_type": "stream",
     "text": [
      "Pol 0: 2.16% flagged\n",
      "Pol 1: 1.64% flagged\n",
      "Union: 3.49% flagged\n",
      "loading /users/esmith/RFI_MIT/PFBcoeffs/c0800x4096_x14_7_24t_095binw_get_pfb_coeffs_h.npy for FIR coefficients\n",
      "block duration: 4.834619704882304\n",
      "------------------------------------------\n",
      "Block: 81/128\n",
      "Number of times: 63\n",
      "Number of channels: 4096\n"
     ]
    },
    {
     "name": "stderr",
     "output_type": "stream",
     "text": [
      "100%|██████████████████████████████████████████████████████████████████████| 1024/1024 [03:12<00:00,  5.31it/s]\n"
     ]
    },
    {
     "name": "stdout",
     "output_type": "stream",
     "text": [
      "Pol 0: 2.19% flagged\n",
      "Pol 1: 1.65% flagged\n",
      "Union: 3.54% flagged\n",
      "loading /users/esmith/RFI_MIT/PFBcoeffs/c0800x4096_x14_7_24t_095binw_get_pfb_coeffs_h.npy for FIR coefficients\n",
      "block duration: 4.895803960164388\n",
      "------------------------------------------\n",
      "Block: 82/128\n",
      "Number of times: 63\n",
      "Number of channels: 4096\n"
     ]
    },
    {
     "name": "stderr",
     "output_type": "stream",
     "text": [
      "100%|██████████████████████████████████████████████████████████████████████| 1024/1024 [03:10<00:00,  5.37it/s]\n"
     ]
    },
    {
     "name": "stdout",
     "output_type": "stream",
     "text": [
      "Pol 0: 2.22% flagged\n",
      "Pol 1: 1.67% flagged\n",
      "Union: 3.58% flagged\n",
      "loading /users/esmith/RFI_MIT/PFBcoeffs/c0800x4096_x14_7_24t_095binw_get_pfb_coeffs_h.npy for FIR coefficients\n",
      "block duration: 4.878090723355611\n",
      "------------------------------------------\n",
      "Block: 83/128\n",
      "Number of times: 63\n",
      "Number of channels: 4096\n"
     ]
    },
    {
     "name": "stderr",
     "output_type": "stream",
     "text": [
      "100%|██████████████████████████████████████████████████████████████████████| 1024/1024 [03:08<00:00,  5.42it/s]\n"
     ]
    },
    {
     "name": "stdout",
     "output_type": "stream",
     "text": [
      "Pol 0: 2.2% flagged\n",
      "Pol 1: 1.66% flagged\n",
      "Union: 3.55% flagged\n",
      "loading /users/esmith/RFI_MIT/PFBcoeffs/c0800x4096_x14_7_24t_095binw_get_pfb_coeffs_h.npy for FIR coefficients\n",
      "block duration: 4.833811565240224\n",
      "------------------------------------------\n",
      "Block: 84/128\n",
      "Number of times: 63\n",
      "Number of channels: 4096\n"
     ]
    },
    {
     "name": "stderr",
     "output_type": "stream",
     "text": [
      "100%|██████████████████████████████████████████████████████████████████████| 1024/1024 [03:10<00:00,  5.37it/s]\n"
     ]
    },
    {
     "name": "stdout",
     "output_type": "stream",
     "text": [
      "Pol 0: 2.15% flagged\n",
      "Pol 1: 1.66% flagged\n",
      "Union: 3.5% flagged\n",
      "loading /users/esmith/RFI_MIT/PFBcoeffs/c0800x4096_x14_7_24t_095binw_get_pfb_coeffs_h.npy for FIR coefficients\n",
      "block duration: 4.907606756687164\n",
      "------------------------------------------\n",
      "Block: 85/128\n",
      "Number of times: 63\n",
      "Number of channels: 4096\n"
     ]
    },
    {
     "name": "stderr",
     "output_type": "stream",
     "text": [
      "100%|██████████████████████████████████████████████████████████████████████| 1024/1024 [03:10<00:00,  5.38it/s]\n"
     ]
    },
    {
     "name": "stdout",
     "output_type": "stream",
     "text": [
      "Pol 0: 2.23% flagged\n",
      "Pol 1: 1.68% flagged\n",
      "Union: 3.6% flagged\n",
      "loading /users/esmith/RFI_MIT/PFBcoeffs/c0800x4096_x14_7_24t_095binw_get_pfb_coeffs_h.npy for FIR coefficients\n",
      "block duration: 4.951739796002706\n",
      "------------------------------------------\n",
      "Block: 86/128\n",
      "Number of times: 63\n",
      "Number of channels: 4096\n"
     ]
    },
    {
     "name": "stderr",
     "output_type": "stream",
     "text": [
      "100%|██████████████████████████████████████████████████████████████████████| 1024/1024 [03:10<00:00,  5.39it/s]\n"
     ]
    },
    {
     "name": "stdout",
     "output_type": "stream",
     "text": [
      "Pol 0: 2.21% flagged\n",
      "Pol 1: 1.64% flagged\n",
      "Union: 3.56% flagged\n",
      "loading /users/esmith/RFI_MIT/PFBcoeffs/c0800x4096_x14_7_24t_095binw_get_pfb_coeffs_h.npy for FIR coefficients\n",
      "block duration: 4.929102718830109\n",
      "------------------------------------------\n",
      "Block: 87/128\n",
      "Number of times: 63\n",
      "Number of channels: 4096\n"
     ]
    },
    {
     "name": "stderr",
     "output_type": "stream",
     "text": [
      "100%|██████████████████████████████████████████████████████████████████████| 1024/1024 [03:11<00:00,  5.34it/s]\n"
     ]
    },
    {
     "name": "stdout",
     "output_type": "stream",
     "text": [
      "Pol 0: 2.19% flagged\n",
      "Pol 1: 1.64% flagged\n",
      "Union: 3.53% flagged\n",
      "loading /users/esmith/RFI_MIT/PFBcoeffs/c0800x4096_x14_7_24t_095binw_get_pfb_coeffs_h.npy for FIR coefficients\n",
      "block duration: 4.915834796428681\n",
      "------------------------------------------\n",
      "Block: 88/128\n",
      "Number of times: 63\n",
      "Number of channels: 4096\n"
     ]
    },
    {
     "name": "stderr",
     "output_type": "stream",
     "text": [
      "100%|██████████████████████████████████████████████████████████████████████| 1024/1024 [03:09<00:00,  5.39it/s]\n"
     ]
    },
    {
     "name": "stdout",
     "output_type": "stream",
     "text": [
      "Pol 0: 2.17% flagged\n",
      "Pol 1: 1.64% flagged\n",
      "Union: 3.51% flagged\n",
      "loading /users/esmith/RFI_MIT/PFBcoeffs/c0800x4096_x14_7_24t_095binw_get_pfb_coeffs_h.npy for FIR coefficients\n",
      "block duration: 4.925351218382517\n",
      "------------------------------------------\n",
      "Block: 89/128\n",
      "Number of times: 63\n",
      "Number of channels: 4096\n"
     ]
    },
    {
     "name": "stderr",
     "output_type": "stream",
     "text": [
      "100%|██████████████████████████████████████████████████████████████████████| 1024/1024 [03:09<00:00,  5.40it/s]\n"
     ]
    },
    {
     "name": "stdout",
     "output_type": "stream",
     "text": [
      "Pol 0: 2.2% flagged\n",
      "Pol 1: 1.64% flagged\n",
      "Union: 3.54% flagged\n",
      "loading /users/esmith/RFI_MIT/PFBcoeffs/c0800x4096_x14_7_24t_095binw_get_pfb_coeffs_h.npy for FIR coefficients\n",
      "block duration: 4.898612046241761\n",
      "------------------------------------------\n",
      "Block: 90/128\n",
      "Number of times: 63\n",
      "Number of channels: 4096\n"
     ]
    },
    {
     "name": "stderr",
     "output_type": "stream",
     "text": [
      "100%|██████████████████████████████████████████████████████████████████████| 1024/1024 [03:14<00:00,  5.26it/s]\n"
     ]
    },
    {
     "name": "stdout",
     "output_type": "stream",
     "text": [
      "Pol 0: 2.19% flagged\n",
      "Pol 1: 1.66% flagged\n",
      "Union: 3.54% flagged\n",
      "loading /users/esmith/RFI_MIT/PFBcoeffs/c0800x4096_x14_7_24t_095binw_get_pfb_coeffs_h.npy for FIR coefficients\n",
      "block duration: 5.039094110329946\n",
      "------------------------------------------\n",
      "Block: 91/128\n",
      "Number of times: 63\n",
      "Number of channels: 4096\n"
     ]
    },
    {
     "name": "stderr",
     "output_type": "stream",
     "text": [
      "100%|██████████████████████████████████████████████████████████████████████| 1024/1024 [03:10<00:00,  5.38it/s]\n"
     ]
    },
    {
     "name": "stdout",
     "output_type": "stream",
     "text": [
      "Pol 0: 2.19% flagged\n",
      "Pol 1: 1.64% flagged\n",
      "Union: 3.52% flagged\n",
      "loading /users/esmith/RFI_MIT/PFBcoeffs/c0800x4096_x14_7_24t_095binw_get_pfb_coeffs_h.npy for FIR coefficients\n",
      "block duration: 4.971887743473053\n",
      "------------------------------------------\n",
      "Block: 92/128\n",
      "Number of times: 63\n",
      "Number of channels: 4096\n"
     ]
    },
    {
     "name": "stderr",
     "output_type": "stream",
     "text": [
      "100%|██████████████████████████████████████████████████████████████████████| 1024/1024 [03:09<00:00,  5.39it/s]\n"
     ]
    },
    {
     "name": "stdout",
     "output_type": "stream",
     "text": [
      "Pol 0: 2.19% flagged\n",
      "Pol 1: 1.65% flagged\n",
      "Union: 3.53% flagged\n",
      "loading /users/esmith/RFI_MIT/PFBcoeffs/c0800x4096_x14_7_24t_095binw_get_pfb_coeffs_h.npy for FIR coefficients\n",
      "block duration: 4.9626833438873295\n",
      "------------------------------------------\n",
      "Block: 93/128\n",
      "Number of times: 63\n",
      "Number of channels: 4096\n"
     ]
    },
    {
     "name": "stderr",
     "output_type": "stream",
     "text": [
      "100%|██████████████████████████████████████████████████████████████████████| 1024/1024 [03:12<00:00,  5.33it/s]\n"
     ]
    },
    {
     "name": "stdout",
     "output_type": "stream",
     "text": [
      "Pol 0: 2.2% flagged\n",
      "Pol 1: 1.64% flagged\n",
      "Union: 3.54% flagged\n",
      "loading /users/esmith/RFI_MIT/PFBcoeffs/c0800x4096_x14_7_24t_095binw_get_pfb_coeffs_h.npy for FIR coefficients\n",
      "block duration: 5.031476565202078\n",
      "------------------------------------------\n",
      "Block: 94/128\n",
      "Number of times: 63\n",
      "Number of channels: 4096\n"
     ]
    },
    {
     "name": "stderr",
     "output_type": "stream",
     "text": [
      "100%|██████████████████████████████████████████████████████████████████████| 1024/1024 [03:12<00:00,  5.32it/s]\n"
     ]
    },
    {
     "name": "stdout",
     "output_type": "stream",
     "text": [
      "Pol 0: 2.19% flagged\n",
      "Pol 1: 1.64% flagged\n",
      "Union: 3.52% flagged\n",
      "loading /users/esmith/RFI_MIT/PFBcoeffs/c0800x4096_x14_7_24t_095binw_get_pfb_coeffs_h.npy for FIR coefficients\n",
      "block duration: 5.036433430512746\n",
      "------------------------------------------\n",
      "Block: 95/128\n",
      "Number of times: 63\n",
      "Number of channels: 4096\n"
     ]
    },
    {
     "name": "stderr",
     "output_type": "stream",
     "text": [
      "100%|██████████████████████████████████████████████████████████████████████| 1024/1024 [03:11<00:00,  5.36it/s]\n"
     ]
    },
    {
     "name": "stdout",
     "output_type": "stream",
     "text": [
      "Pol 0: 2.19% flagged\n",
      "Pol 1: 1.68% flagged\n",
      "Union: 3.55% flagged\n",
      "loading /users/esmith/RFI_MIT/PFBcoeffs/c0800x4096_x14_7_24t_095binw_get_pfb_coeffs_h.npy for FIR coefficients\n",
      "block duration: 5.027852571010589\n",
      "------------------------------------------\n",
      "Block: 96/128\n",
      "Number of times: 63\n",
      "Number of channels: 4096\n"
     ]
    },
    {
     "name": "stderr",
     "output_type": "stream",
     "text": [
      "100%|██████████████████████████████████████████████████████████████████████| 1024/1024 [03:13<00:00,  5.29it/s]\n"
     ]
    },
    {
     "name": "stdout",
     "output_type": "stream",
     "text": [
      "Pol 0: 2.23% flagged\n",
      "Pol 1: 1.65% flagged\n",
      "Union: 3.56% flagged\n",
      "loading /users/esmith/RFI_MIT/PFBcoeffs/c0800x4096_x14_7_24t_095binw_get_pfb_coeffs_h.npy for FIR coefficients\n",
      "block duration: 5.076979104677836\n",
      "------------------------------------------\n",
      "Block: 97/128\n",
      "Number of times: 63\n",
      "Number of channels: 4096\n"
     ]
    },
    {
     "name": "stderr",
     "output_type": "stream",
     "text": [
      "100%|██████████████████████████████████████████████████████████████████████| 1024/1024 [03:10<00:00,  5.39it/s]\n"
     ]
    },
    {
     "name": "stdout",
     "output_type": "stream",
     "text": [
      "Pol 0: 2.24% flagged\n",
      "Pol 1: 1.62% flagged\n",
      "Union: 3.55% flagged\n",
      "loading /users/esmith/RFI_MIT/PFBcoeffs/c0800x4096_x14_7_24t_095binw_get_pfb_coeffs_h.npy for FIR coefficients\n",
      "block duration: 5.048684231440226\n",
      "------------------------------------------\n",
      "Block: 98/128\n",
      "Number of times: 63\n",
      "Number of channels: 4096\n"
     ]
    },
    {
     "name": "stderr",
     "output_type": "stream",
     "text": [
      "100%|██████████████████████████████████████████████████████████████████████| 1024/1024 [03:12<00:00,  5.32it/s]\n"
     ]
    },
    {
     "name": "stdout",
     "output_type": "stream",
     "text": [
      "Pol 0: 2.18% flagged\n",
      "Pol 1: 1.64% flagged\n",
      "Union: 3.52% flagged\n",
      "loading /users/esmith/RFI_MIT/PFBcoeffs/c0800x4096_x14_7_24t_095binw_get_pfb_coeffs_h.npy for FIR coefficients\n",
      "block duration: 5.069949877262116\n",
      "------------------------------------------\n",
      "Block: 99/128\n",
      "Number of times: 63\n",
      "Number of channels: 4096\n"
     ]
    },
    {
     "name": "stderr",
     "output_type": "stream",
     "text": [
      "100%|██████████████████████████████████████████████████████████████████████| 1024/1024 [03:11<00:00,  5.36it/s]\n"
     ]
    },
    {
     "name": "stdout",
     "output_type": "stream",
     "text": [
      "Pol 0: 2.15% flagged\n",
      "Pol 1: 1.64% flagged\n",
      "Union: 3.49% flagged\n",
      "loading /users/esmith/RFI_MIT/PFBcoeffs/c0800x4096_x14_7_24t_095binw_get_pfb_coeffs_h.npy for FIR coefficients\n",
      "block duration: 5.10301738580068\n",
      "------------------------------------------\n",
      "Block: 100/128\n",
      "Number of times: 63\n",
      "Number of channels: 4096\n"
     ]
    },
    {
     "name": "stderr",
     "output_type": "stream",
     "text": [
      "100%|██████████████████████████████████████████████████████████████████████| 1024/1024 [03:10<00:00,  5.37it/s]\n"
     ]
    },
    {
     "name": "stdout",
     "output_type": "stream",
     "text": [
      "Pol 0: 2.17% flagged\n",
      "Pol 1: 1.66% flagged\n",
      "Union: 3.51% flagged\n",
      "loading /users/esmith/RFI_MIT/PFBcoeffs/c0800x4096_x14_7_24t_095binw_get_pfb_coeffs_h.npy for FIR coefficients\n",
      "block duration: 5.074554828802745\n",
      "------------------------------------------\n",
      "Block: 101/128\n",
      "Number of times: 63\n",
      "Number of channels: 4096\n"
     ]
    },
    {
     "name": "stderr",
     "output_type": "stream",
     "text": [
      "100%|██████████████████████████████████████████████████████████████████████| 1024/1024 [03:12<00:00,  5.33it/s]\n"
     ]
    },
    {
     "name": "stdout",
     "output_type": "stream",
     "text": [
      "Pol 0: 2.19% flagged\n",
      "Pol 1: 1.68% flagged\n",
      "Union: 3.55% flagged\n",
      "loading /users/esmith/RFI_MIT/PFBcoeffs/c0800x4096_x14_7_24t_095binw_get_pfb_coeffs_h.npy for FIR coefficients\n",
      "block duration: 5.140809909502665\n",
      "------------------------------------------\n",
      "Block: 102/128\n",
      "Number of times: 63\n",
      "Number of channels: 4096\n"
     ]
    },
    {
     "name": "stderr",
     "output_type": "stream",
     "text": [
      "100%|██████████████████████████████████████████████████████████████████████| 1024/1024 [03:13<00:00,  5.28it/s]\n"
     ]
    },
    {
     "name": "stdout",
     "output_type": "stream",
     "text": [
      "Pol 0: 2.2% flagged\n",
      "Pol 1: 1.64% flagged\n",
      "Union: 3.54% flagged\n",
      "loading /users/esmith/RFI_MIT/PFBcoeffs/c0800x4096_x14_7_24t_095binw_get_pfb_coeffs_h.npy for FIR coefficients\n",
      "block duration: 5.185619008541107\n",
      "------------------------------------------\n",
      "Block: 103/128\n",
      "Number of times: 63\n",
      "Number of channels: 4096\n"
     ]
    },
    {
     "name": "stderr",
     "output_type": "stream",
     "text": [
      "100%|██████████████████████████████████████████████████████████████████████| 1024/1024 [03:10<00:00,  5.37it/s]\n"
     ]
    },
    {
     "name": "stdout",
     "output_type": "stream",
     "text": [
      "Pol 0: 2.17% flagged\n",
      "Pol 1: 1.63% flagged\n",
      "Union: 3.5% flagged\n",
      "loading /users/esmith/RFI_MIT/PFBcoeffs/c0800x4096_x14_7_24t_095binw_get_pfb_coeffs_h.npy for FIR coefficients\n",
      "block duration: 5.137075432141622\n",
      "------------------------------------------\n",
      "Block: 104/128\n",
      "Number of times: 63\n",
      "Number of channels: 4096\n"
     ]
    },
    {
     "name": "stderr",
     "output_type": "stream",
     "text": [
      "100%|██████████████████████████████████████████████████████████████████████| 1024/1024 [03:11<00:00,  5.36it/s]\n"
     ]
    },
    {
     "name": "stdout",
     "output_type": "stream",
     "text": [
      "Pol 0: 2.16% flagged\n",
      "Pol 1: 1.68% flagged\n",
      "Union: 3.53% flagged\n",
      "loading /users/esmith/RFI_MIT/PFBcoeffs/c0800x4096_x14_7_24t_095binw_get_pfb_coeffs_h.npy for FIR coefficients\n",
      "block duration: 5.169526612758636\n",
      "------------------------------------------\n",
      "Block: 105/128\n",
      "Number of times: 63\n",
      "Number of channels: 4096\n"
     ]
    },
    {
     "name": "stderr",
     "output_type": "stream",
     "text": [
      "100%|██████████████████████████████████████████████████████████████████████| 1024/1024 [03:13<00:00,  5.30it/s]\n"
     ]
    },
    {
     "name": "stdout",
     "output_type": "stream",
     "text": [
      "Pol 0: 2.15% flagged\n",
      "Pol 1: 1.67% flagged\n",
      "Union: 3.52% flagged\n",
      "loading /users/esmith/RFI_MIT/PFBcoeffs/c0800x4096_x14_7_24t_095binw_get_pfb_coeffs_h.npy for FIR coefficients\n",
      "block duration: 5.2319713433583575\n",
      "------------------------------------------\n",
      "Block: 106/128\n",
      "Number of times: 63\n",
      "Number of channels: 4096\n"
     ]
    },
    {
     "name": "stderr",
     "output_type": "stream",
     "text": [
      "100%|██████████████████████████████████████████████████████████████████████| 1024/1024 [03:09<00:00,  5.39it/s]\n"
     ]
    },
    {
     "name": "stdout",
     "output_type": "stream",
     "text": [
      "Pol 0: 2.19% flagged\n",
      "Pol 1: 1.67% flagged\n",
      "Union: 3.56% flagged\n",
      "loading /users/esmith/RFI_MIT/PFBcoeffs/c0800x4096_x14_7_24t_095binw_get_pfb_coeffs_h.npy for FIR coefficients\n",
      "block duration: 5.161224734783173\n",
      "------------------------------------------\n",
      "Block: 107/128\n",
      "Number of times: 63\n",
      "Number of channels: 4096\n"
     ]
    },
    {
     "name": "stderr",
     "output_type": "stream",
     "text": [
      "100%|██████████████████████████████████████████████████████████████████████| 1024/1024 [03:09<00:00,  5.40it/s]\n"
     ]
    },
    {
     "name": "stdout",
     "output_type": "stream",
     "text": [
      "Pol 0: 2.22% flagged\n",
      "Pol 1: 1.64% flagged\n",
      "Union: 3.56% flagged\n",
      "loading /users/esmith/RFI_MIT/PFBcoeffs/c0800x4096_x14_7_24t_095binw_get_pfb_coeffs_h.npy for FIR coefficients\n",
      "block duration: 5.172165469328562\n",
      "------------------------------------------\n",
      "Block: 108/128\n",
      "Number of times: 63\n",
      "Number of channels: 4096\n"
     ]
    },
    {
     "name": "stderr",
     "output_type": "stream",
     "text": [
      "100%|██████████████████████████████████████████████████████████████████████| 1024/1024 [03:12<00:00,  5.32it/s]\n"
     ]
    },
    {
     "name": "stdout",
     "output_type": "stream",
     "text": [
      "Pol 0: 2.16% flagged\n",
      "Pol 1: 1.64% flagged\n",
      "Union: 3.48% flagged\n",
      "loading /users/esmith/RFI_MIT/PFBcoeffs/c0800x4096_x14_7_24t_095binw_get_pfb_coeffs_h.npy for FIR coefficients\n",
      "block duration: 5.250773270924886\n",
      "------------------------------------------\n",
      "Block: 109/128\n",
      "Number of times: 63\n",
      "Number of channels: 4096\n"
     ]
    },
    {
     "name": "stderr",
     "output_type": "stream",
     "text": [
      "100%|██████████████████████████████████████████████████████████████████████| 1024/1024 [03:10<00:00,  5.39it/s]\n"
     ]
    },
    {
     "name": "stdout",
     "output_type": "stream",
     "text": [
      "Pol 0: 2.17% flagged\n",
      "Pol 1: 1.66% flagged\n",
      "Union: 3.52% flagged\n",
      "loading /users/esmith/RFI_MIT/PFBcoeffs/c0800x4096_x14_7_24t_095binw_get_pfb_coeffs_h.npy for FIR coefficients\n",
      "block duration: 5.192722876866658\n",
      "------------------------------------------\n",
      "Block: 110/128\n",
      "Number of times: 63\n",
      "Number of channels: 4096\n"
     ]
    },
    {
     "name": "stderr",
     "output_type": "stream",
     "text": [
      "100%|██████████████████████████████████████████████████████████████████████| 1024/1024 [03:10<00:00,  5.37it/s]\n"
     ]
    },
    {
     "name": "stdout",
     "output_type": "stream",
     "text": [
      "Pol 0: 2.22% flagged\n",
      "Pol 1: 1.69% flagged\n",
      "Union: 3.59% flagged\n",
      "loading /users/esmith/RFI_MIT/PFBcoeffs/c0800x4096_x14_7_24t_095binw_get_pfb_coeffs_h.npy for FIR coefficients\n",
      "block duration: 5.206769088904063\n",
      "------------------------------------------\n",
      "Block: 111/128\n",
      "Number of times: 63\n",
      "Number of channels: 4096\n"
     ]
    },
    {
     "name": "stderr",
     "output_type": "stream",
     "text": [
      "100%|██████████████████████████████████████████████████████████████████████| 1024/1024 [03:12<00:00,  5.32it/s]\n"
     ]
    },
    {
     "name": "stdout",
     "output_type": "stream",
     "text": [
      "Pol 0: 2.19% flagged\n",
      "Pol 1: 1.66% flagged\n",
      "Union: 3.53% flagged\n",
      "loading /users/esmith/RFI_MIT/PFBcoeffs/c0800x4096_x14_7_24t_095binw_get_pfb_coeffs_h.npy for FIR coefficients\n",
      "block duration: 5.270107018947601\n",
      "------------------------------------------\n",
      "Block: 112/128\n",
      "Number of times: 63\n",
      "Number of channels: 4096\n"
     ]
    },
    {
     "name": "stderr",
     "output_type": "stream",
     "text": [
      "100%|██████████████████████████████████████████████████████████████████████| 1024/1024 [03:10<00:00,  5.38it/s]\n"
     ]
    },
    {
     "name": "stdout",
     "output_type": "stream",
     "text": [
      "Pol 0: 2.23% flagged\n",
      "Pol 1: 1.67% flagged\n",
      "Union: 3.59% flagged\n",
      "loading /users/esmith/RFI_MIT/PFBcoeffs/c0800x4096_x14_7_24t_095binw_get_pfb_coeffs_h.npy for FIR coefficients\n",
      "block duration: 5.2750153621037805\n",
      "------------------------------------------\n",
      "Block: 113/128\n",
      "Number of times: 63\n",
      "Number of channels: 4096\n"
     ]
    },
    {
     "name": "stderr",
     "output_type": "stream",
     "text": [
      "100%|██████████████████████████████████████████████████████████████████████| 1024/1024 [03:10<00:00,  5.37it/s]\n"
     ]
    },
    {
     "name": "stdout",
     "output_type": "stream",
     "text": [
      "Pol 0: 2.19% flagged\n",
      "Pol 1: 1.66% flagged\n",
      "Union: 3.53% flagged\n",
      "loading /users/esmith/RFI_MIT/PFBcoeffs/c0800x4096_x14_7_24t_095binw_get_pfb_coeffs_h.npy for FIR coefficients\n",
      "block duration: 5.248070081075032\n",
      "------------------------------------------\n",
      "Block: 114/128\n",
      "Number of times: 63\n",
      "Number of channels: 4096\n"
     ]
    },
    {
     "name": "stderr",
     "output_type": "stream",
     "text": [
      "100%|██████████████████████████████████████████████████████████████████████| 1024/1024 [03:15<00:00,  5.25it/s]\n"
     ]
    },
    {
     "name": "stdout",
     "output_type": "stream",
     "text": [
      "Pol 0: 2.14% flagged\n",
      "Pol 1: 1.65% flagged\n",
      "Union: 3.48% flagged\n",
      "loading /users/esmith/RFI_MIT/PFBcoeffs/c0800x4096_x14_7_24t_095binw_get_pfb_coeffs_h.npy for FIR coefficients\n",
      "block duration: 5.3343319257100426\n",
      "------------------------------------------\n",
      "Block: 115/128\n",
      "Number of times: 63\n",
      "Number of channels: 4096\n"
     ]
    },
    {
     "name": "stderr",
     "output_type": "stream",
     "text": [
      "100%|██████████████████████████████████████████████████████████████████████| 1024/1024 [03:10<00:00,  5.37it/s]\n"
     ]
    },
    {
     "name": "stdout",
     "output_type": "stream",
     "text": [
      "Pol 0: 2.15% flagged\n",
      "Pol 1: 1.67% flagged\n",
      "Union: 3.5% flagged\n",
      "loading /users/esmith/RFI_MIT/PFBcoeffs/c0800x4096_x14_7_24t_095binw_get_pfb_coeffs_h.npy for FIR coefficients\n",
      "block duration: 5.292924924691518\n",
      "------------------------------------------\n",
      "Block: 116/128\n",
      "Number of times: 63\n",
      "Number of channels: 4096\n"
     ]
    },
    {
     "name": "stderr",
     "output_type": "stream",
     "text": [
      "100%|██████████████████████████████████████████████████████████████████████| 1024/1024 [03:10<00:00,  5.38it/s]\n"
     ]
    },
    {
     "name": "stdout",
     "output_type": "stream",
     "text": [
      "Pol 0: 2.2% flagged\n",
      "Pol 1: 1.69% flagged\n",
      "Union: 3.58% flagged\n",
      "loading /users/esmith/RFI_MIT/PFBcoeffs/c0800x4096_x14_7_24t_095binw_get_pfb_coeffs_h.npy for FIR coefficients\n",
      "block duration: 5.28456134001414\n",
      "------------------------------------------\n",
      "Block: 117/128\n",
      "Number of times: 63\n",
      "Number of channels: 4096\n"
     ]
    },
    {
     "name": "stderr",
     "output_type": "stream",
     "text": [
      "100%|██████████████████████████████████████████████████████████████████████| 1024/1024 [03:12<00:00,  5.33it/s]\n"
     ]
    },
    {
     "name": "stdout",
     "output_type": "stream",
     "text": [
      "Pol 0: 2.23% flagged\n",
      "Pol 1: 1.7% flagged\n",
      "Union: 3.62% flagged\n",
      "loading /users/esmith/RFI_MIT/PFBcoeffs/c0800x4096_x14_7_24t_095binw_get_pfb_coeffs_h.npy for FIR coefficients\n",
      "block duration: 5.337637162208557\n",
      "------------------------------------------\n",
      "Block: 118/128\n",
      "Number of times: 63\n",
      "Number of channels: 4096\n"
     ]
    },
    {
     "name": "stderr",
     "output_type": "stream",
     "text": [
      "100%|██████████████████████████████████████████████████████████████████████| 1024/1024 [03:11<00:00,  5.35it/s]\n"
     ]
    },
    {
     "name": "stdout",
     "output_type": "stream",
     "text": [
      "Pol 0: 2.18% flagged\n",
      "Pol 1: 1.67% flagged\n",
      "Union: 3.55% flagged\n",
      "loading /users/esmith/RFI_MIT/PFBcoeffs/c0800x4096_x14_7_24t_095binw_get_pfb_coeffs_h.npy for FIR coefficients\n",
      "block duration: 5.318210478623708\n",
      "------------------------------------------\n",
      "Block: 119/128\n",
      "Number of times: 63\n",
      "Number of channels: 4096\n"
     ]
    },
    {
     "name": "stderr",
     "output_type": "stream",
     "text": [
      "100%|██████████████████████████████████████████████████████████████████████| 1024/1024 [03:10<00:00,  5.38it/s]\n"
     ]
    },
    {
     "name": "stdout",
     "output_type": "stream",
     "text": [
      "Pol 0: 2.22% flagged\n",
      "Pol 1: 1.66% flagged\n",
      "Union: 3.58% flagged\n",
      "loading /users/esmith/RFI_MIT/PFBcoeffs/c0800x4096_x14_7_24t_095binw_get_pfb_coeffs_h.npy for FIR coefficients\n",
      "block duration: 5.335331269105276\n",
      "------------------------------------------\n",
      "Block: 120/128\n",
      "Number of times: 63\n",
      "Number of channels: 4096\n"
     ]
    },
    {
     "name": "stderr",
     "output_type": "stream",
     "text": [
      "100%|██████████████████████████████████████████████████████████████████████| 1024/1024 [03:12<00:00,  5.31it/s]\n"
     ]
    },
    {
     "name": "stdout",
     "output_type": "stream",
     "text": [
      "Pol 0: 2.16% flagged\n",
      "Pol 1: 1.66% flagged\n",
      "Union: 3.51% flagged\n",
      "loading /users/esmith/RFI_MIT/PFBcoeffs/c0800x4096_x14_7_24t_095binw_get_pfb_coeffs_h.npy for FIR coefficients\n",
      "block duration: 5.417871463298797\n",
      "------------------------------------------\n",
      "Block: 121/128\n",
      "Number of times: 63\n",
      "Number of channels: 4096\n"
     ]
    },
    {
     "name": "stderr",
     "output_type": "stream",
     "text": [
      "100%|██████████████████████████████████████████████████████████████████████| 1024/1024 [03:12<00:00,  5.33it/s]\n"
     ]
    },
    {
     "name": "stdout",
     "output_type": "stream",
     "text": [
      "Pol 0: 2.19% flagged\n",
      "Pol 1: 1.64% flagged\n",
      "Union: 3.52% flagged\n",
      "loading /users/esmith/RFI_MIT/PFBcoeffs/c0800x4096_x14_7_24t_095binw_get_pfb_coeffs_h.npy for FIR coefficients\n",
      "block duration: 5.38930215438207\n",
      "------------------------------------------\n",
      "Block: 122/128\n",
      "Number of times: 63\n",
      "Number of channels: 4096\n"
     ]
    },
    {
     "name": "stderr",
     "output_type": "stream",
     "text": [
      "100%|██████████████████████████████████████████████████████████████████████| 1024/1024 [03:10<00:00,  5.39it/s]\n"
     ]
    },
    {
     "name": "stdout",
     "output_type": "stream",
     "text": [
      "Pol 0: 2.17% flagged\n",
      "Pol 1: 1.67% flagged\n",
      "Union: 3.54% flagged\n",
      "loading /users/esmith/RFI_MIT/PFBcoeffs/c0800x4096_x14_7_24t_095binw_get_pfb_coeffs_h.npy for FIR coefficients\n",
      "block duration: 5.369997461636861\n",
      "------------------------------------------\n",
      "Block: 123/128\n",
      "Number of times: 63\n",
      "Number of channels: 4096\n"
     ]
    },
    {
     "name": "stderr",
     "output_type": "stream",
     "text": [
      "100%|██████████████████████████████████████████████████████████████████████| 1024/1024 [03:12<00:00,  5.31it/s]\n"
     ]
    },
    {
     "name": "stdout",
     "output_type": "stream",
     "text": [
      "Pol 0: 2.18% flagged\n",
      "Pol 1: 1.68% flagged\n",
      "Union: 3.55% flagged\n",
      "loading /users/esmith/RFI_MIT/PFBcoeffs/c0800x4096_x14_7_24t_095binw_get_pfb_coeffs_h.npy for FIR coefficients\n",
      "block duration: 5.454267994562785\n",
      "------------------------------------------\n",
      "Block: 124/128\n",
      "Number of times: 63\n",
      "Number of channels: 4096\n"
     ]
    },
    {
     "name": "stderr",
     "output_type": "stream",
     "text": [
      "100%|██████████████████████████████████████████████████████████████████████| 1024/1024 [03:10<00:00,  5.37it/s]\n"
     ]
    },
    {
     "name": "stdout",
     "output_type": "stream",
     "text": [
      "Pol 0: 2.21% flagged\n",
      "Pol 1: 1.68% flagged\n",
      "Union: 3.58% flagged\n",
      "loading /users/esmith/RFI_MIT/PFBcoeffs/c0800x4096_x14_7_24t_095binw_get_pfb_coeffs_h.npy for FIR coefficients\n",
      "block duration: 5.418603126207987\n",
      "------------------------------------------\n",
      "Block: 125/128\n",
      "Number of times: 63\n",
      "Number of channels: 4096\n"
     ]
    },
    {
     "name": "stderr",
     "output_type": "stream",
     "text": [
      "100%|██████████████████████████████████████████████████████████████████████| 1024/1024 [03:11<00:00,  5.34it/s]\n"
     ]
    },
    {
     "name": "stdout",
     "output_type": "stream",
     "text": [
      "Pol 0: 2.17% flagged\n",
      "Pol 1: 1.66% flagged\n",
      "Union: 3.53% flagged\n",
      "loading /users/esmith/RFI_MIT/PFBcoeffs/c0800x4096_x14_7_24t_095binw_get_pfb_coeffs_h.npy for FIR coefficients\n",
      "block duration: 5.4212877313296\n",
      "------------------------------------------\n",
      "Block: 126/128\n",
      "Number of times: 63\n",
      "Number of channels: 4096\n"
     ]
    },
    {
     "name": "stderr",
     "output_type": "stream",
     "text": [
      "100%|██████████████████████████████████████████████████████████████████████| 1024/1024 [03:12<00:00,  5.33it/s]\n"
     ]
    },
    {
     "name": "stdout",
     "output_type": "stream",
     "text": [
      "Pol 0: 2.2% flagged\n",
      "Pol 1: 1.65% flagged\n",
      "Union: 3.55% flagged\n",
      "loading /users/esmith/RFI_MIT/PFBcoeffs/c0800x4096_x14_7_24t_095binw_get_pfb_coeffs_h.npy for FIR coefficients\n",
      "block duration: 5.491894197463989\n",
      "------------------------------------------\n",
      "Block: 127/128\n",
      "Number of times: 63\n",
      "Number of channels: 4096\n"
     ]
    },
    {
     "name": "stderr",
     "output_type": "stream",
     "text": [
      "100%|██████████████████████████████████████████████████████████████████████| 1024/1024 [03:10<00:00,  5.37it/s]\n"
     ]
    },
    {
     "name": "stdout",
     "output_type": "stream",
     "text": [
      "Pol 0: 2.19% flagged\n",
      "Pol 1: 1.67% flagged\n",
      "Union: 3.56% flagged\n",
      "loading /users/esmith/RFI_MIT/PFBcoeffs/c0800x4096_x14_7_24t_095binw_get_pfb_coeffs_h.npy for FIR coefficients\n",
      "block duration: 5.425579786300659\n",
      "------------------------------------------\n",
      "Block: 128/128\n",
      "Number of times: 63\n",
      "Number of channels: 4096\n"
     ]
    },
    {
     "name": "stderr",
     "output_type": "stream",
     "text": [
      "100%|██████████████████████████████████████████████████████████████████████| 1024/1024 [03:10<00:00,  5.38it/s]\n"
     ]
    },
    {
     "name": "stdout",
     "output_type": "stream",
     "text": [
      "Pol 0: 2.15% flagged\n",
      "Pol 1: 1.62% flagged\n",
      "Union: 3.47% flagged\n",
      "loading /users/esmith/RFI_MIT/PFBcoeffs/c0800x4096_x14_7_24t_095binw_get_pfb_coeffs_h.npy for FIR coefficients\n",
      "block duration: 5.443211929003398\n",
      "Flags: /data/scratch/AOFresults/npy_results/vegas_58966_25728_J1713+0747_0080.0000_flags_AOF__.npy\n"
     ]
    },
    {
     "ename": "FileNotFoundError",
     "evalue": "[Errno 2] No such file or directory: '/data/scratch/AOFresults/npy_results/vegas_58966_25728_J1713+0747_0080.0000_flags_AOF__.npy'",
     "output_type": "error",
     "traceback": [
      "\u001b[0;31m---------------------------------------------------------------------------\u001b[0m",
      "\u001b[0;31mFileNotFoundError\u001b[0m                         Traceback (most recent call last)",
      "Cell \u001b[0;32mIn[1], line 12\u001b[0m\n\u001b[1;32m      7\u001b[0m rfimit \u001b[38;5;241m=\u001b[39m importlib\u001b[38;5;241m.\u001b[39mimport_module(\u001b[38;5;124m'\u001b[39m\u001b[38;5;124mrfi-mitigation\u001b[39m\u001b[38;5;124m'\u001b[39m)\n\u001b[1;32m      9\u001b[0m uhh \u001b[38;5;241m=\u001b[39m rfimit\u001b[38;5;241m.\u001b[39mrfi_aof(\u001b[38;5;124m'\u001b[39m\u001b[38;5;124mvegas_58966_25728_J1713+0747_0080.0000.raw\u001b[39m\u001b[38;5;124m'\u001b[39m, \u001b[38;5;124m'\u001b[39m\u001b[38;5;124mstats\u001b[39m\u001b[38;5;124m'\u001b[39m, cust\u001b[38;5;241m=\u001b[39m\u001b[38;5;124m'\u001b[39m\u001b[38;5;124m'\u001b[39m, output_bool \u001b[38;5;241m=\u001b[39m \u001b[38;5;28;01mTrue\u001b[39;00m, mb\u001b[38;5;241m=\u001b[39m\u001b[38;5;241m1\u001b[39m, rawdata\u001b[38;5;241m=\u001b[39m\u001b[38;5;28;01mFalse\u001b[39;00m, ave_factor \u001b[38;5;241m=\u001b[39m \u001b[38;5;241m512\u001b[39m)\n\u001b[0;32m---> 12\u001b[0m \u001b[43muhh\u001b[49m\u001b[38;5;241;43m.\u001b[39;49m\u001b[43mrun_all\u001b[49m\u001b[43m(\u001b[49m\u001b[43m)\u001b[49m\n",
      "File \u001b[0;32m~/rfi-mitigation/src/rfi-mitigation/core.py:200\u001b[0m, in \u001b[0;36mmitigateRFI.run_all\u001b[0;34m(self)\u001b[0m\n\u001b[1;32m    194\u001b[0m \u001b[38;5;66;03m#===============================================\u001b[39;00m\n\u001b[1;32m    195\u001b[0m \u001b[38;5;66;03m#***********************************************\u001b[39;00m\n\u001b[1;32m    196\u001b[0m \n\u001b[1;32m    197\u001b[0m \u001b[38;5;66;03m#save output numpy arrays\u001b[39;00m\n\u001b[1;32m    199\u001b[0m \u001b[38;5;28mprint\u001b[39m(\u001b[38;5;124mf\u001b[39m\u001b[38;5;124m'\u001b[39m\u001b[38;5;124mFlags: \u001b[39m\u001b[38;5;132;01m{\u001b[39;00m\u001b[38;5;28mself\u001b[39m\u001b[38;5;241m.\u001b[39m_flags_filename\u001b[38;5;132;01m}\u001b[39;00m\u001b[38;5;124m'\u001b[39m)\n\u001b[0;32m--> 200\u001b[0m \u001b[43mnp\u001b[49m\u001b[38;5;241;43m.\u001b[39;49m\u001b[43msave\u001b[49m\u001b[43m(\u001b[49m\u001b[38;5;28;43mself\u001b[39;49m\u001b[38;5;241;43m.\u001b[39;49m\u001b[43m_flags_filename\u001b[49m\u001b[43m,\u001b[49m\u001b[43m \u001b[49m\u001b[38;5;28;43mself\u001b[39;49m\u001b[38;5;241;43m.\u001b[39;49m\u001b[43mflags_all\u001b[49m\u001b[43m)\u001b[49m\n\u001b[1;32m    201\u001b[0m \u001b[38;5;28mprint\u001b[39m(\u001b[38;5;124mf\u001b[39m\u001b[38;5;124m'\u001b[39m\u001b[38;5;124mSpect: \u001b[39m\u001b[38;5;132;01m{\u001b[39;00m\u001b[38;5;28mself\u001b[39m\u001b[38;5;241m.\u001b[39m_spect_filename\u001b[38;5;132;01m}\u001b[39;00m\u001b[38;5;124m'\u001b[39m)\n\u001b[1;32m    202\u001b[0m np\u001b[38;5;241m.\u001b[39msave(\u001b[38;5;28mself\u001b[39m\u001b[38;5;241m.\u001b[39m_spect_filename, \u001b[38;5;28mself\u001b[39m\u001b[38;5;241m.\u001b[39mspect_all)\n",
      "File \u001b[0;32m~/.conda/envs/kait/lib/python3.9/site-packages/numpy/lib/npyio.py:542\u001b[0m, in \u001b[0;36msave\u001b[0;34m(file, arr, allow_pickle, fix_imports)\u001b[0m\n\u001b[1;32m    540\u001b[0m     \u001b[38;5;28;01mif\u001b[39;00m \u001b[38;5;129;01mnot\u001b[39;00m file\u001b[38;5;241m.\u001b[39mendswith(\u001b[38;5;124m'\u001b[39m\u001b[38;5;124m.npy\u001b[39m\u001b[38;5;124m'\u001b[39m):\n\u001b[1;32m    541\u001b[0m         file \u001b[38;5;241m=\u001b[39m file \u001b[38;5;241m+\u001b[39m \u001b[38;5;124m'\u001b[39m\u001b[38;5;124m.npy\u001b[39m\u001b[38;5;124m'\u001b[39m\n\u001b[0;32m--> 542\u001b[0m     file_ctx \u001b[38;5;241m=\u001b[39m \u001b[38;5;28;43mopen\u001b[39;49m\u001b[43m(\u001b[49m\u001b[43mfile\u001b[49m\u001b[43m,\u001b[49m\u001b[43m \u001b[49m\u001b[38;5;124;43m\"\u001b[39;49m\u001b[38;5;124;43mwb\u001b[39;49m\u001b[38;5;124;43m\"\u001b[39;49m\u001b[43m)\u001b[49m\n\u001b[1;32m    544\u001b[0m \u001b[38;5;28;01mwith\u001b[39;00m file_ctx \u001b[38;5;28;01mas\u001b[39;00m fid:\n\u001b[1;32m    545\u001b[0m     arr \u001b[38;5;241m=\u001b[39m np\u001b[38;5;241m.\u001b[39masanyarray(arr)\n",
      "\u001b[0;31mFileNotFoundError\u001b[0m: [Errno 2] No such file or directory: '/data/scratch/AOFresults/npy_results/vegas_58966_25728_J1713+0747_0080.0000_flags_AOF__.npy'"
     ]
    }
   ],
   "source": [
    "import numpy as np\n",
    "\n",
    "#import matplotlib.pyplot as plt\n",
    "#%matplotlib qt\n",
    "import importlib\n",
    "\n",
    "rfimit = importlib.import_module('rfi-mitigation')\n",
    "\n",
    "uhh = rfimit.rfi_aof('vegas_58966_25728_J1713+0747_0080.0000.raw', 'stats', cust='', output_bool = True, mb=1, rawdata=False, ave_factor = 512)\n",
    "\n",
    "\n",
    "uhh.run_all()"
   ]
  },
  {
   "cell_type": "code",
   "execution_count": 1,
   "id": "9e875935-c6b9-495a-9f56-83944ccca213",
   "metadata": {},
   "outputs": [
    {
     "name": "stdout",
     "output_type": "stream",
     "text": [
      "Number of times: 1032704\n",
      "Number of channels: 256\n"
     ]
    },
    {
     "name": "stderr",
     "output_type": "stream",
     "text": [
      "/users/kmchen/rfi-mitigation/src/rfi-mitigation/utils.py:454: ComplexWarning: Casting complex values to real discards the imaginary part\n",
      "  aof_data.set_image_buffer(imgindex, values)\n"
     ]
    },
    {
     "data": {
      "text/plain": [
       "array([[ True,  True,  True, ...,  True,  True,  True],\n",
       "       [ True,  True,  True, ..., False, False, False],\n",
       "       [ True,  True,  True, ..., False, False, False],\n",
       "       ...,\n",
       "       [ True,  True,  True, ..., False, False, False],\n",
       "       [ True,  True,  True, ..., False, False, False],\n",
       "       [ True,  True,  True, ..., False, False, False]])"
      ]
     },
     "execution_count": 1,
     "metadata": {},
     "output_type": "execute_result"
    }
   ],
   "source": [
    "# from utils import *\n",
    "# from blimpy import GuppiRaw\n",
    "# filename = '/data/rfimit/unmitigated/rawdata/vegas_60299_76099_B0329+54_0004.0000.raw'\n",
    "\n",
    "# rf = GuppiRaw(filename)\n",
    "# header, data = rf.read_next_data_block()\n",
    "# aof(data)"
   ]
  },
  {
   "cell_type": "code",
   "execution_count": null,
   "id": "b4e58eda-55d1-46cc-b79a-93eafe67fb33",
   "metadata": {
    "scrolled": true
   },
   "outputs": [],
   "source": [
    "\n",
    "\n",
    "uhh = rfimit.rfi_aof('vegas_60285_86073_B0355+54_0016.0000.raw', 'nans', cust='', output_bool = True, mb=1, rawdata=False, ave_factor = 512)\n",
    "\n",
    "\n",
    "uhh.run_all()"
   ]
  },
  {
   "cell_type": "code",
   "execution_count": null,
   "id": "8923822c-b226-46c8-aa0a-b3711ea72585",
   "metadata": {},
   "outputs": [],
   "source": [
    "uhh = rfimit.rfi_aof('vegas_60299_76099_B0329+54_0004.0000.raw', 'stats', cust='', output_bool = True, mb=1, rawdata=False, ave_factor = 512)\n",
    "\n",
    "\n",
    "uhh.run_all()\n",
    "    \n",
    "    \n"
   ]
  },
  {
   "cell_type": "code",
   "execution_count": null,
   "id": "6dae3a56-e26d-4527-b913-0877dc85a128",
   "metadata": {},
   "outputs": [],
   "source": [
    "uhh = rfimit.rfi_aof('vegas_60285_83425_IIIZw35_0002.0000.raw', 'nans', cust='', output_bool = True, mb=1, rawdata=False, ave_factor = 512)\n",
    "\n",
    "\n",
    "uhh.run_all()"
   ]
  },
  {
   "cell_type": "code",
   "execution_count": null,
   "id": "5dce62b4-1db3-44c1-8263-1a1144fa9a3a",
   "metadata": {},
   "outputs": [],
   "source": [
    "uhh = rfimit.rfi_aof('vegas_60285_83625_IIIZw35_0003.0000.raw', 'nans', cust='', output_bool = True, mb=1, rawdata=False, ave_factor = 512)\n",
    "\n",
    "\n",
    "uhh.run_all()"
   ]
  },
  {
   "cell_type": "code",
   "execution_count": null,
   "id": "fe488273",
   "metadata": {},
   "outputs": [],
   "source": []
  }
 ],
 "metadata": {
  "kernelspec": {
   "display_name": "Python (kait)",
   "language": "python",
   "name": "kait"
  },
  "language_info": {
   "codemirror_mode": {
    "name": "ipython",
    "version": 3
   },
   "file_extension": ".py",
   "mimetype": "text/x-python",
   "name": "python",
   "nbconvert_exporter": "python",
   "pygments_lexer": "ipython3",
   "version": "3.9.19"
  }
 },
 "nbformat": 4,
 "nbformat_minor": 5
}
