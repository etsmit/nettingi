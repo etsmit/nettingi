{
 "cells": [
  {
   "cell_type": "code",
   "execution_count": 1,
   "id": "a1a3957b",
   "metadata": {},
   "outputs": [],
   "source": [
    "import numpy as np\n",
    "def read_flags(ff):\n",
    "\tf = np.load(ff)\n",
    "\txf = np.around(100*np.mean(f[:,:,0]),2)\n",
    "\tyf = np.around(100*np.mean(f[:,:,1]),2)\n",
    "\tprint(f'{xf}/{yf}% flagged')\n",
    "\tf_union = np.copy(f)\n",
    "\tf_union[:,:,0][f_union[:,:,1]==1]=1\n",
    "\tuf = np.around(100*np.mean(f_union[:,:,0]),2)\n",
    "\tprint(f'Union of flags: {uf}% of data flagged')"
   ]
  },
  {
   "cell_type": "code",
   "execution_count": 4,
   "id": "32be60af",
   "metadata": {},
   "outputs": [
    {
     "name": "stdout",
     "output_type": "stream",
     "text": [
      "4.32/4.41% flagged\n",
      "Union of flags: 6.95% of data flagged\n"
     ]
    }
   ],
   "source": [
    "read_flags('/data/scratch/IQRMresults/npy_results/000_flags_IQRM_r500000_t3.0_std_b512_.npy')"
   ]
  },
  {
   "cell_type": "code",
   "execution_count": 5,
   "id": "ac70ff9a",
   "metadata": {},
   "outputs": [],
   "source": [
    "from core import *"
   ]
  },
  {
   "cell_type": "code",
   "execution_count": 6,
   "id": "9f679952",
   "metadata": {},
   "outputs": [],
   "source": [
    "\n",
    "from blimpy import GuppiRaw\n",
    "filename = '/data/rfimit/unmitigated/rawdata/vegas_60299_76099_B0329+54_0004.0000.raw'\n",
    "\n",
    "rf = GuppiRaw(filename)"
   ]
  },
  {
   "cell_type": "code",
   "execution_count": 11,
   "id": "4d521363",
   "metadata": {},
   "outputs": [],
   "source": [
    "from utils import *\n",
    "from reduction import *"
   ]
  },
  {
   "cell_type": "code",
   "execution_count": 12,
   "id": "69b3f3f1",
   "metadata": {},
   "outputs": [],
   "source": [
    "def fine_channelize(self, resolution, mit=False, mask=False):\n",
    "    start_time = time.time()\n",
    "    if mit:\n",
    "        if mask:\n",
    "            raw2spec_mask(resolution,self._outfile,mask)\n",
    "        else:\n",
    "            raw2spec(resolution,self._outfile)\n",
    "    else:        \n",
    "        if mask:\n",
    "            raw2spec_mask(resolution,self._rawFile,mask)\n",
    "        else:\n",
    "            raw2spec(resolution,self._rawFile)\n",
    "    end_time = time.time()\n",
    "    dur = np.around((end_time-start_time)/60, 2)\n",
    "\n",
    "    print(f'Duration: {dur} minutes')"
   ]
  },
  {
   "cell_type": "code",
   "execution_count": 1,
   "id": "968479e8",
   "metadata": {},
   "outputs": [],
   "source": [
    "\n",
    "import importlib\n",
    "\n",
    "rfimit = importlib.import_module('rfi-mitigation')"
   ]
  },
  {
   "cell_type": "code",
   "execution_count": 2,
   "id": "a85c9bf7",
   "metadata": {
    "scrolled": true
   },
   "outputs": [
    {
     "name": "stdout",
     "output_type": "stream",
     "text": [
      "integer lags, k: <generator object genlags at 0x7f29811a8190>\n",
      "/jetstor/scratch/IQRM_rawdata_results/vegas_58966_25728_J1713+0747_0080.0000_IQRM_stats_r5_t3.0_std_b512_mb1_.raw\n",
      "vegas_58966_25728_J1713+0747_0080.0000.raw\n",
      "hi\n",
      "/data/scratch/IQRMresults/vegas_58966_25728_J1713+0747_0080.0000.20.spec.pkl\n",
      "hi2\n",
      "given output res is 20 kHz, actual will be 24.4140625 khz\n",
      "Working on block 1 of 128\n",
      "Working on block 2 of 128\n",
      "Working on block 3 of 128\n",
      "Working on block 4 of 128\n",
      "Working on block 5 of 128\n",
      "Working on block 6 of 128\n",
      "Working on block 7 of 128\n",
      "Working on block 8 of 128\n",
      "Working on block 9 of 128\n",
      "Working on block 10 of 128\n",
      "Working on block 11 of 128\n",
      "Working on block 12 of 128\n",
      "Working on block 13 of 128\n",
      "Working on block 14 of 128\n",
      "Working on block 15 of 128\n",
      "Working on block 16 of 128\n",
      "Working on block 17 of 128\n",
      "Working on block 18 of 128\n",
      "Working on block 19 of 128\n",
      "Working on block 20 of 128\n",
      "Working on block 21 of 128\n",
      "Working on block 22 of 128\n",
      "Working on block 23 of 128\n",
      "Working on block 24 of 128\n",
      "Working on block 25 of 128\n",
      "Working on block 26 of 128\n",
      "Working on block 27 of 128\n",
      "Working on block 28 of 128\n",
      "Working on block 29 of 128\n",
      "Working on block 30 of 128\n",
      "Working on block 31 of 128\n",
      "Working on block 32 of 128\n",
      "Working on block 33 of 128\n",
      "Working on block 34 of 128\n",
      "Working on block 35 of 128\n",
      "Working on block 36 of 128\n",
      "Working on block 37 of 128\n",
      "Working on block 38 of 128\n",
      "Working on block 39 of 128\n",
      "Working on block 40 of 128\n",
      "Working on block 41 of 128\n",
      "Working on block 42 of 128\n",
      "Working on block 43 of 128\n",
      "Working on block 44 of 128\n",
      "Working on block 45 of 128\n",
      "Working on block 46 of 128\n",
      "Working on block 47 of 128\n",
      "Working on block 48 of 128\n",
      "Working on block 49 of 128\n",
      "Working on block 50 of 128\n",
      "Working on block 51 of 128\n",
      "Working on block 52 of 128\n",
      "Working on block 53 of 128\n",
      "Working on block 54 of 128\n",
      "Working on block 55 of 128\n",
      "Working on block 56 of 128\n",
      "Working on block 57 of 128\n",
      "Working on block 58 of 128\n",
      "Working on block 59 of 128\n",
      "Working on block 60 of 128\n",
      "Working on block 61 of 128\n",
      "Working on block 62 of 128\n",
      "Working on block 63 of 128\n",
      "Working on block 64 of 128\n",
      "Working on block 65 of 128\n",
      "Working on block 66 of 128\n",
      "Working on block 67 of 128\n",
      "Working on block 68 of 128\n",
      "Working on block 69 of 128\n",
      "Working on block 70 of 128\n",
      "Working on block 71 of 128\n",
      "Working on block 72 of 128\n",
      "Working on block 73 of 128\n",
      "Working on block 74 of 128\n",
      "Working on block 75 of 128\n",
      "Working on block 76 of 128\n",
      "Working on block 77 of 128\n",
      "Working on block 78 of 128\n",
      "Working on block 79 of 128\n",
      "Working on block 80 of 128\n",
      "Working on block 81 of 128\n",
      "Working on block 82 of 128\n",
      "Working on block 83 of 128\n",
      "Working on block 84 of 128\n",
      "Working on block 85 of 128\n",
      "Working on block 86 of 128\n",
      "Working on block 87 of 128\n",
      "Working on block 88 of 128\n",
      "Working on block 89 of 128\n",
      "Working on block 90 of 128\n",
      "Working on block 91 of 128\n",
      "Working on block 92 of 128\n",
      "Working on block 93 of 128\n",
      "Working on block 94 of 128\n",
      "Working on block 95 of 128\n",
      "Working on block 96 of 128\n",
      "Working on block 97 of 128\n",
      "Working on block 98 of 128\n",
      "Working on block 99 of 128\n",
      "Working on block 100 of 128\n",
      "Working on block 101 of 128\n",
      "Working on block 102 of 128\n",
      "Working on block 103 of 128\n",
      "Working on block 104 of 128\n",
      "Working on block 105 of 128\n",
      "Working on block 106 of 128\n",
      "Working on block 107 of 128\n",
      "Working on block 108 of 128\n",
      "Working on block 109 of 128\n",
      "Working on block 110 of 128\n",
      "Working on block 111 of 128\n",
      "Working on block 112 of 128\n",
      "Working on block 113 of 128\n",
      "Working on block 114 of 128\n",
      "Working on block 115 of 128\n",
      "Working on block 116 of 128\n",
      "Working on block 117 of 128\n",
      "Working on block 118 of 128\n",
      "Working on block 119 of 128\n",
      "Working on block 120 of 128\n",
      "Working on block 121 of 128\n",
      "Working on block 122 of 128\n",
      "Working on block 123 of 128\n",
      "Working on block 124 of 128\n",
      "Working on block 125 of 128\n",
      "Working on block 126 of 128\n",
      "Working on block 127 of 128\n",
      "Working on block 128 of 128\n",
      "<_io.BufferedWriter name='/data/scratch/IQRMresults/vegas_58966_25728_J1713+0747_0080.0000.20.spec.pkl'>\n",
      "Duration: 873.34 minutes\n"
     ]
    }
   ],
   "source": [
    "uhh = rfimit.rfi_iqrm('vegas_58966_25728_J1713+0747_0080.0000.raw', 'stats', IQRM_radius=5, IQRM_threshold=3.0, IQRM_datatype=\"std\", IQRM_breakdown=512, cust='', output_bool = True, mb=1, rawdata=False, ave_factor = 512)\n",
    "uhh.fine_channelize(20, mit=True)"
   ]
  },
  {
   "cell_type": "code",
   "execution_count": 3,
   "id": "3323af75",
   "metadata": {
    "scrolled": true
   },
   "outputs": [
    {
     "name": "stdout",
     "output_type": "stream",
     "text": [
      "integer lags, k: <generator object genlags at 0x7f29811a84a0>\n",
      "/jetstor/scratch/IQRM_rawdata_results/vegas_58966_25728_J1713+0747_0080.0000_IQRM_stats_r5_t3.0_std_b512_mb1_.raw\n",
      "vegas_58966_25728_J1713+0747_0080.0000.raw\n",
      "hi\n",
      "/data/scratch/IQRMresults/vegas_58966_25728_J1713+0747_0080.0000.20.spec.pkl\n",
      "hi2\n",
      "given output res is 20 kHz, actual will be 24.4140625 khz\n",
      "Working on block 1 of 128\n",
      "Working on block 2 of 128\n",
      "Working on block 3 of 128\n",
      "Working on block 4 of 128\n",
      "Working on block 5 of 128\n",
      "Working on block 6 of 128\n",
      "Working on block 7 of 128\n",
      "Working on block 8 of 128\n",
      "Working on block 9 of 128\n",
      "Working on block 10 of 128\n",
      "Working on block 11 of 128\n",
      "Working on block 12 of 128\n",
      "Working on block 13 of 128\n",
      "Working on block 14 of 128\n",
      "Working on block 15 of 128\n",
      "Working on block 16 of 128\n",
      "Working on block 17 of 128\n",
      "Working on block 18 of 128\n",
      "Working on block 19 of 128\n",
      "Working on block 20 of 128\n",
      "Working on block 21 of 128\n",
      "Working on block 22 of 128\n",
      "Working on block 23 of 128\n",
      "Working on block 24 of 128\n",
      "Working on block 25 of 128\n",
      "Working on block 26 of 128\n",
      "Working on block 27 of 128\n",
      "Working on block 28 of 128\n",
      "Working on block 29 of 128\n",
      "Working on block 30 of 128\n",
      "Working on block 31 of 128\n",
      "Working on block 32 of 128\n",
      "Working on block 33 of 128\n",
      "Working on block 34 of 128\n",
      "Working on block 35 of 128\n",
      "Working on block 36 of 128\n",
      "Working on block 37 of 128\n",
      "Working on block 38 of 128\n",
      "Working on block 39 of 128\n",
      "Working on block 40 of 128\n",
      "Working on block 41 of 128\n",
      "Working on block 42 of 128\n",
      "Working on block 43 of 128\n",
      "Working on block 44 of 128\n",
      "Working on block 45 of 128\n",
      "Working on block 46 of 128\n",
      "Working on block 47 of 128\n",
      "Working on block 48 of 128\n",
      "Working on block 49 of 128\n",
      "Working on block 50 of 128\n",
      "Working on block 51 of 128\n",
      "Working on block 52 of 128\n",
      "Working on block 53 of 128\n",
      "Working on block 54 of 128\n",
      "Working on block 55 of 128\n",
      "Working on block 56 of 128\n",
      "Working on block 57 of 128\n",
      "Working on block 58 of 128\n",
      "Working on block 59 of 128\n",
      "Working on block 60 of 128\n",
      "Working on block 61 of 128\n",
      "Working on block 62 of 128\n",
      "Working on block 63 of 128\n",
      "Working on block 64 of 128\n",
      "Working on block 65 of 128\n",
      "Working on block 66 of 128\n",
      "Working on block 67 of 128\n",
      "Working on block 68 of 128\n",
      "Working on block 69 of 128\n",
      "Working on block 70 of 128\n",
      "Working on block 71 of 128\n",
      "Working on block 72 of 128\n",
      "Working on block 73 of 128\n",
      "Working on block 74 of 128\n",
      "Working on block 75 of 128\n",
      "Working on block 76 of 128\n",
      "Working on block 77 of 128\n",
      "Working on block 78 of 128\n",
      "Working on block 79 of 128\n",
      "Working on block 80 of 128\n",
      "Working on block 81 of 128\n",
      "Working on block 82 of 128\n",
      "Working on block 83 of 128\n",
      "Working on block 84 of 128\n",
      "Working on block 85 of 128\n",
      "Working on block 86 of 128\n",
      "Working on block 87 of 128\n",
      "Working on block 88 of 128\n",
      "Working on block 89 of 128\n",
      "Working on block 90 of 128\n",
      "Working on block 91 of 128\n",
      "Working on block 92 of 128\n",
      "Working on block 93 of 128\n",
      "Working on block 94 of 128\n",
      "Working on block 95 of 128\n",
      "Working on block 96 of 128\n",
      "Working on block 97 of 128\n",
      "Working on block 98 of 128\n",
      "Working on block 99 of 128\n",
      "Working on block 100 of 128\n",
      "Working on block 101 of 128\n",
      "Working on block 102 of 128\n",
      "Working on block 103 of 128\n",
      "Working on block 104 of 128\n",
      "Working on block 105 of 128\n",
      "Working on block 106 of 128\n",
      "Working on block 107 of 128\n",
      "Working on block 108 of 128\n",
      "Working on block 109 of 128\n",
      "Working on block 110 of 128\n",
      "Working on block 111 of 128\n",
      "Working on block 112 of 128\n",
      "Working on block 113 of 128\n",
      "Working on block 114 of 128\n",
      "Working on block 115 of 128\n",
      "Working on block 116 of 128\n",
      "Working on block 117 of 128\n",
      "Working on block 118 of 128\n",
      "Working on block 119 of 128\n",
      "Working on block 120 of 128\n",
      "Working on block 121 of 128\n",
      "Working on block 122 of 128\n",
      "Working on block 123 of 128\n",
      "Working on block 124 of 128\n",
      "Working on block 125 of 128\n",
      "Working on block 126 of 128\n",
      "Working on block 127 of 128\n",
      "Working on block 128 of 128\n",
      "<_io.BufferedWriter name='/data/scratch/IQRMresults/vegas_58966_25728_J1713+0747_0080.0000.20.spec.pkl'>\n",
      "Duration: 869.52 minutes\n"
     ]
    }
   ],
   "source": [
    "uhh2 = rfimit.rfi_iqrm('vegas_58966_25728_J1713+0747_0080.0000.raw', 'stats', IQRM_radius=5, IQRM_threshold=3.0, IQRM_datatype=\"std\", IQRM_breakdown=512, cust='', output_bool = True, mb=1, rawdata=False, ave_factor = 512)\n",
    "uhh2.fine_channelize(20, mit=False)"
   ]
  },
  {
   "cell_type": "code",
   "execution_count": 7,
   "id": "75d70191",
   "metadata": {},
   "outputs": [
    {
     "name": "stdout",
     "output_type": "stream",
     "text": [
      "integer lags, k: <generator object genlags at 0x7f2980db4d60>\n",
      "/jetstor/scratch/IQRM_rawdata_results/vegas_60299_76099_B0329+54_0004.0000_IQRM_stats_r500_t3.0_std_b512_mb1_.raw\n",
      "vegas_60299_76099_B0329+54_0004.0000.raw\n",
      "hi\n",
      "/data/scratch/IQRMresults/vegas_60299_76099_B0329+54_0004.0000.20.spec.pkl\n",
      "hi2\n",
      "given output res is 20 kHz, actual will be 24.4140625 khz\n",
      "Working on block 1 of 128\n",
      "Working on block 2 of 128\n",
      "Working on block 3 of 128\n",
      "Working on block 4 of 128\n",
      "Working on block 5 of 128\n",
      "Working on block 6 of 128\n",
      "Working on block 7 of 128\n",
      "Working on block 8 of 128\n",
      "Working on block 9 of 128\n",
      "Working on block 10 of 128\n",
      "Working on block 11 of 128\n",
      "Working on block 12 of 128\n",
      "Working on block 13 of 128\n",
      "Working on block 14 of 128\n",
      "Working on block 15 of 128\n",
      "Working on block 16 of 128\n",
      "Working on block 17 of 128\n",
      "Working on block 18 of 128\n",
      "Working on block 19 of 128\n",
      "Working on block 20 of 128\n",
      "Working on block 21 of 128\n",
      "Working on block 22 of 128\n",
      "Working on block 23 of 128\n",
      "Working on block 24 of 128\n",
      "Working on block 25 of 128\n",
      "Working on block 26 of 128\n",
      "Working on block 27 of 128\n",
      "Working on block 28 of 128\n",
      "Working on block 29 of 128\n",
      "Working on block 30 of 128\n",
      "Working on block 31 of 128\n",
      "Working on block 32 of 128\n",
      "Working on block 33 of 128\n",
      "Working on block 34 of 128\n",
      "Working on block 35 of 128\n",
      "Working on block 36 of 128\n",
      "Working on block 37 of 128\n",
      "Working on block 38 of 128\n",
      "Working on block 39 of 128\n",
      "Working on block 40 of 128\n",
      "Working on block 41 of 128\n",
      "Working on block 42 of 128\n",
      "Working on block 43 of 128\n",
      "Working on block 44 of 128\n",
      "Working on block 45 of 128\n",
      "Working on block 46 of 128\n",
      "Working on block 47 of 128\n",
      "Working on block 48 of 128\n",
      "Working on block 49 of 128\n",
      "Working on block 50 of 128\n",
      "Working on block 51 of 128\n",
      "Working on block 52 of 128\n",
      "Working on block 53 of 128\n",
      "Working on block 54 of 128\n",
      "Working on block 55 of 128\n",
      "Working on block 56 of 128\n",
      "Working on block 57 of 128\n",
      "Working on block 58 of 128\n",
      "Working on block 59 of 128\n",
      "Working on block 60 of 128\n",
      "Working on block 61 of 128\n",
      "Working on block 62 of 128\n",
      "Working on block 63 of 128\n",
      "Working on block 64 of 128\n",
      "Working on block 65 of 128\n",
      "Working on block 66 of 128\n",
      "Working on block 67 of 128\n",
      "Working on block 68 of 128\n",
      "Working on block 69 of 128\n",
      "Working on block 70 of 128\n",
      "Working on block 71 of 128\n",
      "Working on block 72 of 128\n",
      "Working on block 73 of 128\n",
      "Working on block 74 of 128\n",
      "Working on block 75 of 128\n",
      "Working on block 76 of 128\n",
      "Working on block 77 of 128\n",
      "Working on block 78 of 128\n",
      "Working on block 79 of 128\n",
      "Working on block 80 of 128\n",
      "Working on block 81 of 128\n",
      "Working on block 82 of 128\n",
      "Working on block 83 of 128\n",
      "Working on block 84 of 128\n",
      "Working on block 85 of 128\n",
      "Working on block 86 of 128\n",
      "Working on block 87 of 128\n",
      "Working on block 88 of 128\n",
      "Working on block 89 of 128\n",
      "Working on block 90 of 128\n",
      "Working on block 91 of 128\n",
      "Working on block 92 of 128\n",
      "Working on block 93 of 128\n",
      "Working on block 94 of 128\n",
      "Working on block 95 of 128\n",
      "Working on block 96 of 128\n",
      "Working on block 97 of 128\n",
      "Working on block 98 of 128\n",
      "Working on block 99 of 128\n",
      "Working on block 100 of 128\n",
      "Working on block 101 of 128\n",
      "Working on block 102 of 128\n",
      "Working on block 103 of 128\n",
      "Working on block 104 of 128\n",
      "Working on block 105 of 128\n",
      "Working on block 106 of 128\n",
      "Working on block 107 of 128\n",
      "Working on block 108 of 128\n",
      "Working on block 109 of 128\n",
      "Working on block 110 of 128\n",
      "Working on block 111 of 128\n",
      "Working on block 112 of 128\n",
      "Working on block 113 of 128\n",
      "Working on block 114 of 128\n",
      "Working on block 115 of 128\n",
      "Working on block 116 of 128\n",
      "Working on block 117 of 128\n",
      "Working on block 118 of 128\n",
      "Working on block 119 of 128\n",
      "Working on block 120 of 128\n",
      "Working on block 121 of 128\n",
      "Working on block 122 of 128\n",
      "Working on block 123 of 128\n",
      "Working on block 124 of 128\n",
      "Working on block 125 of 128\n",
      "Working on block 126 of 128\n",
      "Working on block 127 of 128\n",
      "Working on block 128 of 128\n",
      "<_io.BufferedWriter name='/data/scratch/IQRMresults/vegas_60299_76099_B0329+54_0004.0000.20.spec.pkl'>\n",
      "Duration: 143.54 minutes\n"
     ]
    }
   ],
   "source": [
    "uhh = rfimit.rfi_iqrm('vegas_60299_76099_B0329+54_0004.0000.raw', 'stats', IQRM_radius=500, IQRM_threshold=3.0, IQRM_datatype=\"std\", IQRM_breakdown=512, cust='', output_bool = True, mb=1, rawdata=False, ave_factor = 512)\n",
    "uhh.fine_channelize(20, mit=True)"
   ]
  },
  {
   "cell_type": "code",
   "execution_count": null,
   "id": "0aa5dd98",
   "metadata": {},
   "outputs": [
    {
     "name": "stdout",
     "output_type": "stream",
     "text": [
      "Saving replaced data to /jetstor/scratch/AOF_rawdata_results/vegas_58966_25728_J1713+0747_0080.0000_AOF_stats__mb1_.raw\n",
      "/data/rfimit/unmitigated/rawdata/vegas_58966_25728_J1713+0747_0080.0000.raw /jetstor/scratch/AOF_rawdata_results/vegas_58966_25728_J1713+0747_0080.0000_AOF_stats__mb1_.raw\n",
      "The output file /jetstor/scratch/AOF_rawdata_results/vegas_58966_25728_J1713+0747_0080.0000_AOF_stats__mb1_.raw already exists. Press 'y' to redo the copy, 'n' to continue without copying, or ctrl-c to end the script: n\n",
      "File has 128 data blocks\n",
      "------------------------------------------\n",
      "Block: 1/128\n",
      "Header size: 6320 bytes\n",
      "DAQPULSE:  Mon Apr 27 03:08:47 2020\n",
      "DAQSTATE:  running\n",
      "BANKNAM:  BANKA\n",
      "POL_TYPE:  AABBCRCI\n",
      "TELESCOP:  GBT\n",
      "BACKEND:  VEGAS\n",
      "NRCVR:  2\n",
      "PFB_OVER:  12\n",
      "SCALE0:  1.\n",
      "SCALE1:  1.\n",
      "SCALE2:  1.\n",
      "SCALE3:  1.\n",
      "OFFSET0:  0.\n",
      "OFFSET1:  0.\n",
      "OFFSET2:  0.\n",
      "OFFSET3:  0.\n",
      "BANKNUM:  0\n",
      "CAL_DCYC:  0.5\n",
      "DS_FREQ:  1\n",
      "SRC_NAME:  J1713+0747\n",
      "PROJID:  TGBT20A_505_18\n",
      "DATADIR:  /lustre/gbtdata\n",
      "NPOL:  4\n",
      "PKTFMT:  1SFA\n",
      "CAL_FREQ:  25.\n",
      "FFTLEN:  32768\n",
      "OVERLAP:  512\n",
      "BLOCSIZE:  1065353216\n",
      "NBIN:  2048\n",
      "OBS_MODE:  RAW\n",
      "CAL_MODE:  OFF\n",
      "DS_TIME:  1\n",
      "NBITS:  8\n",
      "PARFILE:  /home/gbt/etc/config/\n",
      "OBSFREQ:  1500.097656\n",
      "TFOLD:  10.\n",
      "ONLY_I:  0\n",
      "CHAN_DM:  15.992196\n",
      "_SSRF_01:  0\n",
      "OBSBW:  -800\n",
      "SCANLEN:  185.\n",
      "DATAHOST:  10.17.0.64\n",
      "DATAPORT:  60000\n",
      "OBSNCHAN:  4096\n",
      "FD_POLN:  LIN\n",
      "CHAN_BW:  -0.1953125\n",
      "ACC_LEN:  1\n",
      "TBIN:  5.12e-06\n",
      "NETSTAT:  receiving\n",
      "NULLSTAT:  exiting\n",
      "PKTIDX:  0\n",
      "DROPAVG:  6.65281e-11\n",
      "DROPTOT:  0.455142\n",
      "DROPBLK:  0\n",
      "STT_IMJD:  58966\n",
      "STT_SMJD:  25728\n",
      "STTVALID:  1\n",
      "AZ:  151.136739\n",
      "BMAJ:  0.000000\n",
      "BMIN:  0.000000\n",
      "DEC:  7.793751\n",
      "DEC_STR:  07:47:37.5031\n",
      "FRONTEND:  Rcvr1_2\n",
      "LST:  58317\n",
      "OBSERVER:  Ryan Lynch\n",
      "RA:  258.456404\n",
      "RA_STR:  17:13:49.5370\n",
      "TRK_MODE:  TRACK\n",
      "ZA:  33.782569\n",
      "_SSRF_02:  0\n",
      "CURBLOCK:  0\n",
      "SCAN:  80\n",
      "SCANNUM:  80\n",
      "DISKSTAT:  waiting\n",
      "STT_OFFS:  0\n",
      "PKTSIZE:  65536\n",
      "NPKT:  16255\n",
      "NDROP:  0\n",
      "Number of times: 127\n",
      "Number of channels: 4096\n"
     ]
    },
    {
     "name": "stderr",
     "output_type": "stream",
     "text": [
      "100%|████████████████████████████████████████████████████████████████████████| 512/512 [03:16<00:00,  2.61it/s]\n"
     ]
    },
    {
     "name": "stdout",
     "output_type": "stream",
     "text": [
      "Pol 0: 2.3% flagged\n",
      "Pol 1: 1.76% flagged\n",
      "Union: 3.83% flagged\n",
      "loading /users/esmith/RFI_MIT/PFBcoeffs/c0800x4096_x14_7_24t_095binw_get_pfb_coeffs_h.npy for FIR coefficients\n",
      "block duration: 4.3297624985377\n",
      "------------------------------------------\n",
      "Block: 2/128\n",
      "Number of times: 127\n",
      "Number of channels: 4096\n"
     ]
    },
    {
     "name": "stderr",
     "output_type": "stream",
     "text": [
      "100%|████████████████████████████████████████████████████████████████████████| 512/512 [03:16<00:00,  2.61it/s]\n"
     ]
    },
    {
     "name": "stdout",
     "output_type": "stream",
     "text": [
      "Pol 0: 2.33% flagged\n",
      "Pol 1: 1.8% flagged\n",
      "Union: 3.9% flagged\n",
      "loading /users/esmith/RFI_MIT/PFBcoeffs/c0800x4096_x14_7_24t_095binw_get_pfb_coeffs_h.npy for FIR coefficients\n",
      "block duration: 4.1917267680168155\n",
      "------------------------------------------\n",
      "Block: 3/128\n",
      "Number of times: 127\n",
      "Number of channels: 4096\n"
     ]
    },
    {
     "name": "stderr",
     "output_type": "stream",
     "text": [
      "100%|████████████████████████████████████████████████████████████████████████| 512/512 [03:26<00:00,  2.48it/s]\n"
     ]
    },
    {
     "name": "stdout",
     "output_type": "stream",
     "text": [
      "Pol 0: 2.29% flagged\n",
      "Pol 1: 1.79% flagged\n",
      "Union: 3.86% flagged\n",
      "loading /users/esmith/RFI_MIT/PFBcoeffs/c0800x4096_x14_7_24t_095binw_get_pfb_coeffs_h.npy for FIR coefficients\n",
      "block duration: 4.380845550696055\n",
      "------------------------------------------\n",
      "Block: 4/128\n",
      "Number of times: 127\n",
      "Number of channels: 4096\n"
     ]
    },
    {
     "name": "stderr",
     "output_type": "stream",
     "text": [
      "100%|████████████████████████████████████████████████████████████████████████| 512/512 [03:25<00:00,  2.49it/s]\n"
     ]
    },
    {
     "name": "stdout",
     "output_type": "stream",
     "text": [
      "Pol 0: 2.32% flagged\n",
      "Pol 1: 1.77% flagged\n",
      "Union: 3.86% flagged\n",
      "loading /users/esmith/RFI_MIT/PFBcoeffs/c0800x4096_x14_7_24t_095binw_get_pfb_coeffs_h.npy for FIR coefficients\n",
      "block duration: 4.3989373366038\n",
      "------------------------------------------\n",
      "Block: 5/128\n",
      "Number of times: 127\n",
      "Number of channels: 4096\n"
     ]
    },
    {
     "name": "stderr",
     "output_type": "stream",
     "text": [
      "100%|████████████████████████████████████████████████████████████████████████| 512/512 [03:25<00:00,  2.49it/s]\n"
     ]
    },
    {
     "name": "stdout",
     "output_type": "stream",
     "text": [
      "Pol 0: 2.31% flagged\n",
      "Pol 1: 1.75% flagged\n",
      "Union: 3.83% flagged\n",
      "loading /users/esmith/RFI_MIT/PFBcoeffs/c0800x4096_x14_7_24t_095binw_get_pfb_coeffs_h.npy for FIR coefficients\n",
      "block duration: 4.3825839281082155\n",
      "------------------------------------------\n",
      "Block: 6/128\n",
      "Number of times: 127\n",
      "Number of channels: 4096\n"
     ]
    },
    {
     "name": "stderr",
     "output_type": "stream",
     "text": [
      "100%|████████████████████████████████████████████████████████████████████████| 512/512 [03:20<00:00,  2.56it/s]\n"
     ]
    },
    {
     "name": "stdout",
     "output_type": "stream",
     "text": [
      "Pol 0: 2.33% flagged\n",
      "Pol 1: 1.8% flagged\n",
      "Union: 3.9% flagged\n",
      "loading /users/esmith/RFI_MIT/PFBcoeffs/c0800x4096_x14_7_24t_095binw_get_pfb_coeffs_h.npy for FIR coefficients\n",
      "block duration: 4.305217711130778\n",
      "------------------------------------------\n",
      "Block: 7/128\n",
      "Number of times: 127\n",
      "Number of channels: 4096\n"
     ]
    },
    {
     "name": "stderr",
     "output_type": "stream",
     "text": [
      "100%|████████████████████████████████████████████████████████████████████████| 512/512 [03:21<00:00,  2.54it/s]\n"
     ]
    },
    {
     "name": "stdout",
     "output_type": "stream",
     "text": [
      "Pol 0: 2.23% flagged\n",
      "Pol 1: 1.76% flagged\n",
      "Union: 3.76% flagged\n",
      "loading /users/esmith/RFI_MIT/PFBcoeffs/c0800x4096_x14_7_24t_095binw_get_pfb_coeffs_h.npy for FIR coefficients\n",
      "block duration: 4.337318158149719\n",
      "------------------------------------------\n",
      "Block: 8/128\n",
      "Number of times: 127\n",
      "Number of channels: 4096\n"
     ]
    },
    {
     "name": "stderr",
     "output_type": "stream",
     "text": [
      "100%|████████████████████████████████████████████████████████████████████████| 512/512 [03:27<00:00,  2.47it/s]\n"
     ]
    },
    {
     "name": "stdout",
     "output_type": "stream",
     "text": [
      "Pol 0: 2.35% flagged\n",
      "Pol 1: 1.84% flagged\n",
      "Union: 3.96% flagged\n",
      "loading /users/esmith/RFI_MIT/PFBcoeffs/c0800x4096_x14_7_24t_095binw_get_pfb_coeffs_h.npy for FIR coefficients\n",
      "block duration: 4.444431642691295\n",
      "------------------------------------------\n",
      "Block: 9/128\n",
      "Number of times: 127\n",
      "Number of channels: 4096\n"
     ]
    },
    {
     "name": "stderr",
     "output_type": "stream",
     "text": [
      "100%|████████████████████████████████████████████████████████████████████████| 512/512 [03:23<00:00,  2.52it/s]\n"
     ]
    },
    {
     "name": "stdout",
     "output_type": "stream",
     "text": [
      "Pol 0: 2.33% flagged\n",
      "Pol 1: 1.8% flagged\n",
      "Union: 3.89% flagged\n",
      "loading /users/esmith/RFI_MIT/PFBcoeffs/c0800x4096_x14_7_24t_095binw_get_pfb_coeffs_h.npy for FIR coefficients\n",
      "block duration: 4.399788109461467\n",
      "------------------------------------------\n",
      "Block: 10/128\n",
      "Number of times: 127\n",
      "Number of channels: 4096\n"
     ]
    },
    {
     "name": "stderr",
     "output_type": "stream",
     "text": [
      "100%|████████████████████████████████████████████████████████████████████████| 512/512 [03:22<00:00,  2.53it/s]\n"
     ]
    },
    {
     "name": "stdout",
     "output_type": "stream",
     "text": [
      "Pol 0: 2.24% flagged\n",
      "Pol 1: 1.8% flagged\n",
      "Union: 3.81% flagged\n",
      "loading /users/esmith/RFI_MIT/PFBcoeffs/c0800x4096_x14_7_24t_095binw_get_pfb_coeffs_h.npy for FIR coefficients\n",
      "block duration: 4.382957537968953\n",
      "------------------------------------------\n",
      "Block: 11/128\n",
      "Number of times: 127\n",
      "Number of channels: 4096\n"
     ]
    },
    {
     "name": "stderr",
     "output_type": "stream",
     "text": [
      "100%|████████████████████████████████████████████████████████████████████████| 512/512 [03:27<00:00,  2.47it/s]\n"
     ]
    },
    {
     "name": "stdout",
     "output_type": "stream",
     "text": [
      "Pol 0: 2.28% flagged\n",
      "Pol 1: 1.79% flagged\n",
      "Union: 3.83% flagged\n",
      "loading /users/esmith/RFI_MIT/PFBcoeffs/c0800x4096_x14_7_24t_095binw_get_pfb_coeffs_h.npy for FIR coefficients\n",
      "block duration: 4.453232336044311\n",
      "------------------------------------------\n",
      "Block: 12/128\n",
      "Number of times: 127\n",
      "Number of channels: 4096\n"
     ]
    },
    {
     "name": "stderr",
     "output_type": "stream",
     "text": [
      "100%|████████████████████████████████████████████████████████████████████████| 512/512 [03:22<00:00,  2.53it/s]\n"
     ]
    },
    {
     "name": "stdout",
     "output_type": "stream",
     "text": [
      "Pol 0: 2.29% flagged\n",
      "Pol 1: 1.8% flagged\n",
      "Union: 3.86% flagged\n",
      "loading /users/esmith/RFI_MIT/PFBcoeffs/c0800x4096_x14_7_24t_095binw_get_pfb_coeffs_h.npy for FIR coefficients\n",
      "block duration: 4.404522065321604\n",
      "------------------------------------------\n",
      "Block: 13/128\n",
      "Number of times: 127\n",
      "Number of channels: 4096\n"
     ]
    },
    {
     "name": "stderr",
     "output_type": "stream",
     "text": [
      "100%|████████████████████████████████████████████████████████████████████████| 512/512 [03:25<00:00,  2.49it/s]\n"
     ]
    },
    {
     "name": "stdout",
     "output_type": "stream",
     "text": [
      "Pol 0: 2.3% flagged\n",
      "Pol 1: 1.81% flagged\n",
      "Union: 3.87% flagged\n",
      "loading /users/esmith/RFI_MIT/PFBcoeffs/c0800x4096_x14_7_24t_095binw_get_pfb_coeffs_h.npy for FIR coefficients\n",
      "block duration: 4.468662937482198\n",
      "------------------------------------------\n",
      "Block: 14/128\n",
      "Number of times: 127\n",
      "Number of channels: 4096\n"
     ]
    },
    {
     "name": "stderr",
     "output_type": "stream",
     "text": [
      "100%|████████████████████████████████████████████████████████████████████████| 512/512 [03:24<00:00,  2.50it/s]\n"
     ]
    },
    {
     "name": "stdout",
     "output_type": "stream",
     "text": [
      "Pol 0: 2.26% flagged\n",
      "Pol 1: 1.8% flagged\n",
      "Union: 3.83% flagged\n",
      "loading /users/esmith/RFI_MIT/PFBcoeffs/c0800x4096_x14_7_24t_095binw_get_pfb_coeffs_h.npy for FIR coefficients\n",
      "block duration: 4.448261380195618\n",
      "------------------------------------------\n",
      "Block: 15/128\n",
      "Number of times: 127\n",
      "Number of channels: 4096\n"
     ]
    },
    {
     "name": "stderr",
     "output_type": "stream",
     "text": [
      "100%|████████████████████████████████████████████████████████████████████████| 512/512 [03:27<00:00,  2.47it/s]\n"
     ]
    },
    {
     "name": "stdout",
     "output_type": "stream",
     "text": [
      "Pol 0: 2.32% flagged\n",
      "Pol 1: 1.81% flagged\n",
      "Union: 3.89% flagged\n",
      "loading /users/esmith/RFI_MIT/PFBcoeffs/c0800x4096_x14_7_24t_095binw_get_pfb_coeffs_h.npy for FIR coefficients\n",
      "block duration: 4.533377389113109\n",
      "------------------------------------------\n",
      "Block: 16/128\n",
      "Number of times: 127\n",
      "Number of channels: 4096\n"
     ]
    },
    {
     "name": "stderr",
     "output_type": "stream",
     "text": [
      "100%|████████████████████████████████████████████████████████████████████████| 512/512 [03:25<00:00,  2.49it/s]\n"
     ]
    },
    {
     "name": "stdout",
     "output_type": "stream",
     "text": [
      "Pol 0: 2.35% flagged\n",
      "Pol 1: 1.77% flagged\n",
      "Union: 3.88% flagged\n",
      "loading /users/esmith/RFI_MIT/PFBcoeffs/c0800x4096_x14_7_24t_095binw_get_pfb_coeffs_h.npy for FIR coefficients\n",
      "block duration: 4.511618856588999\n",
      "------------------------------------------\n",
      "Block: 17/128\n",
      "Number of times: 127\n",
      "Number of channels: 4096\n"
     ]
    },
    {
     "name": "stderr",
     "output_type": "stream",
     "text": [
      "100%|████████████████████████████████████████████████████████████████████████| 512/512 [03:25<00:00,  2.50it/s]\n"
     ]
    },
    {
     "name": "stdout",
     "output_type": "stream",
     "text": [
      "Pol 0: 2.31% flagged\n",
      "Pol 1: 1.8% flagged\n",
      "Union: 3.88% flagged\n",
      "loading /users/esmith/RFI_MIT/PFBcoeffs/c0800x4096_x14_7_24t_095binw_get_pfb_coeffs_h.npy for FIR coefficients\n",
      "block duration: 4.486148758729299\n",
      "------------------------------------------\n",
      "Block: 18/128\n",
      "Number of times: 127\n",
      "Number of channels: 4096\n"
     ]
    },
    {
     "name": "stderr",
     "output_type": "stream",
     "text": [
      "100%|████████████████████████████████████████████████████████████████████████| 512/512 [03:26<00:00,  2.48it/s]\n"
     ]
    },
    {
     "name": "stdout",
     "output_type": "stream",
     "text": [
      "Pol 0: 2.3% flagged\n",
      "Pol 1: 1.8% flagged\n",
      "Union: 3.86% flagged\n",
      "loading /users/esmith/RFI_MIT/PFBcoeffs/c0800x4096_x14_7_24t_095binw_get_pfb_coeffs_h.npy for FIR coefficients\n",
      "block duration: 4.572315148512522\n",
      "------------------------------------------\n",
      "Block: 19/128\n",
      "Number of times: 127\n",
      "Number of channels: 4096\n"
     ]
    },
    {
     "name": "stderr",
     "output_type": "stream",
     "text": [
      "100%|████████████████████████████████████████████████████████████████████████| 512/512 [03:23<00:00,  2.52it/s]\n"
     ]
    },
    {
     "name": "stdout",
     "output_type": "stream",
     "text": [
      "Pol 0: 2.3% flagged\n",
      "Pol 1: 1.8% flagged\n",
      "Union: 3.87% flagged\n",
      "loading /users/esmith/RFI_MIT/PFBcoeffs/c0800x4096_x14_7_24t_095binw_get_pfb_coeffs_h.npy for FIR coefficients\n",
      "block duration: 4.483312666416168\n",
      "------------------------------------------\n",
      "Block: 20/128\n",
      "Number of times: 127\n",
      "Number of channels: 4096\n"
     ]
    },
    {
     "name": "stderr",
     "output_type": "stream",
     "text": [
      "100%|████████████████████████████████████████████████████████████████████████| 512/512 [03:23<00:00,  2.51it/s]\n"
     ]
    },
    {
     "name": "stdout",
     "output_type": "stream",
     "text": [
      "Pol 0: 2.28% flagged\n",
      "Pol 1: 1.81% flagged\n",
      "Union: 3.85% flagged\n",
      "loading /users/esmith/RFI_MIT/PFBcoeffs/c0800x4096_x14_7_24t_095binw_get_pfb_coeffs_h.npy for FIR coefficients\n",
      "block duration: 4.510139616330465\n",
      "------------------------------------------\n",
      "Block: 21/128\n",
      "Number of times: 127\n",
      "Number of channels: 4096\n"
     ]
    },
    {
     "name": "stderr",
     "output_type": "stream",
     "text": [
      "100%|████████████████████████████████████████████████████████████████████████| 512/512 [03:21<00:00,  2.54it/s]\n"
     ]
    },
    {
     "name": "stdout",
     "output_type": "stream",
     "text": [
      "Pol 0: 2.29% flagged\n",
      "Pol 1: 1.77% flagged\n",
      "Union: 3.83% flagged\n",
      "loading /users/esmith/RFI_MIT/PFBcoeffs/c0800x4096_x14_7_24t_095binw_get_pfb_coeffs_h.npy for FIR coefficients\n",
      "block duration: 4.439431198438009\n",
      "------------------------------------------\n",
      "Block: 22/128\n",
      "Number of times: 127\n",
      "Number of channels: 4096\n"
     ]
    },
    {
     "name": "stderr",
     "output_type": "stream",
     "text": [
      "100%|████████████████████████████████████████████████████████████████████████| 512/512 [03:33<00:00,  2.40it/s]\n"
     ]
    },
    {
     "name": "stdout",
     "output_type": "stream",
     "text": [
      "Pol 0: 2.26% flagged\n",
      "Pol 1: 1.83% flagged\n",
      "Union: 3.85% flagged\n",
      "loading /users/esmith/RFI_MIT/PFBcoeffs/c0800x4096_x14_7_24t_095binw_get_pfb_coeffs_h.npy for FIR coefficients\n",
      "block duration: 4.6943695664405825\n",
      "------------------------------------------\n",
      "Block: 23/128\n",
      "Number of times: 127\n",
      "Number of channels: 4096\n"
     ]
    },
    {
     "name": "stderr",
     "output_type": "stream",
     "text": [
      "100%|████████████████████████████████████████████████████████████████████████| 512/512 [03:20<00:00,  2.55it/s]\n"
     ]
    },
    {
     "name": "stdout",
     "output_type": "stream",
     "text": [
      "Pol 0: 2.24% flagged\n",
      "Pol 1: 1.79% flagged\n",
      "Union: 3.79% flagged\n",
      "loading /users/esmith/RFI_MIT/PFBcoeffs/c0800x4096_x14_7_24t_095binw_get_pfb_coeffs_h.npy for FIR coefficients\n",
      "block duration: 4.469129840532939\n",
      "------------------------------------------\n",
      "Block: 24/128\n",
      "Number of times: 127\n",
      "Number of channels: 4096\n"
     ]
    },
    {
     "name": "stderr",
     "output_type": "stream",
     "text": [
      "100%|████████████████████████████████████████████████████████████████████████| 512/512 [03:26<00:00,  2.48it/s]\n"
     ]
    },
    {
     "name": "stdout",
     "output_type": "stream",
     "text": [
      "Pol 0: 2.29% flagged\n",
      "Pol 1: 1.81% flagged\n",
      "Union: 3.85% flagged\n",
      "loading /users/esmith/RFI_MIT/PFBcoeffs/c0800x4096_x14_7_24t_095binw_get_pfb_coeffs_h.npy for FIR coefficients\n",
      "block duration: 4.656129904588064\n",
      "------------------------------------------\n",
      "Block: 25/128\n",
      "Number of times: 127\n",
      "Number of channels: 4096\n"
     ]
    },
    {
     "name": "stderr",
     "output_type": "stream",
     "text": [
      "100%|████████████████████████████████████████████████████████████████████████| 512/512 [03:22<00:00,  2.53it/s]\n"
     ]
    },
    {
     "name": "stdout",
     "output_type": "stream",
     "text": [
      "Pol 0: 2.33% flagged\n",
      "Pol 1: 1.86% flagged\n",
      "Union: 3.93% flagged\n",
      "loading /users/esmith/RFI_MIT/PFBcoeffs/c0800x4096_x14_7_24t_095binw_get_pfb_coeffs_h.npy for FIR coefficients\n",
      "block duration: 4.619442657629649\n",
      "------------------------------------------\n",
      "Block: 26/128\n",
      "Number of times: 127\n",
      "Number of channels: 4096\n"
     ]
    },
    {
     "name": "stderr",
     "output_type": "stream",
     "text": [
      "100%|████████████████████████████████████████████████████████████████████████| 512/512 [03:25<00:00,  2.50it/s]\n"
     ]
    },
    {
     "name": "stdout",
     "output_type": "stream",
     "text": [
      "Pol 0: 2.34% flagged\n",
      "Pol 1: 1.8% flagged\n",
      "Union: 3.89% flagged\n",
      "loading /users/esmith/RFI_MIT/PFBcoeffs/c0800x4096_x14_7_24t_095binw_get_pfb_coeffs_h.npy for FIR coefficients\n",
      "block duration: 4.628920443852743\n",
      "------------------------------------------\n",
      "Block: 27/128\n",
      "Number of times: 127\n",
      "Number of channels: 4096\n"
     ]
    },
    {
     "name": "stderr",
     "output_type": "stream",
     "text": [
      "100%|████████████████████████████████████████████████████████████████████████| 512/512 [03:16<00:00,  2.61it/s]\n"
     ]
    },
    {
     "name": "stdout",
     "output_type": "stream",
     "text": [
      "Pol 0: 2.29% flagged\n",
      "Pol 1: 1.78% flagged\n",
      "Union: 3.81% flagged\n",
      "loading /users/esmith/RFI_MIT/PFBcoeffs/c0800x4096_x14_7_24t_095binw_get_pfb_coeffs_h.npy for FIR coefficients\n",
      "block duration: 4.449302736918131\n",
      "------------------------------------------\n",
      "Block: 28/128\n",
      "Number of times: 127\n",
      "Number of channels: 4096\n"
     ]
    },
    {
     "name": "stderr",
     "output_type": "stream",
     "text": [
      "100%|████████████████████████████████████████████████████████████████████████| 512/512 [03:21<00:00,  2.54it/s]\n"
     ]
    },
    {
     "name": "stdout",
     "output_type": "stream",
     "text": [
      "Pol 0: 2.29% flagged\n",
      "Pol 1: 1.8% flagged\n",
      "Union: 3.83% flagged\n",
      "loading /users/esmith/RFI_MIT/PFBcoeffs/c0800x4096_x14_7_24t_095binw_get_pfb_coeffs_h.npy for FIR coefficients\n",
      "block duration: 4.574978053569794\n",
      "------------------------------------------\n",
      "Block: 29/128\n",
      "Number of times: 127\n",
      "Number of channels: 4096\n"
     ]
    },
    {
     "name": "stderr",
     "output_type": "stream",
     "text": [
      "100%|████████████████████████████████████████████████████████████████████████| 512/512 [03:19<00:00,  2.56it/s]\n"
     ]
    },
    {
     "name": "stdout",
     "output_type": "stream",
     "text": [
      "Pol 0: 2.28% flagged\n",
      "Pol 1: 1.79% flagged\n",
      "Union: 3.82% flagged\n",
      "loading /users/esmith/RFI_MIT/PFBcoeffs/c0800x4096_x14_7_24t_095binw_get_pfb_coeffs_h.npy for FIR coefficients\n",
      "block duration: 4.579934044679006\n",
      "------------------------------------------\n",
      "Block: 30/128\n",
      "Number of times: 127\n",
      "Number of channels: 4096\n"
     ]
    },
    {
     "name": "stderr",
     "output_type": "stream",
     "text": [
      "100%|████████████████████████████████████████████████████████████████████████| 512/512 [03:18<00:00,  2.58it/s]\n"
     ]
    },
    {
     "name": "stdout",
     "output_type": "stream",
     "text": [
      "Pol 0: 2.36% flagged\n",
      "Pol 1: 1.78% flagged\n",
      "Union: 3.88% flagged\n",
      "loading /users/esmith/RFI_MIT/PFBcoeffs/c0800x4096_x14_7_24t_095binw_get_pfb_coeffs_h.npy for FIR coefficients\n",
      "block duration: 4.512808616956075\n",
      "------------------------------------------\n",
      "Block: 31/128\n",
      "Number of times: 127\n",
      "Number of channels: 4096\n"
     ]
    },
    {
     "name": "stderr",
     "output_type": "stream",
     "text": [
      "100%|████████████████████████████████████████████████████████████████████████| 512/512 [03:16<00:00,  2.61it/s]\n"
     ]
    },
    {
     "name": "stdout",
     "output_type": "stream",
     "text": [
      "Pol 0: 2.32% flagged\n",
      "Pol 1: 1.83% flagged\n",
      "Union: 3.89% flagged\n",
      "loading /users/esmith/RFI_MIT/PFBcoeffs/c0800x4096_x14_7_24t_095binw_get_pfb_coeffs_h.npy for FIR coefficients\n",
      "block duration: 4.492248070240021\n",
      "------------------------------------------\n",
      "Block: 32/128\n",
      "Number of times: 127\n",
      "Number of channels: 4096\n"
     ]
    },
    {
     "name": "stderr",
     "output_type": "stream",
     "text": [
      "100%|████████████████████████████████████████████████████████████████████████| 512/512 [03:15<00:00,  2.62it/s]\n"
     ]
    },
    {
     "name": "stdout",
     "output_type": "stream",
     "text": [
      "Pol 0: 2.32% flagged\n",
      "Pol 1: 1.78% flagged\n",
      "Union: 3.83% flagged\n",
      "loading /users/esmith/RFI_MIT/PFBcoeffs/c0800x4096_x14_7_24t_095binw_get_pfb_coeffs_h.npy for FIR coefficients\n",
      "block duration: 4.44783174196879\n",
      "------------------------------------------\n",
      "Block: 33/128\n",
      "Number of times: 127\n",
      "Number of channels: 4096\n"
     ]
    },
    {
     "name": "stderr",
     "output_type": "stream",
     "text": [
      "100%|████████████████████████████████████████████████████████████████████████| 512/512 [03:19<00:00,  2.57it/s]\n"
     ]
    },
    {
     "name": "stdout",
     "output_type": "stream",
     "text": [
      "Pol 0: 2.29% flagged\n",
      "Pol 1: 1.78% flagged\n",
      "Union: 3.8% flagged\n",
      "loading /users/esmith/RFI_MIT/PFBcoeffs/c0800x4096_x14_7_24t_095binw_get_pfb_coeffs_h.npy for FIR coefficients\n",
      "block duration: 4.558117814858755\n",
      "------------------------------------------\n",
      "Block: 34/128\n",
      "Number of times: 127\n",
      "Number of channels: 4096\n"
     ]
    },
    {
     "name": "stderr",
     "output_type": "stream",
     "text": [
      "100%|████████████████████████████████████████████████████████████████████████| 512/512 [03:18<00:00,  2.58it/s]\n"
     ]
    },
    {
     "name": "stdout",
     "output_type": "stream",
     "text": [
      "Pol 0: 2.31% flagged\n",
      "Pol 1: 1.78% flagged\n",
      "Union: 3.83% flagged\n",
      "loading /users/esmith/RFI_MIT/PFBcoeffs/c0800x4096_x14_7_24t_095binw_get_pfb_coeffs_h.npy for FIR coefficients\n",
      "block duration: 4.583575260639191\n",
      "------------------------------------------\n",
      "Block: 35/128\n",
      "Number of times: 127\n",
      "Number of channels: 4096\n"
     ]
    },
    {
     "name": "stderr",
     "output_type": "stream",
     "text": [
      "100%|████████████████████████████████████████████████████████████████████████| 512/512 [03:21<00:00,  2.54it/s]\n"
     ]
    },
    {
     "name": "stdout",
     "output_type": "stream",
     "text": [
      "Pol 0: 2.31% flagged\n",
      "Pol 1: 1.8% flagged\n",
      "Union: 3.85% flagged\n",
      "loading /users/esmith/RFI_MIT/PFBcoeffs/c0800x4096_x14_7_24t_095binw_get_pfb_coeffs_h.npy for FIR coefficients\n",
      "block duration: 4.62907638947169\n",
      "------------------------------------------\n",
      "Block: 36/128\n",
      "Number of times: 127\n",
      "Number of channels: 4096\n"
     ]
    },
    {
     "name": "stderr",
     "output_type": "stream",
     "text": [
      "100%|████████████████████████████████████████████████████████████████████████| 512/512 [03:19<00:00,  2.57it/s]\n"
     ]
    },
    {
     "name": "stdout",
     "output_type": "stream",
     "text": [
      "Pol 0: 2.32% flagged\n",
      "Pol 1: 1.77% flagged\n",
      "Union: 3.81% flagged\n",
      "loading /users/esmith/RFI_MIT/PFBcoeffs/c0800x4096_x14_7_24t_095binw_get_pfb_coeffs_h.npy for FIR coefficients\n",
      "block duration: 4.588489015897115\n",
      "------------------------------------------\n",
      "Block: 37/128\n",
      "Number of times: 127\n",
      "Number of channels: 4096\n"
     ]
    },
    {
     "name": "stderr",
     "output_type": "stream",
     "text": [
      "100%|████████████████████████████████████████████████████████████████████████| 512/512 [03:20<00:00,  2.56it/s]\n"
     ]
    },
    {
     "name": "stdout",
     "output_type": "stream",
     "text": [
      "Pol 0: 2.28% flagged\n",
      "Pol 1: 1.76% flagged\n",
      "Union: 3.77% flagged\n",
      "loading /users/esmith/RFI_MIT/PFBcoeffs/c0800x4096_x14_7_24t_095binw_get_pfb_coeffs_h.npy for FIR coefficients\n",
      "block duration: 4.575865364074707\n",
      "------------------------------------------\n",
      "Block: 38/128\n",
      "Number of times: 127\n",
      "Number of channels: 4096\n"
     ]
    },
    {
     "name": "stderr",
     "output_type": "stream",
     "text": [
      "100%|████████████████████████████████████████████████████████████████████████| 512/512 [03:19<00:00,  2.57it/s]\n"
     ]
    },
    {
     "name": "stdout",
     "output_type": "stream",
     "text": [
      "Pol 0: 2.33% flagged\n",
      "Pol 1: 1.78% flagged\n",
      "Union: 3.84% flagged\n",
      "loading /users/esmith/RFI_MIT/PFBcoeffs/c0800x4096_x14_7_24t_095binw_get_pfb_coeffs_h.npy for FIR coefficients\n",
      "block duration: 4.566319310665131\n",
      "------------------------------------------\n",
      "Block: 39/128\n",
      "Number of times: 127\n",
      "Number of channels: 4096\n"
     ]
    },
    {
     "name": "stderr",
     "output_type": "stream",
     "text": [
      "100%|████████████████████████████████████████████████████████████████████████| 512/512 [03:19<00:00,  2.56it/s]\n"
     ]
    },
    {
     "name": "stdout",
     "output_type": "stream",
     "text": [
      "Pol 0: 2.33% flagged\n",
      "Pol 1: 1.8% flagged\n",
      "Union: 3.84% flagged\n",
      "loading /users/esmith/RFI_MIT/PFBcoeffs/c0800x4096_x14_7_24t_095binw_get_pfb_coeffs_h.npy for FIR coefficients\n",
      "block duration: 4.597429100672404\n",
      "------------------------------------------\n",
      "Block: 40/128\n",
      "Number of times: 127\n",
      "Number of channels: 4096\n"
     ]
    },
    {
     "name": "stderr",
     "output_type": "stream",
     "text": [
      "100%|████████████████████████████████████████████████████████████████████████| 512/512 [03:21<00:00,  2.55it/s]\n"
     ]
    },
    {
     "name": "stdout",
     "output_type": "stream",
     "text": [
      "Pol 0: 2.36% flagged\n",
      "Pol 1: 1.79% flagged\n",
      "Union: 3.87% flagged\n",
      "loading /users/esmith/RFI_MIT/PFBcoeffs/c0800x4096_x14_7_24t_095binw_get_pfb_coeffs_h.npy for FIR coefficients\n",
      "block duration: 4.643551607926686\n",
      "------------------------------------------\n",
      "Block: 41/128\n",
      "Number of times: 127\n",
      "Number of channels: 4096\n"
     ]
    },
    {
     "name": "stderr",
     "output_type": "stream",
     "text": [
      "100%|████████████████████████████████████████████████████████████████████████| 512/512 [03:24<00:00,  2.50it/s]\n"
     ]
    },
    {
     "name": "stdout",
     "output_type": "stream",
     "text": [
      "Pol 0: 2.33% flagged\n",
      "Pol 1: 1.82% flagged\n",
      "Union: 3.85% flagged\n",
      "loading /users/esmith/RFI_MIT/PFBcoeffs/c0800x4096_x14_7_24t_095binw_get_pfb_coeffs_h.npy for FIR coefficients\n",
      "block duration: 4.745027089118958\n",
      "------------------------------------------\n",
      "Block: 42/128\n",
      "Number of times: 127\n",
      "Number of channels: 4096\n"
     ]
    },
    {
     "name": "stderr",
     "output_type": "stream",
     "text": [
      "100%|████████████████████████████████████████████████████████████████████████| 512/512 [03:22<00:00,  2.53it/s]\n"
     ]
    },
    {
     "name": "stdout",
     "output_type": "stream",
     "text": [
      "Pol 0: 2.34% flagged\n",
      "Pol 1: 1.79% flagged\n",
      "Union: 3.83% flagged\n",
      "loading /users/esmith/RFI_MIT/PFBcoeffs/c0800x4096_x14_7_24t_095binw_get_pfb_coeffs_h.npy for FIR coefficients\n",
      "block duration: 4.731994954744975\n",
      "------------------------------------------\n",
      "Block: 43/128\n",
      "Number of times: 127\n",
      "Number of channels: 4096\n"
     ]
    },
    {
     "name": "stderr",
     "output_type": "stream",
     "text": [
      "100%|████████████████████████████████████████████████████████████████████████| 512/512 [03:29<00:00,  2.44it/s]\n"
     ]
    },
    {
     "name": "stdout",
     "output_type": "stream",
     "text": [
      "Pol 0: 2.36% flagged\n",
      "Pol 1: 1.78% flagged\n",
      "Union: 3.85% flagged\n",
      "loading /users/esmith/RFI_MIT/PFBcoeffs/c0800x4096_x14_7_24t_095binw_get_pfb_coeffs_h.npy for FIR coefficients\n",
      "block duration: 4.983188609282176\n",
      "------------------------------------------\n",
      "Block: 44/128\n",
      "Number of times: 127\n",
      "Number of channels: 4096\n"
     ]
    },
    {
     "name": "stderr",
     "output_type": "stream",
     "text": [
      "100%|████████████████████████████████████████████████████████████████████████| 512/512 [03:32<00:00,  2.41it/s]\n"
     ]
    },
    {
     "name": "stdout",
     "output_type": "stream",
     "text": [
      "Pol 0: 2.35% flagged\n",
      "Pol 1: 1.82% flagged\n",
      "Union: 3.87% flagged\n",
      "loading /users/esmith/RFI_MIT/PFBcoeffs/c0800x4096_x14_7_24t_095binw_get_pfb_coeffs_h.npy for FIR coefficients\n",
      "block duration: 5.040721925099691\n",
      "------------------------------------------\n",
      "Block: 45/128\n",
      "Number of times: 127\n",
      "Number of channels: 4096\n"
     ]
    },
    {
     "name": "stderr",
     "output_type": "stream",
     "text": [
      "100%|████████████████████████████████████████████████████████████████████████| 512/512 [03:23<00:00,  2.52it/s]\n"
     ]
    },
    {
     "name": "stdout",
     "output_type": "stream",
     "text": [
      "Pol 0: 2.34% flagged\n",
      "Pol 1: 1.84% flagged\n",
      "Union: 3.88% flagged\n",
      "loading /users/esmith/RFI_MIT/PFBcoeffs/c0800x4096_x14_7_24t_095binw_get_pfb_coeffs_h.npy for FIR coefficients\n",
      "block duration: 4.838654482364655\n",
      "------------------------------------------\n",
      "Block: 46/128\n",
      "Number of times: 127\n",
      "Number of channels: 4096\n"
     ]
    },
    {
     "name": "stderr",
     "output_type": "stream",
     "text": [
      "100%|████████████████████████████████████████████████████████████████████████| 512/512 [03:23<00:00,  2.51it/s]\n"
     ]
    },
    {
     "name": "stdout",
     "output_type": "stream",
     "text": [
      "Pol 0: 2.37% flagged\n",
      "Pol 1: 1.8% flagged\n",
      "Union: 3.88% flagged\n",
      "loading /users/esmith/RFI_MIT/PFBcoeffs/c0800x4096_x14_7_24t_095binw_get_pfb_coeffs_h.npy for FIR coefficients\n",
      "block duration: 4.821815109252929\n",
      "------------------------------------------\n",
      "Block: 47/128\n",
      "Number of times: 127\n",
      "Number of channels: 4096\n"
     ]
    },
    {
     "name": "stderr",
     "output_type": "stream",
     "text": [
      "100%|████████████████████████████████████████████████████████████████████████| 512/512 [03:26<00:00,  2.48it/s]\n"
     ]
    },
    {
     "name": "stdout",
     "output_type": "stream",
     "text": [
      "Pol 0: 2.38% flagged\n",
      "Pol 1: 1.77% flagged\n",
      "Union: 3.85% flagged\n",
      "loading /users/esmith/RFI_MIT/PFBcoeffs/c0800x4096_x14_7_24t_095binw_get_pfb_coeffs_h.npy for FIR coefficients\n",
      "block duration: 4.834713308016459\n",
      "------------------------------------------\n",
      "Block: 48/128\n",
      "Number of times: 127\n",
      "Number of channels: 4096\n"
     ]
    },
    {
     "name": "stderr",
     "output_type": "stream",
     "text": [
      "100%|████████████████████████████████████████████████████████████████████████| 512/512 [03:25<00:00,  2.50it/s]\n"
     ]
    },
    {
     "name": "stdout",
     "output_type": "stream",
     "text": [
      "Pol 0: 2.35% flagged\n",
      "Pol 1: 1.81% flagged\n",
      "Union: 3.86% flagged\n",
      "loading /users/esmith/RFI_MIT/PFBcoeffs/c0800x4096_x14_7_24t_095binw_get_pfb_coeffs_h.npy for FIR coefficients\n",
      "block duration: 4.868057827154796\n",
      "------------------------------------------\n",
      "Block: 49/128\n",
      "Number of times: 127\n",
      "Number of channels: 4096\n"
     ]
    },
    {
     "name": "stderr",
     "output_type": "stream",
     "text": [
      "100%|████████████████████████████████████████████████████████████████████████| 512/512 [03:27<00:00,  2.47it/s]\n"
     ]
    },
    {
     "name": "stdout",
     "output_type": "stream",
     "text": [
      "Pol 0: 2.35% flagged\n",
      "Pol 1: 1.8% flagged\n",
      "Union: 3.84% flagged\n",
      "loading /users/esmith/RFI_MIT/PFBcoeffs/c0800x4096_x14_7_24t_095binw_get_pfb_coeffs_h.npy for FIR coefficients\n",
      "block duration: 4.878951863447825\n",
      "------------------------------------------\n",
      "Block: 50/128\n",
      "Number of times: 127\n",
      "Number of channels: 4096\n"
     ]
    },
    {
     "name": "stderr",
     "output_type": "stream",
     "text": [
      "100%|████████████████████████████████████████████████████████████████████████| 512/512 [03:28<00:00,  2.45it/s]\n"
     ]
    },
    {
     "name": "stdout",
     "output_type": "stream",
     "text": [
      "Pol 0: 2.39% flagged\n",
      "Pol 1: 1.8% flagged\n",
      "Union: 3.88% flagged\n",
      "loading /users/esmith/RFI_MIT/PFBcoeffs/c0800x4096_x14_7_24t_095binw_get_pfb_coeffs_h.npy for FIR coefficients\n",
      "block duration: 4.9046223322550455\n",
      "------------------------------------------\n",
      "Block: 51/128\n",
      "Number of times: 127\n",
      "Number of channels: 4096\n"
     ]
    },
    {
     "name": "stderr",
     "output_type": "stream",
     "text": [
      "100%|████████████████████████████████████████████████████████████████████████| 512/512 [03:25<00:00,  2.50it/s]\n"
     ]
    },
    {
     "name": "stdout",
     "output_type": "stream",
     "text": [
      "Pol 0: 2.32% flagged\n",
      "Pol 1: 1.84% flagged\n",
      "Union: 3.85% flagged\n",
      "loading /users/esmith/RFI_MIT/PFBcoeffs/c0800x4096_x14_7_24t_095binw_get_pfb_coeffs_h.npy for FIR coefficients\n",
      "block duration: 4.8760158061981205\n",
      "------------------------------------------\n",
      "Block: 52/128\n",
      "Number of times: 127\n",
      "Number of channels: 4096\n"
     ]
    },
    {
     "name": "stderr",
     "output_type": "stream",
     "text": [
      "100%|████████████████████████████████████████████████████████████████████████| 512/512 [03:33<00:00,  2.40it/s]\n"
     ]
    },
    {
     "name": "stdout",
     "output_type": "stream",
     "text": [
      "Pol 0: 2.34% flagged\n",
      "Pol 1: 1.85% flagged\n",
      "Union: 3.87% flagged\n",
      "loading /users/esmith/RFI_MIT/PFBcoeffs/c0800x4096_x14_7_24t_095binw_get_pfb_coeffs_h.npy for FIR coefficients\n",
      "block duration: 5.181006669998169\n",
      "------------------------------------------\n",
      "Block: 53/128\n",
      "Number of times: 127\n",
      "Number of channels: 4096\n"
     ]
    },
    {
     "name": "stderr",
     "output_type": "stream",
     "text": [
      "100%|████████████████████████████████████████████████████████████████████████| 512/512 [03:23<00:00,  2.51it/s]\n"
     ]
    },
    {
     "name": "stdout",
     "output_type": "stream",
     "text": [
      "Pol 0: 2.39% flagged\n",
      "Pol 1: 1.83% flagged\n",
      "Union: 3.9% flagged\n",
      "loading /users/esmith/RFI_MIT/PFBcoeffs/c0800x4096_x14_7_24t_095binw_get_pfb_coeffs_h.npy for FIR coefficients\n",
      "block duration: 4.906370536486308\n",
      "------------------------------------------\n",
      "Block: 54/128\n",
      "Number of times: 127\n",
      "Number of channels: 4096\n"
     ]
    },
    {
     "name": "stderr",
     "output_type": "stream",
     "text": [
      "100%|████████████████████████████████████████████████████████████████████████| 512/512 [03:27<00:00,  2.46it/s]\n"
     ]
    },
    {
     "name": "stdout",
     "output_type": "stream",
     "text": [
      "Pol 0: 2.35% flagged\n",
      "Pol 1: 1.83% flagged\n",
      "Union: 3.85% flagged\n",
      "loading /users/esmith/RFI_MIT/PFBcoeffs/c0800x4096_x14_7_24t_095binw_get_pfb_coeffs_h.npy for FIR coefficients\n",
      "block duration: 4.927008044719696\n",
      "------------------------------------------\n",
      "Block: 55/128\n",
      "Number of times: 127\n",
      "Number of channels: 4096\n"
     ]
    },
    {
     "name": "stderr",
     "output_type": "stream",
     "text": [
      "100%|████████████████████████████████████████████████████████████████████████| 512/512 [03:27<00:00,  2.47it/s]\n"
     ]
    },
    {
     "name": "stdout",
     "output_type": "stream",
     "text": [
      "Pol 0: 2.34% flagged\n",
      "Pol 1: 1.82% flagged\n",
      "Union: 3.84% flagged\n",
      "loading /users/esmith/RFI_MIT/PFBcoeffs/c0800x4096_x14_7_24t_095binw_get_pfb_coeffs_h.npy for FIR coefficients\n",
      "block duration: 4.930508573849996\n",
      "------------------------------------------\n",
      "Block: 56/128\n",
      "Number of times: 127\n",
      "Number of channels: 4096\n"
     ]
    },
    {
     "name": "stderr",
     "output_type": "stream",
     "text": [
      "100%|████████████████████████████████████████████████████████████████████████| 512/512 [03:24<00:00,  2.50it/s]\n"
     ]
    },
    {
     "name": "stdout",
     "output_type": "stream",
     "text": [
      "Pol 0: 2.38% flagged\n",
      "Pol 1: 1.82% flagged\n",
      "Union: 3.88% flagged\n",
      "loading /users/esmith/RFI_MIT/PFBcoeffs/c0800x4096_x14_7_24t_095binw_get_pfb_coeffs_h.npy for FIR coefficients\n",
      "block duration: 4.89497135480245\n",
      "------------------------------------------\n",
      "Block: 57/128\n",
      "Number of times: 127\n",
      "Number of channels: 4096\n"
     ]
    },
    {
     "name": "stderr",
     "output_type": "stream",
     "text": [
      "100%|████████████████████████████████████████████████████████████████████████| 512/512 [03:25<00:00,  2.49it/s]\n"
     ]
    },
    {
     "name": "stdout",
     "output_type": "stream",
     "text": [
      "Pol 0: 2.38% flagged\n",
      "Pol 1: 1.81% flagged\n",
      "Union: 3.85% flagged\n",
      "loading /users/esmith/RFI_MIT/PFBcoeffs/c0800x4096_x14_7_24t_095binw_get_pfb_coeffs_h.npy for FIR coefficients\n",
      "block duration: 4.938288048903147\n",
      "------------------------------------------\n",
      "Block: 58/128\n",
      "Number of times: 127\n",
      "Number of channels: 4096\n"
     ]
    },
    {
     "name": "stderr",
     "output_type": "stream",
     "text": [
      "100%|████████████████████████████████████████████████████████████████████████| 512/512 [03:33<00:00,  2.40it/s]\n"
     ]
    },
    {
     "name": "stdout",
     "output_type": "stream",
     "text": [
      "Pol 0: 2.36% flagged\n",
      "Pol 1: 1.83% flagged\n",
      "Union: 3.86% flagged\n",
      "loading /users/esmith/RFI_MIT/PFBcoeffs/c0800x4096_x14_7_24t_095binw_get_pfb_coeffs_h.npy for FIR coefficients\n",
      "block duration: 5.147274021307627\n",
      "------------------------------------------\n",
      "Block: 59/128\n",
      "Number of times: 127\n",
      "Number of channels: 4096\n"
     ]
    },
    {
     "name": "stderr",
     "output_type": "stream",
     "text": [
      "100%|████████████████████████████████████████████████████████████████████████| 512/512 [03:27<00:00,  2.47it/s]\n"
     ]
    },
    {
     "name": "stdout",
     "output_type": "stream",
     "text": [
      "Pol 0: 2.3% flagged\n",
      "Pol 1: 1.8% flagged\n",
      "Union: 3.76% flagged\n",
      "loading /users/esmith/RFI_MIT/PFBcoeffs/c0800x4096_x14_7_24t_095binw_get_pfb_coeffs_h.npy for FIR coefficients\n",
      "block duration: 4.963488980134328\n",
      "------------------------------------------\n",
      "Block: 60/128\n",
      "Number of times: 127\n",
      "Number of channels: 4096\n"
     ]
    },
    {
     "name": "stderr",
     "output_type": "stream",
     "text": [
      "100%|████████████████████████████████████████████████████████████████████████| 512/512 [03:27<00:00,  2.47it/s]\n"
     ]
    },
    {
     "name": "stdout",
     "output_type": "stream",
     "text": [
      "Pol 0: 2.37% flagged\n",
      "Pol 1: 1.84% flagged\n",
      "Union: 3.87% flagged\n",
      "loading /users/esmith/RFI_MIT/PFBcoeffs/c0800x4096_x14_7_24t_095binw_get_pfb_coeffs_h.npy for FIR coefficients\n",
      "block duration: 5.034948066870371\n",
      "------------------------------------------\n",
      "Block: 61/128\n",
      "Number of times: 127\n",
      "Number of channels: 4096\n"
     ]
    },
    {
     "name": "stderr",
     "output_type": "stream",
     "text": [
      "100%|████████████████████████████████████████████████████████████████████████| 512/512 [03:24<00:00,  2.51it/s]\n"
     ]
    },
    {
     "name": "stdout",
     "output_type": "stream",
     "text": [
      "Pol 0: 2.34% flagged\n",
      "Pol 1: 1.81% flagged\n",
      "Union: 3.82% flagged\n",
      "loading /users/esmith/RFI_MIT/PFBcoeffs/c0800x4096_x14_7_24t_095binw_get_pfb_coeffs_h.npy for FIR coefficients\n",
      "block duration: 4.963569283485413\n",
      "------------------------------------------\n",
      "Block: 62/128\n",
      "Number of times: 127\n",
      "Number of channels: 4096\n"
     ]
    },
    {
     "name": "stderr",
     "output_type": "stream",
     "text": [
      "100%|████████████████████████████████████████████████████████████████████████| 512/512 [03:22<00:00,  2.52it/s]\n"
     ]
    },
    {
     "name": "stdout",
     "output_type": "stream",
     "text": [
      "Pol 0: 2.34% flagged\n",
      "Pol 1: 1.8% flagged\n",
      "Union: 3.81% flagged\n",
      "loading /users/esmith/RFI_MIT/PFBcoeffs/c0800x4096_x14_7_24t_095binw_get_pfb_coeffs_h.npy for FIR coefficients\n",
      "block duration: 4.9480364163716635\n",
      "------------------------------------------\n",
      "Block: 63/128\n",
      "Number of times: 127\n",
      "Number of channels: 4096\n"
     ]
    },
    {
     "name": "stderr",
     "output_type": "stream",
     "text": [
      "100%|████████████████████████████████████████████████████████████████████████| 512/512 [03:37<00:00,  2.36it/s]\n"
     ]
    },
    {
     "name": "stdout",
     "output_type": "stream",
     "text": [
      "Pol 0: 2.34% flagged\n",
      "Pol 1: 1.84% flagged\n",
      "Union: 3.85% flagged\n",
      "loading /users/esmith/RFI_MIT/PFBcoeffs/c0800x4096_x14_7_24t_095binw_get_pfb_coeffs_h.npy for FIR coefficients\n",
      "block duration: 5.195600382486979\n",
      "------------------------------------------\n",
      "Block: 64/128\n",
      "Number of times: 127\n",
      "Number of channels: 4096\n"
     ]
    },
    {
     "name": "stderr",
     "output_type": "stream",
     "text": [
      "100%|████████████████████████████████████████████████████████████████████████| 512/512 [03:31<00:00,  2.42it/s]\n"
     ]
    },
    {
     "name": "stdout",
     "output_type": "stream",
     "text": [
      "Pol 0: 2.41% flagged\n",
      "Pol 1: 1.82% flagged\n",
      "Union: 3.87% flagged\n",
      "loading /users/esmith/RFI_MIT/PFBcoeffs/c0800x4096_x14_7_24t_095binw_get_pfb_coeffs_h.npy for FIR coefficients\n",
      "block duration: 5.121938498814901\n",
      "------------------------------------------\n",
      "Block: 65/128\n",
      "Number of times: 127\n",
      "Number of channels: 4096\n"
     ]
    },
    {
     "name": "stderr",
     "output_type": "stream",
     "text": [
      "100%|████████████████████████████████████████████████████████████████████████| 512/512 [03:24<00:00,  2.51it/s]\n"
     ]
    },
    {
     "name": "stdout",
     "output_type": "stream",
     "text": [
      "Pol 0: 2.33% flagged\n",
      "Pol 1: 1.81% flagged\n",
      "Union: 3.8% flagged\n",
      "loading /users/esmith/RFI_MIT/PFBcoeffs/c0800x4096_x14_7_24t_095binw_get_pfb_coeffs_h.npy for FIR coefficients\n",
      "block duration: 5.049360609054565\n",
      "------------------------------------------\n",
      "Block: 66/128\n",
      "Number of times: 127\n",
      "Number of channels: 4096\n"
     ]
    },
    {
     "name": "stderr",
     "output_type": "stream",
     "text": [
      "100%|████████████████████████████████████████████████████████████████████████| 512/512 [03:28<00:00,  2.46it/s]\n"
     ]
    },
    {
     "name": "stdout",
     "output_type": "stream",
     "text": [
      "Pol 0: 2.39% flagged\n",
      "Pol 1: 1.79% flagged\n",
      "Union: 3.85% flagged\n",
      "loading /users/esmith/RFI_MIT/PFBcoeffs/c0800x4096_x14_7_24t_095binw_get_pfb_coeffs_h.npy for FIR coefficients\n",
      "block duration: 5.17924903233846\n",
      "------------------------------------------\n",
      "Block: 67/128\n",
      "Number of times: 127\n",
      "Number of channels: 4096\n"
     ]
    },
    {
     "name": "stderr",
     "output_type": "stream",
     "text": [
      "100%|████████████████████████████████████████████████████████████████████████| 512/512 [03:37<00:00,  2.36it/s]\n"
     ]
    },
    {
     "name": "stdout",
     "output_type": "stream",
     "text": [
      "Pol 0: 2.42% flagged\n",
      "Pol 1: 1.8% flagged\n",
      "Union: 3.87% flagged\n",
      "loading /users/esmith/RFI_MIT/PFBcoeffs/c0800x4096_x14_7_24t_095binw_get_pfb_coeffs_h.npy for FIR coefficients\n",
      "block duration: 5.296506305535634\n",
      "------------------------------------------\n",
      "Block: 68/128\n",
      "Number of times: 127\n",
      "Number of channels: 4096\n"
     ]
    },
    {
     "name": "stderr",
     "output_type": "stream",
     "text": [
      "100%|████████████████████████████████████████████████████████████████████████| 512/512 [03:27<00:00,  2.46it/s]\n"
     ]
    },
    {
     "name": "stdout",
     "output_type": "stream",
     "text": [
      "Pol 0: 2.36% flagged\n",
      "Pol 1: 1.82% flagged\n",
      "Union: 3.85% flagged\n",
      "loading /users/esmith/RFI_MIT/PFBcoeffs/c0800x4096_x14_7_24t_095binw_get_pfb_coeffs_h.npy for FIR coefficients\n",
      "block duration: 5.137494273980459\n",
      "------------------------------------------\n",
      "Block: 69/128\n",
      "Number of times: 127\n",
      "Number of channels: 4096\n"
     ]
    },
    {
     "name": "stderr",
     "output_type": "stream",
     "text": [
      "100%|████████████████████████████████████████████████████████████████████████| 512/512 [03:26<00:00,  2.48it/s]\n"
     ]
    },
    {
     "name": "stdout",
     "output_type": "stream",
     "text": [
      "Pol 0: 2.38% flagged\n",
      "Pol 1: 1.81% flagged\n",
      "Union: 3.85% flagged\n",
      "loading /users/esmith/RFI_MIT/PFBcoeffs/c0800x4096_x14_7_24t_095binw_get_pfb_coeffs_h.npy for FIR coefficients\n",
      "block duration: 5.155023996035258\n",
      "------------------------------------------\n",
      "Block: 70/128\n",
      "Number of times: 127\n",
      "Number of channels: 4096\n"
     ]
    },
    {
     "name": "stderr",
     "output_type": "stream",
     "text": [
      "100%|████████████████████████████████████████████████████████████████████████| 512/512 [03:29<00:00,  2.44it/s]\n"
     ]
    },
    {
     "name": "stdout",
     "output_type": "stream",
     "text": [
      "Pol 0: 2.4% flagged\n",
      "Pol 1: 1.82% flagged\n",
      "Union: 3.88% flagged\n",
      "loading /users/esmith/RFI_MIT/PFBcoeffs/c0800x4096_x14_7_24t_095binw_get_pfb_coeffs_h.npy for FIR coefficients\n",
      "block duration: 5.205209732055664\n",
      "------------------------------------------\n",
      "Block: 71/128\n",
      "Number of times: 127\n",
      "Number of channels: 4096\n"
     ]
    },
    {
     "name": "stderr",
     "output_type": "stream",
     "text": [
      "100%|████████████████████████████████████████████████████████████████████████| 512/512 [03:35<00:00,  2.37it/s]\n"
     ]
    },
    {
     "name": "stdout",
     "output_type": "stream",
     "text": [
      "Pol 0: 2.39% flagged\n",
      "Pol 1: 1.81% flagged\n",
      "Union: 3.85% flagged\n",
      "loading /users/esmith/RFI_MIT/PFBcoeffs/c0800x4096_x14_7_24t_095binw_get_pfb_coeffs_h.npy for FIR coefficients\n",
      "block duration: 5.30446238120397\n",
      "------------------------------------------\n",
      "Block: 72/128\n",
      "Number of times: 127\n",
      "Number of channels: 4096\n"
     ]
    },
    {
     "name": "stderr",
     "output_type": "stream",
     "text": [
      "100%|████████████████████████████████████████████████████████████████████████| 512/512 [03:25<00:00,  2.49it/s]\n"
     ]
    },
    {
     "name": "stdout",
     "output_type": "stream",
     "text": [
      "Pol 0: 2.37% flagged\n",
      "Pol 1: 1.81% flagged\n",
      "Union: 3.83% flagged\n",
      "loading /users/esmith/RFI_MIT/PFBcoeffs/c0800x4096_x14_7_24t_095binw_get_pfb_coeffs_h.npy for FIR coefficients\n",
      "block duration: 5.147768175601959\n",
      "------------------------------------------\n",
      "Block: 73/128\n",
      "Number of times: 127\n",
      "Number of channels: 4096\n"
     ]
    },
    {
     "name": "stderr",
     "output_type": "stream",
     "text": [
      "100%|████████████████████████████████████████████████████████████████████████| 512/512 [03:27<00:00,  2.47it/s]\n"
     ]
    },
    {
     "name": "stdout",
     "output_type": "stream",
     "text": [
      "Pol 0: 2.37% flagged\n",
      "Pol 1: 1.83% flagged\n",
      "Union: 3.85% flagged\n",
      "loading /users/esmith/RFI_MIT/PFBcoeffs/c0800x4096_x14_7_24t_095binw_get_pfb_coeffs_h.npy for FIR coefficients\n",
      "block duration: 5.172973096370697\n",
      "------------------------------------------\n",
      "Block: 74/128\n",
      "Number of times: 127\n",
      "Number of channels: 4096\n"
     ]
    },
    {
     "name": "stderr",
     "output_type": "stream",
     "text": [
      "100%|████████████████████████████████████████████████████████████████████████| 512/512 [03:29<00:00,  2.44it/s]\n"
     ]
    },
    {
     "name": "stdout",
     "output_type": "stream",
     "text": [
      "Pol 0: 2.4% flagged\n",
      "Pol 1: 1.84% flagged\n",
      "Union: 3.89% flagged\n",
      "loading /users/esmith/RFI_MIT/PFBcoeffs/c0800x4096_x14_7_24t_095binw_get_pfb_coeffs_h.npy for FIR coefficients\n",
      "block duration: 5.225034828980764\n",
      "------------------------------------------\n",
      "Block: 75/128\n",
      "Number of times: 127\n",
      "Number of channels: 4096\n"
     ]
    },
    {
     "name": "stderr",
     "output_type": "stream",
     "text": [
      "100%|████████████████████████████████████████████████████████████████████████| 512/512 [03:34<00:00,  2.38it/s]\n"
     ]
    },
    {
     "name": "stdout",
     "output_type": "stream",
     "text": [
      "Pol 0: 2.31% flagged\n",
      "Pol 1: 1.83% flagged\n",
      "Union: 3.79% flagged\n",
      "loading /users/esmith/RFI_MIT/PFBcoeffs/c0800x4096_x14_7_24t_095binw_get_pfb_coeffs_h.npy for FIR coefficients\n",
      "block duration: 5.315129192670186\n",
      "------------------------------------------\n",
      "Block: 76/128\n",
      "Number of times: 127\n",
      "Number of channels: 4096\n"
     ]
    },
    {
     "name": "stderr",
     "output_type": "stream",
     "text": [
      "100%|████████████████████████████████████████████████████████████████████████| 512/512 [03:27<00:00,  2.47it/s]\n"
     ]
    },
    {
     "name": "stdout",
     "output_type": "stream",
     "text": [
      "Pol 0: 2.44% flagged\n",
      "Pol 1: 1.85% flagged\n",
      "Union: 3.94% flagged\n",
      "loading /users/esmith/RFI_MIT/PFBcoeffs/c0800x4096_x14_7_24t_095binw_get_pfb_coeffs_h.npy for FIR coefficients\n",
      "block duration: 5.215914690494538\n",
      "------------------------------------------\n",
      "Block: 77/128\n",
      "Number of times: 127\n",
      "Number of channels: 4096\n"
     ]
    },
    {
     "name": "stderr",
     "output_type": "stream",
     "text": [
      "100%|████████████████████████████████████████████████████████████████████████| 512/512 [03:27<00:00,  2.47it/s]\n"
     ]
    },
    {
     "name": "stdout",
     "output_type": "stream",
     "text": [
      "Pol 0: 2.41% flagged\n",
      "Pol 1: 1.83% flagged\n",
      "Union: 3.89% flagged\n",
      "loading /users/esmith/RFI_MIT/PFBcoeffs/c0800x4096_x14_7_24t_095binw_get_pfb_coeffs_h.npy for FIR coefficients\n",
      "block duration: 5.275240635871887\n",
      "------------------------------------------\n",
      "Block: 78/128\n",
      "Number of times: 127\n",
      "Number of channels: 4096\n"
     ]
    },
    {
     "name": "stderr",
     "output_type": "stream",
     "text": [
      "100%|████████████████████████████████████████████████████████████████████████| 512/512 [03:33<00:00,  2.40it/s]\n"
     ]
    },
    {
     "name": "stdout",
     "output_type": "stream",
     "text": [
      "Pol 0: 2.35% flagged\n",
      "Pol 1: 1.79% flagged\n",
      "Union: 3.79% flagged\n",
      "loading /users/esmith/RFI_MIT/PFBcoeffs/c0800x4096_x14_7_24t_095binw_get_pfb_coeffs_h.npy for FIR coefficients\n",
      "block duration: 5.33183517853419\n",
      "------------------------------------------\n",
      "Block: 79/128\n",
      "Number of times: 127\n",
      "Number of channels: 4096\n"
     ]
    },
    {
     "name": "stderr",
     "output_type": "stream",
     "text": [
      "100%|████████████████████████████████████████████████████████████████████████| 512/512 [03:32<00:00,  2.41it/s]\n"
     ]
    },
    {
     "name": "stdout",
     "output_type": "stream",
     "text": [
      "Pol 0: 2.4% flagged\n",
      "Pol 1: 1.81% flagged\n",
      "Union: 3.86% flagged\n",
      "loading /users/esmith/RFI_MIT/PFBcoeffs/c0800x4096_x14_7_24t_095binw_get_pfb_coeffs_h.npy for FIR coefficients\n",
      "block duration: 5.355133795738221\n",
      "------------------------------------------\n",
      "Block: 80/128\n",
      "Number of times: 127\n",
      "Number of channels: 4096\n"
     ]
    },
    {
     "name": "stderr",
     "output_type": "stream",
     "text": [
      "100%|████████████████████████████████████████████████████████████████████████| 512/512 [03:28<00:00,  2.45it/s]\n"
     ]
    },
    {
     "name": "stdout",
     "output_type": "stream",
     "text": [
      "Pol 0: 2.38% flagged\n",
      "Pol 1: 1.82% flagged\n",
      "Union: 3.83% flagged\n",
      "loading /users/esmith/RFI_MIT/PFBcoeffs/c0800x4096_x14_7_24t_095binw_get_pfb_coeffs_h.npy for FIR coefficients\n",
      "block duration: 5.292280995845795\n",
      "------------------------------------------\n",
      "Block: 81/128\n",
      "Number of times: 127\n",
      "Number of channels: 4096\n"
     ]
    },
    {
     "name": "stderr",
     "output_type": "stream",
     "text": [
      "100%|████████████████████████████████████████████████████████████████████████| 512/512 [03:25<00:00,  2.49it/s]\n"
     ]
    },
    {
     "name": "stdout",
     "output_type": "stream",
     "text": [
      "Pol 0: 2.36% flagged\n",
      "Pol 1: 1.8% flagged\n",
      "Union: 3.8% flagged\n",
      "loading /users/esmith/RFI_MIT/PFBcoeffs/c0800x4096_x14_7_24t_095binw_get_pfb_coeffs_h.npy for FIR coefficients\n",
      "block duration: 5.308112096786499\n",
      "------------------------------------------\n",
      "Block: 82/128\n",
      "Number of times: 127\n",
      "Number of channels: 4096\n"
     ]
    },
    {
     "name": "stderr",
     "output_type": "stream",
     "text": [
      "100%|████████████████████████████████████████████████████████████████████████| 512/512 [03:23<00:00,  2.51it/s]\n"
     ]
    },
    {
     "name": "stdout",
     "output_type": "stream",
     "text": [
      "Pol 0: 2.45% flagged\n",
      "Pol 1: 1.82% flagged\n",
      "Union: 3.89% flagged\n",
      "loading /users/esmith/RFI_MIT/PFBcoeffs/c0800x4096_x14_7_24t_095binw_get_pfb_coeffs_h.npy for FIR coefficients\n",
      "block duration: 5.330241080125173\n",
      "------------------------------------------\n",
      "Block: 83/128\n",
      "Number of times: 127\n",
      "Number of channels: 4096\n"
     ]
    },
    {
     "name": "stderr",
     "output_type": "stream",
     "text": [
      "100%|████████████████████████████████████████████████████████████████████████| 512/512 [03:25<00:00,  2.49it/s]\n"
     ]
    },
    {
     "name": "stdout",
     "output_type": "stream",
     "text": [
      "Pol 0: 2.43% flagged\n",
      "Pol 1: 1.8% flagged\n",
      "Union: 3.87% flagged\n",
      "loading /users/esmith/RFI_MIT/PFBcoeffs/c0800x4096_x14_7_24t_095binw_get_pfb_coeffs_h.npy for FIR coefficients\n",
      "block duration: 5.227284479141235\n",
      "------------------------------------------\n",
      "Block: 84/128\n",
      "Number of times: 127\n",
      "Number of channels: 4096\n"
     ]
    },
    {
     "name": "stderr",
     "output_type": "stream",
     "text": [
      "100%|████████████████████████████████████████████████████████████████████████| 512/512 [03:29<00:00,  2.44it/s]\n"
     ]
    },
    {
     "name": "stdout",
     "output_type": "stream",
     "text": [
      "Pol 0: 2.38% flagged\n",
      "Pol 1: 1.83% flagged\n",
      "Union: 3.85% flagged\n",
      "loading /users/esmith/RFI_MIT/PFBcoeffs/c0800x4096_x14_7_24t_095binw_get_pfb_coeffs_h.npy for FIR coefficients\n",
      "block duration: 5.444678262869517\n",
      "------------------------------------------\n",
      "Block: 85/128\n",
      "Number of times: 127\n",
      "Number of channels: 4096\n"
     ]
    },
    {
     "name": "stderr",
     "output_type": "stream",
     "text": [
      "100%|████████████████████████████████████████████████████████████████████████| 512/512 [03:28<00:00,  2.45it/s]\n"
     ]
    },
    {
     "name": "stdout",
     "output_type": "stream",
     "text": [
      "Pol 0: 2.45% flagged\n",
      "Pol 1: 1.83% flagged\n",
      "Union: 3.91% flagged\n",
      "loading /users/esmith/RFI_MIT/PFBcoeffs/c0800x4096_x14_7_24t_095binw_get_pfb_coeffs_h.npy for FIR coefficients\n",
      "block duration: 5.480226016044616\n",
      "------------------------------------------\n",
      "Block: 86/128\n",
      "Number of times: 127\n",
      "Number of channels: 4096\n"
     ]
    },
    {
     "name": "stderr",
     "output_type": "stream",
     "text": [
      "100%|████████████████████████████████████████████████████████████████████████| 512/512 [03:29<00:00,  2.45it/s]\n"
     ]
    },
    {
     "name": "stdout",
     "output_type": "stream",
     "text": [
      "Pol 0: 2.45% flagged\n",
      "Pol 1: 1.82% flagged\n",
      "Union: 3.91% flagged\n",
      "loading /users/esmith/RFI_MIT/PFBcoeffs/c0800x4096_x14_7_24t_095binw_get_pfb_coeffs_h.npy for FIR coefficients\n",
      "block duration: 5.401488590240478\n",
      "------------------------------------------\n",
      "Block: 87/128\n",
      "Number of times: 127\n",
      "Number of channels: 4096\n"
     ]
    },
    {
     "name": "stderr",
     "output_type": "stream",
     "text": [
      "100%|████████████████████████████████████████████████████████████████████████| 512/512 [03:23<00:00,  2.51it/s]\n"
     ]
    },
    {
     "name": "stdout",
     "output_type": "stream",
     "text": [
      "Pol 0: 2.41% flagged\n",
      "Pol 1: 1.8% flagged\n",
      "Union: 3.85% flagged\n",
      "loading /users/esmith/RFI_MIT/PFBcoeffs/c0800x4096_x14_7_24t_095binw_get_pfb_coeffs_h.npy for FIR coefficients\n",
      "block duration: 5.274250435829162\n",
      "------------------------------------------\n",
      "Block: 88/128\n",
      "Number of times: 127\n",
      "Number of channels: 4096\n"
     ]
    },
    {
     "name": "stderr",
     "output_type": "stream",
     "text": [
      "100%|████████████████████████████████████████████████████████████████████████| 512/512 [03:28<00:00,  2.46it/s]\n"
     ]
    },
    {
     "name": "stdout",
     "output_type": "stream",
     "text": [
      "Pol 0: 2.38% flagged\n",
      "Pol 1: 1.82% flagged\n",
      "Union: 3.84% flagged\n",
      "loading /users/esmith/RFI_MIT/PFBcoeffs/c0800x4096_x14_7_24t_095binw_get_pfb_coeffs_h.npy for FIR coefficients\n",
      "block duration: 5.396855453650157\n",
      "------------------------------------------\n",
      "Block: 89/128\n",
      "Number of times: 127\n",
      "Number of channels: 4096\n"
     ]
    },
    {
     "name": "stderr",
     "output_type": "stream",
     "text": [
      "100%|████████████████████████████████████████████████████████████████████████| 512/512 [03:27<00:00,  2.47it/s]\n"
     ]
    },
    {
     "name": "stdout",
     "output_type": "stream",
     "text": [
      "Pol 0: 2.39% flagged\n",
      "Pol 1: 1.8% flagged\n",
      "Union: 3.83% flagged\n",
      "loading /users/esmith/RFI_MIT/PFBcoeffs/c0800x4096_x14_7_24t_095binw_get_pfb_coeffs_h.npy for FIR coefficients\n",
      "block duration: 5.387993164857229\n",
      "------------------------------------------\n",
      "Block: 90/128\n",
      "Number of times: 127\n",
      "Number of channels: 4096\n"
     ]
    },
    {
     "name": "stderr",
     "output_type": "stream",
     "text": [
      "100%|████████████████████████████████████████████████████████████████████████| 512/512 [03:27<00:00,  2.47it/s]\n"
     ]
    },
    {
     "name": "stdout",
     "output_type": "stream",
     "text": [
      "Pol 0: 2.41% flagged\n",
      "Pol 1: 1.81% flagged\n",
      "Union: 3.86% flagged\n",
      "loading /users/esmith/RFI_MIT/PFBcoeffs/c0800x4096_x14_7_24t_095binw_get_pfb_coeffs_h.npy for FIR coefficients\n",
      "block duration: 5.400832569599151\n",
      "------------------------------------------\n",
      "Block: 91/128\n",
      "Number of times: 127\n",
      "Number of channels: 4096\n"
     ]
    },
    {
     "name": "stderr",
     "output_type": "stream",
     "text": [
      "100%|████████████████████████████████████████████████████████████████████████| 512/512 [03:29<00:00,  2.44it/s]\n"
     ]
    },
    {
     "name": "stdout",
     "output_type": "stream",
     "text": [
      "Pol 0: 2.41% flagged\n",
      "Pol 1: 1.8% flagged\n",
      "Union: 3.84% flagged\n",
      "loading /users/esmith/RFI_MIT/PFBcoeffs/c0800x4096_x14_7_24t_095binw_get_pfb_coeffs_h.npy for FIR coefficients\n",
      "block duration: 5.490815889835358\n",
      "------------------------------------------\n",
      "Block: 92/128\n",
      "Number of times: 127\n",
      "Number of channels: 4096\n"
     ]
    },
    {
     "name": "stderr",
     "output_type": "stream",
     "text": [
      "100%|████████████████████████████████████████████████████████████████████████| 512/512 [03:30<00:00,  2.43it/s]\n"
     ]
    },
    {
     "name": "stdout",
     "output_type": "stream",
     "text": [
      "Pol 0: 2.41% flagged\n",
      "Pol 1: 1.81% flagged\n",
      "Union: 3.85% flagged\n",
      "loading /users/esmith/RFI_MIT/PFBcoeffs/c0800x4096_x14_7_24t_095binw_get_pfb_coeffs_h.npy for FIR coefficients\n",
      "block duration: 5.465297782421112\n",
      "------------------------------------------\n",
      "Block: 93/128\n",
      "Number of times: 127\n",
      "Number of channels: 4096\n"
     ]
    },
    {
     "name": "stderr",
     "output_type": "stream",
     "text": [
      "100%|████████████████████████████████████████████████████████████████████████| 512/512 [03:28<00:00,  2.46it/s]\n"
     ]
    },
    {
     "name": "stdout",
     "output_type": "stream",
     "text": [
      "Pol 0: 2.42% flagged\n",
      "Pol 1: 1.81% flagged\n",
      "Union: 3.86% flagged\n",
      "loading /users/esmith/RFI_MIT/PFBcoeffs/c0800x4096_x14_7_24t_095binw_get_pfb_coeffs_h.npy for FIR coefficients\n",
      "block duration: 5.443844075997671\n",
      "------------------------------------------\n",
      "Block: 94/128\n",
      "Number of times: 127\n",
      "Number of channels: 4096\n"
     ]
    },
    {
     "name": "stderr",
     "output_type": "stream",
     "text": [
      "100%|████████████████████████████████████████████████████████████████████████| 512/512 [03:28<00:00,  2.45it/s]\n"
     ]
    },
    {
     "name": "stdout",
     "output_type": "stream",
     "text": [
      "Pol 0: 2.43% flagged\n",
      "Pol 1: 1.79% flagged\n",
      "Union: 3.85% flagged\n",
      "loading /users/esmith/RFI_MIT/PFBcoeffs/c0800x4096_x14_7_24t_095binw_get_pfb_coeffs_h.npy for FIR coefficients\n",
      "block duration: 5.475698947906494\n",
      "------------------------------------------\n",
      "Block: 95/128\n",
      "Number of times: 127\n",
      "Number of channels: 4096\n"
     ]
    },
    {
     "name": "stderr",
     "output_type": "stream",
     "text": [
      "100%|████████████████████████████████████████████████████████████████████████| 512/512 [03:27<00:00,  2.46it/s]\n"
     ]
    },
    {
     "name": "stdout",
     "output_type": "stream",
     "text": [
      "Pol 0: 2.45% flagged\n",
      "Pol 1: 1.81% flagged\n",
      "Union: 3.88% flagged\n",
      "loading /users/esmith/RFI_MIT/PFBcoeffs/c0800x4096_x14_7_24t_095binw_get_pfb_coeffs_h.npy for FIR coefficients\n",
      "block duration: 5.471057728926341\n",
      "------------------------------------------\n",
      "Block: 96/128\n",
      "Number of times: 127\n",
      "Number of channels: 4096\n"
     ]
    },
    {
     "name": "stderr",
     "output_type": "stream",
     "text": [
      "100%|████████████████████████████████████████████████████████████████████████| 512/512 [03:36<00:00,  2.37it/s]\n"
     ]
    },
    {
     "name": "stdout",
     "output_type": "stream",
     "text": [
      "Pol 0: 2.46% flagged\n",
      "Pol 1: 1.81% flagged\n",
      "Union: 3.89% flagged\n",
      "loading /users/esmith/RFI_MIT/PFBcoeffs/c0800x4096_x14_7_24t_095binw_get_pfb_coeffs_h.npy for FIR coefficients\n",
      "block duration: 5.658185442288716\n",
      "------------------------------------------\n",
      "Block: 97/128\n",
      "Number of times: 127\n",
      "Number of channels: 4096\n"
     ]
    },
    {
     "name": "stderr",
     "output_type": "stream",
     "text": [
      "100%|████████████████████████████████████████████████████████████████████████| 512/512 [03:34<00:00,  2.39it/s]\n"
     ]
    },
    {
     "name": "stdout",
     "output_type": "stream",
     "text": [
      "Pol 0: 2.44% flagged\n",
      "Pol 1: 1.79% flagged\n",
      "Union: 3.85% flagged\n",
      "loading /users/esmith/RFI_MIT/PFBcoeffs/c0800x4096_x14_7_24t_095binw_get_pfb_coeffs_h.npy for FIR coefficients\n",
      "block duration: 5.648818429311117\n",
      "------------------------------------------\n",
      "Block: 98/128\n",
      "Number of times: 127\n",
      "Number of channels: 4096\n"
     ]
    },
    {
     "name": "stderr",
     "output_type": "stream",
     "text": [
      "100%|████████████████████████████████████████████████████████████████████████| 512/512 [03:24<00:00,  2.50it/s]\n"
     ]
    },
    {
     "name": "stdout",
     "output_type": "stream",
     "text": [
      "Pol 0: 2.46% flagged\n",
      "Pol 1: 1.79% flagged\n",
      "Union: 3.88% flagged\n",
      "loading /users/esmith/RFI_MIT/PFBcoeffs/c0800x4096_x14_7_24t_095binw_get_pfb_coeffs_h.npy for FIR coefficients\n",
      "block duration: 5.455679583549499\n",
      "------------------------------------------\n",
      "Block: 99/128\n",
      "Number of times: 127\n",
      "Number of channels: 4096\n"
     ]
    },
    {
     "name": "stderr",
     "output_type": "stream",
     "text": [
      "100%|████████████████████████████████████████████████████████████████████████| 512/512 [03:27<00:00,  2.47it/s]\n"
     ]
    },
    {
     "name": "stdout",
     "output_type": "stream",
     "text": [
      "Pol 0: 2.42% flagged\n",
      "Pol 1: 1.82% flagged\n",
      "Union: 3.87% flagged\n",
      "loading /users/esmith/RFI_MIT/PFBcoeffs/c0800x4096_x14_7_24t_095binw_get_pfb_coeffs_h.npy for FIR coefficients\n",
      "block duration: 5.505610636870066\n",
      "------------------------------------------\n",
      "Block: 100/128\n",
      "Number of times: 127\n",
      "Number of channels: 4096\n"
     ]
    },
    {
     "name": "stderr",
     "output_type": "stream",
     "text": [
      "100%|████████████████████████████████████████████████████████████████████████| 512/512 [03:30<00:00,  2.43it/s]\n"
     ]
    },
    {
     "name": "stdout",
     "output_type": "stream",
     "text": [
      "Pol 0: 2.47% flagged\n",
      "Pol 1: 1.78% flagged\n",
      "Union: 3.86% flagged\n",
      "loading /users/esmith/RFI_MIT/PFBcoeffs/c0800x4096_x14_7_24t_095binw_get_pfb_coeffs_h.npy for FIR coefficients\n",
      "block duration: 5.6064672867457075\n",
      "------------------------------------------\n",
      "Block: 101/128\n",
      "Number of times: 127\n",
      "Number of channels: 4096\n"
     ]
    },
    {
     "name": "stderr",
     "output_type": "stream",
     "text": [
      "100%|████████████████████████████████████████████████████████████████████████| 512/512 [03:30<00:00,  2.43it/s]\n"
     ]
    },
    {
     "name": "stdout",
     "output_type": "stream",
     "text": [
      "Pol 0: 2.44% flagged\n",
      "Pol 1: 1.83% flagged\n",
      "Union: 3.88% flagged\n",
      "loading /users/esmith/RFI_MIT/PFBcoeffs/c0800x4096_x14_7_24t_095binw_get_pfb_coeffs_h.npy for FIR coefficients\n",
      "block duration: 5.619283465544383\n",
      "------------------------------------------\n",
      "Block: 102/128\n",
      "Number of times: 127\n",
      "Number of channels: 4096\n"
     ]
    },
    {
     "name": "stderr",
     "output_type": "stream",
     "text": [
      "100%|████████████████████████████████████████████████████████████████████████| 512/512 [03:29<00:00,  2.45it/s]\n"
     ]
    },
    {
     "name": "stdout",
     "output_type": "stream",
     "text": [
      "Pol 0: 2.45% flagged\n",
      "Pol 1: 1.8% flagged\n",
      "Union: 3.88% flagged\n",
      "loading /users/esmith/RFI_MIT/PFBcoeffs/c0800x4096_x14_7_24t_095binw_get_pfb_coeffs_h.npy for FIR coefficients\n",
      "block duration: 5.598652962843577\n",
      "------------------------------------------\n",
      "Block: 103/128\n",
      "Number of times: 127\n",
      "Number of channels: 4096\n"
     ]
    },
    {
     "name": "stderr",
     "output_type": "stream",
     "text": [
      "100%|████████████████████████████████████████████████████████████████████████| 512/512 [03:29<00:00,  2.45it/s]\n"
     ]
    },
    {
     "name": "stdout",
     "output_type": "stream",
     "text": [
      "Pol 0: 2.41% flagged\n",
      "Pol 1: 1.81% flagged\n",
      "Union: 3.86% flagged\n",
      "loading /users/esmith/RFI_MIT/PFBcoeffs/c0800x4096_x14_7_24t_095binw_get_pfb_coeffs_h.npy for FIR coefficients\n",
      "block duration: 5.561445395151774\n",
      "------------------------------------------\n",
      "Block: 104/128\n",
      "Number of times: 127\n",
      "Number of channels: 4096\n"
     ]
    },
    {
     "name": "stderr",
     "output_type": "stream",
     "text": [
      "100%|████████████████████████████████████████████████████████████████████████| 512/512 [03:33<00:00,  2.39it/s]\n"
     ]
    },
    {
     "name": "stdout",
     "output_type": "stream",
     "text": [
      "Pol 0: 2.43% flagged\n",
      "Pol 1: 1.85% flagged\n",
      "Union: 3.9% flagged\n",
      "loading /users/esmith/RFI_MIT/PFBcoeffs/c0800x4096_x14_7_24t_095binw_get_pfb_coeffs_h.npy for FIR coefficients\n",
      "block duration: 5.690959477424622\n",
      "------------------------------------------\n",
      "Block: 105/128\n",
      "Number of times: 127\n",
      "Number of channels: 4096\n"
     ]
    },
    {
     "name": "stderr",
     "output_type": "stream",
     "text": [
      "100%|████████████████████████████████████████████████████████████████████████| 512/512 [03:22<00:00,  2.53it/s]\n"
     ]
    },
    {
     "name": "stdout",
     "output_type": "stream",
     "text": [
      "Pol 0: 2.37% flagged\n",
      "Pol 1: 1.82% flagged\n",
      "Union: 3.83% flagged\n",
      "loading /users/esmith/RFI_MIT/PFBcoeffs/c0800x4096_x14_7_24t_095binw_get_pfb_coeffs_h.npy for FIR coefficients\n",
      "block duration: 5.515153404076894\n",
      "------------------------------------------\n",
      "Block: 106/128\n",
      "Number of times: 127\n",
      "Number of channels: 4096\n"
     ]
    },
    {
     "name": "stderr",
     "output_type": "stream",
     "text": [
      "100%|████████████████████████████████████████████████████████████████████████| 512/512 [03:26<00:00,  2.48it/s]\n"
     ]
    },
    {
     "name": "stdout",
     "output_type": "stream",
     "text": [
      "Pol 0: 2.43% flagged\n",
      "Pol 1: 1.83% flagged\n",
      "Union: 3.88% flagged\n",
      "loading /users/esmith/RFI_MIT/PFBcoeffs/c0800x4096_x14_7_24t_095binw_get_pfb_coeffs_h.npy for FIR coefficients\n",
      "block duration: 5.654925402005514\n",
      "------------------------------------------\n",
      "Block: 107/128\n",
      "Number of times: 127\n",
      "Number of channels: 4096\n"
     ]
    },
    {
     "name": "stderr",
     "output_type": "stream",
     "text": [
      "100%|████████████████████████████████████████████████████████████████████████| 512/512 [03:26<00:00,  2.48it/s]\n"
     ]
    },
    {
     "name": "stdout",
     "output_type": "stream",
     "text": [
      "Pol 0: 2.42% flagged\n",
      "Pol 1: 1.82% flagged\n",
      "Union: 3.87% flagged\n",
      "loading /users/esmith/RFI_MIT/PFBcoeffs/c0800x4096_x14_7_24t_095binw_get_pfb_coeffs_h.npy for FIR coefficients\n",
      "block duration: 5.696499093373617\n",
      "------------------------------------------\n",
      "Block: 108/128\n",
      "Number of times: 127\n",
      "Number of channels: 4096\n"
     ]
    },
    {
     "name": "stderr",
     "output_type": "stream",
     "text": [
      "100%|████████████████████████████████████████████████████████████████████████| 512/512 [03:30<00:00,  2.43it/s]\n"
     ]
    },
    {
     "name": "stdout",
     "output_type": "stream",
     "text": [
      "Pol 0: 2.36% flagged\n",
      "Pol 1: 1.83% flagged\n",
      "Union: 3.81% flagged\n",
      "loading /users/esmith/RFI_MIT/PFBcoeffs/c0800x4096_x14_7_24t_095binw_get_pfb_coeffs_h.npy for FIR coefficients\n",
      "block duration: 5.796718402703603\n",
      "------------------------------------------\n",
      "Block: 109/128\n",
      "Number of times: 127\n",
      "Number of channels: 4096\n"
     ]
    },
    {
     "name": "stderr",
     "output_type": "stream",
     "text": [
      "100%|████████████████████████████████████████████████████████████████████████| 512/512 [03:25<00:00,  2.49it/s]\n"
     ]
    },
    {
     "name": "stdout",
     "output_type": "stream",
     "text": [
      "Pol 0: 2.44% flagged\n",
      "Pol 1: 1.79% flagged\n",
      "Union: 3.84% flagged\n",
      "loading /users/esmith/RFI_MIT/PFBcoeffs/c0800x4096_x14_7_24t_095binw_get_pfb_coeffs_h.npy for FIR coefficients\n",
      "block duration: 5.653266827265422\n",
      "------------------------------------------\n",
      "Block: 110/128\n",
      "Number of times: 127\n",
      "Number of channels: 4096\n"
     ]
    },
    {
     "name": "stderr",
     "output_type": "stream",
     "text": [
      "100%|████████████████████████████████████████████████████████████████████████| 512/512 [03:29<00:00,  2.45it/s]\n"
     ]
    },
    {
     "name": "stdout",
     "output_type": "stream",
     "text": [
      "Pol 0: 2.46% flagged\n",
      "Pol 1: 1.86% flagged\n",
      "Union: 3.93% flagged\n",
      "loading /users/esmith/RFI_MIT/PFBcoeffs/c0800x4096_x14_7_24t_095binw_get_pfb_coeffs_h.npy for FIR coefficients\n",
      "block duration: 5.693248983224233\n",
      "------------------------------------------\n",
      "Block: 111/128\n",
      "Number of times: 127\n",
      "Number of channels: 4096\n"
     ]
    },
    {
     "name": "stderr",
     "output_type": "stream",
     "text": [
      "100%|████████████████████████████████████████████████████████████████████████| 512/512 [03:24<00:00,  2.50it/s]\n"
     ]
    },
    {
     "name": "stdout",
     "output_type": "stream",
     "text": [
      "Pol 0: 2.41% flagged\n",
      "Pol 1: 1.79% flagged\n",
      "Union: 3.81% flagged\n",
      "loading /users/esmith/RFI_MIT/PFBcoeffs/c0800x4096_x14_7_24t_095binw_get_pfb_coeffs_h.npy for FIR coefficients\n",
      "block duration: 5.650162907441457\n",
      "------------------------------------------\n",
      "Block: 112/128\n",
      "Number of times: 127\n",
      "Number of channels: 4096\n"
     ]
    },
    {
     "name": "stderr",
     "output_type": "stream",
     "text": [
      "100%|████████████████████████████████████████████████████████████████████████| 512/512 [03:28<00:00,  2.45it/s]\n"
     ]
    },
    {
     "name": "stdout",
     "output_type": "stream",
     "text": [
      "Pol 0: 2.43% flagged\n",
      "Pol 1: 1.84% flagged\n",
      "Union: 3.88% flagged\n",
      "loading /users/esmith/RFI_MIT/PFBcoeffs/c0800x4096_x14_7_24t_095binw_get_pfb_coeffs_h.npy for FIR coefficients\n",
      "block duration: 5.809374940395355\n",
      "------------------------------------------\n",
      "Block: 113/128\n",
      "Number of times: 127\n",
      "Number of channels: 4096\n"
     ]
    },
    {
     "name": "stderr",
     "output_type": "stream",
     "text": [
      "100%|████████████████████████████████████████████████████████████████████████| 512/512 [03:27<00:00,  2.47it/s]\n"
     ]
    },
    {
     "name": "stdout",
     "output_type": "stream",
     "text": [
      "Pol 0: 2.46% flagged\n",
      "Pol 1: 1.84% flagged\n",
      "Union: 3.91% flagged\n",
      "loading /users/esmith/RFI_MIT/PFBcoeffs/c0800x4096_x14_7_24t_095binw_get_pfb_coeffs_h.npy for FIR coefficients\n",
      "block duration: 5.682388202349345\n",
      "------------------------------------------\n",
      "Block: 114/128\n",
      "Number of times: 127\n",
      "Number of channels: 4096\n"
     ]
    },
    {
     "name": "stderr",
     "output_type": "stream",
     "text": [
      "100%|████████████████████████████████████████████████████████████████████████| 512/512 [03:29<00:00,  2.45it/s]\n"
     ]
    },
    {
     "name": "stdout",
     "output_type": "stream",
     "text": [
      "Pol 0: 2.41% flagged\n",
      "Pol 1: 1.81% flagged\n",
      "Union: 3.84% flagged\n",
      "loading /users/esmith/RFI_MIT/PFBcoeffs/c0800x4096_x14_7_24t_095binw_get_pfb_coeffs_h.npy for FIR coefficients\n",
      "block duration: 5.800882458686829\n",
      "------------------------------------------\n",
      "Block: 115/128\n",
      "Number of times: 127\n",
      "Number of channels: 4096\n"
     ]
    },
    {
     "name": "stderr",
     "output_type": "stream",
     "text": [
      "100%|████████████████████████████████████████████████████████████████████████| 512/512 [03:41<00:00,  2.31it/s]\n"
     ]
    },
    {
     "name": "stdout",
     "output_type": "stream",
     "text": [
      "Pol 0: 2.46% flagged\n",
      "Pol 1: 1.83% flagged\n",
      "Union: 3.9% flagged\n",
      "loading /users/esmith/RFI_MIT/PFBcoeffs/c0800x4096_x14_7_24t_095binw_get_pfb_coeffs_h.npy for FIR coefficients\n",
      "block duration: 5.9076660911242165\n",
      "------------------------------------------\n",
      "Block: 116/128\n",
      "Number of times: 127\n",
      "Number of channels: 4096\n"
     ]
    },
    {
     "name": "stderr",
     "output_type": "stream",
     "text": [
      "100%|████████████████████████████████████████████████████████████████████████| 512/512 [03:31<00:00,  2.42it/s]\n"
     ]
    },
    {
     "name": "stdout",
     "output_type": "stream",
     "text": [
      "Pol 0: 2.41% flagged\n",
      "Pol 1: 1.82% flagged\n",
      "Union: 3.84% flagged\n",
      "loading /users/esmith/RFI_MIT/PFBcoeffs/c0800x4096_x14_7_24t_095binw_get_pfb_coeffs_h.npy for FIR coefficients\n",
      "block duration: 5.8521513859430945\n",
      "------------------------------------------\n",
      "Block: 117/128\n",
      "Number of times: 127\n",
      "Number of channels: 4096\n"
     ]
    },
    {
     "name": "stderr",
     "output_type": "stream",
     "text": [
      "100%|████████████████████████████████████████████████████████████████████████| 512/512 [03:28<00:00,  2.45it/s]\n"
     ]
    }
   ],
   "source": [
    "import numpy as np\n",
    "\n",
    "#import matplotlib.pyplot as plt\n",
    "#%matplotlib qt\n",
    "import importlib\n",
    "\n",
    "rfimit = importlib.import_module('rfi-mitigation')\n",
    "\n",
    "uhh = rfimit.rfi_aof('vegas_58966_25728_J1713+0747_0080.0000.raw', 'stats', cust='', output_bool = True, mb=1, rawdata=False, ave_factor = 512)\n",
    "\n",
    "\n",
    "uhh.run_all()"
   ]
  },
  {
   "cell_type": "code",
   "execution_count": null,
   "id": "88790301",
   "metadata": {},
   "outputs": [],
   "source": []
  }
 ],
 "metadata": {
  "kernelspec": {
   "display_name": "Python (kait)",
   "language": "python",
   "name": "kait"
  },
  "language_info": {
   "codemirror_mode": {
    "name": "ipython",
    "version": 3
   },
   "file_extension": ".py",
   "mimetype": "text/x-python",
   "name": "python",
   "nbconvert_exporter": "python",
   "pygments_lexer": "ipython3",
   "version": "3.9.19"
  }
 },
 "nbformat": 4,
 "nbformat_minor": 5
}
