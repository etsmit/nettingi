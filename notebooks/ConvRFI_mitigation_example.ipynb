{
 "cells": [
  {
   "cell_type": "code",
   "execution_count": 1,
   "id": "2d7503ae-0a9b-4552-8af2-1dcd1162f3cd",
   "metadata": {},
   "outputs": [
    {
     "name": "stderr",
     "output_type": "stream",
     "text": [
      "Cannot initialize filter bshuf: File not found\n",
      "Cannot initialize filter blosc: File not found\n",
      "Cannot initialize filter blosc2: File not found\n",
      "Cannot initialize filter bzip2: File not found\n",
      "Cannot initialize filter fcidecomp: File not found\n",
      "Cannot initialize filter lz4: File not found\n",
      "Cannot initialize filter sperr: File not found\n",
      "Cannot initialize filter sz: File not found\n",
      "Cannot initialize filter sz3: File not found\n",
      "Cannot initialize filter zfp: File not found\n",
      "Cannot initialize filter zstd: File not found\n"
     ]
    },
    {
     "data": {
      "text/plain": [
       "<contextlib.ExitStack at 0x7fc1ed3269d0>"
      ]
     },
     "execution_count": 1,
     "metadata": {},
     "output_type": "execute_result"
    }
   ],
   "source": [
    "import numpy as np\n",
    "import time\n",
    "from multiprocessing import Process, Queue, JoinableQueue\n",
    "\n",
    "\n",
    "\n",
    "import nettingi\n",
    "\n",
    "from nettingi import src\n",
    "\n",
    "from src import \n",
    "\n",
    "import matplotlib.pyplot as plt\n",
    "%matplotlib agg\n",
    "\n",
    "#list of input files\n",
    "infiles = [\n",
    "    'vegas_60299_75544_B0329+54_0001.0000.raw',\n",
    "    'vegas_60299_75729_B0329+54_0002.0000.raw',\n",
    "    'vegas_60299_75914_B0329+54_0003.0000.raw',\n",
    "    'vegas_60299_76099_B0329+54_0004.0000.raw',\n",
    "]\n",
    "\n",
    "#list of M parameters to pass to SK\n",
    "ms = [64,128,256,512]\n",
    "\n",
    "#spectral entropy requires a plt.hist without plotting\n",
    "plt.ioff()"
   ]
  },
  {
   "cell_type": "code",
   "execution_count": 2,
   "id": "2f8f625f-c566-4cd5-ba7c-5654dbc0dd40",
   "metadata": {},
   "outputs": [
    {
     "name": "stdout",
     "output_type": "stream",
     "text": [
      "vegas_60299_75544_B0329+54_0001.0000.raw vegas_60299_75544_B0329+54_0001\n",
      "/jetstor/scratch/rfimit/unmitigated/rawdata/vegas_60299_75544_B0329+54_0001/vegas_60299_75544_B0329+54_0001.0000.raw\n",
      "/jetstor/scratch/rfimit/mitigated/rawdata/vegas_60299_75544_B0329+54_0001_Conv_a05_a13_a25-_a35_stats_/vegas_60299_75544_B0329+54_0001.0000_Conv_a05_a13_a25-_a35_stats_.raw\n",
      "/jetstor/scratch/rfimit/mitigated/reduced/vegas_60299_75544_B0329+54_0001_Conv_a05_a13_a25-_a35_stats_/vegas_60299_75544_B0329+54_0001.0000_Conv_a05_a13_a25-_a35_stats_/\n",
      "/jetstor/scratch/rfimit/unmitigated/reduced/vegas_60299_75544_B0329+54_0001_Conv_a05_a13_a25-_a35_stats_/vegas_60299_75544_B0329+54_0001.0000_Conv_a05_a13_a25-_a35_stats_/\n",
      "input: /jetstor/scratch/rfimit/unmitigated/rawdata/vegas_60299_75544_B0329+54_0001/vegas_60299_75544_B0329+54_0001.0000.raw\n",
      "output: /jetstor/scratch/rfimit/mitigated/rawdata/vegas_60299_75544_B0329+54_0001_Conv_a05_a13_a25-_a35_stats_/vegas_60299_75544_B0329+54_0001.0000_Conv_a05_a13_a25-_a35_stats_.raw\n",
      "spect: /jetstor/scratch/rfimit/mitigated/reduced/vegas_60299_75544_B0329+54_0001_Conv_a05_a13_a25-_a35_stats_/vegas_60299_75544_B0329+54_0001.0000_Conv_a05_a13_a25-_a35_stats_/vegas_60299_75544_B0329+54_0001.0000_spect_Conv_stats_a05_a13_a25-_a35_stats__.npy\n"
     ]
    },
    {
     "name": "stderr",
     "output_type": "stream",
     "text": [
      "mkdir: cannot create directory ‘/jetstor/scratch/rfimit/unmitigated/reduced/vegas_60299_75544_B0329+54_0001_Conv_a05_a13_a25-_a35_stats_’: Permission denied\n",
      "mkdir: cannot create directory ‘/jetstor/scratch/rfimit/unmitigated/reduced/vegas_60299_75544_B0329+54_0001_Conv_a05_a13_a25-_a35_stats_/vegas_60299_75544_B0329+54_0001.0000_Conv_a05_a13_a25-_a35_stats_/’: No such file or directory\n"
     ]
    },
    {
     "ename": "ModuleNotFoundError",
     "evalue": "No module named 'ConvRFI'",
     "output_type": "error",
     "traceback": [
      "\u001b[0;31m---------------------------------------------------------------------------\u001b[0m",
      "\u001b[0;31mModuleNotFoundError\u001b[0m                       Traceback (most recent call last)",
      "Cell \u001b[0;32mIn[2], line 1\u001b[0m\n\u001b[0;32m----> 1\u001b[0m RFIobj \u001b[38;5;241m=\u001b[39m \u001b[43mnettingi\u001b[49m\u001b[38;5;241;43m.\u001b[39;49m\u001b[43mrfi_ConvRFI\u001b[49m\u001b[43m(\u001b[49m\u001b[38;5;124;43m'\u001b[39;49m\u001b[38;5;124;43mvegas_60299_75544_B0329+54_0001.0000.raw\u001b[39;49m\u001b[38;5;124;43m'\u001b[39;49m\u001b[43m,\u001b[49m\u001b[38;5;124;43m'\u001b[39;49m\u001b[38;5;124;43mstats\u001b[39;49m\u001b[38;5;124;43m'\u001b[39;49m\u001b[43m,\u001b[49m\u001b[43m \u001b[49m\u001b[38;5;241;43m5\u001b[39;49m\u001b[43m,\u001b[49m\u001b[43m \u001b[49m\u001b[38;5;241;43m3\u001b[39;49m\u001b[43m,\u001b[49m\u001b[43m \u001b[49m\u001b[38;5;241;43m5\u001b[39;49m\u001b[43m,\u001b[49m\u001b[43m \u001b[49m\u001b[38;5;241;43m5\u001b[39;49m\u001b[43m,\u001b[49m\u001b[43m \u001b[49m\n\u001b[1;32m      2\u001b[0m \u001b[43m                         \u001b[49m\u001b[43moutput_bool\u001b[49m\u001b[43m \u001b[49m\u001b[38;5;241;43m=\u001b[39;49m\u001b[43m \u001b[49m\u001b[38;5;28;43;01mTrue\u001b[39;49;00m\u001b[43m,\u001b[49m\u001b[43m \u001b[49m\u001b[43mmb\u001b[49m\u001b[38;5;241;43m=\u001b[39;49m\u001b[38;5;241;43m1\u001b[39;49m\u001b[43m,\u001b[49m\u001b[43m \u001b[49m\u001b[43mrawdata\u001b[49m\u001b[38;5;241;43m=\u001b[39;49m\u001b[38;5;28;43;01mFalse\u001b[39;49;00m\u001b[43m,\u001b[49m\u001b[43m \u001b[49m\u001b[43mave_factor\u001b[49m\u001b[43m \u001b[49m\u001b[38;5;241;43m=\u001b[39;49m\u001b[43m \u001b[49m\u001b[38;5;241;43m512\u001b[39;49m\u001b[43m)\u001b[49m\n\u001b[1;32m      3\u001b[0m RFIobj\u001b[38;5;241m.\u001b[39mrun_all()\n",
      "File \u001b[0;32m~/nettingi/src/nettingi/ConvRFI.py:109\u001b[0m, in \u001b[0;36mrfi_ConvRFI.__init__\u001b[0;34m(self, infile, repl_method, a0, a1, a2, a3, cust, output_bool, mb, rawdata, ave_factor)\u001b[0m\n\u001b[1;32m    106\u001b[0m     \u001b[38;5;28mprint\u001b[39m(out)\n\u001b[1;32m    108\u001b[0m \u001b[38;5;66;03m#@jit(nopython=True, parallel=True)\u001b[39;00m\n\u001b[0;32m--> 109\u001b[0m     \u001b[38;5;28;01mfrom\u001b[39;00m\u001b[38;5;250m \u001b[39m\u001b[38;5;21;01mConvRFI\u001b[39;00m\u001b[38;5;250m  \u001b[39m\u001b[38;5;28;01mimport\u001b[39;00m  RFIconv,init_RFIconv\n\u001b[1;32m    110\u001b[0m     device \u001b[38;5;241m=\u001b[39m torch\u001b[38;5;241m.\u001b[39mdevice(\u001b[38;5;124m\"\u001b[39m\u001b[38;5;124mcuda:0\u001b[39m\u001b[38;5;124m\"\u001b[39m \u001b[38;5;28;01mif\u001b[39;00m torch\u001b[38;5;241m.\u001b[39mcuda\u001b[38;5;241m.\u001b[39mis_available() \u001b[38;5;28;01melse\u001b[39;00m \u001b[38;5;124m\"\u001b[39m\u001b[38;5;124mcpu\u001b[39m\u001b[38;5;124m\"\u001b[39m)\n\u001b[1;32m    111\u001b[0m     \u001b[38;5;28;01mif\u001b[39;00m device\u001b[38;5;241m!=\u001b[39m\u001b[38;5;124m'\u001b[39m\u001b[38;5;124mcpu\u001b[39m\u001b[38;5;124m'\u001b[39m:\n",
      "\u001b[0;31mModuleNotFoundError\u001b[0m: No module named 'ConvRFI'"
     ]
    }
   ],
   "source": [
    "RFIobj = nettingi.rfi_ConvRFI('vegas_60299_75544_B0329+54_0001.0000.raw','stats', 5, 3, 5, 5, \n",
    "                         output_bool = True, mb=1, rawdata=False, ave_factor = 512)\n",
    "RFIobj.run_all()"
   ]
  },
  {
   "cell_type": "code",
   "execution_count": null,
   "id": "59f3c600-4422-4ed6-b7c5-dc546f28acf9",
   "metadata": {},
   "outputs": [],
   "source": [
    "RFIobj =uhh = nettingi.rfi_ConvRFI('vegas_60299_76977_B0355+54_0009.0000.raw', 'stats', m, '1,1', 1,1,3.0,\n",
    "                                  output_bool = True, mb=1, rawdata=False, ave_factor = 512)\n",
    "RFIobj.run_all()"
   ]
  },
  {
   "cell_type": "code",
   "execution_count": null,
   "id": "ad3b39a3-6f51-4027-991f-a0b4dab1ca21",
   "metadata": {},
   "outputs": [],
   "source": []
  },
  {
   "cell_type": "code",
   "execution_count": null,
   "id": "f09ba52e-92d2-468f-8d19-c5874c2b586d",
   "metadata": {},
   "outputs": [],
   "source": []
  }
 ],
 "metadata": {
  "kernelspec": {
   "display_name": "Python 3 (ipykernel)",
   "language": "python",
   "name": "python3"
  },
  "language_info": {
   "codemirror_mode": {
    "name": "ipython",
    "version": 3
   },
   "file_extension": ".py",
   "mimetype": "text/x-python",
   "name": "python",
   "nbconvert_exporter": "python",
   "pygments_lexer": "ipython3",
   "version": "3.9.21"
  }
 },
 "nbformat": 4,
 "nbformat_minor": 5
}
