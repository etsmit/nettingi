{
 "cells": [
  {
   "cell_type": "code",
   "execution_count": 3,
   "id": "2f22d672",
   "metadata": {},
   "outputs": [
    {
     "data": {
      "text/plain": [
       "<contextlib.ExitStack at 0x7fd885d1d820>"
      ]
     },
     "execution_count": 3,
     "metadata": {},
     "output_type": "execute_result"
    }
   ],
   "source": [
    "import numpy as np\n",
    "import time\n",
    "from multiprocessing import Process, Queue, JoinableQueue\n",
    "import nettingi\n",
    "import matplotlib.pyplot as plt\n",
    "%matplotlib agg\n",
    "\n",
    "#list of input files\n",
    "infiles = [\n",
    "    'vegas_60299_75544_B0329+54_0001.0000.raw',\n",
    "    'vegas_60299_75729_B0329+54_0002.0000.raw',\n",
    "    'vegas_60299_75914_B0329+54_0003.0000.raw',\n",
    "    'vegas_60299_76099_B0329+54_0004.0000.raw',\n",
    "]\n",
    "\n",
    "#list of M parameters to pass to SK\n",
    "ms = [64,128,256,512]\n",
    "\n",
    "#spectral entropy requires a plt.hist without plotting\n",
    "plt.ioff()"
   ]
  },
  {
   "cell_type": "code",
   "execution_count": null,
   "id": "89ffd88d",
   "metadata": {
    "scrolled": true
   },
   "outputs": [],
   "source": [
    "#Run the same IQRM on a series of input files\n",
    "def put_q(q,a):\n",
    "    q.put(do_run_all)\n",
    "\n",
    "def do_run_all(infile):\n",
    "    RFIobj = nettingi.rfi_iqrm(infile,'stats', 5, 3, 5, 5, IQRM_breakdown=512, \n",
    "                         output_bool = True, mb=1, rawdata=False, ave_factor = 512)\n",
    "    RFIobj.run_all()\n",
    "\n",
    "my_q = JoinableQueue()\n",
    "mp_list = []\n",
    "\n",
    "for i,infile in enumerate(infiles):\n",
    "    this_p = Process(target=do_run_all,args=((infile,)))\n",
    "    mp_list.append(this_p)\n",
    "    this_p.start()\n",
    "\n",
    "for mp in mp_list:\n",
    "    mp.join()"
   ]
  },
  {
   "cell_type": "code",
   "execution_count": null,
   "id": "e411af4b",
   "metadata": {},
   "outputs": [],
   "source": [
    "#Run SK on the same input file with a series of different M\n",
    "#note changed \"infiles\" and \"infile\" to \"ms\", \"m\"\n",
    "def put_q(q,a):\n",
    "    q.put(do_run_all)\n",
    "\n",
    "def do_run_all(m):\n",
    "    RFIobj =uhh = nettingi.rfi_sk('vegas_60299_76977_B0355+54_0009.0000.raw', 'stats', m, '1,1', 1,1,3.0,\n",
    "                                  output_bool = True, mb=1, rawdata=False, ave_factor = 512)\n",
    "    RFIobj.run_all()\n",
    "\n",
    "my_q = JoinableQueue()\n",
    "mp_list = []\n",
    "\n",
    "for i,m in enumerate(ms):\n",
    "    this_p = Process(target=do_run_all,args=((m,)))\n",
    "    mp_list.append(this_p)\n",
    "    this_p.start()\n",
    "\n",
    "for mp in mp_list:\n",
    "    mp.join()"
   ]
  }
 ],
 "metadata": {
  "kernelspec": {
   "display_name": "rfipy2",
   "language": "python",
   "name": "rfipy2"
  },
  "language_info": {
   "codemirror_mode": {
    "name": "ipython",
    "version": 3
   },
   "file_extension": ".py",
   "mimetype": "text/x-python",
   "name": "python",
   "nbconvert_exporter": "python",
   "pygments_lexer": "ipython3",
   "version": "3.9.19"
  }
 },
 "nbformat": 4,
 "nbformat_minor": 5
}
